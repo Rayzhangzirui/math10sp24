{
 "cells": [
  {
   "cell_type": "markdown",
   "id": "b24e8b80-f162-4ea9-9af9-021bf69846eb",
   "metadata": {},
   "source": [
    "# Methods for Analyzing the Best NBA Players"
   ]
  },
  {
   "cell_type": "markdown",
   "id": "5498af46-f654-461d-ae08-458c3f825a00",
   "metadata": {},
   "source": [
    "#### Author: Elijah Torres-Hornbeak\n",
    "\n",
    "#### Course Project, UC Irvine, Math 10 S24\n",
    "\n",
    "#### I would like to post my notebook on the course’s website. Yes"
   ]
  },
  {
   "cell_type": "markdown",
   "id": "c1abb5f1-bfdc-4fcb-9f3b-f43566171cdf",
   "metadata": {},
   "source": [
    "## Introduction\n",
    "\n",
    "In the NBA, many different fans of the game have differing opinions on who the best NBA players are. In this project I intend to show methods on determning who the best NBA players are in terms of scoring output, field goal percentage, and more. I found these stats through a Kaggle dataset that contained these average statistics for the 2023-2024 NBA regular season."
   ]
  },
  {
   "cell_type": "code",
   "execution_count": 89,
   "id": "09657360-93fb-4201-bdaf-79ea74a31d25",
   "metadata": {},
   "outputs": [],
   "source": [
    "import numpy as np\n",
    "import pandas as pd\n",
    "import statistics\n",
    "import matplotlib.pyplot as plt\n",
    "import seaborn as sns\n",
    "import altair as alt\n",
    "from sklearn.linear_model import LinearRegression\n",
    "import plotly.express as px\n",
    "from sklearn.neighbors import KNeighborsRegressor"
   ]
  },
  {
   "cell_type": "markdown",
   "id": "fd5da4b1-664d-4661-a7d4-dd5f88d12a84",
   "metadata": {},
   "source": [
    "## Altair Plots"
   ]
  },
  {
   "cell_type": "code",
   "execution_count": 90,
   "id": "b5b0d0ff-b9c5-40cc-85ff-7c34bb010775",
   "metadata": {},
   "outputs": [],
   "source": [
    "df = pd.read_csv(\"NBA_2024_per_game(03-01-2024).csv\")\n",
    "df = df.dropna()\n",
    "c1 = alt.Chart(df).mark_circle().encode(x = alt.X(\"MP\"),\n",
    "                                        y = alt.X(\"PTS\"),\n",
    "                                        color = \"Pos\",\n",
    "                                        tooltip = [\"Player\",\"PTS\", \"AST\", \"TRB\", \"STL\", \"BLK\"])\n",
    "filtered_PTS = df[df['PTS'] > 20]\n",
    "filtered_PTS\n",
    "c2 = alt.Chart(filtered_PTS).mark_circle().encode(x = alt.X(\"MP\", scale = alt.Scale(domain = (28,38))),\n",
    "                                             y = alt.X(\"PTS\", scale = alt.Scale(domain = (20,36))),\n",
    "                                             color = \"Pos\",tooltip = [\"Player\",\"PTS\", \"AST\", \"TRB\", \"STL\", \"BLK\"])"
   ]
  },
  {
   "cell_type": "code",
   "execution_count": 91,
   "id": "57103c4a-428d-4e41-a976-81570e9b1817",
   "metadata": {},
   "outputs": [
    {
     "name": "stderr",
     "output_type": "stream",
     "text": [
      "/Users/elijahhornbeak/Downloads/anaconda3/lib/python3.11/site-packages/altair/utils/core.py:395: FutureWarning:\n",
      "\n",
      "the convert_dtype parameter is deprecated and will be removed in a future version.  Do ``ser.astype(object).apply()`` instead if you want ``convert_dtype=False``.\n",
      "\n",
      "/Users/elijahhornbeak/Downloads/anaconda3/lib/python3.11/site-packages/altair/utils/core.py:395: FutureWarning:\n",
      "\n",
      "the convert_dtype parameter is deprecated and will be removed in a future version.  Do ``ser.astype(object).apply()`` instead if you want ``convert_dtype=False``.\n",
      "\n",
      "/Users/elijahhornbeak/Downloads/anaconda3/lib/python3.11/site-packages/altair/utils/core.py:395: FutureWarning:\n",
      "\n",
      "the convert_dtype parameter is deprecated and will be removed in a future version.  Do ``ser.astype(object).apply()`` instead if you want ``convert_dtype=False``.\n",
      "\n",
      "/Users/elijahhornbeak/Downloads/anaconda3/lib/python3.11/site-packages/altair/utils/core.py:395: FutureWarning:\n",
      "\n",
      "the convert_dtype parameter is deprecated and will be removed in a future version.  Do ``ser.astype(object).apply()`` instead if you want ``convert_dtype=False``.\n",
      "\n"
     ]
    },
    {
     "data": {
      "text/html": [
       "\n",
       "<style>\n",
       "  #altair-viz-c57fc0bcb9824aed9d28fbcabc0dbf6c.vega-embed {\n",
       "    width: 100%;\n",
       "    display: flex;\n",
       "  }\n",
       "\n",
       "  #altair-viz-c57fc0bcb9824aed9d28fbcabc0dbf6c.vega-embed details,\n",
       "  #altair-viz-c57fc0bcb9824aed9d28fbcabc0dbf6c.vega-embed details summary {\n",
       "    position: relative;\n",
       "  }\n",
       "</style>\n",
       "<div id=\"altair-viz-c57fc0bcb9824aed9d28fbcabc0dbf6c\"></div>\n",
       "<script type=\"text/javascript\">\n",
       "  var VEGA_DEBUG = (typeof VEGA_DEBUG == \"undefined\") ? {} : VEGA_DEBUG;\n",
       "  (function(spec, embedOpt){\n",
       "    let outputDiv = document.currentScript.previousElementSibling;\n",
       "    if (outputDiv.id !== \"altair-viz-c57fc0bcb9824aed9d28fbcabc0dbf6c\") {\n",
       "      outputDiv = document.getElementById(\"altair-viz-c57fc0bcb9824aed9d28fbcabc0dbf6c\");\n",
       "    }\n",
       "    const paths = {\n",
       "      \"vega\": \"https://cdn.jsdelivr.net/npm/vega@5?noext\",\n",
       "      \"vega-lib\": \"https://cdn.jsdelivr.net/npm/vega-lib?noext\",\n",
       "      \"vega-lite\": \"https://cdn.jsdelivr.net/npm/vega-lite@5.8.0?noext\",\n",
       "      \"vega-embed\": \"https://cdn.jsdelivr.net/npm/vega-embed@6?noext\",\n",
       "    };\n",
       "\n",
       "    function maybeLoadScript(lib, version) {\n",
       "      var key = `${lib.replace(\"-\", \"\")}_version`;\n",
       "      return (VEGA_DEBUG[key] == version) ?\n",
       "        Promise.resolve(paths[lib]) :\n",
       "        new Promise(function(resolve, reject) {\n",
       "          var s = document.createElement('script');\n",
       "          document.getElementsByTagName(\"head\")[0].appendChild(s);\n",
       "          s.async = true;\n",
       "          s.onload = () => {\n",
       "            VEGA_DEBUG[key] = version;\n",
       "            return resolve(paths[lib]);\n",
       "          };\n",
       "          s.onerror = () => reject(`Error loading script: ${paths[lib]}`);\n",
       "          s.src = paths[lib];\n",
       "        });\n",
       "    }\n",
       "\n",
       "    function showError(err) {\n",
       "      outputDiv.innerHTML = `<div class=\"error\" style=\"color:red;\">${err}</div>`;\n",
       "      throw err;\n",
       "    }\n",
       "\n",
       "    function displayChart(vegaEmbed) {\n",
       "      vegaEmbed(outputDiv, spec, embedOpt)\n",
       "        .catch(err => showError(`Javascript Error: ${err.message}<br>This usually means there's a typo in your chart specification. See the javascript console for the full traceback.`));\n",
       "    }\n",
       "\n",
       "    if(typeof define === \"function\" && define.amd) {\n",
       "      requirejs.config({paths});\n",
       "      require([\"vega-embed\"], displayChart, err => showError(`Error loading script: ${err.message}`));\n",
       "    } else {\n",
       "      maybeLoadScript(\"vega\", \"5\")\n",
       "        .then(() => maybeLoadScript(\"vega-lite\", \"5.8.0\"))\n",
       "        .then(() => maybeLoadScript(\"vega-embed\", \"6\"))\n",
       "        .catch(showError)\n",
       "        .then(() => displayChart(vegaEmbed));\n",
       "    }\n",
       "  })({\"config\": {\"view\": {\"continuousWidth\": 300, \"continuousHeight\": 300}}, \"hconcat\": [{\"data\": {\"name\": \"data-a9b6291575cbc21ce2666bd5d5c2e3d4\"}, \"mark\": {\"type\": \"circle\"}, \"encoding\": {\"color\": {\"field\": \"Pos\", \"type\": \"nominal\"}, \"tooltip\": [{\"field\": \"Player\", \"type\": \"nominal\"}, {\"field\": \"PTS\", \"type\": \"quantitative\"}, {\"field\": \"AST\", \"type\": \"quantitative\"}, {\"field\": \"TRB\", \"type\": \"quantitative\"}, {\"field\": \"STL\", \"type\": \"quantitative\"}, {\"field\": \"BLK\", \"type\": \"quantitative\"}], \"x\": {\"field\": \"MP\", \"type\": \"quantitative\"}, \"y\": {\"field\": \"PTS\", \"type\": \"quantitative\"}}}, {\"data\": {\"name\": \"data-f71d8cfc24396bc49734be281631bd84\"}, \"mark\": {\"type\": \"circle\"}, \"encoding\": {\"color\": {\"field\": \"Pos\", \"type\": \"nominal\"}, \"tooltip\": [{\"field\": \"Player\", \"type\": \"nominal\"}, {\"field\": \"PTS\", \"type\": \"quantitative\"}, {\"field\": \"AST\", \"type\": \"quantitative\"}, {\"field\": \"TRB\", \"type\": \"quantitative\"}, {\"field\": \"STL\", \"type\": \"quantitative\"}, {\"field\": \"BLK\", \"type\": \"quantitative\"}], \"x\": {\"field\": \"MP\", \"scale\": {\"domain\": [28, 38]}, \"type\": \"quantitative\"}, \"y\": {\"field\": \"PTS\", \"scale\": {\"domain\": [20, 36]}, \"type\": \"quantitative\"}}}], \"$schema\": \"https://vega.github.io/schema/vega-lite/v5.8.0.json\", \"datasets\": {\"data-a9b6291575cbc21ce2666bd5d5c2e3d4\": [{\"Player\": \"Precious Achiuwa\", \"Pos\": \"C-PF\", \"Age\": 24, \"Tm\": \"TOT\", \"G\": 26, \"GS\": 0, \"MP\": 17.2, \"FG\": 3.0, \"FGA\": 6.6, \"FG%\": 0.453, \"3P\": 0.5, \"3PA\": 1.8, \"3P%\": 0.277, \"2P\": 2.5, \"2PA\": 4.8, \"2P%\": 0.52, \"eFG%\": 0.491, \"FT\": 0.9, \"FTA\": 1.6, \"FT%\": 0.571, \"ORB\": 2.0, \"DRB\": 3.4, \"TRB\": 5.3, \"AST\": 1.7, \"STL\": 0.6, \"BLK\": 0.5, \"TOV\": 1.1, \"PF\": 1.6, \"PTS\": 7.4}, {\"Player\": \"Precious Achiuwa\", \"Pos\": \"C\", \"Age\": 24, \"Tm\": \"TOR\", \"G\": 25, \"GS\": 0, \"MP\": 17.5, \"FG\": 3.1, \"FGA\": 6.8, \"FG%\": 0.459, \"3P\": 0.5, \"3PA\": 1.9, \"3P%\": 0.277, \"2P\": 2.6, \"2PA\": 4.9, \"2P%\": 0.528, \"eFG%\": 0.497, \"FT\": 1.0, \"FTA\": 1.7, \"FT%\": 0.571, \"ORB\": 2.0, \"DRB\": 3.4, \"TRB\": 5.4, \"AST\": 1.8, \"STL\": 0.6, \"BLK\": 0.5, \"TOV\": 1.2, \"PF\": 1.6, \"PTS\": 7.7}, {\"Player\": \"Bam Adebayo\", \"Pos\": \"C\", \"Age\": 26, \"Tm\": \"MIA\", \"G\": 23, \"GS\": 23, \"MP\": 34.1, \"FG\": 8.0, \"FGA\": 15.7, \"FG%\": 0.506, \"3P\": 0.0, \"3PA\": 0.3, \"3P%\": 0.167, \"2P\": 7.9, \"2PA\": 15.5, \"2P%\": 0.511, \"eFG%\": 0.507, \"FT\": 6.0, \"FTA\": 7.8, \"FT%\": 0.777, \"ORB\": 2.1, \"DRB\": 8.3, \"TRB\": 10.4, \"AST\": 4.0, \"STL\": 1.1, \"BLK\": 1.0, \"TOV\": 2.7, \"PF\": 2.4, \"PTS\": 22.0}, {\"Player\": \"Ochai Agbaji\", \"Pos\": \"SG\", \"Age\": 23, \"Tm\": \"UTA\", \"G\": 34, \"GS\": 10, \"MP\": 21.1, \"FG\": 2.6, \"FGA\": 5.7, \"FG%\": 0.451, \"3P\": 1.2, \"3PA\": 3.3, \"3P%\": 0.354, \"2P\": 1.4, \"2PA\": 2.4, \"2P%\": 0.585, \"eFG%\": 0.554, \"FT\": 0.3, \"FTA\": 0.4, \"FT%\": 0.714, \"ORB\": 0.8, \"DRB\": 1.7, \"TRB\": 2.5, \"AST\": 1.0, \"STL\": 0.6, \"BLK\": 0.5, \"TOV\": 0.7, \"PF\": 1.5, \"PTS\": 6.6}, {\"Player\": \"Santi Aldama\", \"Pos\": \"PF\", \"Age\": 23, \"Tm\": \"MEM\", \"G\": 25, \"GS\": 5, \"MP\": 24.0, \"FG\": 4.2, \"FGA\": 9.5, \"FG%\": 0.443, \"3P\": 1.6, \"3PA\": 4.8, \"3P%\": 0.345, \"2P\": 2.6, \"2PA\": 4.7, \"2P%\": 0.542, \"eFG%\": 0.53, \"FT\": 0.9, \"FTA\": 1.6, \"FT%\": 0.59, \"ORB\": 1.3, \"DRB\": 4.0, \"TRB\": 5.4, \"AST\": 1.8, \"STL\": 0.6, \"BLK\": 0.7, \"TOV\": 1.0, \"PF\": 1.6, \"PTS\": 11.0}, {\"Player\": \"Nickeil Alexander-Walker\", \"Pos\": \"SG\", \"Age\": 25, \"Tm\": \"MIN\", \"G\": 32, \"GS\": 11, \"MP\": 22.6, \"FG\": 2.4, \"FGA\": 5.8, \"FG%\": 0.418, \"3P\": 1.4, \"3PA\": 3.8, \"3P%\": 0.369, \"2P\": 1.0, \"2PA\": 1.9, \"2P%\": 0.516, \"eFG%\": 0.541, \"FT\": 0.3, \"FTA\": 0.5, \"FT%\": 0.647, \"ORB\": 0.4, \"DRB\": 1.3, \"TRB\": 1.8, \"AST\": 2.4, \"STL\": 0.9, \"BLK\": 0.6, \"TOV\": 1.0, \"PF\": 1.9, \"PTS\": 6.6}, {\"Player\": \"Grayson Allen\", \"Pos\": \"SG\", \"Age\": 28, \"Tm\": \"PHO\", \"G\": 28, \"GS\": 28, \"MP\": 33.2, \"FG\": 4.5, \"FGA\": 8.8, \"FG%\": 0.506, \"3P\": 2.4, \"3PA\": 5.3, \"3P%\": 0.456, \"2P\": 2.1, \"2PA\": 3.6, \"2P%\": 0.58, \"eFG%\": 0.642, \"FT\": 1.8, \"FTA\": 1.9, \"FT%\": 0.907, \"ORB\": 0.9, \"DRB\": 3.5, \"TRB\": 4.3, \"AST\": 2.8, \"STL\": 1.0, \"BLK\": 0.6, \"TOV\": 1.4, \"PF\": 2.2, \"PTS\": 13.1}, {\"Player\": \"Jarrett Allen\", \"Pos\": \"C\", \"Age\": 25, \"Tm\": \"CLE\", \"G\": 28, \"GS\": 28, \"MP\": 30.0, \"FG\": 6.0, \"FGA\": 8.9, \"FG%\": 0.671, \"3P\": 0.0, \"3PA\": 0.0, \"3P%\": 0.0, \"2P\": 6.0, \"2PA\": 8.9, \"2P%\": 0.673, \"eFG%\": 0.671, \"FT\": 2.4, \"FTA\": 3.4, \"FT%\": 0.708, \"ORB\": 3.2, \"DRB\": 6.1, \"TRB\": 9.3, \"AST\": 2.8, \"STL\": 0.8, \"BLK\": 0.9, \"TOV\": 1.7, \"PF\": 2.6, \"PTS\": 14.4}, {\"Player\": \"Jose Alvarado\", \"Pos\": \"PG\", \"Age\": 25, \"Tm\": \"NOP\", \"G\": 19, \"GS\": 0, \"MP\": 16.2, \"FG\": 2.4, \"FGA\": 5.7, \"FG%\": 0.426, \"3P\": 1.2, \"3PA\": 3.1, \"3P%\": 0.39, \"2P\": 1.2, \"2PA\": 2.6, \"2P%\": 0.469, \"eFG%\": 0.532, \"FT\": 0.7, \"FTA\": 1.2, \"FT%\": 0.591, \"ORB\": 0.5, \"DRB\": 1.9, \"TRB\": 2.4, \"AST\": 1.8, \"STL\": 1.1, \"BLK\": 0.4, \"TOV\": 0.9, \"PF\": 1.5, \"PTS\": 6.7}, {\"Player\": \"Kyle Anderson\", \"Pos\": \"PF\", \"Age\": 30, \"Tm\": \"MIN\", \"G\": 32, \"GS\": 1, \"MP\": 23.2, \"FG\": 2.6, \"FGA\": 5.7, \"FG%\": 0.462, \"3P\": 0.1, \"3PA\": 0.8, \"3P%\": 0.125, \"2P\": 2.5, \"2PA\": 4.9, \"2P%\": 0.513, \"eFG%\": 0.47, \"FT\": 1.4, \"FTA\": 2.0, \"FT%\": 0.688, \"ORB\": 0.7, \"DRB\": 2.9, \"TRB\": 3.6, \"AST\": 4.0, \"STL\": 0.8, \"BLK\": 0.8, \"TOV\": 1.6, \"PF\": 1.4, \"PTS\": 6.7}, {\"Player\": \"Giannis Antetokounmpo\", \"Pos\": \"PF\", \"Age\": 29, \"Tm\": \"MIL\", \"G\": 32, \"GS\": 32, \"MP\": 34.8, \"FG\": 11.5, \"FGA\": 18.9, \"FG%\": 0.606, \"3P\": 0.3, \"3PA\": 1.7, \"3P%\": 0.204, \"2P\": 11.1, \"2PA\": 17.3, \"2P%\": 0.645, \"eFG%\": 0.615, \"FT\": 7.6, \"FTA\": 11.3, \"FT%\": 0.676, \"ORB\": 2.7, \"DRB\": 8.6, \"TRB\": 11.3, \"AST\": 5.7, \"STL\": 1.3, \"BLK\": 1.2, \"TOV\": 3.8, \"PF\": 2.9, \"PTS\": 30.9}, {\"Player\": \"Cole Anthony\", \"Pos\": \"PG\", \"Age\": 23, \"Tm\": \"ORL\", \"G\": 32, \"GS\": 0, \"MP\": 24.9, \"FG\": 4.8, \"FGA\": 10.8, \"FG%\": 0.448, \"3P\": 1.3, \"3PA\": 3.8, \"3P%\": 0.352, \"2P\": 3.5, \"2PA\": 6.9, \"2P%\": 0.5, \"eFG%\": 0.51, \"FT\": 3.3, \"FTA\": 4.0, \"FT%\": 0.836, \"ORB\": 1.1, \"DRB\": 3.3, \"TRB\": 4.4, \"AST\": 3.5, \"STL\": 0.8, \"BLK\": 0.4, \"TOV\": 1.8, \"PF\": 2.7, \"PTS\": 14.3}, {\"Player\": \"OG Anunoby\", \"Pos\": \"SF\", \"Age\": 26, \"Tm\": \"TOT\", \"G\": 28, \"GS\": 28, \"MP\": 33.4, \"FG\": 5.9, \"FGA\": 11.9, \"FG%\": 0.492, \"3P\": 2.3, \"3PA\": 6.0, \"3P%\": 0.379, \"2P\": 3.6, \"2PA\": 5.9, \"2P%\": 0.61, \"eFG%\": 0.589, \"FT\": 1.2, \"FTA\": 1.6, \"FT%\": 0.717, \"ORB\": 1.0, \"DRB\": 3.0, \"TRB\": 4.0, \"AST\": 2.6, \"STL\": 1.1, \"BLK\": 0.5, \"TOV\": 1.6, \"PF\": 2.4, \"PTS\": 15.2}, {\"Player\": \"OG Anunoby\", \"Pos\": \"SF\", \"Age\": 26, \"Tm\": \"TOR\", \"G\": 27, \"GS\": 27, \"MP\": 33.3, \"FG\": 5.8, \"FGA\": 11.9, \"FG%\": 0.489, \"3P\": 2.3, \"3PA\": 6.0, \"3P%\": 0.374, \"2P\": 3.6, \"2PA\": 5.9, \"2P%\": 0.608, \"eFG%\": 0.584, \"FT\": 1.2, \"FTA\": 1.7, \"FT%\": 0.717, \"ORB\": 0.9, \"DRB\": 3.0, \"TRB\": 3.9, \"AST\": 2.6, \"STL\": 1.0, \"BLK\": 0.5, \"TOV\": 1.6, \"PF\": 2.3, \"PTS\": 15.1}, {\"Player\": \"Deni Avdija\", \"Pos\": \"SF\", \"Age\": 23, \"Tm\": \"WAS\", \"G\": 32, \"GS\": 32, \"MP\": 27.1, \"FG\": 4.4, \"FGA\": 9.0, \"FG%\": 0.495, \"3P\": 0.9, \"3PA\": 2.7, \"3P%\": 0.345, \"2P\": 3.5, \"2PA\": 6.3, \"2P%\": 0.56, \"eFG%\": 0.547, \"FT\": 1.8, \"FTA\": 2.4, \"FT%\": 0.744, \"ORB\": 1.1, \"DRB\": 4.8, \"TRB\": 5.9, \"AST\": 3.8, \"STL\": 0.9, \"BLK\": 0.3, \"TOV\": 1.5, \"PF\": 2.2, \"PTS\": 11.6}, {\"Player\": \"Marvin Bagley III\", \"Pos\": \"C\", \"Age\": 24, \"Tm\": \"DET\", \"G\": 25, \"GS\": 10, \"MP\": 18.6, \"FG\": 4.1, \"FGA\": 7.0, \"FG%\": 0.589, \"3P\": 0.0, \"3PA\": 0.2, \"3P%\": 0.167, \"2P\": 4.1, \"2PA\": 6.8, \"2P%\": 0.604, \"eFG%\": 0.591, \"FT\": 1.9, \"FTA\": 2.3, \"FT%\": 0.825, \"ORB\": 1.8, \"DRB\": 2.8, \"TRB\": 4.6, \"AST\": 1.0, \"STL\": 0.2, \"BLK\": 0.6, \"TOV\": 1.2, \"PF\": 1.5, \"PTS\": 10.2}, {\"Player\": \"Amari Bailey\", \"Pos\": \"PG\", \"Age\": 19, \"Tm\": \"CHO\", \"G\": 2, \"GS\": 0, \"MP\": 5.5, \"FG\": 1.0, \"FGA\": 3.0, \"FG%\": 0.333, \"3P\": 0.0, \"3PA\": 1.0, \"3P%\": 0.0, \"2P\": 1.0, \"2PA\": 2.0, \"2P%\": 0.5, \"eFG%\": 0.333, \"FT\": 0.5, \"FTA\": 1.0, \"FT%\": 0.5, \"ORB\": 1.0, \"DRB\": 0.0, \"TRB\": 1.0, \"AST\": 0.0, \"STL\": 0.0, \"BLK\": 0.0, \"TOV\": 0.5, \"PF\": 0.0, \"PTS\": 2.5}, {\"Player\": \"Patrick Baldwin Jr.\", \"Pos\": \"SF\", \"Age\": 21, \"Tm\": \"WAS\", \"G\": 9, \"GS\": 0, \"MP\": 5.8, \"FG\": 0.6, \"FGA\": 1.8, \"FG%\": 0.313, \"3P\": 0.3, \"3PA\": 0.8, \"3P%\": 0.429, \"2P\": 0.2, \"2PA\": 1.0, \"2P%\": 0.222, \"eFG%\": 0.406, \"FT\": 0.4, \"FTA\": 0.4, \"FT%\": 1.0, \"ORB\": 0.2, \"DRB\": 1.0, \"TRB\": 1.2, \"AST\": 0.3, \"STL\": 0.0, \"BLK\": 0.1, \"TOV\": 0.1, \"PF\": 0.6, \"PTS\": 1.9}, {\"Player\": \"LaMelo Ball\", \"Pos\": \"PG\", \"Age\": 22, \"Tm\": \"CHO\", \"G\": 15, \"GS\": 15, \"MP\": 33.4, \"FG\": 8.8, \"FGA\": 19.9, \"FG%\": 0.443, \"3P\": 3.5, \"3PA\": 8.9, \"3P%\": 0.388, \"2P\": 5.3, \"2PA\": 10.9, \"2P%\": 0.488, \"eFG%\": 0.53, \"FT\": 3.6, \"FTA\": 4.2, \"FT%\": 0.857, \"ORB\": 1.5, \"DRB\": 3.9, \"TRB\": 5.5, \"AST\": 8.2, \"STL\": 1.4, \"BLK\": 0.3, \"TOV\": 3.9, \"PF\": 3.5, \"PTS\": 24.7}, {\"Player\": \"Mo Bamba\", \"Pos\": \"C\", \"Age\": 25, \"Tm\": \"PHI\", \"G\": 19, \"GS\": 0, \"MP\": 7.9, \"FG\": 1.5, \"FGA\": 2.6, \"FG%\": 0.58, \"3P\": 0.4, \"3PA\": 0.7, \"3P%\": 0.615, \"2P\": 1.1, \"2PA\": 1.9, \"2P%\": 0.568, \"eFG%\": 0.66, \"FT\": 0.6, \"FTA\": 0.8, \"FT%\": 0.75, \"ORB\": 1.3, \"DRB\": 1.6, \"TRB\": 2.9, \"AST\": 0.5, \"STL\": 0.2, \"BLK\": 0.6, \"TOV\": 0.5, \"PF\": 0.9, \"PTS\": 4.1}, {\"Player\": \"Paolo Banchero\", \"Pos\": \"PF\", \"Age\": 21, \"Tm\": \"ORL\", \"G\": 32, \"GS\": 32, \"MP\": 34.2, \"FG\": 7.8, \"FGA\": 16.8, \"FG%\": 0.465, \"3P\": 1.3, \"3PA\": 3.6, \"3P%\": 0.357, \"2P\": 6.5, \"2PA\": 13.2, \"2P%\": 0.494, \"eFG%\": 0.503, \"FT\": 4.8, \"FTA\": 6.8, \"FT%\": 0.697, \"ORB\": 1.2, \"DRB\": 5.8, \"TRB\": 7.0, \"AST\": 4.7, \"STL\": 1.0, \"BLK\": 0.6, \"TOV\": 3.1, \"PF\": 2.0, \"PTS\": 21.7}, {\"Player\": \"Desmond Bane\", \"Pos\": \"SG\", \"Age\": 25, \"Tm\": \"MEM\", \"G\": 31, \"GS\": 31, \"MP\": 34.5, \"FG\": 9.0, \"FGA\": 19.2, \"FG%\": 0.471, \"3P\": 3.5, \"3PA\": 9.0, \"3P%\": 0.385, \"2P\": 5.6, \"2PA\": 10.2, \"2P%\": 0.546, \"eFG%\": 0.561, \"FT\": 3.1, \"FTA\": 3.6, \"FT%\": 0.858, \"ORB\": 0.9, \"DRB\": 3.7, \"TRB\": 4.6, \"AST\": 5.2, \"STL\": 1.1, \"BLK\": 0.6, \"TOV\": 2.8, \"PF\": 2.9, \"PTS\": 24.6}, {\"Player\": \"Dalano Banton\", \"Pos\": \"PG\", \"Age\": 24, \"Tm\": \"BOS\", \"G\": 15, \"GS\": 1, \"MP\": 7.4, \"FG\": 1.1, \"FGA\": 2.2, \"FG%\": 0.485, \"3P\": 0.1, \"3PA\": 0.5, \"3P%\": 0.125, \"2P\": 1.0, \"2PA\": 1.7, \"2P%\": 0.6, \"eFG%\": 0.5, \"FT\": 0.6, \"FTA\": 0.7, \"FT%\": 0.9, \"ORB\": 0.7, \"DRB\": 1.2, \"TRB\": 1.9, \"AST\": 0.5, \"STL\": 0.1, \"BLK\": 0.1, \"TOV\": 0.5, \"PF\": 0.9, \"PTS\": 2.8}, {\"Player\": \"Dominick Barlow\", \"Pos\": \"PF\", \"Age\": 20, \"Tm\": \"SAS\", \"G\": 10, \"GS\": 0, \"MP\": 7.2, \"FG\": 0.7, \"FGA\": 2.1, \"FG%\": 0.333, \"3P\": 0.1, \"3PA\": 0.4, \"3P%\": 0.25, \"2P\": 0.6, \"2PA\": 1.7, \"2P%\": 0.353, \"eFG%\": 0.357, \"FT\": 0.5, \"FTA\": 0.8, \"FT%\": 0.625, \"ORB\": 0.3, \"DRB\": 1.2, \"TRB\": 1.5, \"AST\": 0.1, \"STL\": 0.4, \"BLK\": 0.0, \"TOV\": 0.0, \"PF\": 0.8, \"PTS\": 2.0}, {\"Player\": \"Harrison Barnes\", \"Pos\": \"PF\", \"Age\": 31, \"Tm\": \"SAC\", \"G\": 31, \"GS\": 31, \"MP\": 30.0, \"FG\": 3.8, \"FGA\": 8.0, \"FG%\": 0.48, \"3P\": 1.7, \"3PA\": 4.4, \"3P%\": 0.385, \"2P\": 2.2, \"2PA\": 3.6, \"2P%\": 0.593, \"eFG%\": 0.585, \"FT\": 2.0, \"FTA\": 2.4, \"FT%\": 0.84, \"ORB\": 0.8, \"DRB\": 2.2, \"TRB\": 3.1, \"AST\": 1.3, \"STL\": 0.7, \"BLK\": 0.2, \"TOV\": 0.7, \"PF\": 1.2, \"PTS\": 11.4}, {\"Player\": \"Scottie Barnes\", \"Pos\": \"SG\", \"Age\": 22, \"Tm\": \"TOR\", \"G\": 33, \"GS\": 33, \"MP\": 35.2, \"FG\": 7.8, \"FGA\": 16.3, \"FG%\": 0.48, \"3P\": 2.2, \"3PA\": 5.7, \"3P%\": 0.385, \"2P\": 5.6, \"2PA\": 10.6, \"2P%\": 0.531, \"eFG%\": 0.547, \"FT\": 3.2, \"FTA\": 4.1, \"FT%\": 0.772, \"ORB\": 2.6, \"DRB\": 6.7, \"TRB\": 9.3, \"AST\": 5.8, \"STL\": 1.5, \"BLK\": 1.4, \"TOV\": 2.4, \"PF\": 2.0, \"PTS\": 21.0}, {\"Player\": \"RJ Barrett\", \"Pos\": \"SG\", \"Age\": 23, \"Tm\": \"TOT\", \"G\": 27, \"GS\": 27, \"MP\": 29.4, \"FG\": 6.3, \"FGA\": 14.8, \"FG%\": 0.425, \"3P\": 1.6, \"3PA\": 4.9, \"3P%\": 0.333, \"2P\": 4.7, \"2PA\": 9.9, \"2P%\": 0.47, \"eFG%\": 0.48, \"FT\": 4.0, \"FTA\": 4.9, \"FT%\": 0.826, \"ORB\": 0.8, \"DRB\": 3.6, \"TRB\": 4.4, \"AST\": 2.4, \"STL\": 0.4, \"BLK\": 0.3, \"TOV\": 1.9, \"PF\": 1.9, \"PTS\": 18.3}, {\"Player\": \"RJ Barrett\", \"Pos\": \"SG\", \"Age\": 23, \"Tm\": \"NYK\", \"G\": 26, \"GS\": 26, \"MP\": 29.5, \"FG\": 6.3, \"FGA\": 14.9, \"FG%\": 0.423, \"3P\": 1.7, \"3PA\": 5.0, \"3P%\": 0.331, \"2P\": 4.7, \"2PA\": 9.9, \"2P%\": 0.469, \"eFG%\": 0.478, \"FT\": 4.0, \"FTA\": 4.8, \"FT%\": 0.831, \"ORB\": 0.7, \"DRB\": 3.5, \"TRB\": 4.3, \"AST\": 2.4, \"STL\": 0.5, \"BLK\": 0.3, \"TOV\": 1.8, \"PF\": 1.7, \"PTS\": 18.2}, {\"Player\": \"RJ Barrett\", \"Pos\": \"SG\", \"Age\": 23, \"Tm\": \"TOR\", \"G\": 1, \"GS\": 1, \"MP\": 29.0, \"FG\": 6.0, \"FGA\": 12.0, \"FG%\": 0.5, \"3P\": 1.0, \"3PA\": 2.0, \"3P%\": 0.5, \"2P\": 5.0, \"2PA\": 10.0, \"2P%\": 0.5, \"eFG%\": 0.542, \"FT\": 6.0, \"FTA\": 8.0, \"FT%\": 0.75, \"ORB\": 3.0, \"DRB\": 6.0, \"TRB\": 9.0, \"AST\": 1.0, \"STL\": 0.0, \"BLK\": 0.0, \"TOV\": 5.0, \"PF\": 5.0, \"PTS\": 19.0}, {\"Player\": \"Charles Bassey\", \"Pos\": \"C\", \"Age\": 23, \"Tm\": \"SAS\", \"G\": 19, \"GS\": 0, \"MP\": 10.8, \"FG\": 1.5, \"FGA\": 2.1, \"FG%\": 0.725, \"3P\": 0.0, \"3PA\": 0.1, \"3P%\": 0.0, \"2P\": 1.5, \"2PA\": 2.1, \"2P%\": 0.744, \"eFG%\": 0.725, \"FT\": 0.3, \"FTA\": 0.3, \"FT%\": 0.833, \"ORB\": 1.2, \"DRB\": 2.8, \"TRB\": 4.0, \"AST\": 1.1, \"STL\": 0.4, \"BLK\": 0.9, \"TOV\": 0.8, \"PF\": 1.6, \"PTS\": 3.3}, {\"Player\": \"Emoni Bates\", \"Pos\": \"SF\", \"Age\": 20, \"Tm\": \"CLE\", \"G\": 10, \"GS\": 0, \"MP\": 7.6, \"FG\": 0.6, \"FGA\": 2.5, \"FG%\": 0.24, \"3P\": 0.5, \"3PA\": 2.0, \"3P%\": 0.25, \"2P\": 0.1, \"2PA\": 0.5, \"2P%\": 0.2, \"eFG%\": 0.34, \"FT\": 0.1, \"FTA\": 0.2, \"FT%\": 0.5, \"ORB\": 0.1, \"DRB\": 0.9, \"TRB\": 1.0, \"AST\": 0.6, \"STL\": 0.1, \"BLK\": 0.2, \"TOV\": 0.1, \"PF\": 0.5, \"PTS\": 1.8}, {\"Player\": \"Keita Bates-Diop\", \"Pos\": \"SF\", \"Age\": 28, \"Tm\": \"PHO\", \"G\": 23, \"GS\": 8, \"MP\": 17.5, \"FG\": 1.8, \"FGA\": 4.5, \"FG%\": 0.404, \"3P\": 0.5, \"3PA\": 1.8, \"3P%\": 0.268, \"2P\": 1.3, \"2PA\": 2.7, \"2P%\": 0.492, \"eFG%\": 0.457, \"FT\": 1.0, \"FTA\": 1.4, \"FT%\": 0.719, \"ORB\": 0.9, \"DRB\": 2.2, \"TRB\": 3.1, \"AST\": 0.9, \"STL\": 0.6, \"BLK\": 0.7, \"TOV\": 0.3, \"PF\": 0.9, \"PTS\": 5.1}, {\"Player\": \"Nicolas Batum\", \"Pos\": \"PF\", \"Age\": 35, \"Tm\": \"TOT\", \"G\": 21, \"GS\": 14, \"MP\": 23.7, \"FG\": 2.0, \"FGA\": 3.8, \"FG%\": 0.538, \"3P\": 1.4, \"3PA\": 2.9, \"3P%\": 0.475, \"2P\": 0.7, \"2PA\": 0.9, \"2P%\": 0.737, \"eFG%\": 0.719, \"FT\": 0.3, \"FTA\": 0.5, \"FT%\": 0.636, \"ORB\": 0.9, \"DRB\": 2.8, \"TRB\": 3.6, \"AST\": 2.1, \"STL\": 0.6, \"BLK\": 0.6, \"TOV\": 0.5, \"PF\": 1.7, \"PTS\": 5.8}, {\"Player\": \"Nicolas Batum\", \"Pos\": \"PF\", \"Age\": 35, \"Tm\": \"PHI\", \"G\": 18, \"GS\": 14, \"MP\": 24.6, \"FG\": 2.2, \"FGA\": 4.0, \"FG%\": 0.556, \"3P\": 1.5, \"3PA\": 3.0, \"3P%\": 0.5, \"2P\": 0.7, \"2PA\": 1.0, \"2P%\": 0.722, \"eFG%\": 0.743, \"FT\": 0.4, \"FTA\": 0.6, \"FT%\": 0.636, \"ORB\": 1.0, \"DRB\": 2.8, \"TRB\": 3.8, \"AST\": 2.2, \"STL\": 0.5, \"BLK\": 0.5, \"TOV\": 0.5, \"PF\": 1.7, \"PTS\": 6.3}, {\"Player\": \"Bradley Beal\", \"Pos\": \"SG\", \"Age\": 30, \"Tm\": \"PHO\", \"G\": 9, \"GS\": 9, \"MP\": 27.8, \"FG\": 5.8, \"FGA\": 11.8, \"FG%\": 0.491, \"3P\": 1.2, \"3PA\": 3.1, \"3P%\": 0.393, \"2P\": 4.6, \"2PA\": 8.7, \"2P%\": 0.526, \"eFG%\": 0.542, \"FT\": 2.8, \"FTA\": 3.6, \"FT%\": 0.781, \"ORB\": 0.3, \"DRB\": 2.8, \"TRB\": 3.1, \"AST\": 3.2, \"STL\": 0.7, \"BLK\": 0.6, \"TOV\": 2.3, \"PF\": 2.0, \"PTS\": 15.6}, {\"Player\": \"Malik Beasley\", \"Pos\": \"SG\", \"Age\": 27, \"Tm\": \"MIL\", \"G\": 31, \"GS\": 31, \"MP\": 29.9, \"FG\": 4.3, \"FGA\": 8.7, \"FG%\": 0.487, \"3P\": 3.0, \"3PA\": 6.4, \"3P%\": 0.47, \"2P\": 1.3, \"2PA\": 2.4, \"2P%\": 0.534, \"eFG%\": 0.659, \"FT\": 0.3, \"FTA\": 0.4, \"FT%\": 0.667, \"ORB\": 0.7, \"DRB\": 3.6, \"TRB\": 4.3, \"AST\": 1.4, \"STL\": 0.8, \"BLK\": 0.1, \"TOV\": 0.6, \"PF\": 2.0, \"PTS\": 11.8}, {\"Player\": \"MarJon Beauchamp\", \"Pos\": \"SF\", \"Age\": 23, \"Tm\": \"MIL\", \"G\": 28, \"GS\": 1, \"MP\": 15.1, \"FG\": 1.9, \"FGA\": 3.7, \"FG%\": 0.505, \"3P\": 0.8, \"3PA\": 1.6, \"3P%\": 0.457, \"2P\": 1.1, \"2PA\": 2.0, \"2P%\": 0.544, \"eFG%\": 0.607, \"FT\": 0.4, \"FTA\": 0.7, \"FT%\": 0.6, \"ORB\": 0.5, \"DRB\": 1.9, \"TRB\": 2.4, \"AST\": 0.7, \"STL\": 0.3, \"BLK\": 0.1, \"TOV\": 0.7, \"PF\": 1.5, \"PTS\": 4.9}, {\"Player\": \"D\\u0101vis Bert\\u0101ns\", \"Pos\": \"PF\", \"Age\": 31, \"Tm\": \"OKC\", \"G\": 11, \"GS\": 0, \"MP\": 7.5, \"FG\": 0.8, \"FGA\": 2.1, \"FG%\": 0.391, \"3P\": 0.8, \"3PA\": 1.9, \"3P%\": 0.429, \"2P\": 0.0, \"2PA\": 0.2, \"2P%\": 0.0, \"eFG%\": 0.587, \"FT\": 1.3, \"FTA\": 1.4, \"FT%\": 0.933, \"ORB\": 0.2, \"DRB\": 0.7, \"TRB\": 0.9, \"AST\": 0.7, \"STL\": 0.2, \"BLK\": 0.2, \"TOV\": 0.1, \"PF\": 0.9, \"PTS\": 3.7}, {\"Player\": \"Patrick Beverley\", \"Pos\": \"PG\", \"Age\": 35, \"Tm\": \"PHI\", \"G\": 31, \"GS\": 1, \"MP\": 17.4, \"FG\": 1.8, \"FGA\": 4.1, \"FG%\": 0.437, \"3P\": 0.6, \"3PA\": 2.0, \"3P%\": 0.306, \"2P\": 1.2, \"2PA\": 2.1, \"2P%\": 0.563, \"eFG%\": 0.512, \"FT\": 0.9, \"FTA\": 1.2, \"FT%\": 0.75, \"ORB\": 0.7, \"DRB\": 2.1, \"TRB\": 2.8, \"AST\": 2.3, \"STL\": 0.5, \"BLK\": 0.3, \"TOV\": 0.7, \"PF\": 1.7, \"PTS\": 5.0}, {\"Player\": \"Saddiq Bey\", \"Pos\": \"SF\", \"Age\": 24, \"Tm\": \"ATL\", \"G\": 32, \"GS\": 20, \"MP\": 32.2, \"FG\": 4.7, \"FGA\": 10.4, \"FG%\": 0.449, \"3P\": 1.9, \"3PA\": 5.4, \"3P%\": 0.347, \"2P\": 2.8, \"2PA\": 5.0, \"2P%\": 0.56, \"eFG%\": 0.539, \"FT\": 1.8, \"FTA\": 2.2, \"FT%\": 0.789, \"ORB\": 2.3, \"DRB\": 4.3, \"TRB\": 6.6, \"AST\": 1.3, \"STL\": 1.1, \"BLK\": 0.2, \"TOV\": 1.1, \"PF\": 1.6, \"PTS\": 12.9}, {\"Player\": \"Goga Bitadze\", \"Pos\": \"C\", \"Age\": 24, \"Tm\": \"ORL\", \"G\": 29, \"GS\": 22, \"MP\": 20.3, \"FG\": 2.9, \"FGA\": 4.8, \"FG%\": 0.601, \"3P\": 0.0, \"3PA\": 0.2, \"3P%\": 0.2, \"2P\": 2.8, \"2PA\": 4.6, \"2P%\": 0.617, \"eFG%\": 0.605, \"FT\": 1.4, \"FTA\": 2.1, \"FT%\": 0.7, \"ORB\": 2.3, \"DRB\": 3.7, \"TRB\": 6.0, \"AST\": 1.7, \"STL\": 0.7, \"BLK\": 1.7, \"TOV\": 0.9, \"PF\": 2.2, \"PTS\": 7.2}, {\"Player\": \"Anthony Black\", \"Pos\": \"PG\", \"Age\": 20, \"Tm\": \"ORL\", \"G\": 30, \"GS\": 26, \"MP\": 20.8, \"FG\": 2.1, \"FGA\": 4.1, \"FG%\": 0.512, \"3P\": 0.5, \"3PA\": 1.5, \"3P%\": 0.356, \"2P\": 1.6, \"2PA\": 2.6, \"2P%\": 0.603, \"eFG%\": 0.577, \"FT\": 0.7, \"FTA\": 1.2, \"FT%\": 0.629, \"ORB\": 0.7, \"DRB\": 2.1, \"TRB\": 2.8, \"AST\": 1.8, \"STL\": 0.6, \"BLK\": 0.4, \"TOV\": 1.1, \"PF\": 2.2, \"PTS\": 5.5}, {\"Player\": \"Bogdan Bogdanovi\\u0107\", \"Pos\": \"SG\", \"Age\": 31, \"Tm\": \"ATL\", \"G\": 30, \"GS\": 2, \"MP\": 28.5, \"FG\": 6.3, \"FGA\": 14.4, \"FG%\": 0.44, \"3P\": 3.3, \"3PA\": 8.8, \"3P%\": 0.379, \"2P\": 3.0, \"2PA\": 5.6, \"2P%\": 0.536, \"eFG%\": 0.556, \"FT\": 1.5, \"FTA\": 1.7, \"FT%\": 0.902, \"ORB\": 0.5, \"DRB\": 2.8, \"TRB\": 3.3, \"AST\": 2.7, \"STL\": 1.2, \"BLK\": 0.3, \"TOV\": 1.0, \"PF\": 2.5, \"PTS\": 17.5}, {\"Player\": \"Bojan Bogdanovi\\u0107\", \"Pos\": \"PF\", \"Age\": 34, \"Tm\": \"DET\", \"G\": 14, \"GS\": 13, \"MP\": 33.6, \"FG\": 6.7, \"FGA\": 14.8, \"FG%\": 0.454, \"3P\": 2.7, \"3PA\": 7.2, \"3P%\": 0.376, \"2P\": 4.0, \"2PA\": 7.6, \"2P%\": 0.528, \"eFG%\": 0.546, \"FT\": 3.1, \"FTA\": 4.1, \"FT%\": 0.741, \"ORB\": 0.6, \"DRB\": 3.0, \"TRB\": 3.6, \"AST\": 2.7, \"STL\": 0.8, \"BLK\": 0.1, \"TOV\": 2.4, \"PF\": 2.2, \"PTS\": 19.2}, {\"Player\": \"Bol Bol\", \"Pos\": \"PF\", \"Age\": 24, \"Tm\": \"PHO\", \"G\": 9, \"GS\": 0, \"MP\": 4.3, \"FG\": 0.8, \"FGA\": 1.2, \"FG%\": 0.636, \"3P\": 0.1, \"3PA\": 0.3, \"3P%\": 0.333, \"2P\": 0.7, \"2PA\": 0.9, \"2P%\": 0.75, \"eFG%\": 0.682, \"FT\": 0.2, \"FTA\": 0.2, \"FT%\": 1.0, \"ORB\": 0.3, \"DRB\": 1.1, \"TRB\": 1.4, \"AST\": 0.1, \"STL\": 0.0, \"BLK\": 0.3, \"TOV\": 0.4, \"PF\": 0.7, \"PTS\": 1.9}, {\"Player\": \"Devin Booker\", \"Pos\": \"PG\", \"Age\": 27, \"Tm\": \"PHO\", \"G\": 24, \"GS\": 24, \"MP\": 35.8, \"FG\": 8.9, \"FGA\": 19.1, \"FG%\": 0.466, \"3P\": 2.0, \"3PA\": 5.3, \"3P%\": 0.373, \"2P\": 7.0, \"2PA\": 13.9, \"2P%\": 0.502, \"eFG%\": 0.517, \"FT\": 6.6, \"FTA\": 7.5, \"FT%\": 0.883, \"ORB\": 0.9, \"DRB\": 4.4, \"TRB\": 5.3, \"AST\": 7.9, \"STL\": 0.8, \"BLK\": 0.4, \"TOV\": 2.8, \"PF\": 3.3, \"PTS\": 26.4}, {\"Player\": \"Brandon Boston Jr.\", \"Pos\": \"SF\", \"Age\": 22, \"Tm\": \"LAC\", \"G\": 5, \"GS\": 0, \"MP\": 8.8, \"FG\": 2.0, \"FGA\": 4.8, \"FG%\": 0.417, \"3P\": 0.6, \"3PA\": 2.4, \"3P%\": 0.25, \"2P\": 1.4, \"2PA\": 2.4, \"2P%\": 0.583, \"eFG%\": 0.479, \"FT\": 1.2, \"FTA\": 1.2, \"FT%\": 1.0, \"ORB\": 0.4, \"DRB\": 0.8, \"TRB\": 1.2, \"AST\": 0.6, \"STL\": 0.2, \"BLK\": 0.0, \"TOV\": 0.2, \"PF\": 1.0, \"PTS\": 5.8}, {\"Player\": \"Chris Boucher\", \"Pos\": \"PF\", \"Age\": 31, \"Tm\": \"TOR\", \"G\": 30, \"GS\": 0, \"MP\": 13.8, \"FG\": 2.0, \"FGA\": 4.4, \"FG%\": 0.455, \"3P\": 0.7, \"3PA\": 1.9, \"3P%\": 0.357, \"2P\": 1.3, \"2PA\": 2.5, \"2P%\": 0.526, \"eFG%\": 0.53, \"FT\": 1.4, \"FTA\": 1.9, \"FT%\": 0.75, \"ORB\": 1.1, \"DRB\": 2.5, \"TRB\": 3.6, \"AST\": 0.3, \"STL\": 0.3, \"BLK\": 0.5, \"TOV\": 0.4, \"PF\": 1.6, \"PTS\": 6.1}, {\"Player\": \"Malaki Branham\", \"Pos\": \"PG\", \"Age\": 20, \"Tm\": \"SAS\", \"G\": 32, \"GS\": 20, \"MP\": 22.8, \"FG\": 3.8, \"FGA\": 8.5, \"FG%\": 0.441, \"3P\": 1.1, \"3PA\": 3.3, \"3P%\": 0.318, \"2P\": 2.7, \"2PA\": 5.2, \"2P%\": 0.521, \"eFG%\": 0.504, \"FT\": 0.6, \"FTA\": 0.7, \"FT%\": 0.905, \"ORB\": 0.3, \"DRB\": 1.8, \"TRB\": 2.2, \"AST\": 2.5, \"STL\": 0.4, \"BLK\": 0.1, \"TOV\": 1.3, \"PF\": 1.4, \"PTS\": 9.2}, {\"Player\": \"Christian Braun\", \"Pos\": \"SG\", \"Age\": 22, \"Tm\": \"DEN\", \"G\": 35, \"GS\": 0, \"MP\": 19.9, \"FG\": 3.1, \"FGA\": 6.6, \"FG%\": 0.466, \"3P\": 0.7, \"3PA\": 1.9, \"3P%\": 0.4, \"2P\": 2.3, \"2PA\": 4.8, \"2P%\": 0.491, \"eFG%\": 0.522, \"FT\": 1.4, \"FTA\": 1.9, \"FT%\": 0.746, \"ORB\": 0.7, \"DRB\": 2.9, \"TRB\": 3.7, \"AST\": 1.8, \"STL\": 0.4, \"BLK\": 0.4, \"TOV\": 0.7, \"PF\": 1.6, \"PTS\": 8.3}, {\"Player\": \"Mikal Bridges\", \"Pos\": \"SF\", \"Age\": 27, \"Tm\": \"BRK\", \"G\": 33, \"GS\": 33, \"MP\": 34.1, \"FG\": 7.5, \"FGA\": 16.4, \"FG%\": 0.457, \"3P\": 2.0, \"3PA\": 5.6, \"3P%\": 0.359, \"2P\": 5.5, \"2PA\": 10.8, \"2P%\": 0.508, \"eFG%\": 0.519, \"FT\": 4.1, \"FTA\": 5.0, \"FT%\": 0.829, \"ORB\": 1.0, \"DRB\": 4.3, \"TRB\": 5.3, \"AST\": 3.8, \"STL\": 0.9, \"BLK\": 0.4, \"TOV\": 2.3, \"PF\": 1.6, \"PTS\": 21.1}, {\"Player\": \"Miles Bridges\", \"Pos\": \"SF\", \"Age\": 25, \"Tm\": \"CHO\", \"G\": 20, \"GS\": 18, \"MP\": 36.3, \"FG\": 7.5, \"FGA\": 16.6, \"FG%\": 0.449, \"3P\": 2.0, \"3PA\": 6.3, \"3P%\": 0.32, \"2P\": 5.5, \"2PA\": 10.4, \"2P%\": 0.527, \"eFG%\": 0.509, \"FT\": 2.8, \"FTA\": 3.3, \"FT%\": 0.848, \"ORB\": 0.9, \"DRB\": 6.3, \"TRB\": 7.2, \"AST\": 3.0, \"STL\": 1.3, \"BLK\": 0.5, \"TOV\": 1.8, \"PF\": 2.3, \"PTS\": 19.7}, {\"Player\": \"Oshae Brissett\", \"Pos\": \"SF\", \"Age\": 25, \"Tm\": \"BOS\", \"G\": 17, \"GS\": 0, \"MP\": 11.2, \"FG\": 1.1, \"FGA\": 2.2, \"FG%\": 0.474, \"3P\": 0.4, \"3PA\": 0.9, \"3P%\": 0.375, \"2P\": 0.7, \"2PA\": 1.3, \"2P%\": 0.545, \"eFG%\": 0.553, \"FT\": 0.6, \"FTA\": 1.0, \"FT%\": 0.588, \"ORB\": 1.1, \"DRB\": 1.6, \"TRB\": 2.7, \"AST\": 0.5, \"STL\": 0.4, \"BLK\": 0.0, \"TOV\": 0.3, \"PF\": 0.9, \"PTS\": 3.1}, {\"Player\": \"Malcolm Brogdon\", \"Pos\": \"PG\", \"Age\": 31, \"Tm\": \"POR\", \"G\": 25, \"GS\": 16, \"MP\": 28.3, \"FG\": 5.8, \"FGA\": 13.3, \"FG%\": 0.44, \"3P\": 2.3, \"3PA\": 5.5, \"3P%\": 0.423, \"2P\": 3.5, \"2PA\": 7.8, \"2P%\": 0.451, \"eFG%\": 0.527, \"FT\": 2.2, \"FTA\": 2.8, \"FT%\": 0.783, \"ORB\": 0.7, \"DRB\": 2.8, \"TRB\": 3.6, \"AST\": 5.7, \"STL\": 0.8, \"BLK\": 0.2, \"TOV\": 1.4, \"PF\": 1.3, \"PTS\": 16.2}, {\"Player\": \"Armoni Brooks\", \"Pos\": \"PG\", \"Age\": 25, \"Tm\": \"BRK\", \"G\": 8, \"GS\": 0, \"MP\": 11.6, \"FG\": 1.6, \"FGA\": 5.1, \"FG%\": 0.317, \"3P\": 1.3, \"3PA\": 3.5, \"3P%\": 0.357, \"2P\": 0.4, \"2PA\": 1.6, \"2P%\": 0.231, \"eFG%\": 0.439, \"FT\": 0.1, \"FTA\": 0.3, \"FT%\": 0.5, \"ORB\": 0.8, \"DRB\": 1.3, \"TRB\": 2.0, \"AST\": 0.6, \"STL\": 0.1, \"BLK\": 0.1, \"TOV\": 0.4, \"PF\": 0.3, \"PTS\": 4.6}, {\"Player\": \"Dillon Brooks\", \"Pos\": \"SF\", \"Age\": 28, \"Tm\": \"HOU\", \"G\": 28, \"GS\": 28, \"MP\": 30.9, \"FG\": 5.0, \"FGA\": 10.6, \"FG%\": 0.476, \"3P\": 1.9, \"3PA\": 4.6, \"3P%\": 0.408, \"2P\": 3.1, \"2PA\": 5.9, \"2P%\": 0.53, \"eFG%\": 0.566, \"FT\": 1.6, \"FTA\": 1.9, \"FT%\": 0.833, \"ORB\": 0.7, \"DRB\": 2.8, \"TRB\": 3.5, \"AST\": 1.7, \"STL\": 0.9, \"BLK\": 0.0, \"TOV\": 1.7, \"PF\": 3.8, \"PTS\": 13.6}, {\"Player\": \"Bruce Brown\", \"Pos\": \"SG\", \"Age\": 27, \"Tm\": \"IND\", \"G\": 27, \"GS\": 27, \"MP\": 30.7, \"FG\": 4.3, \"FGA\": 9.5, \"FG%\": 0.457, \"3P\": 1.0, \"3PA\": 3.4, \"3P%\": 0.297, \"2P\": 3.3, \"2PA\": 6.1, \"2P%\": 0.545, \"eFG%\": 0.51, \"FT\": 1.9, \"FTA\": 2.4, \"FT%\": 0.813, \"ORB\": 0.7, \"DRB\": 3.9, \"TRB\": 4.6, \"AST\": 2.9, \"STL\": 1.1, \"BLK\": 0.3, \"TOV\": 1.1, \"PF\": 2.5, \"PTS\": 11.6}, {\"Player\": \"Greg Brown III\", \"Pos\": \"PF\", \"Age\": 22, \"Tm\": \"DAL\", \"G\": 5, \"GS\": 0, \"MP\": 5.6, \"FG\": 0.4, \"FGA\": 1.2, \"FG%\": 0.333, \"3P\": 0.0, \"3PA\": 0.2, \"3P%\": 0.0, \"2P\": 0.4, \"2PA\": 1.0, \"2P%\": 0.4, \"eFG%\": 0.333, \"FT\": 0.8, \"FTA\": 1.8, \"FT%\": 0.444, \"ORB\": 0.4, \"DRB\": 1.0, \"TRB\": 1.4, \"AST\": 0.6, \"STL\": 0.0, \"BLK\": 0.2, \"TOV\": 0.6, \"PF\": 0.6, \"PTS\": 1.6}, {\"Player\": \"Jaylen Brown\", \"Pos\": \"SF\", \"Age\": 27, \"Tm\": \"BOS\", \"G\": 30, \"GS\": 30, \"MP\": 33.8, \"FG\": 8.9, \"FGA\": 18.2, \"FG%\": 0.489, \"3P\": 2.2, \"3PA\": 6.2, \"3P%\": 0.358, \"2P\": 6.7, \"2PA\": 12.0, \"2P%\": 0.557, \"eFG%\": 0.55, \"FT\": 2.9, \"FTA\": 4.0, \"FT%\": 0.733, \"ORB\": 0.9, \"DRB\": 4.2, \"TRB\": 5.1, \"AST\": 3.7, \"STL\": 1.1, \"BLK\": 0.6, \"TOV\": 2.5, \"PF\": 2.7, \"PTS\": 23.0}, {\"Player\": \"Kobe Brown\", \"Pos\": \"PF\", \"Age\": 24, \"Tm\": \"LAC\", \"G\": 22, \"GS\": 0, \"MP\": 10.6, \"FG\": 1.0, \"FGA\": 2.5, \"FG%\": 0.407, \"3P\": 0.5, \"3PA\": 1.6, \"3P%\": 0.314, \"2P\": 0.5, \"2PA\": 0.9, \"2P%\": 0.579, \"eFG%\": 0.509, \"FT\": 0.0, \"FTA\": 0.1, \"FT%\": 0.5, \"ORB\": 0.3, \"DRB\": 1.3, \"TRB\": 1.6, \"AST\": 0.6, \"STL\": 0.2, \"BLK\": 0.1, \"TOV\": 0.2, \"PF\": 1.6, \"PTS\": 2.5}, {\"Player\": \"Troy Brown Jr.\", \"Pos\": \"SF\", \"Age\": 24, \"Tm\": \"MIN\", \"G\": 28, \"GS\": 3, \"MP\": 13.1, \"FG\": 1.6, \"FGA\": 3.5, \"FG%\": 0.455, \"3P\": 0.9, \"3PA\": 2.4, \"3P%\": 0.382, \"2P\": 0.7, \"2PA\": 1.1, \"2P%\": 0.613, \"eFG%\": 0.586, \"FT\": 0.7, \"FTA\": 0.8, \"FT%\": 0.864, \"ORB\": 0.5, \"DRB\": 1.8, \"TRB\": 2.3, \"AST\": 0.9, \"STL\": 0.3, \"BLK\": 0.1, \"TOV\": 0.5, \"PF\": 0.8, \"PTS\": 4.8}, {\"Player\": \"Jalen Brunson\", \"Pos\": \"PG\", \"Age\": 27, \"Tm\": \"NYK\", \"G\": 33, \"GS\": 33, \"MP\": 35.9, \"FG\": 9.0, \"FGA\": 19.4, \"FG%\": 0.463, \"3P\": 2.8, \"3PA\": 6.4, \"3P%\": 0.431, \"2P\": 6.2, \"2PA\": 13.0, \"2P%\": 0.479, \"eFG%\": 0.534, \"FT\": 4.8, \"FTA\": 5.9, \"FT%\": 0.82, \"ORB\": 0.7, \"DRB\": 3.3, \"TRB\": 4.0, \"AST\": 6.2, \"STL\": 1.1, \"BLK\": 0.2, \"TOV\": 2.4, \"PF\": 2.2, \"PTS\": 25.6}, {\"Player\": \"Thomas Bryant\", \"Pos\": \"C\", \"Age\": 26, \"Tm\": \"MIA\", \"G\": 19, \"GS\": 3, \"MP\": 11.9, \"FG\": 2.1, \"FGA\": 3.8, \"FG%\": 0.556, \"3P\": 0.0, \"3PA\": 0.2, \"3P%\": 0.0, \"2P\": 2.1, \"2PA\": 3.6, \"2P%\": 0.58, \"eFG%\": 0.556, \"FT\": 0.9, \"FTA\": 1.1, \"FT%\": 0.85, \"ORB\": 1.2, \"DRB\": 2.5, \"TRB\": 3.6, \"AST\": 0.6, \"STL\": 0.3, \"BLK\": 0.3, \"TOV\": 0.8, \"PF\": 1.2, \"PTS\": 5.1}, {\"Player\": \"Kobe Bufkin\", \"Pos\": \"SG\", \"Age\": 20, \"Tm\": \"ATL\", \"G\": 2, \"GS\": 0, \"MP\": 2.0, \"FG\": 0.0, \"FGA\": 1.5, \"FG%\": 0.0, \"3P\": 0.0, \"3PA\": 0.5, \"3P%\": 0.0, \"2P\": 0.0, \"2PA\": 1.0, \"2P%\": 0.0, \"eFG%\": 0.0, \"FT\": 0.5, \"FTA\": 1.0, \"FT%\": 0.5, \"ORB\": 0.5, \"DRB\": 0.5, \"TRB\": 1.0, \"AST\": 0.0, \"STL\": 0.0, \"BLK\": 0.0, \"TOV\": 0.0, \"PF\": 0.0, \"PTS\": 0.5}, {\"Player\": \"Reggie Bullock\", \"Pos\": \"SF\", \"Age\": 32, \"Tm\": \"HOU\", \"G\": 13, \"GS\": 0, \"MP\": 8.7, \"FG\": 0.8, \"FGA\": 1.9, \"FG%\": 0.4, \"3P\": 0.5, \"3PA\": 1.5, \"3P%\": 0.368, \"2P\": 0.2, \"2PA\": 0.5, \"2P%\": 0.5, \"eFG%\": 0.54, \"FT\": 0.1, \"FTA\": 0.1, \"FT%\": 1.0, \"ORB\": 0.2, \"DRB\": 1.0, \"TRB\": 1.2, \"AST\": 0.5, \"STL\": 0.1, \"BLK\": 0.1, \"TOV\": 0.2, \"PF\": 0.5, \"PTS\": 2.2}, {\"Player\": \"Alec Burks\", \"Pos\": \"SG\", \"Age\": 32, \"Tm\": \"DET\", \"G\": 26, \"GS\": 0, \"MP\": 18.5, \"FG\": 2.8, \"FGA\": 8.1, \"FG%\": 0.348, \"3P\": 1.7, \"3PA\": 4.9, \"3P%\": 0.352, \"2P\": 1.1, \"2PA\": 3.2, \"2P%\": 0.341, \"eFG%\": 0.455, \"FT\": 2.6, \"FTA\": 2.9, \"FT%\": 0.895, \"ORB\": 0.5, \"DRB\": 1.7, \"TRB\": 2.1, \"AST\": 1.3, \"STL\": 0.5, \"BLK\": 0.2, \"TOV\": 0.5, \"PF\": 1.4, \"PTS\": 10.0}, {\"Player\": \"Jared Butler\", \"Pos\": \"SG\", \"Age\": 23, \"Tm\": \"WAS\", \"G\": 14, \"GS\": 0, \"MP\": 7.9, \"FG\": 1.6, \"FGA\": 3.1, \"FG%\": 0.512, \"3P\": 0.5, \"3PA\": 1.5, \"3P%\": 0.333, \"2P\": 1.1, \"2PA\": 1.6, \"2P%\": 0.682, \"eFG%\": 0.593, \"FT\": 0.9, \"FTA\": 1.1, \"FT%\": 0.8, \"ORB\": 0.0, \"DRB\": 0.7, \"TRB\": 0.7, \"AST\": 1.9, \"STL\": 0.6, \"BLK\": 0.1, \"TOV\": 0.7, \"PF\": 1.0, \"PTS\": 4.5}, {\"Player\": \"Jimmy Butler\", \"Pos\": \"PF\", \"Age\": 34, \"Tm\": \"MIA\", \"G\": 24, \"GS\": 24, \"MP\": 33.6, \"FG\": 6.5, \"FGA\": 14.0, \"FG%\": 0.464, \"3P\": 0.8, \"3PA\": 2.2, \"3P%\": 0.377, \"2P\": 5.7, \"2PA\": 11.8, \"2P%\": 0.481, \"eFG%\": 0.494, \"FT\": 7.1, \"FTA\": 8.1, \"FT%\": 0.881, \"ORB\": 1.9, \"DRB\": 3.2, \"TRB\": 5.0, \"AST\": 4.5, \"STL\": 1.0, \"BLK\": 0.4, \"TOV\": 1.8, \"PF\": 1.1, \"PTS\": 21.0}, {\"Player\": \"Jamal Cain\", \"Pos\": \"PF\", \"Age\": 24, \"Tm\": \"MIA\", \"G\": 12, \"GS\": 1, \"MP\": 16.9, \"FG\": 2.3, \"FGA\": 5.1, \"FG%\": 0.443, \"3P\": 0.6, \"3PA\": 2.0, \"3P%\": 0.292, \"2P\": 1.7, \"2PA\": 3.1, \"2P%\": 0.541, \"eFG%\": 0.5, \"FT\": 1.0, \"FTA\": 1.4, \"FT%\": 0.706, \"ORB\": 0.8, \"DRB\": 1.4, \"TRB\": 2.3, \"AST\": 0.3, \"STL\": 0.8, \"BLK\": 0.3, \"TOV\": 0.3, \"PF\": 1.3, \"PTS\": 6.1}, {\"Player\": \"Kentavious Caldwell-Pope\", \"Pos\": \"SG\", \"Age\": 30, \"Tm\": \"DEN\", \"G\": 33, \"GS\": 33, \"MP\": 32.1, \"FG\": 3.5, \"FGA\": 7.8, \"FG%\": 0.457, \"3P\": 1.5, \"3PA\": 3.6, \"3P%\": 0.415, \"2P\": 2.1, \"2PA\": 4.2, \"2P%\": 0.493, \"eFG%\": 0.553, \"FT\": 1.4, \"FTA\": 1.6, \"FT%\": 0.887, \"ORB\": 0.5, \"DRB\": 1.7, \"TRB\": 2.1, \"AST\": 2.7, \"STL\": 1.4, \"BLK\": 0.5, \"TOV\": 1.0, \"PF\": 2.0, \"PTS\": 10.0}, {\"Player\": \"Toumani Camara\", \"Pos\": \"PF\", \"Age\": 23, \"Tm\": \"POR\", \"G\": 31, \"GS\": 22, \"MP\": 25.0, \"FG\": 2.6, \"FGA\": 6.4, \"FG%\": 0.414, \"3P\": 0.8, \"3PA\": 2.7, \"3P%\": 0.294, \"2P\": 1.8, \"2PA\": 3.6, \"2P%\": 0.504, \"eFG%\": 0.477, \"FT\": 0.9, \"FTA\": 1.3, \"FT%\": 0.683, \"ORB\": 2.0, \"DRB\": 2.8, \"TRB\": 4.8, \"AST\": 1.0, \"STL\": 1.0, \"BLK\": 0.5, \"TOV\": 1.1, \"PF\": 2.6, \"PTS\": 7.0}, {\"Player\": \"Jevon Carter\", \"Pos\": \"PG\", \"Age\": 28, \"Tm\": \"CHI\", \"G\": 34, \"GS\": 0, \"MP\": 14.4, \"FG\": 2.0, \"FGA\": 5.4, \"FG%\": 0.362, \"3P\": 1.2, \"3PA\": 3.5, \"3P%\": 0.342, \"2P\": 0.8, \"2PA\": 1.9, \"2P%\": 0.4, \"eFG%\": 0.473, \"FT\": 0.1, \"FTA\": 0.1, \"FT%\": 0.6, \"ORB\": 0.1, \"DRB\": 0.6, \"TRB\": 0.7, \"AST\": 1.2, \"STL\": 0.5, \"BLK\": 0.3, \"TOV\": 0.6, \"PF\": 1.2, \"PTS\": 5.2}, {\"Player\": \"Wendell Carter Jr.\", \"Pos\": \"C\", \"Age\": 24, \"Tm\": \"ORL\", \"G\": 11, \"GS\": 10, \"MP\": 25.1, \"FG\": 3.0, \"FGA\": 6.8, \"FG%\": 0.44, \"3P\": 0.9, \"3PA\": 2.5, \"3P%\": 0.357, \"2P\": 2.1, \"2PA\": 4.3, \"2P%\": 0.489, \"eFG%\": 0.507, \"FT\": 1.3, \"FTA\": 2.0, \"FT%\": 0.636, \"ORB\": 1.7, \"DRB\": 5.0, \"TRB\": 6.7, \"AST\": 1.8, \"STL\": 0.3, \"BLK\": 0.5, \"TOV\": 1.4, \"PF\": 2.1, \"PTS\": 8.2}, {\"Player\": \"Alex Caruso\", \"Pos\": \"SG\", \"Age\": 29, \"Tm\": \"CHI\", \"G\": 28, \"GS\": 16, \"MP\": 24.2, \"FG\": 3.5, \"FGA\": 6.7, \"FG%\": 0.529, \"3P\": 1.6, \"3PA\": 3.6, \"3P%\": 0.455, \"2P\": 1.9, \"2PA\": 3.1, \"2P%\": 0.616, \"eFG%\": 0.652, \"FT\": 1.3, \"FTA\": 1.6, \"FT%\": 0.778, \"ORB\": 1.1, \"DRB\": 2.4, \"TRB\": 3.5, \"AST\": 2.5, \"STL\": 1.2, \"BLK\": 0.8, \"TOV\": 1.4, \"PF\": 2.3, \"PTS\": 10.0}, {\"Player\": \"Julian Champagnie\", \"Pos\": \"SF\", \"Age\": 22, \"Tm\": \"SAS\", \"G\": 25, \"GS\": 10, \"MP\": 13.8, \"FG\": 1.8, \"FGA\": 4.4, \"FG%\": 0.409, \"3P\": 1.3, \"3PA\": 3.3, \"3P%\": 0.402, \"2P\": 0.5, \"2PA\": 1.1, \"2P%\": 0.429, \"eFG%\": 0.559, \"FT\": 0.6, \"FTA\": 0.8, \"FT%\": 0.8, \"ORB\": 0.4, \"DRB\": 1.4, \"TRB\": 1.8, \"AST\": 0.8, \"STL\": 0.5, \"BLK\": 0.6, \"TOV\": 0.7, \"PF\": 1.0, \"PTS\": 5.6}, {\"Player\": \"Max Christie\", \"Pos\": \"SG\", \"Age\": 20, \"Tm\": \"LAL\", \"G\": 24, \"GS\": 6, \"MP\": 17.3, \"FG\": 1.8, \"FGA\": 4.5, \"FG%\": 0.389, \"3P\": 0.7, \"3PA\": 2.2, \"3P%\": 0.308, \"2P\": 1.1, \"2PA\": 2.3, \"2P%\": 0.464, \"eFG%\": 0.463, \"FT\": 0.5, \"FTA\": 0.7, \"FT%\": 0.75, \"ORB\": 0.2, \"DRB\": 2.7, \"TRB\": 2.8, \"AST\": 1.0, \"STL\": 0.5, \"BLK\": 0.3, \"TOV\": 0.8, \"PF\": 1.4, \"PTS\": 4.7}, {\"Player\": \"Sidy Cissoko\", \"Pos\": \"SF\", \"Age\": 19, \"Tm\": \"SAS\", \"G\": 5, \"GS\": 0, \"MP\": 6.4, \"FG\": 0.2, \"FGA\": 1.2, \"FG%\": 0.167, \"3P\": 0.0, \"3PA\": 0.8, \"3P%\": 0.0, \"2P\": 0.2, \"2PA\": 0.4, \"2P%\": 0.5, \"eFG%\": 0.167, \"FT\": 0.8, \"FTA\": 0.8, \"FT%\": 1.0, \"ORB\": 0.0, \"DRB\": 1.2, \"TRB\": 1.2, \"AST\": 0.0, \"STL\": 0.6, \"BLK\": 0.0, \"TOV\": 0.2, \"PF\": 0.4, \"PTS\": 1.2}, {\"Player\": \"Jordan Clarkson\", \"Pos\": \"SG\", \"Age\": 31, \"Tm\": \"UTA\", \"G\": 24, \"GS\": 19, \"MP\": 30.0, \"FG\": 6.1, \"FGA\": 15.2, \"FG%\": 0.404, \"3P\": 1.7, \"3PA\": 5.8, \"3P%\": 0.29, \"2P\": 4.5, \"2PA\": 9.4, \"2P%\": 0.473, \"eFG%\": 0.459, \"FT\": 3.1, \"FTA\": 3.6, \"FT%\": 0.872, \"ORB\": 1.2, \"DRB\": 2.5, \"TRB\": 3.6, \"AST\": 5.3, \"STL\": 0.8, \"BLK\": 0.1, \"TOV\": 3.0, \"PF\": 1.6, \"PTS\": 17.0}, {\"Player\": \"Nic Claxton\", \"Pos\": \"C\", \"Age\": 24, \"Tm\": \"BRK\", \"G\": 23, \"GS\": 23, \"MP\": 27.7, \"FG\": 5.0, \"FGA\": 8.1, \"FG%\": 0.618, \"3P\": 0.0, \"3PA\": 0.0, \"3P%\": 1.0, \"2P\": 5.0, \"2PA\": 8.0, \"2P%\": 0.616, \"eFG%\": 0.621, \"FT\": 1.7, \"FTA\": 2.8, \"FT%\": 0.6, \"ORB\": 3.1, \"DRB\": 6.7, \"TRB\": 9.9, \"AST\": 1.8, \"STL\": 0.4, \"BLK\": 2.5, \"TOV\": 0.9, \"PF\": 2.4, \"PTS\": 11.7}, {\"Player\": \"Noah Clowney\", \"Pos\": \"PF\", \"Age\": 19, \"Tm\": \"BRK\", \"G\": 2, \"GS\": 0, \"MP\": 13.5, \"FG\": 3.0, \"FGA\": 4.5, \"FG%\": 0.667, \"3P\": 0.0, \"3PA\": 0.5, \"3P%\": 0.0, \"2P\": 3.0, \"2PA\": 4.0, \"2P%\": 0.75, \"eFG%\": 0.667, \"FT\": 1.0, \"FTA\": 1.0, \"FT%\": 1.0, \"ORB\": 1.5, \"DRB\": 1.0, \"TRB\": 2.5, \"AST\": 1.0, \"STL\": 0.0, \"BLK\": 0.0, \"TOV\": 0.5, \"PF\": 1.5, \"PTS\": 7.0}, {\"Player\": \"Amir Coffey\", \"Pos\": \"SF\", \"Age\": 26, \"Tm\": \"LAC\", \"G\": 20, \"GS\": 6, \"MP\": 14.7, \"FG\": 1.4, \"FGA\": 3.0, \"FG%\": 0.467, \"3P\": 0.6, \"3PA\": 1.8, \"3P%\": 0.343, \"2P\": 0.8, \"2PA\": 1.3, \"2P%\": 0.64, \"eFG%\": 0.567, \"FT\": 0.6, \"FTA\": 0.7, \"FT%\": 0.923, \"ORB\": 0.4, \"DRB\": 1.2, \"TRB\": 1.6, \"AST\": 0.8, \"STL\": 0.2, \"BLK\": 0.0, \"TOV\": 0.4, \"PF\": 1.1, \"PTS\": 4.0}, {\"Player\": \"John Collins\", \"Pos\": \"PF\", \"Age\": 26, \"Tm\": \"UTA\", \"G\": 30, \"GS\": 28, \"MP\": 28.9, \"FG\": 5.1, \"FGA\": 10.8, \"FG%\": 0.474, \"3P\": 1.4, \"3PA\": 3.7, \"3P%\": 0.375, \"2P\": 3.7, \"2PA\": 7.1, \"2P%\": 0.526, \"eFG%\": 0.538, \"FT\": 1.9, \"FTA\": 2.5, \"FT%\": 0.784, \"ORB\": 2.2, \"DRB\": 5.7, \"TRB\": 7.9, \"AST\": 0.7, \"STL\": 0.6, \"BLK\": 0.9, \"TOV\": 1.5, \"PF\": 2.6, \"PTS\": 13.6}, {\"Player\": \"Zach Collins\", \"Pos\": \"C\", \"Age\": 26, \"Tm\": \"SAS\", \"G\": 31, \"GS\": 23, \"MP\": 26.1, \"FG\": 4.9, \"FGA\": 10.0, \"FG%\": 0.495, \"3P\": 1.1, \"3PA\": 3.5, \"3P%\": 0.312, \"2P\": 3.8, \"2PA\": 6.5, \"2P%\": 0.595, \"eFG%\": 0.55, \"FT\": 2.0, \"FTA\": 2.5, \"FT%\": 0.792, \"ORB\": 1.9, \"DRB\": 4.1, \"TRB\": 6.0, \"AST\": 3.3, \"STL\": 0.6, \"BLK\": 0.8, \"TOV\": 2.3, \"PF\": 3.4, \"PTS\": 12.9}, {\"Player\": \"Mike Conley\", \"Pos\": \"PG\", \"Age\": 36, \"Tm\": \"MIN\", \"G\": 32, \"GS\": 32, \"MP\": 29.4, \"FG\": 3.8, \"FGA\": 8.3, \"FG%\": 0.461, \"3P\": 2.4, \"3PA\": 5.2, \"3P%\": 0.455, \"2P\": 1.5, \"2PA\": 3.1, \"2P%\": 0.47, \"eFG%\": 0.603, \"FT\": 1.4, \"FTA\": 1.5, \"FT%\": 0.939, \"ORB\": 0.4, \"DRB\": 2.5, \"TRB\": 2.8, \"AST\": 6.2, \"STL\": 1.0, \"BLK\": 0.2, \"TOV\": 1.1, \"PF\": 1.7, \"PTS\": 11.5}, {\"Player\": \"Pat Connaughton\", \"Pos\": \"SF\", \"Age\": 31, \"Tm\": \"MIL\", \"G\": 27, \"GS\": 0, \"MP\": 22.0, \"FG\": 2.0, \"FGA\": 4.8, \"FG%\": 0.411, \"3P\": 1.1, \"3PA\": 3.3, \"3P%\": 0.322, \"2P\": 0.9, \"2PA\": 1.4, \"2P%\": 0.615, \"eFG%\": 0.523, \"FT\": 0.4, \"FTA\": 0.6, \"FT%\": 0.733, \"ORB\": 0.8, \"DRB\": 2.9, \"TRB\": 3.7, \"AST\": 2.0, \"STL\": 0.5, \"BLK\": 0.2, \"TOV\": 0.6, \"PF\": 1.1, \"PTS\": 5.4}, {\"Player\": \"Bilal Coulibaly\", \"Pos\": \"SF\", \"Age\": 19, \"Tm\": \"WAS\", \"G\": 31, \"GS\": 1, \"MP\": 26.1, \"FG\": 3.2, \"FGA\": 6.2, \"FG%\": 0.513, \"3P\": 1.1, \"3PA\": 2.7, \"3P%\": 0.405, \"2P\": 2.1, \"2PA\": 3.5, \"2P%\": 0.598, \"eFG%\": 0.602, \"FT\": 1.1, \"FTA\": 1.7, \"FT%\": 0.66, \"ORB\": 0.7, \"DRB\": 3.4, \"TRB\": 4.1, \"AST\": 1.8, \"STL\": 0.9, \"BLK\": 0.6, \"TOV\": 1.5, \"PF\": 2.0, \"PTS\": 8.5}, {\"Player\": \"Robert Covington\", \"Pos\": \"SF-PF\", \"Age\": 33, \"Tm\": \"TOT\", \"G\": 29, \"GS\": 6, \"MP\": 16.8, \"FG\": 1.5, \"FGA\": 3.4, \"FG%\": 0.439, \"3P\": 0.7, \"3PA\": 1.9, \"3P%\": 0.339, \"2P\": 0.8, \"2PA\": 1.4, \"2P%\": 0.571, \"eFG%\": 0.536, \"FT\": 0.8, \"FTA\": 0.9, \"FT%\": 0.846, \"ORB\": 1.1, \"DRB\": 2.3, \"TRB\": 3.3, \"AST\": 0.8, \"STL\": 1.3, \"BLK\": 0.6, \"TOV\": 0.4, \"PF\": 1.9, \"PTS\": 4.4}, {\"Player\": \"Robert Covington\", \"Pos\": \"PF\", \"Age\": 33, \"Tm\": \"LAC\", \"G\": 3, \"GS\": 3, \"MP\": 23.0, \"FG\": 1.0, \"FGA\": 3.0, \"FG%\": 0.333, \"3P\": 0.7, \"3PA\": 2.7, \"3P%\": 0.25, \"2P\": 0.3, \"2PA\": 0.3, \"2P%\": 1.0, \"eFG%\": 0.444, \"FT\": 0.3, \"FTA\": 0.7, \"FT%\": 0.5, \"ORB\": 0.7, \"DRB\": 2.0, \"TRB\": 2.7, \"AST\": 2.3, \"STL\": 2.0, \"BLK\": 0.7, \"TOV\": 0.0, \"PF\": 2.3, \"PTS\": 3.0}, {\"Player\": \"Robert Covington\", \"Pos\": \"SF\", \"Age\": 33, \"Tm\": \"PHI\", \"G\": 26, \"GS\": 3, \"MP\": 16.1, \"FG\": 1.5, \"FGA\": 3.4, \"FG%\": 0.449, \"3P\": 0.7, \"3PA\": 1.8, \"3P%\": 0.354, \"2P\": 0.9, \"2PA\": 1.6, \"2P%\": 0.561, \"eFG%\": 0.545, \"FT\": 0.8, \"FTA\": 0.9, \"FT%\": 0.875, \"ORB\": 1.1, \"DRB\": 2.3, \"TRB\": 3.4, \"AST\": 0.7, \"STL\": 1.3, \"BLK\": 0.6, \"TOV\": 0.4, \"PF\": 1.9, \"PTS\": 4.5}, {\"Player\": \"Torrey Craig\", \"Pos\": \"SF\", \"Age\": 33, \"Tm\": \"CHI\", \"G\": 27, \"GS\": 7, \"MP\": 21.2, \"FG\": 2.2, \"FGA\": 5.1, \"FG%\": 0.424, \"3P\": 1.1, \"3PA\": 2.8, \"3P%\": 0.382, \"2P\": 1.1, \"2PA\": 2.3, \"2P%\": 0.476, \"eFG%\": 0.529, \"FT\": 0.7, \"FTA\": 0.9, \"FT%\": 0.783, \"ORB\": 1.9, \"DRB\": 3.0, \"TRB\": 4.8, \"AST\": 1.0, \"STL\": 0.6, \"BLK\": 0.4, \"TOV\": 0.6, \"PF\": 2.5, \"PTS\": 6.1}, {\"Player\": \"Jae Crowder\", \"Pos\": \"PF\", \"Age\": 33, \"Tm\": \"MIL\", \"G\": 9, \"GS\": 2, \"MP\": 26.7, \"FG\": 2.8, \"FGA\": 5.2, \"FG%\": 0.532, \"3P\": 1.8, \"3PA\": 3.4, \"3P%\": 0.516, \"2P\": 1.0, \"2PA\": 1.8, \"2P%\": 0.563, \"eFG%\": 0.702, \"FT\": 0.8, \"FTA\": 1.3, \"FT%\": 0.583, \"ORB\": 0.4, \"DRB\": 3.4, \"TRB\": 3.9, \"AST\": 1.7, \"STL\": 0.8, \"BLK\": 0.3, \"TOV\": 0.4, \"PF\": 1.6, \"PTS\": 8.1}, {\"Player\": \"Cade Cunningham\", \"Pos\": \"PG\", \"Age\": 22, \"Tm\": \"DET\", \"G\": 33, \"GS\": 33, \"MP\": 35.0, \"FG\": 8.5, \"FGA\": 19.2, \"FG%\": 0.443, \"3P\": 1.9, \"3PA\": 5.6, \"3P%\": 0.337, \"2P\": 6.6, \"2PA\": 13.7, \"2P%\": 0.486, \"eFG%\": 0.491, \"FT\": 4.1, \"FTA\": 4.7, \"FT%\": 0.87, \"ORB\": 0.5, \"DRB\": 3.5, \"TRB\": 4.0, \"AST\": 7.3, \"STL\": 1.0, \"BLK\": 0.3, \"TOV\": 3.9, \"PF\": 2.8, \"PTS\": 23.0}, {\"Player\": \"Seth Curry\", \"Pos\": \"SG\", \"Age\": 33, \"Tm\": \"DAL\", \"G\": 25, \"GS\": 3, \"MP\": 13.3, \"FG\": 1.7, \"FGA\": 4.4, \"FG%\": 0.385, \"3P\": 1.0, \"3PA\": 2.5, \"3P%\": 0.419, \"2P\": 0.6, \"2PA\": 1.9, \"2P%\": 0.34, \"eFG%\": 0.505, \"FT\": 0.6, \"FTA\": 0.6, \"FT%\": 0.875, \"ORB\": 0.5, \"DRB\": 1.1, \"TRB\": 1.6, \"AST\": 0.9, \"STL\": 0.6, \"BLK\": 0.1, \"TOV\": 0.4, \"PF\": 0.9, \"PTS\": 5.0}, {\"Player\": \"Stephen Curry\", \"Pos\": \"PG\", \"Age\": 35, \"Tm\": \"GSW\", \"G\": 30, \"GS\": 30, \"MP\": 33.5, \"FG\": 8.6, \"FGA\": 19.0, \"FG%\": 0.453, \"3P\": 4.7, \"3PA\": 11.6, \"3P%\": 0.409, \"2P\": 3.9, \"2PA\": 7.4, \"2P%\": 0.523, \"eFG%\": 0.578, \"FT\": 5.4, \"FTA\": 5.8, \"FT%\": 0.931, \"ORB\": 0.5, \"DRB\": 3.9, \"TRB\": 4.4, \"AST\": 4.5, \"STL\": 0.7, \"BLK\": 0.4, \"TOV\": 3.1, \"PF\": 1.8, \"PTS\": 27.3}, {\"Player\": \"Dyson Daniels\", \"Pos\": \"PG\", \"Age\": 20, \"Tm\": \"NOP\", \"G\": 33, \"GS\": 13, \"MP\": 22.4, \"FG\": 2.3, \"FGA\": 5.5, \"FG%\": 0.41, \"3P\": 0.7, \"3PA\": 2.5, \"3P%\": 0.272, \"2P\": 1.6, \"2PA\": 3.1, \"2P%\": 0.52, \"eFG%\": 0.47, \"FT\": 0.7, \"FTA\": 1.1, \"FT%\": 0.667, \"ORB\": 0.9, \"DRB\": 2.9, \"TRB\": 3.9, \"AST\": 2.6, \"STL\": 1.3, \"BLK\": 0.3, \"TOV\": 1.0, \"PF\": 1.8, \"PTS\": 5.9}, {\"Player\": \"Anthony Davis\", \"Pos\": \"C\", \"Age\": 30, \"Tm\": \"LAL\", \"G\": 32, \"GS\": 32, \"MP\": 35.6, \"FG\": 9.5, \"FGA\": 17.2, \"FG%\": 0.551, \"3P\": 0.4, \"3PA\": 1.0, \"3P%\": 0.375, \"2P\": 9.1, \"2PA\": 16.2, \"2P%\": 0.562, \"eFG%\": 0.562, \"FT\": 5.7, \"FTA\": 7.1, \"FT%\": 0.806, \"ORB\": 3.3, \"DRB\": 9.0, \"TRB\": 12.3, \"AST\": 3.3, \"STL\": 1.2, \"BLK\": 2.6, \"TOV\": 2.0, \"PF\": 2.6, \"PTS\": 25.0}, {\"Player\": \"Johnny Davis\", \"Pos\": \"SG\", \"Age\": 21, \"Tm\": \"WAS\", \"G\": 15, \"GS\": 0, \"MP\": 8.9, \"FG\": 1.3, \"FGA\": 2.7, \"FG%\": 0.463, \"3P\": 0.1, \"3PA\": 0.2, \"3P%\": 0.333, \"2P\": 1.2, \"2PA\": 2.5, \"2P%\": 0.474, \"eFG%\": 0.476, \"FT\": 0.3, \"FTA\": 0.3, \"FT%\": 0.8, \"ORB\": 0.5, \"DRB\": 0.7, \"TRB\": 1.3, \"AST\": 0.3, \"STL\": 0.5, \"BLK\": 0.1, \"TOV\": 0.3, \"PF\": 0.7, \"PTS\": 2.9}, {\"Player\": \"Dexter Dennis\", \"Pos\": \"SG\", \"Age\": 24, \"Tm\": \"DAL\", \"G\": 4, \"GS\": 0, \"MP\": 7.5, \"FG\": 2.5, \"FGA\": 4.8, \"FG%\": 0.526, \"3P\": 0.3, \"3PA\": 2.0, \"3P%\": 0.125, \"2P\": 2.3, \"2PA\": 2.8, \"2P%\": 0.818, \"eFG%\": 0.553, \"FT\": 0.3, \"FTA\": 0.8, \"FT%\": 0.333, \"ORB\": 0.3, \"DRB\": 2.0, \"TRB\": 2.3, \"AST\": 1.0, \"STL\": 0.0, \"BLK\": 0.3, \"TOV\": 0.8, \"PF\": 0.3, \"PTS\": 5.5}, {\"Player\": \"DeMar DeRozan\", \"Pos\": \"SF\", \"Age\": 34, \"Tm\": \"CHI\", \"G\": 32, \"GS\": 32, \"MP\": 36.7, \"FG\": 7.8, \"FGA\": 17.0, \"FG%\": 0.455, \"3P\": 0.9, \"3PA\": 2.6, \"3P%\": 0.345, \"2P\": 6.8, \"2PA\": 14.4, \"2P%\": 0.475, \"eFG%\": 0.482, \"FT\": 6.0, \"FTA\": 7.1, \"FT%\": 0.838, \"ORB\": 0.7, \"DRB\": 3.2, \"TRB\": 3.8, \"AST\": 5.4, \"STL\": 1.1, \"BLK\": 0.8, \"TOV\": 1.4, \"PF\": 2.2, \"PTS\": 22.4}, {\"Player\": \"Gradey Dick\", \"Pos\": \"SG\", \"Age\": 20, \"Tm\": \"TOR\", \"G\": 19, \"GS\": 1, \"MP\": 12.4, \"FG\": 1.1, \"FGA\": 3.6, \"FG%\": 0.294, \"3P\": 0.6, \"3PA\": 2.3, \"3P%\": 0.25, \"2P\": 0.5, \"2PA\": 1.3, \"2P%\": 0.375, \"eFG%\": 0.375, \"FT\": 0.8, \"FTA\": 0.8, \"FT%\": 1.0, \"ORB\": 0.4, \"DRB\": 0.8, \"TRB\": 1.2, \"AST\": 0.8, \"STL\": 0.3, \"BLK\": 0.0, \"TOV\": 0.6, \"PF\": 1.3, \"PTS\": 3.5}, {\"Player\": \"Ousmane Dieng\", \"Pos\": \"PF\", \"Age\": 20, \"Tm\": \"OKC\", \"G\": 18, \"GS\": 0, \"MP\": 11.2, \"FG\": 1.5, \"FGA\": 3.3, \"FG%\": 0.458, \"3P\": 0.8, \"3PA\": 2.2, \"3P%\": 0.35, \"2P\": 0.7, \"2PA\": 1.1, \"2P%\": 0.684, \"eFG%\": 0.576, \"FT\": 0.6, \"FTA\": 0.7, \"FT%\": 0.833, \"ORB\": 0.4, \"DRB\": 1.2, \"TRB\": 1.6, \"AST\": 0.9, \"STL\": 0.1, \"BLK\": 0.0, \"TOV\": 0.3, \"PF\": 0.7, \"PTS\": 4.3}, {\"Player\": \"Spencer Dinwiddie\", \"Pos\": \"PG\", \"Age\": 30, \"Tm\": \"BRK\", \"G\": 31, \"GS\": 31, \"MP\": 31.9, \"FG\": 4.6, \"FGA\": 11.9, \"FG%\": 0.391, \"3P\": 2.0, \"3PA\": 6.4, \"3P%\": 0.317, \"2P\": 2.6, \"2PA\": 5.5, \"2P%\": 0.479, \"eFG%\": 0.477, \"FT\": 3.0, \"FTA\": 3.9, \"FT%\": 0.767, \"ORB\": 0.7, \"DRB\": 3.4, \"TRB\": 4.1, \"AST\": 6.5, \"STL\": 0.9, \"BLK\": 0.2, \"TOV\": 1.6, \"PF\": 1.8, \"PTS\": 14.3}, {\"Player\": \"Donte DiVincenzo\", \"Pos\": \"SG\", \"Age\": 27, \"Tm\": \"NYK\", \"G\": 33, \"GS\": 15, \"MP\": 21.3, \"FG\": 3.7, \"FGA\": 7.9, \"FG%\": 0.469, \"3P\": 2.5, \"3PA\": 5.6, \"3P%\": 0.443, \"2P\": 1.2, \"2PA\": 2.3, \"2P%\": 0.533, \"eFG%\": 0.627, \"FT\": 0.8, \"FTA\": 1.0, \"FT%\": 0.735, \"ORB\": 0.7, \"DRB\": 2.2, \"TRB\": 2.9, \"AST\": 1.8, \"STL\": 1.1, \"BLK\": 0.3, \"TOV\": 1.0, \"PF\": 1.8, \"PTS\": 10.6}, {\"Player\": \"Luka Don\\u010di\\u0107\", \"Pos\": \"PG\", \"Age\": 24, \"Tm\": \"DAL\", \"G\": 31, \"GS\": 31, \"MP\": 36.9, \"FG\": 11.4, \"FGA\": 23.6, \"FG%\": 0.484, \"3P\": 4.0, \"3PA\": 10.6, \"3P%\": 0.378, \"2P\": 7.4, \"2PA\": 13.0, \"2P%\": 0.569, \"eFG%\": 0.568, \"FT\": 6.6, \"FTA\": 8.4, \"FT%\": 0.785, \"ORB\": 0.8, \"DRB\": 7.5, \"TRB\": 8.3, \"AST\": 9.4, \"STL\": 1.4, \"BLK\": 0.6, \"TOV\": 4.0, \"PF\": 1.7, \"PTS\": 33.4}, {\"Player\": \"Luguentz Dort\", \"Pos\": \"SF\", \"Age\": 24, \"Tm\": \"OKC\", \"G\": 30, \"GS\": 30, \"MP\": 28.5, \"FG\": 3.7, \"FGA\": 8.0, \"FG%\": 0.465, \"3P\": 1.9, \"3PA\": 4.4, \"3P%\": 0.427, \"2P\": 1.9, \"2PA\": 3.7, \"2P%\": 0.509, \"eFG%\": 0.581, \"FT\": 1.8, \"FTA\": 2.2, \"FT%\": 0.815, \"ORB\": 1.1, \"DRB\": 2.8, \"TRB\": 3.9, \"AST\": 1.3, \"STL\": 0.9, \"BLK\": 0.8, \"TOV\": 0.9, \"PF\": 3.0, \"PTS\": 11.1}, {\"Player\": \"Ayo Dosunmu\", \"Pos\": \"SG\", \"Age\": 24, \"Tm\": \"CHI\", \"G\": 32, \"GS\": 5, \"MP\": 22.1, \"FG\": 3.0, \"FGA\": 6.5, \"FG%\": 0.469, \"3P\": 0.9, \"3PA\": 2.8, \"3P%\": 0.337, \"2P\": 2.1, \"2PA\": 3.7, \"2P%\": 0.568, \"eFG%\": 0.541, \"FT\": 0.8, \"FTA\": 1.1, \"FT%\": 0.735, \"ORB\": 0.8, \"DRB\": 1.7, \"TRB\": 2.4, \"AST\": 1.9, \"STL\": 0.8, \"BLK\": 0.3, \"TOV\": 0.8, \"PF\": 1.8, \"PTS\": 7.8}, {\"Player\": \"Andre Drummond\", \"Pos\": \"C\", \"Age\": 30, \"Tm\": \"CHI\", \"G\": 34, \"GS\": 3, \"MP\": 14.9, \"FG\": 2.8, \"FGA\": 5.2, \"FG%\": 0.54, \"3P\": 0.0, \"3PA\": 0.0, \"3P%\": 0.0, \"2P\": 2.8, \"2PA\": 5.1, \"2P%\": 0.543, \"eFG%\": 0.54, \"FT\": 1.4, \"FTA\": 2.6, \"FT%\": 0.563, \"ORB\": 3.1, \"DRB\": 4.9, \"TRB\": 8.1, \"AST\": 0.6, \"STL\": 1.2, \"BLK\": 0.5, \"TOV\": 1.1, \"PF\": 1.9, \"PTS\": 7.0}, {\"Player\": \"Chris Duarte\", \"Pos\": \"SF\", \"Age\": 26, \"Tm\": \"SAC\", \"G\": 28, \"GS\": 6, \"MP\": 13.0, \"FG\": 1.3, \"FGA\": 3.5, \"FG%\": 0.367, \"3P\": 0.6, \"3PA\": 2.0, \"3P%\": 0.304, \"2P\": 0.7, \"2PA\": 1.5, \"2P%\": 0.452, \"eFG%\": 0.454, \"FT\": 0.6, \"FTA\": 0.7, \"FT%\": 0.8, \"ORB\": 0.3, \"DRB\": 1.6, \"TRB\": 1.9, \"AST\": 0.8, \"STL\": 0.6, \"BLK\": 0.1, \"TOV\": 0.5, \"PF\": 1.9, \"PTS\": 3.8}, {\"Player\": \"Kris Dunn\", \"Pos\": \"PG\", \"Age\": 29, \"Tm\": \"UTA\", \"G\": 26, \"GS\": 8, \"MP\": 16.3, \"FG\": 2.2, \"FGA\": 4.7, \"FG%\": 0.463, \"3P\": 0.5, \"3PA\": 1.5, \"3P%\": 0.368, \"2P\": 1.6, \"2PA\": 3.2, \"2P%\": 0.506, \"eFG%\": 0.521, \"FT\": 0.4, \"FTA\": 0.6, \"FT%\": 0.688, \"ORB\": 0.5, \"DRB\": 2.2, \"TRB\": 2.7, \"AST\": 3.8, \"STL\": 0.6, \"BLK\": 0.2, \"TOV\": 1.3, \"PF\": 1.6, \"PTS\": 5.3}, {\"Player\": \"Kevin Durant\", \"Pos\": \"PF\", \"Age\": 35, \"Tm\": \"PHO\", \"G\": 28, \"GS\": 28, \"MP\": 37.1, \"FG\": 10.4, \"FGA\": 19.7, \"FG%\": 0.525, \"3P\": 2.2, \"3PA\": 4.6, \"3P%\": 0.477, \"2P\": 8.2, \"2PA\": 15.1, \"2P%\": 0.54, \"eFG%\": 0.581, \"FT\": 7.0, \"FTA\": 8.0, \"FT%\": 0.874, \"ORB\": 0.4, \"DRB\": 5.9, \"TRB\": 6.3, \"AST\": 6.0, \"STL\": 0.9, \"BLK\": 1.1, \"TOV\": 3.4, \"PF\": 1.8, \"PTS\": 29.9}, {\"Player\": \"Jalen Duren\", \"Pos\": \"C\", \"Age\": 20, \"Tm\": \"DET\", \"G\": 18, \"GS\": 17, \"MP\": 29.6, \"FG\": 5.7, \"FGA\": 9.1, \"FG%\": 0.632, \"3P\": 0.0, \"3PA\": 0.1, \"3P%\": 0.0, \"2P\": 5.7, \"2PA\": 8.9, \"2P%\": 0.64, \"eFG%\": 0.632, \"FT\": 1.5, \"FTA\": 2.2, \"FT%\": 0.675, \"ORB\": 3.6, \"DRB\": 8.2, \"TRB\": 11.8, \"AST\": 2.4, \"STL\": 0.5, \"BLK\": 1.1, \"TOV\": 2.3, \"PF\": 3.4, \"PTS\": 12.9}, {\"Player\": \"Tari Eason\", \"Pos\": \"PF\", \"Age\": 22, \"Tm\": \"HOU\", \"G\": 22, \"GS\": 0, \"MP\": 21.8, \"FG\": 4.0, \"FGA\": 8.6, \"FG%\": 0.466, \"3P\": 0.8, \"3PA\": 2.3, \"3P%\": 0.36, \"2P\": 3.2, \"2PA\": 6.3, \"2P%\": 0.504, \"eFG%\": 0.513, \"FT\": 1.0, \"FTA\": 1.5, \"FT%\": 0.636, \"ORB\": 2.1, \"DRB\": 4.9, \"TRB\": 7.0, \"AST\": 1.2, \"STL\": 1.4, \"BLK\": 0.9, \"TOV\": 0.9, \"PF\": 2.3, \"PTS\": 9.8}, {\"Player\": \"Anthony Edwards\", \"Pos\": \"SG\", \"Age\": 22, \"Tm\": \"MIN\", \"G\": 29, \"GS\": 29, \"MP\": 34.7, \"FG\": 9.0, \"FGA\": 19.7, \"FG%\": 0.458, \"3P\": 2.6, \"3PA\": 6.8, \"3P%\": 0.379, \"2P\": 6.4, \"2PA\": 12.9, \"2P%\": 0.5, \"eFG%\": 0.524, \"FT\": 5.7, \"FTA\": 6.8, \"FT%\": 0.842, \"ORB\": 0.6, \"DRB\": 4.8, \"TRB\": 5.3, \"AST\": 5.1, \"STL\": 1.3, \"BLK\": 0.7, \"TOV\": 3.3, \"PF\": 1.8, \"PTS\": 26.3}, {\"Player\": \"Kessler Edwards\", \"Pos\": \"SF\", \"Age\": 23, \"Tm\": \"SAC\", \"G\": 25, \"GS\": 0, \"MP\": 4.9, \"FG\": 0.5, \"FGA\": 1.4, \"FG%\": 0.382, \"3P\": 0.3, \"3PA\": 0.9, \"3P%\": 0.318, \"2P\": 0.2, \"2PA\": 0.5, \"2P%\": 0.5, \"eFG%\": 0.485, \"FT\": 0.0, \"FTA\": 0.1, \"FT%\": 0.5, \"ORB\": 0.1, \"DRB\": 0.6, \"TRB\": 0.7, \"AST\": 0.2, \"STL\": 0.1, \"BLK\": 0.1, \"TOV\": 0.0, \"PF\": 0.4, \"PTS\": 1.4}, {\"Player\": \"Keon Ellis\", \"Pos\": \"SG\", \"Age\": 24, \"Tm\": \"SAC\", \"G\": 23, \"GS\": 3, \"MP\": 13.2, \"FG\": 1.3, \"FGA\": 3.1, \"FG%\": 0.408, \"3P\": 0.9, \"3PA\": 2.6, \"3P%\": 0.35, \"2P\": 0.3, \"2PA\": 0.5, \"2P%\": 0.727, \"eFG%\": 0.556, \"FT\": 0.5, \"FTA\": 0.7, \"FT%\": 0.647, \"ORB\": 0.3, \"DRB\": 1.1, \"TRB\": 1.4, \"AST\": 1.4, \"STL\": 0.6, \"BLK\": 0.5, \"TOV\": 0.6, \"PF\": 1.5, \"PTS\": 3.9}, {\"Player\": \"Joel Embiid\", \"Pos\": \"C\", \"Age\": 29, \"Tm\": \"PHI\", \"G\": 25, \"GS\": 25, \"MP\": 34.2, \"FG\": 11.8, \"FGA\": 21.8, \"FG%\": 0.54, \"3P\": 1.1, \"3PA\": 3.2, \"3P%\": 0.35, \"2P\": 10.6, \"2PA\": 18.6, \"2P%\": 0.573, \"eFG%\": 0.566, \"FT\": 10.3, \"FTA\": 11.6, \"FT%\": 0.893, \"ORB\": 2.8, \"DRB\": 8.9, \"TRB\": 11.7, \"AST\": 6.0, \"STL\": 1.2, \"BLK\": 2.0, \"TOV\": 3.8, \"PF\": 2.8, \"PTS\": 35.0}, {\"Player\": \"Drew Eubanks\", \"Pos\": \"C\", \"Age\": 26, \"Tm\": \"PHO\", \"G\": 29, \"GS\": 2, \"MP\": 16.6, \"FG\": 2.4, \"FGA\": 4.1, \"FG%\": 0.593, \"3P\": 0.1, \"3PA\": 0.1, \"3P%\": 1.0, \"2P\": 2.3, \"2PA\": 4.0, \"2P%\": 0.586, \"eFG%\": 0.602, \"FT\": 1.1, \"FTA\": 1.4, \"FT%\": 0.78, \"ORB\": 1.4, \"DRB\": 2.9, \"TRB\": 4.3, \"AST\": 1.1, \"STL\": 0.3, \"BLK\": 1.0, \"TOV\": 1.2, \"PF\": 1.9, \"PTS\": 6.0}, {\"Player\": \"Dante Exum\", \"Pos\": \"PG\", \"Age\": 28, \"Tm\": \"DAL\", \"G\": 30, \"GS\": 14, \"MP\": 19.5, \"FG\": 3.7, \"FGA\": 6.4, \"FG%\": 0.575, \"3P\": 0.9, \"3PA\": 2.1, \"3P%\": 0.452, \"2P\": 2.8, \"2PA\": 4.4, \"2P%\": 0.634, \"eFG%\": 0.648, \"FT\": 1.0, \"FTA\": 1.3, \"FT%\": 0.75, \"ORB\": 0.6, \"DRB\": 2.3, \"TRB\": 2.9, \"AST\": 2.9, \"STL\": 0.6, \"BLK\": 0.2, \"TOV\": 0.9, \"PF\": 1.6, \"PTS\": 9.3}, {\"Player\": \"Bruno Fernando\", \"Pos\": \"C\", \"Age\": 25, \"Tm\": \"ATL\", \"G\": 8, \"GS\": 0, \"MP\": 6.0, \"FG\": 1.0, \"FGA\": 2.3, \"FG%\": 0.444, \"3P\": 0.0, \"3PA\": 0.1, \"3P%\": 0.0, \"2P\": 1.0, \"2PA\": 2.1, \"2P%\": 0.471, \"eFG%\": 0.444, \"FT\": 0.5, \"FTA\": 0.8, \"FT%\": 0.667, \"ORB\": 0.6, \"DRB\": 1.3, \"TRB\": 1.9, \"AST\": 0.4, \"STL\": 0.1, \"BLK\": 0.1, \"TOV\": 0.6, \"PF\": 1.1, \"PTS\": 2.5}, {\"Player\": \"Dorian Finney-Smith\", \"Pos\": \"PF\", \"Age\": 30, \"Tm\": \"BRK\", \"G\": 30, \"GS\": 19, \"MP\": 29.4, \"FG\": 3.8, \"FGA\": 8.4, \"FG%\": 0.45, \"3P\": 2.4, \"3PA\": 5.5, \"3P%\": 0.43, \"2P\": 1.4, \"2PA\": 2.9, \"2P%\": 0.488, \"eFG%\": 0.592, \"FT\": 0.3, \"FTA\": 0.3, \"FT%\": 0.8, \"ORB\": 2.0, \"DRB\": 3.0, \"TRB\": 5.1, \"AST\": 1.2, \"STL\": 0.7, \"BLK\": 0.5, \"TOV\": 0.8, \"PF\": 2.2, \"PTS\": 10.2}, {\"Player\": \"Malachi Flynn\", \"Pos\": \"PG\", \"Age\": 25, \"Tm\": \"TOR\", \"G\": 31, \"GS\": 0, \"MP\": 15.3, \"FG\": 1.8, \"FGA\": 4.4, \"FG%\": 0.409, \"3P\": 0.9, \"3PA\": 2.6, \"3P%\": 0.35, \"2P\": 0.9, \"2PA\": 1.8, \"2P%\": 0.491, \"eFG%\": 0.511, \"FT\": 0.5, \"FTA\": 0.7, \"FT%\": 0.773, \"ORB\": 0.4, \"DRB\": 1.7, \"TRB\": 2.1, \"AST\": 2.4, \"STL\": 0.6, \"BLK\": 0.2, \"TOV\": 1.1, \"PF\": 1.4, \"PTS\": 5.1}, {\"Player\": \"Simone Fontecchio\", \"Pos\": \"SF\", \"Age\": 28, \"Tm\": \"UTA\", \"G\": 32, \"GS\": 16, \"MP\": 21.4, \"FG\": 3.3, \"FGA\": 7.0, \"FG%\": 0.462, \"3P\": 1.8, \"3PA\": 4.6, \"3P%\": 0.399, \"2P\": 1.4, \"2PA\": 2.4, \"2P%\": 0.584, \"eFG%\": 0.593, \"FT\": 0.8, \"FTA\": 1.0, \"FT%\": 0.781, \"ORB\": 0.9, \"DRB\": 2.1, \"TRB\": 3.0, \"AST\": 1.1, \"STL\": 0.6, \"BLK\": 0.4, \"TOV\": 1.0, \"PF\": 1.7, \"PTS\": 9.1}, {\"Player\": \"Jordan Ford\", \"Pos\": \"PG\", \"Age\": 25, \"Tm\": \"SAC\", \"G\": 6, \"GS\": 0, \"MP\": 3.7, \"FG\": 0.7, \"FGA\": 1.2, \"FG%\": 0.571, \"3P\": 0.3, \"3PA\": 0.5, \"3P%\": 0.667, \"2P\": 0.3, \"2PA\": 0.7, \"2P%\": 0.5, \"eFG%\": 0.714, \"FT\": 0.3, \"FTA\": 0.3, \"FT%\": 1.0, \"ORB\": 0.0, \"DRB\": 0.3, \"TRB\": 0.3, \"AST\": 0.3, \"STL\": 0.0, \"BLK\": 0.0, \"TOV\": 0.2, \"PF\": 0.0, \"PTS\": 2.0}, {\"Player\": \"Trent Forrest\", \"Pos\": \"SG\", \"Age\": 25, \"Tm\": \"ATL\", \"G\": 8, \"GS\": 0, \"MP\": 8.1, \"FG\": 0.4, \"FGA\": 1.9, \"FG%\": 0.2, \"3P\": 0.0, \"3PA\": 0.1, \"3P%\": 0.0, \"2P\": 0.4, \"2PA\": 1.8, \"2P%\": 0.214, \"eFG%\": 0.2, \"FT\": 0.5, \"FTA\": 0.5, \"FT%\": 1.0, \"ORB\": 0.5, \"DRB\": 0.5, \"TRB\": 1.0, \"AST\": 1.5, \"STL\": 0.3, \"BLK\": 0.0, \"TOV\": 0.4, \"PF\": 0.6, \"PTS\": 1.3}, {\"Player\": \"Evan Fournier\", \"Pos\": \"SG\", \"Age\": 31, \"Tm\": \"NYK\", \"G\": 2, \"GS\": 0, \"MP\": 16.5, \"FG\": 2.0, \"FGA\": 8.0, \"FG%\": 0.25, \"3P\": 1.0, \"3PA\": 6.0, \"3P%\": 0.167, \"2P\": 1.0, \"2PA\": 2.0, \"2P%\": 0.5, \"eFG%\": 0.313, \"FT\": 1.0, \"FTA\": 1.0, \"FT%\": 1.0, \"ORB\": 0.0, \"DRB\": 1.5, \"TRB\": 1.5, \"AST\": 1.5, \"STL\": 2.0, \"BLK\": 0.0, \"TOV\": 0.5, \"PF\": 1.0, \"PTS\": 6.0}, {\"Player\": \"De'Aaron Fox\", \"Pos\": \"PG\", \"Age\": 26, \"Tm\": \"SAC\", \"G\": 25, \"GS\": 25, \"MP\": 35.3, \"FG\": 10.5, \"FGA\": 21.8, \"FG%\": 0.483, \"3P\": 3.6, \"3PA\": 8.8, \"3P%\": 0.403, \"2P\": 7.0, \"2PA\": 12.9, \"2P%\": 0.539, \"eFG%\": 0.565, \"FT\": 5.4, \"FTA\": 7.4, \"FT%\": 0.72, \"ORB\": 1.0, \"DRB\": 3.6, \"TRB\": 4.6, \"AST\": 6.1, \"STL\": 1.6, \"BLK\": 0.4, \"TOV\": 2.6, \"PF\": 2.7, \"PTS\": 30.0}, {\"Player\": \"Alex Fudge\", \"Pos\": \"SF\", \"Age\": 20, \"Tm\": \"LAL\", \"G\": 4, \"GS\": 0, \"MP\": 3.5, \"FG\": 0.3, \"FGA\": 1.5, \"FG%\": 0.167, \"3P\": 0.0, \"3PA\": 0.5, \"3P%\": 0.0, \"2P\": 0.3, \"2PA\": 1.0, \"2P%\": 0.25, \"eFG%\": 0.167, \"FT\": 0.5, \"FTA\": 0.5, \"FT%\": 1.0, \"ORB\": 0.5, \"DRB\": 0.0, \"TRB\": 0.5, \"AST\": 0.0, \"STL\": 0.0, \"BLK\": 0.0, \"TOV\": 0.3, \"PF\": 0.3, \"PTS\": 1.0}, {\"Player\": \"Markelle Fultz\", \"Pos\": \"PG\", \"Age\": 25, \"Tm\": \"ORL\", \"G\": 5, \"GS\": 5, \"MP\": 28.6, \"FG\": 5.4, \"FGA\": 11.2, \"FG%\": 0.482, \"3P\": 0.0, \"3PA\": 0.6, \"3P%\": 0.0, \"2P\": 5.4, \"2PA\": 10.6, \"2P%\": 0.509, \"eFG%\": 0.482, \"FT\": 0.6, \"FTA\": 0.8, \"FT%\": 0.75, \"ORB\": 1.6, \"DRB\": 1.8, \"TRB\": 3.4, \"AST\": 4.0, \"STL\": 1.2, \"BLK\": 0.4, \"TOV\": 1.2, \"PF\": 1.2, \"PTS\": 11.4}, {\"Player\": \"Danilo Gallinari\", \"Pos\": \"PF\", \"Age\": 35, \"Tm\": \"WAS\", \"G\": 26, \"GS\": 0, \"MP\": 14.8, \"FG\": 2.2, \"FGA\": 5.0, \"FG%\": 0.435, \"3P\": 0.8, \"3PA\": 2.5, \"3P%\": 0.313, \"2P\": 1.4, \"2PA\": 2.6, \"2P%\": 0.552, \"eFG%\": 0.511, \"FT\": 1.8, \"FTA\": 2.2, \"FT%\": 0.839, \"ORB\": 0.5, \"DRB\": 2.5, \"TRB\": 2.9, \"AST\": 1.2, \"STL\": 0.2, \"BLK\": 0.1, \"TOV\": 0.5, \"PF\": 1.0, \"PTS\": 7.0}, {\"Player\": \"Darius Garland\", \"Pos\": \"PG\", \"Age\": 24, \"Tm\": \"CLE\", \"G\": 20, \"GS\": 20, \"MP\": 34.0, \"FG\": 7.6, \"FGA\": 16.1, \"FG%\": 0.47, \"3P\": 1.8, \"3PA\": 5.2, \"3P%\": 0.346, \"2P\": 5.8, \"2PA\": 10.9, \"2P%\": 0.53, \"eFG%\": 0.526, \"FT\": 3.8, \"FTA\": 4.6, \"FT%\": 0.835, \"ORB\": 0.6, \"DRB\": 2.2, \"TRB\": 2.8, \"AST\": 5.9, \"STL\": 1.6, \"BLK\": 0.2, \"TOV\": 3.8, \"PF\": 1.6, \"PTS\": 20.7}, {\"Player\": \"Luka Garza\", \"Pos\": \"C\", \"Age\": 25, \"Tm\": \"MIN\", \"G\": 6, \"GS\": 0, \"MP\": 3.0, \"FG\": 0.7, \"FGA\": 2.0, \"FG%\": 0.333, \"3P\": 0.0, \"3PA\": 0.5, \"3P%\": 0.0, \"2P\": 0.7, \"2PA\": 1.5, \"2P%\": 0.444, \"eFG%\": 0.333, \"FT\": 0.8, \"FTA\": 1.3, \"FT%\": 0.625, \"ORB\": 0.5, \"DRB\": 0.7, \"TRB\": 1.2, \"AST\": 0.3, \"STL\": 0.0, \"BLK\": 0.0, \"TOV\": 0.2, \"PF\": 1.0, \"PTS\": 2.2}, {\"Player\": \"Keyonte George\", \"Pos\": \"PG\", \"Age\": 20, \"Tm\": \"UTA\", \"G\": 28, \"GS\": 16, \"MP\": 25.7, \"FG\": 3.5, \"FGA\": 9.5, \"FG%\": 0.365, \"3P\": 1.8, \"3PA\": 5.2, \"3P%\": 0.336, \"2P\": 1.7, \"2PA\": 4.3, \"2P%\": 0.4, \"eFG%\": 0.457, \"FT\": 2.4, \"FTA\": 3.1, \"FT%\": 0.782, \"ORB\": 0.4, \"DRB\": 2.6, \"TRB\": 3.0, \"AST\": 4.8, \"STL\": 0.5, \"BLK\": 0.1, \"TOV\": 2.2, \"PF\": 1.2, \"PTS\": 11.1}, {\"Player\": \"Paul George\", \"Pos\": \"PF\", \"Age\": 33, \"Tm\": \"LAC\", \"G\": 30, \"GS\": 30, \"MP\": 34.5, \"FG\": 8.0, \"FGA\": 17.7, \"FG%\": 0.451, \"3P\": 3.3, \"3PA\": 8.2, \"3P%\": 0.398, \"2P\": 4.7, \"2PA\": 9.5, \"2P%\": 0.497, \"eFG%\": 0.543, \"FT\": 3.6, \"FTA\": 3.9, \"FT%\": 0.931, \"ORB\": 0.7, \"DRB\": 4.8, \"TRB\": 5.5, \"AST\": 4.0, \"STL\": 1.6, \"BLK\": 0.3, \"TOV\": 2.3, \"PF\": 3.0, \"PTS\": 22.9}, {\"Player\": \"Josh Giddey\", \"Pos\": \"SG\", \"Age\": 21, \"Tm\": \"OKC\", \"G\": 30, \"GS\": 30, \"MP\": 25.3, \"FG\": 5.0, \"FGA\": 11.1, \"FG%\": 0.45, \"3P\": 0.9, \"3PA\": 2.6, \"3P%\": 0.346, \"2P\": 4.1, \"2PA\": 8.5, \"2P%\": 0.482, \"eFG%\": 0.491, \"FT\": 0.9, \"FTA\": 1.2, \"FT%\": 0.8, \"ORB\": 1.5, \"DRB\": 4.5, \"TRB\": 6.0, \"AST\": 4.4, \"STL\": 0.8, \"BLK\": 0.4, \"TOV\": 2.5, \"PF\": 1.4, \"PTS\": 11.8}, {\"Player\": \"Harry Giles\", \"Pos\": \"C\", \"Age\": 25, \"Tm\": \"BRK\", \"G\": 9, \"GS\": 0, \"MP\": 5.6, \"FG\": 1.6, \"FGA\": 3.0, \"FG%\": 0.519, \"3P\": 0.1, \"3PA\": 0.6, \"3P%\": 0.2, \"2P\": 1.4, \"2PA\": 2.4, \"2P%\": 0.591, \"eFG%\": 0.537, \"FT\": 0.7, \"FTA\": 1.0, \"FT%\": 0.667, \"ORB\": 0.8, \"DRB\": 0.8, \"TRB\": 1.6, \"AST\": 0.1, \"STL\": 0.1, \"BLK\": 0.2, \"TOV\": 0.2, \"PF\": 0.8, \"PTS\": 3.9}, {\"Player\": \"Shai Gilgeous-Alexander\", \"Pos\": \"PG\", \"Age\": 25, \"Tm\": \"OKC\", \"G\": 30, \"GS\": 30, \"MP\": 34.7, \"FG\": 11.2, \"FGA\": 20.6, \"FG%\": 0.546, \"3P\": 1.1, \"3PA\": 3.4, \"3P%\": 0.317, \"2P\": 10.2, \"2PA\": 17.2, \"2P%\": 0.591, \"eFG%\": 0.572, \"FT\": 7.7, \"FTA\": 8.4, \"FT%\": 0.916, \"ORB\": 0.8, \"DRB\": 4.8, \"TRB\": 5.7, \"AST\": 6.3, \"STL\": 2.6, \"BLK\": 0.8, \"TOV\": 2.0, \"PF\": 2.3, \"PTS\": 31.2}, {\"Player\": \"Anthony Gill\", \"Pos\": \"PF\", \"Age\": 31, \"Tm\": \"WAS\", \"G\": 20, \"GS\": 0, \"MP\": 6.6, \"FG\": 1.0, \"FGA\": 1.9, \"FG%\": 0.5, \"3P\": 0.0, \"3PA\": 0.4, \"3P%\": 0.0, \"2P\": 1.0, \"2PA\": 1.5, \"2P%\": 0.633, \"eFG%\": 0.5, \"FT\": 0.6, \"FTA\": 0.7, \"FT%\": 0.786, \"ORB\": 0.6, \"DRB\": 0.9, \"TRB\": 1.5, \"AST\": 0.5, \"STL\": 0.2, \"BLK\": 0.3, \"TOV\": 0.5, \"PF\": 0.6, \"PTS\": 2.5}, {\"Player\": \"Collin Gillespie\", \"Pos\": \"PG\", \"Age\": 24, \"Tm\": \"DEN\", \"G\": 11, \"GS\": 0, \"MP\": 7.8, \"FG\": 0.7, \"FGA\": 1.8, \"FG%\": 0.4, \"3P\": 0.3, \"3PA\": 1.1, \"3P%\": 0.25, \"2P\": 0.5, \"2PA\": 0.7, \"2P%\": 0.625, \"eFG%\": 0.475, \"FT\": 0.1, \"FTA\": 0.1, \"FT%\": 1.0, \"ORB\": 0.1, \"DRB\": 0.3, \"TRB\": 0.4, \"AST\": 0.7, \"STL\": 0.5, \"BLK\": 0.0, \"TOV\": 0.4, \"PF\": 0.9, \"PTS\": 1.8}, {\"Player\": \"Jacob Gilyard\", \"Pos\": \"PG\", \"Age\": 25, \"Tm\": \"MEM\", \"G\": 20, \"GS\": 8, \"MP\": 15.6, \"FG\": 1.3, \"FGA\": 3.1, \"FG%\": 0.426, \"3P\": 1.2, \"3PA\": 2.6, \"3P%\": 0.442, \"2P\": 0.2, \"2PA\": 0.5, \"2P%\": 0.333, \"eFG%\": 0.615, \"FT\": 0.1, \"FTA\": 0.1, \"FT%\": 1.0, \"ORB\": 0.3, \"DRB\": 0.7, \"TRB\": 1.0, \"AST\": 3.0, \"STL\": 0.6, \"BLK\": 0.1, \"TOV\": 0.7, \"PF\": 1.0, \"PTS\": 3.8}, {\"Player\": \"Rudy Gobert\", \"Pos\": \"C\", \"Age\": 31, \"Tm\": \"MIN\", \"G\": 32, \"GS\": 32, \"MP\": 32.7, \"FG\": 4.9, \"FGA\": 7.9, \"FG%\": 0.619, \"3P\": 0.0, \"3PA\": 0.0, \"3P%\": 0.0, \"2P\": 4.9, \"2PA\": 7.8, \"2P%\": 0.622, \"eFG%\": 0.619, \"FT\": 3.1, \"FTA\": 4.9, \"FT%\": 0.635, \"ORB\": 3.5, \"DRB\": 8.6, \"TRB\": 12.1, \"AST\": 1.2, \"STL\": 0.7, \"BLK\": 2.1, \"TOV\": 1.6, \"PF\": 2.8, \"PTS\": 12.8}, {\"Player\": \"Jordan Goodwin\", \"Pos\": \"PG\", \"Age\": 25, \"Tm\": \"PHO\", \"G\": 31, \"GS\": 0, \"MP\": 17.0, \"FG\": 2.1, \"FGA\": 5.7, \"FG%\": 0.369, \"3P\": 0.7, \"3PA\": 2.5, \"3P%\": 0.295, \"2P\": 1.4, \"2PA\": 3.2, \"2P%\": 0.429, \"eFG%\": 0.435, \"FT\": 0.7, \"FTA\": 0.9, \"FT%\": 0.852, \"ORB\": 1.2, \"DRB\": 2.5, \"TRB\": 3.7, \"AST\": 2.4, \"STL\": 0.6, \"BLK\": 0.3, \"TOV\": 0.9, \"PF\": 1.3, \"PTS\": 5.7}, {\"Player\": \"Aaron Gordon\", \"Pos\": \"PF\", \"Age\": 28, \"Tm\": \"DEN\", \"G\": 29, \"GS\": 29, \"MP\": 31.7, \"FG\": 5.5, \"FGA\": 10.3, \"FG%\": 0.53, \"3P\": 0.5, \"3PA\": 1.8, \"3P%\": 0.264, \"2P\": 5.0, \"2PA\": 8.5, \"2P%\": 0.587, \"eFG%\": 0.553, \"FT\": 2.0, \"FTA\": 3.3, \"FT%\": 0.604, \"ORB\": 2.8, \"DRB\": 3.9, \"TRB\": 6.7, \"AST\": 3.3, \"STL\": 1.0, \"BLK\": 0.6, \"TOV\": 1.4, \"PF\": 1.6, \"PTS\": 13.4}, {\"Player\": \"Eric Gordon\", \"Pos\": \"SG\", \"Age\": 35, \"Tm\": \"PHO\", \"G\": 29, \"GS\": 19, \"MP\": 31.6, \"FG\": 5.1, \"FGA\": 10.9, \"FG%\": 0.465, \"3P\": 2.7, \"3PA\": 6.6, \"3P%\": 0.406, \"2P\": 2.4, \"2PA\": 4.3, \"2P%\": 0.556, \"eFG%\": 0.589, \"FT\": 0.7, \"FTA\": 0.9, \"FT%\": 0.731, \"ORB\": 0.3, \"DRB\": 1.7, \"TRB\": 2.0, \"AST\": 2.5, \"STL\": 1.0, \"BLK\": 0.6, \"TOV\": 1.3, \"PF\": 1.4, \"PTS\": 13.5}, {\"Player\": \"Devonte' Graham\", \"Pos\": \"PG\", \"Age\": 28, \"Tm\": \"SAS\", \"G\": 7, \"GS\": 0, \"MP\": 9.7, \"FG\": 1.0, \"FGA\": 2.7, \"FG%\": 0.368, \"3P\": 0.6, \"3PA\": 1.7, \"3P%\": 0.333, \"2P\": 0.4, \"2PA\": 1.0, \"2P%\": 0.429, \"eFG%\": 0.474, \"FT\": 0.9, \"FTA\": 1.1, \"FT%\": 0.75, \"ORB\": 0.3, \"DRB\": 1.1, \"TRB\": 1.4, \"AST\": 2.4, \"STL\": 0.3, \"BLK\": 0.1, \"TOV\": 0.4, \"PF\": 0.4, \"PTS\": 3.4}, {\"Player\": \"Jerami Grant\", \"Pos\": \"PF\", \"Age\": 29, \"Tm\": \"POR\", \"G\": 28, \"GS\": 28, \"MP\": 34.9, \"FG\": 7.5, \"FGA\": 16.4, \"FG%\": 0.459, \"3P\": 2.4, \"3PA\": 5.8, \"3P%\": 0.417, \"2P\": 5.1, \"2PA\": 10.5, \"2P%\": 0.481, \"eFG%\": 0.533, \"FT\": 4.7, \"FTA\": 5.8, \"FT%\": 0.81, \"ORB\": 0.7, \"DRB\": 3.2, \"TRB\": 3.9, \"AST\": 2.6, \"STL\": 0.7, \"BLK\": 0.8, \"TOV\": 2.4, \"PF\": 2.3, \"PTS\": 22.1}, {\"Player\": \"A.J. Green\", \"Pos\": \"SG\", \"Age\": 24, \"Tm\": \"MIL\", \"G\": 21, \"GS\": 0, \"MP\": 7.2, \"FG\": 1.0, \"FGA\": 2.4, \"FG%\": 0.44, \"3P\": 0.9, \"3PA\": 2.1, \"3P%\": 0.432, \"2P\": 0.1, \"2PA\": 0.3, \"2P%\": 0.5, \"eFG%\": 0.63, \"FT\": 0.0, \"FTA\": 0.0, \"FT%\": 1.0, \"ORB\": 0.1, \"DRB\": 0.6, \"TRB\": 0.8, \"AST\": 0.6, \"STL\": 0.0, \"BLK\": 0.0, \"TOV\": 0.0, \"PF\": 0.8, \"PTS\": 3.0}, {\"Player\": \"Draymond Green\", \"Pos\": \"PF\", \"Age\": 33, \"Tm\": \"GSW\", \"G\": 15, \"GS\": 15, \"MP\": 25.1, \"FG\": 3.4, \"FGA\": 6.9, \"FG%\": 0.49, \"3P\": 1.2, \"3PA\": 2.8, \"3P%\": 0.429, \"2P\": 2.2, \"2PA\": 4.1, \"2P%\": 0.532, \"eFG%\": 0.577, \"FT\": 1.7, \"FTA\": 2.0, \"FT%\": 0.833, \"ORB\": 1.5, \"DRB\": 4.1, \"TRB\": 5.5, \"AST\": 5.8, \"STL\": 0.4, \"BLK\": 0.7, \"TOV\": 2.4, \"PF\": 3.0, \"PTS\": 9.7}, {\"Player\": \"Jalen Green\", \"Pos\": \"SG\", \"Age\": 21, \"Tm\": \"HOU\", \"G\": 31, \"GS\": 31, \"MP\": 30.1, \"FG\": 5.8, \"FGA\": 14.3, \"FG%\": 0.407, \"3P\": 2.2, \"3PA\": 6.2, \"3P%\": 0.352, \"2P\": 3.6, \"2PA\": 8.0, \"2P%\": 0.45, \"eFG%\": 0.484, \"FT\": 3.7, \"FTA\": 4.6, \"FT%\": 0.804, \"ORB\": 0.4, \"DRB\": 4.1, \"TRB\": 4.5, \"AST\": 3.1, \"STL\": 0.6, \"BLK\": 0.4, \"TOV\": 2.2, \"PF\": 1.3, \"PTS\": 17.5}, {\"Player\": \"Jeff Green\", \"Pos\": \"PF\", \"Age\": 37, \"Tm\": \"HOU\", \"G\": 30, \"GS\": 1, \"MP\": 15.5, \"FG\": 2.1, \"FGA\": 3.8, \"FG%\": 0.548, \"3P\": 0.3, \"3PA\": 1.1, \"3P%\": 0.281, \"2P\": 1.8, \"2PA\": 2.8, \"2P%\": 0.651, \"eFG%\": 0.587, \"FT\": 1.9, \"FTA\": 2.4, \"FT%\": 0.817, \"ORB\": 0.7, \"DRB\": 1.4, \"TRB\": 2.1, \"AST\": 0.7, \"STL\": 0.2, \"BLK\": 0.5, \"TOV\": 0.7, \"PF\": 1.4, \"PTS\": 6.4}, {\"Player\": \"Josh Green\", \"Pos\": \"SG\", \"Age\": 23, \"Tm\": \"DAL\", \"G\": 22, \"GS\": 5, \"MP\": 24.4, \"FG\": 2.5, \"FGA\": 5.8, \"FG%\": 0.422, \"3P\": 1.2, \"3PA\": 3.2, \"3P%\": 0.366, \"2P\": 1.3, \"2PA\": 2.6, \"2P%\": 0.491, \"eFG%\": 0.523, \"FT\": 0.5, \"FTA\": 0.9, \"FT%\": 0.6, \"ORB\": 0.5, \"DRB\": 2.1, \"TRB\": 2.6, \"AST\": 2.5, \"STL\": 0.9, \"BLK\": 0.1, \"TOV\": 1.0, \"PF\": 1.6, \"PTS\": 6.6}, {\"Player\": \"AJ Griffin\", \"Pos\": \"SF\", \"Age\": 20, \"Tm\": \"ATL\", \"G\": 12, \"GS\": 0, \"MP\": 9.2, \"FG\": 0.8, \"FGA\": 2.8, \"FG%\": 0.294, \"3P\": 0.7, \"3PA\": 2.1, \"3P%\": 0.32, \"2P\": 0.2, \"2PA\": 0.8, \"2P%\": 0.222, \"eFG%\": 0.412, \"FT\": 0.2, \"FTA\": 0.2, \"FT%\": 1.0, \"ORB\": 0.2, \"DRB\": 0.8, \"TRB\": 1.0, \"AST\": 0.3, \"STL\": 0.1, \"BLK\": 0.0, \"TOV\": 0.3, \"PF\": 0.5, \"PTS\": 2.5}, {\"Player\": \"Quentin Grimes\", \"Pos\": \"SG\", \"Age\": 23, \"Tm\": \"NYK\", \"G\": 30, \"GS\": 18, \"MP\": 20.4, \"FG\": 2.2, \"FGA\": 5.6, \"FG%\": 0.396, \"3P\": 1.6, \"3PA\": 4.3, \"3P%\": 0.377, \"2P\": 0.6, \"2PA\": 1.3, \"2P%\": 0.462, \"eFG%\": 0.541, \"FT\": 0.1, \"FTA\": 0.3, \"FT%\": 0.5, \"ORB\": 0.3, \"DRB\": 1.2, \"TRB\": 1.5, \"AST\": 1.1, \"STL\": 0.6, \"BLK\": 0.0, \"TOV\": 0.4, \"PF\": 1.5, \"PTS\": 6.2}, {\"Player\": \"Rui Hachimura\", \"Pos\": \"PF\", \"Age\": 25, \"Tm\": \"LAL\", \"G\": 25, \"GS\": 5, \"MP\": 23.5, \"FG\": 4.5, \"FGA\": 9.2, \"FG%\": 0.485, \"3P\": 1.1, \"3PA\": 3.0, \"3P%\": 0.368, \"2P\": 3.4, \"2PA\": 6.2, \"2P%\": 0.542, \"eFG%\": 0.545, \"FT\": 1.5, \"FTA\": 2.0, \"FT%\": 0.76, \"ORB\": 0.8, \"DRB\": 2.8, \"TRB\": 3.6, \"AST\": 1.1, \"STL\": 0.7, \"BLK\": 0.2, \"TOV\": 0.8, \"PF\": 1.4, \"PTS\": 11.6}, {\"Player\": \"Tyrese Haliburton\", \"Pos\": \"PG\", \"Age\": 23, \"Tm\": \"IND\", \"G\": 29, \"GS\": 29, \"MP\": 34.3, \"FG\": 8.8, \"FGA\": 17.6, \"FG%\": 0.501, \"3P\": 3.5, \"3PA\": 8.7, \"3P%\": 0.406, \"2P\": 5.3, \"2PA\": 9.0, \"2P%\": 0.592, \"eFG%\": 0.601, \"FT\": 3.5, \"FTA\": 4.1, \"FT%\": 0.856, \"ORB\": 0.7, \"DRB\": 3.5, \"TRB\": 4.2, \"AST\": 12.7, \"STL\": 1.0, \"BLK\": 0.6, \"TOV\": 2.6, \"PF\": 1.1, \"PTS\": 24.7}, {\"Player\": \"R.J. Hampton\", \"Pos\": \"PG\", \"Age\": 22, \"Tm\": \"MIA\", \"G\": 6, \"GS\": 2, \"MP\": 12.2, \"FG\": 0.7, \"FGA\": 2.3, \"FG%\": 0.286, \"3P\": 0.2, \"3PA\": 1.3, \"3P%\": 0.125, \"2P\": 0.5, \"2PA\": 1.0, \"2P%\": 0.5, \"eFG%\": 0.321, \"FT\": 0.2, \"FTA\": 0.3, \"FT%\": 0.5, \"ORB\": 0.3, \"DRB\": 0.7, \"TRB\": 1.0, \"AST\": 1.2, \"STL\": 0.0, \"BLK\": 0.0, \"TOV\": 0.5, \"PF\": 1.2, \"PTS\": 1.7}, {\"Player\": \"Tim Hardaway Jr.\", \"Pos\": \"SF\", \"Age\": 31, \"Tm\": \"DAL\", \"G\": 31, \"GS\": 4, \"MP\": 29.0, \"FG\": 6.0, \"FGA\": 14.6, \"FG%\": 0.41, \"3P\": 3.2, \"3PA\": 9.1, \"3P%\": 0.351, \"2P\": 2.8, \"2PA\": 5.5, \"2P%\": 0.506, \"eFG%\": 0.519, \"FT\": 2.3, \"FTA\": 2.7, \"FT%\": 0.867, \"ORB\": 0.3, \"DRB\": 3.4, \"TRB\": 3.7, \"AST\": 1.7, \"STL\": 0.4, \"BLK\": 0.0, \"TOV\": 0.8, \"PF\": 1.3, \"PTS\": 17.5}, {\"Player\": \"James Harden\", \"Pos\": \"PG\", \"Age\": 34, \"Tm\": \"LAC\", \"G\": 27, \"GS\": 27, \"MP\": 34.0, \"FG\": 5.2, \"FGA\": 11.1, \"FG%\": 0.467, \"3P\": 2.7, \"3PA\": 6.4, \"3P%\": 0.428, \"2P\": 2.4, \"2PA\": 4.7, \"2P%\": 0.52, \"eFG%\": 0.59, \"FT\": 4.4, \"FTA\": 5.1, \"FT%\": 0.863, \"ORB\": 0.3, \"DRB\": 4.4, \"TRB\": 4.8, \"AST\": 8.0, \"STL\": 1.4, \"BLK\": 1.0, \"TOV\": 2.6, \"PF\": 2.1, \"PTS\": 17.6}, {\"Player\": \"Jaden Hardy\", \"Pos\": \"SG\", \"Age\": 21, \"Tm\": \"DAL\", \"G\": 29, \"GS\": 3, \"MP\": 15.1, \"FG\": 2.8, \"FGA\": 7.5, \"FG%\": 0.369, \"3P\": 1.3, \"3PA\": 3.8, \"3P%\": 0.355, \"2P\": 1.4, \"2PA\": 3.7, \"2P%\": 0.383, \"eFG%\": 0.459, \"FT\": 0.8, \"FTA\": 1.1, \"FT%\": 0.667, \"ORB\": 0.3, \"DRB\": 1.7, \"TRB\": 1.9, \"AST\": 1.4, \"STL\": 0.4, \"BLK\": 0.0, \"TOV\": 0.7, \"PF\": 1.2, \"PTS\": 7.6}, {\"Player\": \"Gary Harris\", \"Pos\": \"SG\", \"Age\": 29, \"Tm\": \"ORL\", \"G\": 25, \"GS\": 5, \"MP\": 23.0, \"FG\": 2.4, \"FGA\": 5.7, \"FG%\": 0.427, \"3P\": 1.3, \"3PA\": 4.0, \"3P%\": 0.333, \"2P\": 1.1, \"2PA\": 1.8, \"2P%\": 0.636, \"eFG%\": 0.542, \"FT\": 1.0, \"FTA\": 1.2, \"FT%\": 0.8, \"ORB\": 0.5, \"DRB\": 1.2, \"TRB\": 1.7, \"AST\": 1.9, \"STL\": 0.9, \"BLK\": 0.2, \"TOV\": 0.5, \"PF\": 1.8, \"PTS\": 7.2}, {\"Player\": \"Joe Harris\", \"Pos\": \"SG\", \"Age\": 32, \"Tm\": \"DET\", \"G\": 12, \"GS\": 0, \"MP\": 11.5, \"FG\": 0.8, \"FGA\": 2.6, \"FG%\": 0.323, \"3P\": 0.6, \"3PA\": 2.0, \"3P%\": 0.292, \"2P\": 0.3, \"2PA\": 0.6, \"2P%\": 0.429, \"eFG%\": 0.435, \"FT\": 0.1, \"FTA\": 0.2, \"FT%\": 0.5, \"ORB\": 0.3, \"DRB\": 0.7, \"TRB\": 0.9, \"AST\": 0.8, \"STL\": 0.3, \"BLK\": 0.2, \"TOV\": 0.3, \"PF\": 1.3, \"PTS\": 2.3}, {\"Player\": \"Tobias Harris\", \"Pos\": \"PF\", \"Age\": 31, \"Tm\": \"PHI\", \"G\": 32, \"GS\": 32, \"MP\": 34.1, \"FG\": 6.6, \"FGA\": 12.9, \"FG%\": 0.507, \"3P\": 1.2, \"3PA\": 3.4, \"3P%\": 0.358, \"2P\": 5.3, \"2PA\": 9.5, \"2P%\": 0.561, \"eFG%\": 0.554, \"FT\": 2.9, \"FTA\": 3.2, \"FT%\": 0.902, \"ORB\": 1.0, \"DRB\": 5.1, \"TRB\": 6.1, \"AST\": 3.1, \"STL\": 1.0, \"BLK\": 0.5, \"TOV\": 1.7, \"PF\": 1.7, \"PTS\": 17.2}, {\"Player\": \"Josh Hart\", \"Pos\": \"SF\", \"Age\": 28, \"Tm\": \"NYK\", \"G\": 33, \"GS\": 6, \"MP\": 28.4, \"FG\": 3.0, \"FGA\": 6.5, \"FG%\": 0.456, \"3P\": 1.0, \"3PA\": 2.8, \"3P%\": 0.348, \"2P\": 2.0, \"2PA\": 3.7, \"2P%\": 0.537, \"eFG%\": 0.53, \"FT\": 0.6, \"FTA\": 0.8, \"FT%\": 0.778, \"ORB\": 1.1, \"DRB\": 5.0, \"TRB\": 6.1, \"AST\": 2.8, \"STL\": 0.9, \"BLK\": 0.2, \"TOV\": 1.1, \"PF\": 1.9, \"PTS\": 7.5}, {\"Player\": \"Isaiah Hartenstein\", \"Pos\": \"C\", \"Age\": 25, \"Tm\": \"NYK\", \"G\": 33, \"GS\": 7, \"MP\": 22.9, \"FG\": 2.4, \"FGA\": 4.1, \"FG%\": 0.585, \"3P\": 0.0, \"3PA\": 0.1, \"3P%\": 0.333, \"2P\": 2.4, \"2PA\": 4.0, \"2P%\": 0.591, \"eFG%\": 0.589, \"FT\": 1.3, \"FTA\": 1.9, \"FT%\": 0.688, \"ORB\": 3.1, \"DRB\": 3.8, \"TRB\": 6.9, \"AST\": 1.7, \"STL\": 1.0, \"BLK\": 0.9, \"TOV\": 1.0, \"PF\": 2.9, \"PTS\": 6.2}, {\"Player\": \"Sam Hauser\", \"Pos\": \"SF\", \"Age\": 26, \"Tm\": \"BOS\", \"G\": 32, \"GS\": 4, \"MP\": 22.7, \"FG\": 3.0, \"FGA\": 6.6, \"FG%\": 0.45, \"3P\": 2.4, \"3PA\": 5.7, \"3P%\": 0.418, \"2P\": 0.6, \"2PA\": 0.9, \"2P%\": 0.655, \"eFG%\": 0.63, \"FT\": 0.3, \"FTA\": 0.3, \"FT%\": 0.8, \"ORB\": 0.8, \"DRB\": 2.8, \"TRB\": 3.6, \"AST\": 1.0, \"STL\": 0.5, \"BLK\": 0.3, \"TOV\": 0.5, \"PF\": 1.5, \"PTS\": 8.6}, {\"Player\": \"Jordan Hawkins\", \"Pos\": \"SG\", \"Age\": 21, \"Tm\": \"NOP\", \"G\": 28, \"GS\": 9, \"MP\": 23.3, \"FG\": 3.4, \"FGA\": 8.9, \"FG%\": 0.38, \"3P\": 2.1, \"3PA\": 5.9, \"3P%\": 0.36, \"2P\": 1.3, \"2PA\": 3.1, \"2P%\": 0.419, \"eFG%\": 0.498, \"FT\": 1.5, \"FTA\": 1.7, \"FT%\": 0.872, \"ORB\": 0.6, \"DRB\": 2.5, \"TRB\": 3.1, \"AST\": 1.5, \"STL\": 0.4, \"BLK\": 0.0, \"TOV\": 0.8, \"PF\": 1.6, \"PTS\": 10.4}, {\"Player\": \"Jaxson Hayes\", \"Pos\": \"C\", \"Age\": 23, \"Tm\": \"LAL\", \"G\": 30, \"GS\": 1, \"MP\": 10.5, \"FG\": 1.3, \"FGA\": 1.9, \"FG%\": 0.655, \"3P\": 0.0, \"3PA\": 0.1, \"3P%\": 0.0, \"2P\": 1.3, \"2PA\": 1.8, \"2P%\": 0.704, \"eFG%\": 0.655, \"FT\": 0.5, \"FTA\": 0.9, \"FT%\": 0.536, \"ORB\": 0.5, \"DRB\": 1.4, \"TRB\": 1.9, \"AST\": 0.3, \"STL\": 0.2, \"BLK\": 0.3, \"TOV\": 0.5, \"PF\": 1.8, \"PTS\": 3.0}, {\"Player\": \"Killian Hayes\", \"Pos\": \"PG\", \"Age\": 22, \"Tm\": \"DET\", \"G\": 28, \"GS\": 21, \"MP\": 25.0, \"FG\": 3.4, \"FGA\": 8.1, \"FG%\": 0.419, \"3P\": 0.7, \"3PA\": 2.2, \"3P%\": 0.311, \"2P\": 2.7, \"2PA\": 5.9, \"2P%\": 0.458, \"eFG%\": 0.46, \"FT\": 1.0, \"FTA\": 1.6, \"FT%\": 0.659, \"ORB\": 0.3, \"DRB\": 2.6, \"TRB\": 2.9, \"AST\": 4.2, \"STL\": 1.0, \"BLK\": 0.5, \"TOV\": 1.2, \"PF\": 1.9, \"PTS\": 8.5}, {\"Player\": \"Gordon Hayward\", \"Pos\": \"SF\", \"Age\": 33, \"Tm\": \"CHO\", \"G\": 25, \"GS\": 25, \"MP\": 31.9, \"FG\": 5.6, \"FGA\": 11.9, \"FG%\": 0.468, \"3P\": 0.9, \"3PA\": 2.4, \"3P%\": 0.361, \"2P\": 4.7, \"2PA\": 9.4, \"2P%\": 0.496, \"eFG%\": 0.505, \"FT\": 2.5, \"FTA\": 3.2, \"FT%\": 0.765, \"ORB\": 1.0, \"DRB\": 3.7, \"TRB\": 4.7, \"AST\": 4.6, \"STL\": 1.1, \"BLK\": 0.5, \"TOV\": 2.0, \"PF\": 1.8, \"PTS\": 14.5}, {\"Player\": \"Scoot Henderson\", \"Pos\": \"PG\", \"Age\": 19, \"Tm\": \"POR\", \"G\": 23, \"GS\": 8, \"MP\": 27.4, \"FG\": 4.6, \"FGA\": 12.3, \"FG%\": 0.373, \"3P\": 1.1, \"3PA\": 3.9, \"3P%\": 0.289, \"2P\": 3.5, \"2PA\": 8.4, \"2P%\": 0.412, \"eFG%\": 0.419, \"FT\": 2.1, \"FTA\": 2.7, \"FT%\": 0.787, \"ORB\": 0.9, \"DRB\": 2.0, \"TRB\": 2.8, \"AST\": 4.8, \"STL\": 0.6, \"BLK\": 0.3, \"TOV\": 3.2, \"PF\": 3.7, \"PTS\": 12.4}, {\"Player\": \"Taylor Hendricks\", \"Pos\": \"PF\", \"Age\": 20, \"Tm\": \"UTA\", \"G\": 11, \"GS\": 0, \"MP\": 15.9, \"FG\": 1.9, \"FGA\": 5.0, \"FG%\": 0.382, \"3P\": 0.9, \"3PA\": 2.9, \"3P%\": 0.313, \"2P\": 1.0, \"2PA\": 2.1, \"2P%\": 0.478, \"eFG%\": 0.473, \"FT\": 0.5, \"FTA\": 0.7, \"FT%\": 0.75, \"ORB\": 1.0, \"DRB\": 1.5, \"TRB\": 2.5, \"AST\": 0.5, \"STL\": 0.7, \"BLK\": 0.5, \"TOV\": 0.7, \"PF\": 1.0, \"PTS\": 5.3}, {\"Player\": \"Tyler Herro\", \"Pos\": \"SG\", \"Age\": 24, \"Tm\": \"MIA\", \"G\": 15, \"GS\": 15, \"MP\": 34.5, \"FG\": 8.7, \"FGA\": 19.1, \"FG%\": 0.455, \"3P\": 3.3, \"3PA\": 7.9, \"3P%\": 0.424, \"2P\": 5.3, \"2PA\": 11.2, \"2P%\": 0.476, \"eFG%\": 0.542, \"FT\": 2.7, \"FTA\": 3.1, \"FT%\": 0.872, \"ORB\": 0.6, \"DRB\": 4.9, \"TRB\": 5.5, \"AST\": 4.5, \"STL\": 1.3, \"BLK\": 0.1, \"TOV\": 2.7, \"PF\": 1.3, \"PTS\": 23.4}, {\"Player\": \"Buddy Hield\", \"Pos\": \"SF\", \"Age\": 31, \"Tm\": \"IND\", \"G\": 32, \"GS\": 16, \"MP\": 26.3, \"FG\": 4.7, \"FGA\": 10.7, \"FG%\": 0.437, \"3P\": 2.8, \"3PA\": 7.5, \"3P%\": 0.379, \"2P\": 1.8, \"2PA\": 3.2, \"2P%\": 0.573, \"eFG%\": 0.57, \"FT\": 0.6, \"FTA\": 0.7, \"FT%\": 0.864, \"ORB\": 0.8, \"DRB\": 2.6, \"TRB\": 3.4, \"AST\": 2.6, \"STL\": 0.8, \"BLK\": 0.7, \"TOV\": 1.5, \"PF\": 1.9, \"PTS\": 12.8}, {\"Player\": \"Haywood Highsmith\", \"Pos\": \"PF\", \"Age\": 27, \"Tm\": \"MIA\", \"G\": 21, \"GS\": 15, \"MP\": 21.1, \"FG\": 2.1, \"FGA\": 5.2, \"FG%\": 0.409, \"3P\": 1.0, \"3PA\": 3.2, \"3P%\": 0.324, \"2P\": 1.1, \"2PA\": 2.0, \"2P%\": 0.548, \"eFG%\": 0.509, \"FT\": 0.7, \"FTA\": 0.9, \"FT%\": 0.778, \"ORB\": 0.9, \"DRB\": 2.0, \"TRB\": 2.9, \"AST\": 1.4, \"STL\": 1.1, \"BLK\": 0.6, \"TOV\": 0.9, \"PF\": 2.2, \"PTS\": 6.0}, {\"Player\": \"D'Moi Hodge\", \"Pos\": \"SG\", \"Age\": 25, \"Tm\": \"LAL\", \"G\": 7, \"GS\": 0, \"MP\": 5.9, \"FG\": 0.7, \"FGA\": 2.1, \"FG%\": 0.333, \"3P\": 0.4, \"3PA\": 1.7, \"3P%\": 0.25, \"2P\": 0.3, \"2PA\": 0.4, \"2P%\": 0.667, \"eFG%\": 0.433, \"FT\": 0.1, \"FTA\": 0.3, \"FT%\": 0.5, \"ORB\": 0.0, \"DRB\": 0.0, \"TRB\": 0.0, \"AST\": 0.7, \"STL\": 0.1, \"BLK\": 0.1, \"TOV\": 0.1, \"PF\": 0.6, \"PTS\": 2.0}, {\"Player\": \"Aaron Holiday\", \"Pos\": \"PG\", \"Age\": 27, \"Tm\": \"HOU\", \"G\": 29, \"GS\": 1, \"MP\": 18.1, \"FG\": 2.6, \"FGA\": 5.9, \"FG%\": 0.439, \"3P\": 1.3, \"3PA\": 3.2, \"3P%\": 0.413, \"2P\": 1.3, \"2PA\": 2.7, \"2P%\": 0.468, \"eFG%\": 0.55, \"FT\": 0.6, \"FTA\": 0.7, \"FT%\": 0.895, \"ORB\": 0.3, \"DRB\": 1.7, \"TRB\": 2.0, \"AST\": 1.8, \"STL\": 0.5, \"BLK\": 0.1, \"TOV\": 0.8, \"PF\": 1.7, \"PTS\": 7.1}, {\"Player\": \"Jrue Holiday\", \"Pos\": \"PG\", \"Age\": 33, \"Tm\": \"BOS\", \"G\": 29, \"GS\": 29, \"MP\": 34.7, \"FG\": 5.0, \"FGA\": 10.9, \"FG%\": 0.459, \"3P\": 1.9, \"3PA\": 4.5, \"3P%\": 0.42, \"2P\": 3.1, \"2PA\": 6.4, \"2P%\": 0.486, \"eFG%\": 0.546, \"FT\": 1.2, \"FTA\": 1.5, \"FT%\": 0.818, \"ORB\": 1.7, \"DRB\": 4.9, \"TRB\": 6.6, \"AST\": 4.7, \"STL\": 0.9, \"BLK\": 0.8, \"TOV\": 2.0, \"PF\": 1.7, \"PTS\": 13.1}, {\"Player\": \"Chet Holmgren\", \"Pos\": \"C\", \"Age\": 21, \"Tm\": \"OKC\", \"G\": 31, \"GS\": 31, \"MP\": 29.9, \"FG\": 6.5, \"FGA\": 12.0, \"FG%\": 0.543, \"3P\": 1.7, \"3PA\": 4.2, \"3P%\": 0.4, \"2P\": 4.8, \"2PA\": 7.8, \"2P%\": 0.62, \"eFG%\": 0.613, \"FT\": 3.0, \"FTA\": 3.6, \"FT%\": 0.838, \"ORB\": 1.6, \"DRB\": 6.1, \"TRB\": 7.8, \"AST\": 2.5, \"STL\": 0.7, \"BLK\": 2.7, \"TOV\": 1.8, \"PF\": 2.7, \"PTS\": 17.7}, {\"Player\": \"Jalen Hood-Schifino\", \"Pos\": \"SG\", \"Age\": 20, \"Tm\": \"LAL\", \"G\": 7, \"GS\": 0, \"MP\": 9.0, \"FG\": 0.9, \"FGA\": 3.4, \"FG%\": 0.25, \"3P\": 0.1, \"3PA\": 1.3, \"3P%\": 0.111, \"2P\": 0.7, \"2PA\": 2.1, \"2P%\": 0.333, \"eFG%\": 0.271, \"FT\": 0.7, \"FTA\": 1.4, \"FT%\": 0.5, \"ORB\": 0.1, \"DRB\": 0.7, \"TRB\": 0.9, \"AST\": 0.7, \"STL\": 0.3, \"BLK\": 0.1, \"TOV\": 0.7, \"PF\": 1.1, \"PTS\": 2.6}, {\"Player\": \"Al Horford\", \"Pos\": \"C\", \"Age\": 37, \"Tm\": \"BOS\", \"G\": 27, \"GS\": 12, \"MP\": 26.7, \"FG\": 2.9, \"FGA\": 6.0, \"FG%\": 0.478, \"3P\": 1.4, \"3PA\": 3.8, \"3P%\": 0.379, \"2P\": 1.4, \"2PA\": 2.1, \"2P%\": 0.655, \"eFG%\": 0.599, \"FT\": 0.4, \"FTA\": 0.4, \"FT%\": 1.0, \"ORB\": 1.6, \"DRB\": 5.5, \"TRB\": 7.0, \"AST\": 2.9, \"STL\": 0.4, \"BLK\": 1.0, \"TOV\": 0.9, \"PF\": 1.6, \"PTS\": 7.5}, {\"Player\": \"Talen Horton-Tucker\", \"Pos\": \"PG\", \"Age\": 23, \"Tm\": \"UTA\", \"G\": 29, \"GS\": 11, \"MP\": 22.3, \"FG\": 4.1, \"FGA\": 10.0, \"FG%\": 0.412, \"3P\": 1.3, \"3PA\": 3.8, \"3P%\": 0.336, \"2P\": 2.8, \"2PA\": 6.2, \"2P%\": 0.458, \"eFG%\": 0.476, \"FT\": 1.6, \"FTA\": 1.9, \"FT%\": 0.818, \"ORB\": 0.4, \"DRB\": 2.2, \"TRB\": 2.6, \"AST\": 4.3, \"STL\": 1.0, \"BLK\": 0.4, \"TOV\": 1.8, \"PF\": 2.1, \"PTS\": 11.0}, {\"Player\": \"Danuel House Jr.\", \"Pos\": \"SF\", \"Age\": 30, \"Tm\": \"PHI\", \"G\": 20, \"GS\": 0, \"MP\": 11.8, \"FG\": 1.1, \"FGA\": 2.6, \"FG%\": 0.423, \"3P\": 0.6, \"3PA\": 1.5, \"3P%\": 0.379, \"2P\": 0.6, \"2PA\": 1.2, \"2P%\": 0.478, \"eFG%\": 0.529, \"FT\": 0.7, \"FTA\": 0.9, \"FT%\": 0.722, \"ORB\": 0.4, \"DRB\": 0.9, \"TRB\": 1.3, \"AST\": 0.8, \"STL\": 0.3, \"BLK\": 0.1, \"TOV\": 0.7, \"PF\": 0.8, \"PTS\": 3.4}, {\"Player\": \"Caleb Houstan\", \"Pos\": \"SF\", \"Age\": 21, \"Tm\": \"ORL\", \"G\": 23, \"GS\": 0, \"MP\": 12.1, \"FG\": 1.0, \"FGA\": 2.8, \"FG%\": 0.375, \"3P\": 0.9, \"3PA\": 2.6, \"3P%\": 0.35, \"2P\": 0.1, \"2PA\": 0.2, \"2P%\": 0.75, \"eFG%\": 0.539, \"FT\": 0.3, \"FTA\": 0.3, \"FT%\": 1.0, \"ORB\": 0.5, \"DRB\": 1.2, \"TRB\": 1.7, \"AST\": 0.4, \"STL\": 0.1, \"BLK\": 0.0, \"TOV\": 0.3, \"PF\": 0.9, \"PTS\": 3.3}, {\"Player\": \"Jett Howard\", \"Pos\": \"SF\", \"Age\": 20, \"Tm\": \"ORL\", \"G\": 9, \"GS\": 0, \"MP\": 4.0, \"FG\": 0.6, \"FGA\": 1.8, \"FG%\": 0.313, \"3P\": 0.3, \"3PA\": 1.3, \"3P%\": 0.25, \"2P\": 0.2, \"2PA\": 0.4, \"2P%\": 0.5, \"eFG%\": 0.406, \"FT\": 0.1, \"FTA\": 0.2, \"FT%\": 0.5, \"ORB\": 0.1, \"DRB\": 0.3, \"TRB\": 0.4, \"AST\": 0.3, \"STL\": 0.0, \"BLK\": 0.0, \"TOV\": 0.2, \"PF\": 0.1, \"PTS\": 1.6}, {\"Player\": \"Kevin Huerter\", \"Pos\": \"SG\", \"Age\": 25, \"Tm\": \"SAC\", \"G\": 30, \"GS\": 29, \"MP\": 24.2, \"FG\": 3.9, \"FGA\": 9.2, \"FG%\": 0.428, \"3P\": 1.9, \"3PA\": 5.5, \"3P%\": 0.352, \"2P\": 2.0, \"2PA\": 3.7, \"2P%\": 0.541, \"eFG%\": 0.533, \"FT\": 0.6, \"FTA\": 0.8, \"FT%\": 0.783, \"ORB\": 0.6, \"DRB\": 3.1, \"TRB\": 3.7, \"AST\": 2.6, \"STL\": 0.6, \"BLK\": 0.3, \"TOV\": 0.6, \"PF\": 2.2, \"PTS\": 10.4}, {\"Player\": \"De'Andre Hunter\", \"Pos\": \"SF\", \"Age\": 26, \"Tm\": \"ATL\", \"G\": 24, \"GS\": 24, \"MP\": 30.3, \"FG\": 5.1, \"FGA\": 11.0, \"FG%\": 0.46, \"3P\": 1.9, \"3PA\": 4.8, \"3P%\": 0.404, \"2P\": 3.2, \"2PA\": 6.3, \"2P%\": 0.503, \"eFG%\": 0.547, \"FT\": 2.8, \"FTA\": 3.1, \"FT%\": 0.907, \"ORB\": 0.6, \"DRB\": 3.5, \"TRB\": 4.1, \"AST\": 1.4, \"STL\": 0.8, \"BLK\": 0.4, \"TOV\": 1.5, \"PF\": 3.0, \"PTS\": 14.9}, {\"Player\": \"Bones Hyland\", \"Pos\": \"PG\", \"Age\": 23, \"Tm\": \"LAC\", \"G\": 15, \"GS\": 2, \"MP\": 15.1, \"FG\": 2.8, \"FGA\": 6.9, \"FG%\": 0.404, \"3P\": 1.3, \"3PA\": 3.7, \"3P%\": 0.364, \"2P\": 1.5, \"2PA\": 3.3, \"2P%\": 0.449, \"eFG%\": 0.5, \"FT\": 0.7, \"FTA\": 0.8, \"FT%\": 0.833, \"ORB\": 0.1, \"DRB\": 0.9, \"TRB\": 1.0, \"AST\": 1.8, \"STL\": 0.5, \"BLK\": 0.0, \"TOV\": 1.3, \"PF\": 1.5, \"PTS\": 7.6}, {\"Player\": \"Joe Ingles\", \"Pos\": \"SF\", \"Age\": 36, \"Tm\": \"ORL\", \"G\": 24, \"GS\": 0, \"MP\": 18.2, \"FG\": 1.6, \"FGA\": 3.9, \"FG%\": 0.404, \"3P\": 1.0, \"3PA\": 2.5, \"3P%\": 0.407, \"2P\": 0.6, \"2PA\": 1.5, \"2P%\": 0.4, \"eFG%\": 0.532, \"FT\": 0.7, \"FTA\": 0.8, \"FT%\": 0.895, \"ORB\": 0.5, \"DRB\": 2.3, \"TRB\": 2.8, \"AST\": 3.4, \"STL\": 0.8, \"BLK\": 0.1, \"TOV\": 0.8, \"PF\": 1.5, \"PTS\": 4.9}, {\"Player\": \"Brandon Ingram\", \"Pos\": \"SF\", \"Age\": 26, \"Tm\": \"NOP\", \"G\": 30, \"GS\": 30, \"MP\": 34.0, \"FG\": 8.8, \"FGA\": 17.5, \"FG%\": 0.501, \"3P\": 1.4, \"3PA\": 4.0, \"3P%\": 0.347, \"2P\": 7.4, \"2PA\": 13.5, \"2P%\": 0.547, \"eFG%\": 0.541, \"FT\": 4.4, \"FTA\": 5.4, \"FT%\": 0.815, \"ORB\": 0.7, \"DRB\": 4.1, \"TRB\": 4.8, \"AST\": 5.5, \"STL\": 0.8, \"BLK\": 0.5, \"TOV\": 2.6, \"PF\": 2.2, \"PTS\": 23.3}, {\"Player\": \"Kyrie Irving\", \"Pos\": \"SG\", \"Age\": 31, \"Tm\": \"DAL\", \"G\": 18, \"GS\": 18, \"MP\": 31.8, \"FG\": 8.4, \"FGA\": 18.0, \"FG%\": 0.469, \"3P\": 2.5, \"3PA\": 6.4, \"3P%\": 0.391, \"2P\": 5.9, \"2PA\": 11.6, \"2P%\": 0.512, \"eFG%\": 0.539, \"FT\": 3.1, \"FTA\": 3.5, \"FT%\": 0.889, \"ORB\": 0.6, \"DRB\": 3.6, \"TRB\": 4.2, \"AST\": 5.1, \"STL\": 1.1, \"BLK\": 0.3, \"TOV\": 1.3, \"PF\": 1.9, \"PTS\": 22.5}, {\"Player\": \"Jonathan Isaac\", \"Pos\": \"PF\", \"Age\": 26, \"Tm\": \"ORL\", \"G\": 21, \"GS\": 0, \"MP\": 13.6, \"FG\": 2.3, \"FGA\": 5.0, \"FG%\": 0.453, \"3P\": 0.6, \"3PA\": 2.2, \"3P%\": 0.277, \"2P\": 1.7, \"2PA\": 2.8, \"2P%\": 0.593, \"eFG%\": 0.514, \"FT\": 1.2, \"FTA\": 1.5, \"FT%\": 0.781, \"ORB\": 1.1, \"DRB\": 3.0, \"TRB\": 4.1, \"AST\": 0.3, \"STL\": 0.9, \"BLK\": 1.2, \"TOV\": 0.6, \"PF\": 1.3, \"PTS\": 6.4}, {\"Player\": \"Jaden Ivey\", \"Pos\": \"SG\", \"Age\": 21, \"Tm\": \"DET\", \"G\": 29, \"GS\": 13, \"MP\": 25.6, \"FG\": 4.4, \"FGA\": 9.7, \"FG%\": 0.457, \"3P\": 1.1, \"3PA\": 3.3, \"3P%\": 0.33, \"2P\": 3.3, \"2PA\": 6.3, \"2P%\": 0.525, \"eFG%\": 0.514, \"FT\": 3.0, \"FTA\": 3.9, \"FT%\": 0.772, \"ORB\": 1.2, \"DRB\": 2.4, \"TRB\": 3.6, \"AST\": 3.1, \"STL\": 0.8, \"BLK\": 0.6, \"TOV\": 2.0, \"PF\": 2.8, \"PTS\": 13.0}, {\"Player\": \"Andre Jackson Jr.\", \"Pos\": \"SG\", \"Age\": 22, \"Tm\": \"MIL\", \"G\": 27, \"GS\": 5, \"MP\": 9.7, \"FG\": 0.9, \"FGA\": 1.7, \"FG%\": 0.532, \"3P\": 0.4, \"3PA\": 1.0, \"3P%\": 0.423, \"2P\": 0.5, \"2PA\": 0.8, \"2P%\": 0.667, \"eFG%\": 0.649, \"FT\": 0.1, \"FTA\": 0.1, \"FT%\": 0.75, \"ORB\": 0.8, \"DRB\": 0.9, \"TRB\": 1.6, \"AST\": 0.9, \"STL\": 0.3, \"BLK\": 0.0, \"TOV\": 0.5, \"PF\": 1.7, \"PTS\": 2.4}, {\"Player\": \"Isaiah Jackson\", \"Pos\": \"C\", \"Age\": 22, \"Tm\": \"IND\", \"G\": 24, \"GS\": 1, \"MP\": 14.4, \"FG\": 2.9, \"FGA\": 4.3, \"FG%\": 0.673, \"3P\": 0.0, \"3PA\": 0.1, \"3P%\": 0.0, \"2P\": 2.9, \"2PA\": 4.3, \"2P%\": 0.686, \"eFG%\": 0.673, \"FT\": 1.5, \"FTA\": 2.1, \"FT%\": 0.725, \"ORB\": 1.5, \"DRB\": 2.9, \"TRB\": 4.4, \"AST\": 0.9, \"STL\": 0.6, \"BLK\": 1.3, \"TOV\": 0.6, \"PF\": 2.8, \"PTS\": 7.4}, {\"Player\": \"Jaren Jackson Jr.\", \"Pos\": \"C\", \"Age\": 24, \"Tm\": \"MEM\", \"G\": 32, \"GS\": 32, \"MP\": 31.5, \"FG\": 7.2, \"FGA\": 15.6, \"FG%\": 0.458, \"3P\": 1.6, \"3PA\": 4.9, \"3P%\": 0.327, \"2P\": 5.6, \"2PA\": 10.8, \"2P%\": 0.517, \"eFG%\": 0.509, \"FT\": 5.1, \"FTA\": 6.2, \"FT%\": 0.832, \"ORB\": 1.4, \"DRB\": 4.2, \"TRB\": 5.5, \"AST\": 1.7, \"STL\": 0.8, \"BLK\": 1.6, \"TOV\": 1.9, \"PF\": 3.6, \"PTS\": 21.0}, {\"Player\": \"Reggie Jackson\", \"Pos\": \"PG\", \"Age\": 33, \"Tm\": \"DEN\", \"G\": 35, \"GS\": 14, \"MP\": 23.8, \"FG\": 4.9, \"FGA\": 10.5, \"FG%\": 0.47, \"3P\": 1.5, \"3PA\": 3.9, \"3P%\": 0.384, \"2P\": 3.4, \"2PA\": 6.5, \"2P%\": 0.522, \"eFG%\": 0.542, \"FT\": 1.0, \"FTA\": 1.4, \"FT%\": 0.729, \"ORB\": 0.3, \"DRB\": 1.9, \"TRB\": 2.2, \"AST\": 4.4, \"STL\": 0.7, \"BLK\": 0.2, \"TOV\": 1.5, \"PF\": 2.0, \"PTS\": 12.3}, {\"Player\": \"LeBron James\", \"Pos\": \"PF\", \"Age\": 39, \"Tm\": \"LAL\", \"G\": 31, \"GS\": 31, \"MP\": 34.2, \"FG\": 9.4, \"FGA\": 17.6, \"FG%\": 0.535, \"3P\": 2.3, \"3PA\": 5.5, \"3P%\": 0.409, \"2P\": 7.2, \"2PA\": 12.1, \"2P%\": 0.592, \"eFG%\": 0.599, \"FT\": 4.3, \"FTA\": 5.8, \"FT%\": 0.749, \"ORB\": 0.9, \"DRB\": 6.5, \"TRB\": 7.4, \"AST\": 7.4, \"STL\": 1.4, \"BLK\": 0.7, \"TOV\": 3.3, \"PF\": 1.1, \"PTS\": 25.4}, {\"Player\": \"Jaime Jaquez Jr.\", \"Pos\": \"SF\", \"Age\": 22, \"Tm\": \"MIA\", \"G\": 33, \"GS\": 9, \"MP\": 29.7, \"FG\": 5.3, \"FGA\": 10.5, \"FG%\": 0.504, \"3P\": 1.1, \"3PA\": 3.0, \"3P%\": 0.354, \"2P\": 4.2, \"2PA\": 7.5, \"2P%\": 0.565, \"eFG%\": 0.555, \"FT\": 2.1, \"FTA\": 2.5, \"FT%\": 0.852, \"ORB\": 1.3, \"DRB\": 2.6, \"TRB\": 3.9, \"AST\": 2.6, \"STL\": 1.1, \"BLK\": 0.3, \"TOV\": 1.6, \"PF\": 2.5, \"PTS\": 13.7}, {\"Player\": \"DaQuan Jeffries\", \"Pos\": \"SG\", \"Age\": 26, \"Tm\": \"NYK\", \"G\": 10, \"GS\": 0, \"MP\": 3.0, \"FG\": 0.5, \"FGA\": 1.2, \"FG%\": 0.417, \"3P\": 0.1, \"3PA\": 0.5, \"3P%\": 0.2, \"2P\": 0.4, \"2PA\": 0.7, \"2P%\": 0.571, \"eFG%\": 0.458, \"FT\": 0.0, \"FTA\": 0.2, \"FT%\": 0.0, \"ORB\": 0.0, \"DRB\": 0.5, \"TRB\": 0.5, \"AST\": 0.2, \"STL\": 0.0, \"BLK\": 0.0, \"TOV\": 0.1, \"PF\": 0.2, \"PTS\": 1.1}, {\"Player\": \"Isaiah Joe\", \"Pos\": \"SG\", \"Age\": 24, \"Tm\": \"OKC\", \"G\": 31, \"GS\": 0, \"MP\": 19.9, \"FG\": 3.1, \"FGA\": 6.9, \"FG%\": 0.442, \"3P\": 2.3, \"3PA\": 5.4, \"3P%\": 0.422, \"2P\": 0.8, \"2PA\": 1.6, \"2P%\": 0.51, \"eFG%\": 0.605, \"FT\": 0.9, \"FTA\": 1.1, \"FT%\": 0.824, \"ORB\": 0.2, \"DRB\": 2.1, \"TRB\": 2.3, \"AST\": 1.1, \"STL\": 0.7, \"BLK\": 0.4, \"TOV\": 0.5, \"PF\": 1.2, \"PTS\": 9.3}, {\"Player\": \"Cameron Johnson\", \"Pos\": \"PF\", \"Age\": 27, \"Tm\": \"BRK\", \"G\": 25, \"GS\": 25, \"MP\": 28.9, \"FG\": 5.5, \"FGA\": 11.5, \"FG%\": 0.479, \"3P\": 2.5, \"3PA\": 6.1, \"3P%\": 0.414, \"2P\": 3.0, \"2PA\": 5.4, \"2P%\": 0.551, \"eFG%\": 0.589, \"FT\": 1.4, \"FTA\": 1.8, \"FT%\": 0.773, \"ORB\": 1.3, \"DRB\": 3.6, \"TRB\": 4.9, \"AST\": 2.4, \"STL\": 0.8, \"BLK\": 0.1, \"TOV\": 1.0, \"PF\": 1.9, \"PTS\": 14.9}, {\"Player\": \"Jalen Johnson\", \"Pos\": \"SF\", \"Age\": 22, \"Tm\": \"ATL\", \"G\": 18, \"GS\": 15, \"MP\": 30.5, \"FG\": 5.8, \"FGA\": 9.7, \"FG%\": 0.594, \"3P\": 1.1, \"3PA\": 2.7, \"3P%\": 0.408, \"2P\": 4.7, \"2PA\": 7.0, \"2P%\": 0.667, \"eFG%\": 0.651, \"FT\": 1.9, \"FTA\": 2.4, \"FT%\": 0.773, \"ORB\": 1.4, \"DRB\": 6.7, \"TRB\": 8.1, \"AST\": 2.7, \"STL\": 1.0, \"BLK\": 0.9, \"TOV\": 2.1, \"PF\": 2.1, \"PTS\": 14.6}, {\"Player\": \"Keldon Johnson\", \"Pos\": \"SF\", \"Age\": 24, \"Tm\": \"SAS\", \"G\": 30, \"GS\": 26, \"MP\": 32.5, \"FG\": 6.4, \"FGA\": 13.9, \"FG%\": 0.464, \"3P\": 1.9, \"3PA\": 5.6, \"3P%\": 0.345, \"2P\": 4.5, \"2PA\": 8.3, \"2P%\": 0.544, \"eFG%\": 0.534, \"FT\": 2.8, \"FTA\": 3.7, \"FT%\": 0.757, \"ORB\": 1.3, \"DRB\": 4.9, \"TRB\": 6.3, \"AST\": 3.9, \"STL\": 0.9, \"BLK\": 0.2, \"TOV\": 1.7, \"PF\": 2.5, \"PTS\": 17.6}, {\"Player\": \"Keon Johnson\", \"Pos\": \"SG\", \"Age\": 21, \"Tm\": \"BRK\", \"G\": 1, \"GS\": 0, \"MP\": 21.0, \"FG\": 3.0, \"FGA\": 8.0, \"FG%\": 0.375, \"3P\": 2.0, \"3PA\": 4.0, \"3P%\": 0.5, \"2P\": 1.0, \"2PA\": 4.0, \"2P%\": 0.25, \"eFG%\": 0.5, \"FT\": 4.0, \"FTA\": 4.0, \"FT%\": 1.0, \"ORB\": 0.0, \"DRB\": 1.0, \"TRB\": 1.0, \"AST\": 1.0, \"STL\": 1.0, \"BLK\": 1.0, \"TOV\": 1.0, \"PF\": 1.0, \"PTS\": 12.0}, {\"Player\": \"Nikola Joki\\u0107\", \"Pos\": \"C\", \"Age\": 28, \"Tm\": \"DEN\", \"G\": 34, \"GS\": 34, \"MP\": 33.4, \"FG\": 9.9, \"FGA\": 17.8, \"FG%\": 0.559, \"3P\": 1.1, \"3PA\": 3.3, \"3P%\": 0.333, \"2P\": 8.9, \"2PA\": 14.5, \"2P%\": 0.609, \"eFG%\": 0.589, \"FT\": 4.8, \"FTA\": 5.8, \"FT%\": 0.818, \"ORB\": 3.0, \"DRB\": 9.2, \"TRB\": 12.3, \"AST\": 9.1, \"STL\": 1.1, \"BLK\": 0.9, \"TOV\": 2.7, \"PF\": 2.6, \"PTS\": 25.7}, {\"Player\": \"Colby Jones\", \"Pos\": \"SG\", \"Age\": 21, \"Tm\": \"SAC\", \"G\": 12, \"GS\": 0, \"MP\": 6.4, \"FG\": 1.2, \"FGA\": 2.6, \"FG%\": 0.452, \"3P\": 0.1, \"3PA\": 0.7, \"3P%\": 0.125, \"2P\": 1.1, \"2PA\": 1.9, \"2P%\": 0.565, \"eFG%\": 0.468, \"FT\": 0.2, \"FTA\": 0.3, \"FT%\": 0.667, \"ORB\": 0.6, \"DRB\": 0.8, \"TRB\": 1.3, \"AST\": 0.2, \"STL\": 0.2, \"BLK\": 0.1, \"TOV\": 0.3, \"PF\": 0.9, \"PTS\": 2.6}, {\"Player\": \"Damian Jones\", \"Pos\": \"C\", \"Age\": 28, \"Tm\": \"CLE\", \"G\": 13, \"GS\": 0, \"MP\": 5.3, \"FG\": 0.5, \"FGA\": 1.0, \"FG%\": 0.538, \"3P\": 0.1, \"3PA\": 0.2, \"3P%\": 0.5, \"2P\": 0.5, \"2PA\": 0.8, \"2P%\": 0.545, \"eFG%\": 0.577, \"FT\": 0.2, \"FTA\": 0.2, \"FT%\": 0.667, \"ORB\": 0.3, \"DRB\": 0.8, \"TRB\": 1.1, \"AST\": 0.3, \"STL\": 0.2, \"BLK\": 0.2, \"TOV\": 0.4, \"PF\": 0.7, \"PTS\": 1.3}, {\"Player\": \"Derrick Jones Jr.\", \"Pos\": \"SF\", \"Age\": 26, \"Tm\": \"DAL\", \"G\": 33, \"GS\": 32, \"MP\": 25.4, \"FG\": 3.7, \"FGA\": 7.9, \"FG%\": 0.469, \"3P\": 1.5, \"3PA\": 4.3, \"3P%\": 0.348, \"2P\": 2.2, \"2PA\": 3.6, \"2P%\": 0.613, \"eFG%\": 0.563, \"FT\": 1.5, \"FTA\": 1.9, \"FT%\": 0.762, \"ORB\": 1.3, \"DRB\": 2.5, \"TRB\": 3.8, \"AST\": 1.0, \"STL\": 0.9, \"BLK\": 0.8, \"TOV\": 0.9, \"PF\": 1.8, \"PTS\": 10.3}, {\"Player\": \"Herbert Jones\", \"Pos\": \"SF\", \"Age\": 25, \"Tm\": \"NOP\", \"G\": 30, \"GS\": 30, \"MP\": 29.6, \"FG\": 3.7, \"FGA\": 7.8, \"FG%\": 0.468, \"3P\": 1.1, \"3PA\": 3.3, \"3P%\": 0.323, \"2P\": 2.6, \"2PA\": 4.5, \"2P%\": 0.574, \"eFG%\": 0.536, \"FT\": 2.1, \"FTA\": 2.4, \"FT%\": 0.863, \"ORB\": 1.2, \"DRB\": 2.7, \"TRB\": 3.9, \"AST\": 2.6, \"STL\": 1.4, \"BLK\": 1.0, \"TOV\": 1.2, \"PF\": 3.1, \"PTS\": 10.5}, {\"Player\": \"Tre Jones\", \"Pos\": \"PG\", \"Age\": 24, \"Tm\": \"SAS\", \"G\": 28, \"GS\": 0, \"MP\": 23.4, \"FG\": 3.3, \"FGA\": 7.0, \"FG%\": 0.469, \"3P\": 0.5, \"3PA\": 2.1, \"3P%\": 0.237, \"2P\": 2.8, \"2PA\": 4.9, \"2P%\": 0.569, \"eFG%\": 0.505, \"FT\": 1.1, \"FTA\": 1.3, \"FT%\": 0.838, \"ORB\": 0.7, \"DRB\": 2.1, \"TRB\": 2.8, \"AST\": 4.9, \"STL\": 0.8, \"BLK\": 0.1, \"TOV\": 1.4, \"PF\": 1.2, \"PTS\": 8.2}, {\"Player\": \"Tyus Jones\", \"Pos\": \"PG\", \"Age\": 27, \"Tm\": \"WAS\", \"G\": 32, \"GS\": 32, \"MP\": 28.0, \"FG\": 5.3, \"FGA\": 9.8, \"FG%\": 0.537, \"3P\": 1.5, \"3PA\": 3.5, \"3P%\": 0.425, \"2P\": 3.8, \"2PA\": 6.3, \"2P%\": 0.599, \"eFG%\": 0.613, \"FT\": 0.5, \"FTA\": 0.7, \"FT%\": 0.773, \"ORB\": 0.3, \"DRB\": 2.7, \"TRB\": 3.0, \"AST\": 5.5, \"STL\": 1.2, \"BLK\": 0.3, \"TOV\": 0.8, \"PF\": 0.8, \"PTS\": 12.6}, {\"Player\": \"Cory Joseph\", \"Pos\": \"PG\", \"Age\": 32, \"Tm\": \"GSW\", \"G\": 15, \"GS\": 0, \"MP\": 9.7, \"FG\": 0.6, \"FGA\": 2.3, \"FG%\": 0.257, \"3P\": 0.3, \"3PA\": 1.5, \"3P%\": 0.182, \"2P\": 0.3, \"2PA\": 0.9, \"2P%\": 0.385, \"eFG%\": 0.314, \"FT\": 0.3, \"FTA\": 0.5, \"FT%\": 0.571, \"ORB\": 0.1, \"DRB\": 0.7, \"TRB\": 0.8, \"AST\": 1.7, \"STL\": 0.3, \"BLK\": 0.1, \"TOV\": 0.5, \"PF\": 0.9, \"PTS\": 1.7}, {\"Player\": \"Nikola Jovi\\u0107\", \"Pos\": \"PF\", \"Age\": 20, \"Tm\": \"MIA\", \"G\": 7, \"GS\": 2, \"MP\": 11.6, \"FG\": 1.6, \"FGA\": 3.0, \"FG%\": 0.524, \"3P\": 0.9, \"3PA\": 1.7, \"3P%\": 0.5, \"2P\": 0.7, \"2PA\": 1.3, \"2P%\": 0.556, \"eFG%\": 0.667, \"FT\": 0.9, \"FTA\": 1.3, \"FT%\": 0.667, \"ORB\": 0.6, \"DRB\": 3.4, \"TRB\": 4.0, \"AST\": 2.0, \"STL\": 0.3, \"BLK\": 0.1, \"TOV\": 0.9, \"PF\": 2.4, \"PTS\": 4.9}, {\"Player\": \"Luke Kennard\", \"Pos\": \"SG\", \"Age\": 27, \"Tm\": \"MEM\", \"G\": 9, \"GS\": 0, \"MP\": 21.3, \"FG\": 3.0, \"FGA\": 7.4, \"FG%\": 0.403, \"3P\": 2.4, \"3PA\": 6.0, \"3P%\": 0.407, \"2P\": 0.6, \"2PA\": 1.4, \"2P%\": 0.385, \"eFG%\": 0.567, \"FT\": 0.8, \"FTA\": 0.8, \"FT%\": 1.0, \"ORB\": 0.3, \"DRB\": 2.6, \"TRB\": 2.9, \"AST\": 2.0, \"STL\": 0.6, \"BLK\": 0.1, \"TOV\": 0.7, \"PF\": 0.7, \"PTS\": 9.2}, {\"Player\": \"Walker Kessler\", \"Pos\": \"C\", \"Age\": 22, \"Tm\": \"UTA\", \"G\": 26, \"GS\": 13, \"MP\": 25.0, \"FG\": 4.1, \"FGA\": 6.7, \"FG%\": 0.618, \"3P\": 0.2, \"3PA\": 0.6, \"3P%\": 0.25, \"2P\": 4.0, \"2PA\": 6.0, \"2P%\": 0.656, \"eFG%\": 0.63, \"FT\": 0.7, \"FTA\": 1.3, \"FT%\": 0.515, \"ORB\": 2.8, \"DRB\": 5.3, \"TRB\": 8.1, \"AST\": 0.8, \"STL\": 0.5, \"BLK\": 2.7, \"TOV\": 1.2, \"PF\": 2.0, \"PTS\": 9.0}, {\"Player\": \"Braxton Key\", \"Pos\": \"SF\", \"Age\": 26, \"Tm\": \"DEN\", \"G\": 9, \"GS\": 0, \"MP\": 3.2, \"FG\": 0.3, \"FGA\": 1.1, \"FG%\": 0.3, \"3P\": 0.0, \"3PA\": 0.2, \"3P%\": 0.0, \"2P\": 0.3, \"2PA\": 0.9, \"2P%\": 0.375, \"eFG%\": 0.3, \"FT\": 0.2, \"FTA\": 0.3, \"FT%\": 0.667, \"ORB\": 0.1, \"DRB\": 0.6, \"TRB\": 0.7, \"AST\": 0.7, \"STL\": 0.1, \"BLK\": 0.0, \"TOV\": 0.0, \"PF\": 0.3, \"PTS\": 0.9}, {\"Player\": \"Corey Kispert\", \"Pos\": \"SF\", \"Age\": 24, \"Tm\": \"WAS\", \"G\": 31, \"GS\": 1, \"MP\": 22.5, \"FG\": 4.1, \"FGA\": 8.6, \"FG%\": 0.472, \"3P\": 2.1, \"3PA\": 5.5, \"3P%\": 0.379, \"2P\": 2.0, \"2PA\": 3.2, \"2P%\": 0.633, \"eFG%\": 0.592, \"FT\": 1.5, \"FTA\": 2.0, \"FT%\": 0.738, \"ORB\": 0.4, \"DRB\": 1.8, \"TRB\": 2.2, \"AST\": 1.5, \"STL\": 0.4, \"BLK\": 0.2, \"TOV\": 0.9, \"PF\": 1.7, \"PTS\": 11.6}, {\"Player\": \"Maxi Kleber\", \"Pos\": \"C\", \"Age\": 32, \"Tm\": \"DAL\", \"G\": 5, \"GS\": 1, \"MP\": 18.0, \"FG\": 0.8, \"FGA\": 3.2, \"FG%\": 0.25, \"3P\": 0.6, \"3PA\": 1.8, \"3P%\": 0.333, \"2P\": 0.2, \"2PA\": 1.4, \"2P%\": 0.143, \"eFG%\": 0.344, \"FT\": 1.2, \"FTA\": 2.0, \"FT%\": 0.6, \"ORB\": 0.8, \"DRB\": 3.4, \"TRB\": 4.2, \"AST\": 2.0, \"STL\": 0.2, \"BLK\": 0.2, \"TOV\": 0.8, \"PF\": 1.6, \"PTS\": 3.4}, {\"Player\": \"Kevin Knox\", \"Pos\": \"SF\", \"Age\": 24, \"Tm\": \"DET\", \"G\": 15, \"GS\": 5, \"MP\": 17.2, \"FG\": 2.9, \"FGA\": 5.9, \"FG%\": 0.489, \"3P\": 1.1, \"3PA\": 3.2, \"3P%\": 0.354, \"2P\": 1.7, \"2PA\": 2.7, \"2P%\": 0.65, \"eFG%\": 0.585, \"FT\": 0.5, \"FTA\": 0.6, \"FT%\": 0.889, \"ORB\": 0.4, \"DRB\": 1.9, \"TRB\": 2.3, \"AST\": 0.5, \"STL\": 0.5, \"BLK\": 0.2, \"TOV\": 0.7, \"PF\": 1.7, \"PTS\": 7.4}, {\"Player\": \"John Konchar\", \"Pos\": \"SF\", \"Age\": 27, \"Tm\": \"MEM\", \"G\": 25, \"GS\": 2, \"MP\": 17.5, \"FG\": 1.3, \"FGA\": 3.4, \"FG%\": 0.381, \"3P\": 0.7, \"3PA\": 2.2, \"3P%\": 0.327, \"2P\": 0.6, \"2PA\": 1.2, \"2P%\": 0.483, \"eFG%\": 0.488, \"FT\": 0.3, \"FTA\": 0.4, \"FT%\": 0.778, \"ORB\": 1.1, \"DRB\": 3.0, \"TRB\": 4.1, \"AST\": 1.4, \"STL\": 0.8, \"BLK\": 0.7, \"TOV\": 0.5, \"PF\": 1.1, \"PTS\": 3.6}, {\"Player\": \"Furkan Korkmaz\", \"Pos\": \"SG\", \"Age\": 26, \"Tm\": \"PHI\", \"G\": 21, \"GS\": 0, \"MP\": 6.7, \"FG\": 0.7, \"FGA\": 1.8, \"FG%\": 0.378, \"3P\": 0.2, \"3PA\": 0.9, \"3P%\": 0.263, \"2P\": 0.4, \"2PA\": 0.9, \"2P%\": 0.5, \"eFG%\": 0.446, \"FT\": 0.3, \"FTA\": 0.4, \"FT%\": 0.778, \"ORB\": 0.0, \"DRB\": 0.4, \"TRB\": 0.5, \"AST\": 0.5, \"STL\": 0.5, \"BLK\": 0.0, \"TOV\": 0.3, \"PF\": 0.4, \"PTS\": 1.9}, {\"Player\": \"Jonathan Kuminga\", \"Pos\": \"PF\", \"Age\": 21, \"Tm\": \"GSW\", \"G\": 31, \"GS\": 10, \"MP\": 21.8, \"FG\": 4.7, \"FGA\": 9.3, \"FG%\": 0.502, \"3P\": 0.7, \"3PA\": 2.5, \"3P%\": 0.289, \"2P\": 4.0, \"2PA\": 6.9, \"2P%\": 0.577, \"eFG%\": 0.54, \"FT\": 2.5, \"FTA\": 3.6, \"FT%\": 0.673, \"ORB\": 1.3, \"DRB\": 2.8, \"TRB\": 4.0, \"AST\": 1.3, \"STL\": 0.6, \"BLK\": 0.3, \"TOV\": 1.4, \"PF\": 2.2, \"PTS\": 12.5}, {\"Player\": \"Kyle Kuzma\", \"Pos\": \"PF\", \"Age\": 28, \"Tm\": \"WAS\", \"G\": 32, \"GS\": 32, \"MP\": 31.3, \"FG\": 8.9, \"FGA\": 19.2, \"FG%\": 0.466, \"3P\": 2.5, \"3PA\": 7.0, \"3P%\": 0.357, \"2P\": 6.4, \"2PA\": 12.2, \"2P%\": 0.528, \"eFG%\": 0.531, \"FT\": 2.7, \"FTA\": 3.5, \"FT%\": 0.768, \"ORB\": 0.9, \"DRB\": 5.3, \"TRB\": 6.2, \"AST\": 4.3, \"STL\": 0.3, \"BLK\": 0.6, \"TOV\": 2.6, \"PF\": 2.2, \"PTS\": 23.1}, {\"Player\": \"Jock Landale\", \"Pos\": \"C\", \"Age\": 28, \"Tm\": \"HOU\", \"G\": 20, \"GS\": 0, \"MP\": 8.9, \"FG\": 0.8, \"FGA\": 2.1, \"FG%\": 0.357, \"3P\": 0.1, \"3PA\": 0.7, \"3P%\": 0.154, \"2P\": 0.7, \"2PA\": 1.5, \"2P%\": 0.448, \"eFG%\": 0.381, \"FT\": 0.4, \"FTA\": 0.5, \"FT%\": 0.8, \"ORB\": 1.0, \"DRB\": 1.0, \"TRB\": 1.9, \"AST\": 0.5, \"STL\": 0.3, \"BLK\": 0.3, \"TOV\": 0.4, \"PF\": 1.0, \"PTS\": 2.0}, {\"Player\": \"Jake LaRavia\", \"Pos\": \"PF\", \"Age\": 22, \"Tm\": \"MEM\", \"G\": 8, \"GS\": 0, \"MP\": 12.4, \"FG\": 1.4, \"FGA\": 4.0, \"FG%\": 0.344, \"3P\": 0.4, \"3PA\": 2.5, \"3P%\": 0.15, \"2P\": 1.0, \"2PA\": 1.5, \"2P%\": 0.667, \"eFG%\": 0.391, \"FT\": 0.1, \"FTA\": 0.3, \"FT%\": 0.5, \"ORB\": 0.6, \"DRB\": 0.8, \"TRB\": 1.4, \"AST\": 0.6, \"STL\": 0.1, \"BLK\": 0.0, \"TOV\": 0.5, \"PF\": 1.9, \"PTS\": 3.3}, {\"Player\": \"Zach LaVine\", \"Pos\": \"SG\", \"Age\": 28, \"Tm\": \"CHI\", \"G\": 18, \"GS\": 18, \"MP\": 35.3, \"FG\": 7.3, \"FGA\": 16.6, \"FG%\": 0.443, \"3P\": 2.4, \"3PA\": 7.1, \"3P%\": 0.336, \"2P\": 4.9, \"2PA\": 9.4, \"2P%\": 0.524, \"eFG%\": 0.515, \"FT\": 3.9, \"FTA\": 4.6, \"FT%\": 0.866, \"ORB\": 0.3, \"DRB\": 4.6, \"TRB\": 4.9, \"AST\": 3.4, \"STL\": 0.9, \"BLK\": 0.2, \"TOV\": 2.0, \"PF\": 2.1, \"PTS\": 21.0}, {\"Player\": \"A.J. Lawson\", \"Pos\": \"SG\", \"Age\": 23, \"Tm\": \"DAL\", \"G\": 13, \"GS\": 0, \"MP\": 9.8, \"FG\": 1.7, \"FGA\": 3.4, \"FG%\": 0.5, \"3P\": 0.5, \"3PA\": 1.8, \"3P%\": 0.304, \"2P\": 1.2, \"2PA\": 1.6, \"2P%\": 0.714, \"eFG%\": 0.58, \"FT\": 0.4, \"FTA\": 0.6, \"FT%\": 0.625, \"ORB\": 0.5, \"DRB\": 0.8, \"TRB\": 1.2, \"AST\": 0.5, \"STL\": 0.5, \"BLK\": 0.1, \"TOV\": 0.5, \"PF\": 0.5, \"PTS\": 4.3}, {\"Player\": \"Saben Lee\", \"Pos\": \"PG\", \"Age\": 24, \"Tm\": \"PHO\", \"G\": 7, \"GS\": 0, \"MP\": 8.3, \"FG\": 1.1, \"FGA\": 2.6, \"FG%\": 0.444, \"3P\": 0.0, \"3PA\": 0.6, \"3P%\": 0.0, \"2P\": 1.1, \"2PA\": 2.0, \"2P%\": 0.571, \"eFG%\": 0.444, \"FT\": 1.4, \"FTA\": 1.6, \"FT%\": 0.909, \"ORB\": 0.4, \"DRB\": 0.7, \"TRB\": 1.1, \"AST\": 1.6, \"STL\": 0.3, \"BLK\": 0.3, \"TOV\": 0.4, \"PF\": 0.7, \"PTS\": 3.7}, {\"Player\": \"Alex Len\", \"Pos\": \"C\", \"Age\": 30, \"Tm\": \"SAC\", \"G\": 9, \"GS\": 0, \"MP\": 7.6, \"FG\": 0.8, \"FGA\": 1.2, \"FG%\": 0.636, \"3P\": 0.0, \"3PA\": 0.1, \"3P%\": 0.0, \"2P\": 0.8, \"2PA\": 1.1, \"2P%\": 0.7, \"eFG%\": 0.636, \"FT\": 0.3, \"FTA\": 0.8, \"FT%\": 0.429, \"ORB\": 1.3, \"DRB\": 1.9, \"TRB\": 3.2, \"AST\": 1.1, \"STL\": 0.1, \"BLK\": 0.7, \"TOV\": 0.4, \"PF\": 0.6, \"PTS\": 1.9}, {\"Player\": \"Kawhi Leonard\", \"Pos\": \"SF\", \"Age\": 32, \"Tm\": \"LAC\", \"G\": 28, \"GS\": 28, \"MP\": 34.5, \"FG\": 9.1, \"FGA\": 17.4, \"FG%\": 0.522, \"3P\": 2.3, \"3PA\": 5.4, \"3P%\": 0.428, \"2P\": 6.8, \"2PA\": 12.0, \"2P%\": 0.564, \"eFG%\": 0.588, \"FT\": 3.9, \"FTA\": 4.5, \"FT%\": 0.872, \"ORB\": 1.1, \"DRB\": 4.9, \"TRB\": 5.9, \"AST\": 3.6, \"STL\": 1.6, \"BLK\": 0.7, \"TOV\": 1.5, \"PF\": 1.4, \"PTS\": 24.4}, {\"Player\": \"Caris LeVert\", \"Pos\": \"SG\", \"Age\": 29, \"Tm\": \"CLE\", \"G\": 25, \"GS\": 1, \"MP\": 29.2, \"FG\": 5.8, \"FGA\": 13.8, \"FG%\": 0.42, \"3P\": 1.8, \"3PA\": 5.7, \"3P%\": 0.324, \"2P\": 4.0, \"2PA\": 8.1, \"2P%\": 0.488, \"eFG%\": 0.487, \"FT\": 2.5, \"FTA\": 3.3, \"FT%\": 0.759, \"ORB\": 0.4, \"DRB\": 3.0, \"TRB\": 3.4, \"AST\": 3.9, \"STL\": 1.0, \"BLK\": 0.4, \"TOV\": 1.4, \"PF\": 1.7, \"PTS\": 16.0}, {\"Player\": \"Kira Lewis Jr.\", \"Pos\": \"PG\", \"Age\": 22, \"Tm\": \"NOP\", \"G\": 13, \"GS\": 0, \"MP\": 10.1, \"FG\": 1.2, \"FGA\": 3.6, \"FG%\": 0.319, \"3P\": 0.2, \"3PA\": 1.3, \"3P%\": 0.118, \"2P\": 1.0, \"2PA\": 2.3, \"2P%\": 0.433, \"eFG%\": 0.34, \"FT\": 0.6, \"FTA\": 0.7, \"FT%\": 0.889, \"ORB\": 0.2, \"DRB\": 0.6, \"TRB\": 0.8, \"AST\": 1.4, \"STL\": 0.4, \"BLK\": 0.1, \"TOV\": 0.5, \"PF\": 0.6, \"PTS\": 3.1}, {\"Player\": \"E.J. Liddell\", \"Pos\": \"PF\", \"Age\": 23, \"Tm\": \"NOP\", \"G\": 3, \"GS\": 0, \"MP\": 3.0, \"FG\": 0.3, \"FGA\": 1.3, \"FG%\": 0.25, \"3P\": 0.0, \"3PA\": 1.0, \"3P%\": 0.0, \"2P\": 0.3, \"2PA\": 0.3, \"2P%\": 1.0, \"eFG%\": 0.25, \"FT\": 0.7, \"FTA\": 0.7, \"FT%\": 1.0, \"ORB\": 0.0, \"DRB\": 0.7, \"TRB\": 0.7, \"AST\": 0.0, \"STL\": 0.0, \"BLK\": 0.3, \"TOV\": 0.3, \"PF\": 0.3, \"PTS\": 1.3}, {\"Player\": \"Damian Lillard\", \"Pos\": \"PG\", \"Age\": 33, \"Tm\": \"MIL\", \"G\": 31, \"GS\": 31, \"MP\": 35.2, \"FG\": 7.4, \"FGA\": 17.1, \"FG%\": 0.431, \"3P\": 3.2, \"3PA\": 8.7, \"3P%\": 0.365, \"2P\": 4.2, \"2PA\": 8.4, \"2P%\": 0.5, \"eFG%\": 0.524, \"FT\": 7.5, \"FTA\": 8.1, \"FT%\": 0.924, \"ORB\": 0.6, \"DRB\": 3.9, \"TRB\": 4.5, \"AST\": 6.8, \"STL\": 1.0, \"BLK\": 0.2, \"TOV\": 2.7, \"PF\": 1.7, \"PTS\": 25.5}, {\"Player\": \"Nassir Little\", \"Pos\": \"SF\", \"Age\": 23, \"Tm\": \"PHO\", \"G\": 23, \"GS\": 2, \"MP\": 15.6, \"FG\": 1.9, \"FGA\": 4.0, \"FG%\": 0.484, \"3P\": 0.7, \"3PA\": 2.2, \"3P%\": 0.32, \"2P\": 1.2, \"2PA\": 1.8, \"2P%\": 0.683, \"eFG%\": 0.571, \"FT\": 0.7, \"FTA\": 0.8, \"FT%\": 0.842, \"ORB\": 0.6, \"DRB\": 2.0, \"TRB\": 2.6, \"AST\": 0.7, \"STL\": 0.4, \"BLK\": 0.3, \"TOV\": 0.5, \"PF\": 1.3, \"PTS\": 5.2}, {\"Player\": \"Dereck Lively II\", \"Pos\": \"C\", \"Age\": 19, \"Tm\": \"DAL\", \"G\": 28, \"GS\": 27, \"MP\": 25.5, \"FG\": 4.1, \"FGA\": 5.6, \"FG%\": 0.728, \"3P\": 0.0, \"3PA\": 0.1, \"3P%\": 0.0, \"2P\": 4.1, \"2PA\": 5.6, \"2P%\": 0.737, \"eFG%\": 0.728, \"FT\": 0.8, \"FTA\": 1.5, \"FT%\": 0.548, \"ORB\": 2.8, \"DRB\": 5.0, \"TRB\": 7.7, \"AST\": 1.2, \"STL\": 0.6, \"BLK\": 1.4, \"TOV\": 1.2, \"PF\": 3.0, \"PTS\": 9.0}, {\"Player\": \"Isaiah Livers\", \"Pos\": \"PF\", \"Age\": 25, \"Tm\": \"DET\", \"G\": 17, \"GS\": 1, \"MP\": 19.5, \"FG\": 1.5, \"FGA\": 5.2, \"FG%\": 0.295, \"3P\": 0.9, \"3PA\": 3.5, \"3P%\": 0.25, \"2P\": 0.6, \"2PA\": 1.6, \"2P%\": 0.393, \"eFG%\": 0.381, \"FT\": 0.5, \"FTA\": 0.9, \"FT%\": 0.6, \"ORB\": 0.4, \"DRB\": 1.5, \"TRB\": 1.9, \"AST\": 1.1, \"STL\": 0.5, \"BLK\": 0.2, \"TOV\": 0.9, \"PF\": 1.6, \"PTS\": 4.5}, {\"Player\": \"Kenneth Lofton Jr.\", \"Pos\": \"PF\", \"Age\": 21, \"Tm\": \"MEM\", \"G\": 15, \"GS\": 0, \"MP\": 6.6, \"FG\": 0.9, \"FGA\": 2.5, \"FG%\": 0.378, \"3P\": 0.2, \"3PA\": 0.7, \"3P%\": 0.3, \"2P\": 0.7, \"2PA\": 1.8, \"2P%\": 0.407, \"eFG%\": 0.419, \"FT\": 0.5, \"FTA\": 1.0, \"FT%\": 0.533, \"ORB\": 0.1, \"DRB\": 0.9, \"TRB\": 1.0, \"AST\": 0.9, \"STL\": 0.2, \"BLK\": 0.2, \"TOV\": 0.4, \"PF\": 1.0, \"PTS\": 2.6}, {\"Player\": \"Brook Lopez\", \"Pos\": \"C\", \"Age\": 35, \"Tm\": \"MIL\", \"G\": 33, \"GS\": 33, \"MP\": 31.1, \"FG\": 4.8, \"FGA\": 9.9, \"FG%\": 0.479, \"3P\": 1.6, \"3PA\": 5.0, \"3P%\": 0.325, \"2P\": 3.1, \"2PA\": 4.9, \"2P%\": 0.636, \"eFG%\": 0.561, \"FT\": 1.7, \"FTA\": 2.0, \"FT%\": 0.821, \"ORB\": 1.5, \"DRB\": 3.5, \"TRB\": 5.1, \"AST\": 1.4, \"STL\": 0.7, \"BLK\": 3.1, \"TOV\": 0.8, \"PF\": 2.8, \"PTS\": 12.8}, {\"Player\": \"Robin Lopez\", \"Pos\": \"C\", \"Age\": 35, \"Tm\": \"MIL\", \"G\": 8, \"GS\": 0, \"MP\": 2.9, \"FG\": 0.3, \"FGA\": 0.6, \"FG%\": 0.4, \"3P\": 0.3, \"3PA\": 0.5, \"3P%\": 0.5, \"2P\": 0.0, \"2PA\": 0.1, \"2P%\": 0.0, \"eFG%\": 0.6, \"FT\": 0.3, \"FTA\": 0.3, \"FT%\": 1.0, \"ORB\": 0.0, \"DRB\": 0.1, \"TRB\": 0.1, \"AST\": 0.3, \"STL\": 0.0, \"BLK\": 0.1, \"TOV\": 0.1, \"PF\": 0.4, \"PTS\": 1.0}, {\"Player\": \"Kevin Love\", \"Pos\": \"PF\", \"Age\": 35, \"Tm\": \"MIA\", \"G\": 26, \"GS\": 5, \"MP\": 18.7, \"FG\": 3.1, \"FGA\": 7.1, \"FG%\": 0.435, \"3P\": 1.8, \"3PA\": 5.1, \"3P%\": 0.353, \"2P\": 1.3, \"2PA\": 2.0, \"2P%\": 0.647, \"eFG%\": 0.563, \"FT\": 1.7, \"FTA\": 2.2, \"FT%\": 0.804, \"ORB\": 0.9, \"DRB\": 5.7, \"TRB\": 6.6, \"AST\": 2.6, \"STL\": 0.3, \"BLK\": 0.2, \"TOV\": 0.7, \"PF\": 1.8, \"PTS\": 9.7}, {\"Player\": \"Kyle Lowry\", \"Pos\": \"PG\", \"Age\": 37, \"Tm\": \"MIA\", \"G\": 29, \"GS\": 29, \"MP\": 29.1, \"FG\": 3.1, \"FGA\": 6.8, \"FG%\": 0.464, \"3P\": 2.0, \"3PA\": 4.5, \"3P%\": 0.435, \"2P\": 1.2, \"2PA\": 2.2, \"2P%\": 0.523, \"eFG%\": 0.61, \"FT\": 1.1, \"FTA\": 1.3, \"FT%\": 0.842, \"ORB\": 0.7, \"DRB\": 2.9, \"TRB\": 3.6, \"AST\": 4.1, \"STL\": 1.1, \"BLK\": 0.3, \"TOV\": 1.4, \"PF\": 2.7, \"PTS\": 9.3}, {\"Player\": \"Trey Lyles\", \"Pos\": \"PF\", \"Age\": 28, \"Tm\": \"SAC\", \"G\": 18, \"GS\": 0, \"MP\": 19.8, \"FG\": 2.4, \"FGA\": 5.3, \"FG%\": 0.458, \"3P\": 1.4, \"3PA\": 3.9, \"3P%\": 0.357, \"2P\": 1.1, \"2PA\": 1.4, \"2P%\": 0.731, \"eFG%\": 0.589, \"FT\": 0.8, \"FTA\": 1.3, \"FT%\": 0.625, \"ORB\": 0.9, \"DRB\": 4.3, \"TRB\": 5.2, \"AST\": 1.4, \"STL\": 0.1, \"BLK\": 0.4, \"TOV\": 0.8, \"PF\": 1.7, \"PTS\": 7.1}, {\"Player\": \"Th\\u00e9o Maledon\", \"Pos\": \"PG\", \"Age\": 22, \"Tm\": \"CHO\", \"G\": 13, \"GS\": 1, \"MP\": 15.4, \"FG\": 1.5, \"FGA\": 5.1, \"FG%\": 0.288, \"3P\": 0.4, \"3PA\": 2.3, \"3P%\": 0.167, \"2P\": 1.1, \"2PA\": 2.8, \"2P%\": 0.389, \"eFG%\": 0.326, \"FT\": 0.8, \"FTA\": 0.9, \"FT%\": 0.917, \"ORB\": 0.3, \"DRB\": 1.5, \"TRB\": 1.8, \"AST\": 2.2, \"STL\": 0.5, \"BLK\": 0.0, \"TOV\": 1.2, \"PF\": 1.4, \"PTS\": 4.2}, {\"Player\": \"Sandro Mamukelashvili\", \"Pos\": \"C\", \"Age\": 24, \"Tm\": \"SAS\", \"G\": 17, \"GS\": 0, \"MP\": 7.7, \"FG\": 1.0, \"FGA\": 2.6, \"FG%\": 0.386, \"3P\": 0.4, \"3PA\": 1.5, \"3P%\": 0.24, \"2P\": 0.6, \"2PA\": 1.1, \"2P%\": 0.579, \"eFG%\": 0.455, \"FT\": 0.6, \"FTA\": 0.7, \"FT%\": 0.833, \"ORB\": 0.7, \"DRB\": 1.5, \"TRB\": 2.2, \"AST\": 1.3, \"STL\": 0.2, \"BLK\": 0.2, \"TOV\": 0.4, \"PF\": 0.8, \"PTS\": 2.9}, {\"Player\": \"Terance Mann\", \"Pos\": \"SG\", \"Age\": 27, \"Tm\": \"LAC\", \"G\": 26, \"GS\": 22, \"MP\": 25.7, \"FG\": 2.6, \"FGA\": 6.5, \"FG%\": 0.396, \"3P\": 0.6, \"3PA\": 3.0, \"3P%\": 0.203, \"2P\": 2.0, \"2PA\": 3.5, \"2P%\": 0.567, \"eFG%\": 0.444, \"FT\": 0.9, \"FTA\": 1.2, \"FT%\": 0.742, \"ORB\": 1.0, \"DRB\": 2.3, \"TRB\": 3.3, \"AST\": 1.9, \"STL\": 0.7, \"BLK\": 0.3, \"TOV\": 0.7, \"PF\": 1.8, \"PTS\": 6.7}, {\"Player\": \"Tre Mann\", \"Pos\": \"PG\", \"Age\": 22, \"Tm\": \"OKC\", \"G\": 12, \"GS\": 0, \"MP\": 8.5, \"FG\": 1.3, \"FGA\": 2.9, \"FG%\": 0.457, \"3P\": 0.4, \"3PA\": 1.3, \"3P%\": 0.333, \"2P\": 0.9, \"2PA\": 1.7, \"2P%\": 0.55, \"eFG%\": 0.529, \"FT\": 0.1, \"FTA\": 0.1, \"FT%\": 1.0, \"ORB\": 0.3, \"DRB\": 1.2, \"TRB\": 1.4, \"AST\": 1.3, \"STL\": 0.3, \"BLK\": 0.0, \"TOV\": 0.7, \"PF\": 0.3, \"PTS\": 3.2}, {\"Player\": \"Boban Marjanovi\\u0107\", \"Pos\": \"C\", \"Age\": 35, \"Tm\": \"HOU\", \"G\": 4, \"GS\": 0, \"MP\": 6.5, \"FG\": 1.3, \"FGA\": 2.8, \"FG%\": 0.455, \"3P\": 0.0, \"3PA\": 0.5, \"3P%\": 0.0, \"2P\": 1.3, \"2PA\": 2.3, \"2P%\": 0.556, \"eFG%\": 0.455, \"FT\": 0.0, \"FTA\": 0.3, \"FT%\": 0.0, \"ORB\": 0.5, \"DRB\": 1.8, \"TRB\": 2.3, \"AST\": 1.0, \"STL\": 0.0, \"BLK\": 0.3, \"TOV\": 0.0, \"PF\": 0.8, \"PTS\": 2.5}, {\"Player\": \"Lauri Markkanen\", \"Pos\": \"PF\", \"Age\": 26, \"Tm\": \"UTA\", \"G\": 24, \"GS\": 24, \"MP\": 32.7, \"FG\": 8.0, \"FGA\": 16.3, \"FG%\": 0.487, \"3P\": 3.2, \"3PA\": 8.4, \"3P%\": 0.376, \"2P\": 4.8, \"2PA\": 7.9, \"2P%\": 0.605, \"eFG%\": 0.584, \"FT\": 4.1, \"FTA\": 4.8, \"FT%\": 0.861, \"ORB\": 2.3, \"DRB\": 6.2, \"TRB\": 8.5, \"AST\": 1.6, \"STL\": 1.0, \"BLK\": 0.6, \"TOV\": 1.2, \"PF\": 2.1, \"PTS\": 23.2}, {\"Player\": \"Naji Marshall\", \"Pos\": \"SF\", \"Age\": 26, \"Tm\": \"NOP\", \"G\": 24, \"GS\": 0, \"MP\": 19.4, \"FG\": 2.8, \"FGA\": 6.1, \"FG%\": 0.452, \"3P\": 1.1, \"3PA\": 2.8, \"3P%\": 0.394, \"2P\": 1.7, \"2PA\": 3.3, \"2P%\": 0.5, \"eFG%\": 0.541, \"FT\": 1.5, \"FTA\": 2.0, \"FT%\": 0.787, \"ORB\": 1.1, \"DRB\": 2.9, \"TRB\": 4.0, \"AST\": 2.4, \"STL\": 0.7, \"BLK\": 0.2, \"TOV\": 1.2, \"PF\": 1.4, \"PTS\": 8.1}, {\"Player\": \"Caleb Martin\", \"Pos\": \"SF\", \"Age\": 28, \"Tm\": \"MIA\", \"G\": 20, \"GS\": 10, \"MP\": 26.5, \"FG\": 4.3, \"FGA\": 9.6, \"FG%\": 0.443, \"3P\": 1.3, \"3PA\": 3.3, \"3P%\": 0.379, \"2P\": 3.0, \"2PA\": 6.3, \"2P%\": 0.476, \"eFG%\": 0.508, \"FT\": 1.3, \"FTA\": 1.9, \"FT%\": 0.676, \"ORB\": 1.3, \"DRB\": 3.8, \"TRB\": 5.1, \"AST\": 2.3, \"STL\": 0.8, \"BLK\": 0.3, \"TOV\": 1.4, \"PF\": 2.3, \"PTS\": 11.0}, {\"Player\": \"Cody Martin\", \"Pos\": \"SF\", \"Age\": 28, \"Tm\": \"CHO\", \"G\": 5, \"GS\": 0, \"MP\": 22.6, \"FG\": 2.6, \"FGA\": 7.2, \"FG%\": 0.361, \"3P\": 0.8, \"3PA\": 2.4, \"3P%\": 0.333, \"2P\": 1.8, \"2PA\": 4.8, \"2P%\": 0.375, \"eFG%\": 0.417, \"FT\": 0.6, \"FTA\": 1.6, \"FT%\": 0.375, \"ORB\": 1.2, \"DRB\": 1.4, \"TRB\": 2.6, \"AST\": 2.2, \"STL\": 1.8, \"BLK\": 0.8, \"TOV\": 0.8, \"PF\": 1.0, \"PTS\": 6.6}, {\"Player\": \"KJ Martin\", \"Pos\": \"SF\", \"Age\": 23, \"Tm\": \"TOT\", \"G\": 20, \"GS\": 0, \"MP\": 6.4, \"FG\": 0.8, \"FGA\": 1.6, \"FG%\": 0.484, \"3P\": 0.1, \"3PA\": 0.4, \"3P%\": 0.143, \"2P\": 0.7, \"2PA\": 1.2, \"2P%\": 0.583, \"eFG%\": 0.5, \"FT\": 0.2, \"FTA\": 0.4, \"FT%\": 0.5, \"ORB\": 0.3, \"DRB\": 0.6, \"TRB\": 0.9, \"AST\": 0.5, \"STL\": 0.5, \"BLK\": 0.1, \"TOV\": 0.3, \"PF\": 0.9, \"PTS\": 1.8}, {\"Player\": \"KJ Martin\", \"Pos\": \"SF\", \"Age\": 23, \"Tm\": \"LAC\", \"G\": 2, \"GS\": 0, \"MP\": 15.5, \"FG\": 2.0, \"FGA\": 5.0, \"FG%\": 0.4, \"3P\": 0.5, \"3PA\": 2.5, \"3P%\": 0.2, \"2P\": 1.5, \"2PA\": 2.5, \"2P%\": 0.6, \"eFG%\": 0.45, \"FT\": 0.5, \"FTA\": 1.0, \"FT%\": 0.5, \"ORB\": 0.5, \"DRB\": 1.0, \"TRB\": 1.5, \"AST\": 0.5, \"STL\": 1.0, \"BLK\": 0.5, \"TOV\": 1.0, \"PF\": 1.5, \"PTS\": 5.0}, {\"Player\": \"KJ Martin\", \"Pos\": \"SF\", \"Age\": 23, \"Tm\": \"PHI\", \"G\": 18, \"GS\": 0, \"MP\": 5.3, \"FG\": 0.6, \"FGA\": 1.2, \"FG%\": 0.524, \"3P\": 0.0, \"3PA\": 0.1, \"3P%\": 0.0, \"2P\": 0.6, \"2PA\": 1.1, \"2P%\": 0.579, \"eFG%\": 0.524, \"FT\": 0.2, \"FTA\": 0.3, \"FT%\": 0.5, \"ORB\": 0.2, \"DRB\": 0.6, \"TRB\": 0.8, \"AST\": 0.5, \"STL\": 0.4, \"BLK\": 0.0, \"TOV\": 0.2, \"PF\": 0.8, \"PTS\": 1.4}, {\"Player\": \"Garrison Mathews\", \"Pos\": \"SG\", \"Age\": 27, \"Tm\": \"ATL\", \"G\": 20, \"GS\": 3, \"MP\": 11.6, \"FG\": 0.9, \"FGA\": 2.1, \"FG%\": 0.429, \"3P\": 0.9, \"3PA\": 2.1, \"3P%\": 0.439, \"2P\": 0.0, \"2PA\": 0.1, \"2P%\": 0.0, \"eFG%\": 0.643, \"FT\": 0.0, \"FTA\": 0.1, \"FT%\": 0.0, \"ORB\": 0.2, \"DRB\": 0.9, \"TRB\": 1.1, \"AST\": 0.3, \"STL\": 0.4, \"BLK\": 0.2, \"TOV\": 0.3, \"PF\": 1.7, \"PTS\": 2.7}, {\"Player\": \"Bennedict Mathurin\", \"Pos\": \"SF\", \"Age\": 21, \"Tm\": \"IND\", \"G\": 32, \"GS\": 12, \"MP\": 25.3, \"FG\": 5.0, \"FGA\": 10.9, \"FG%\": 0.457, \"3P\": 1.3, \"3PA\": 3.6, \"3P%\": 0.368, \"2P\": 3.7, \"2PA\": 7.3, \"2P%\": 0.5, \"eFG%\": 0.517, \"FT\": 2.8, \"FTA\": 3.3, \"FT%\": 0.838, \"ORB\": 1.1, \"DRB\": 2.8, \"TRB\": 3.9, \"AST\": 1.9, \"STL\": 0.6, \"BLK\": 0.2, \"TOV\": 1.5, \"PF\": 1.9, \"PTS\": 14.0}, {\"Player\": \"Wesley Matthews\", \"Pos\": \"SG\", \"Age\": 37, \"Tm\": \"ATL\", \"G\": 18, \"GS\": 1, \"MP\": 11.4, \"FG\": 0.6, \"FGA\": 2.2, \"FG%\": 0.256, \"3P\": 0.3, \"3PA\": 1.7, \"3P%\": 0.2, \"2P\": 0.2, \"2PA\": 0.5, \"2P%\": 0.444, \"eFG%\": 0.333, \"FT\": 0.8, \"FTA\": 1.1, \"FT%\": 0.737, \"ORB\": 0.2, \"DRB\": 1.2, \"TRB\": 1.4, \"AST\": 0.7, \"STL\": 0.5, \"BLK\": 0.2, \"TOV\": 0.3, \"PF\": 1.4, \"PTS\": 2.2}, {\"Player\": \"Tyrese Maxey\", \"Pos\": \"PG\", \"Age\": 23, \"Tm\": \"PHI\", \"G\": 31, \"GS\": 31, \"MP\": 37.4, \"FG\": 9.0, \"FGA\": 19.7, \"FG%\": 0.458, \"3P\": 3.2, \"3PA\": 8.3, \"3P%\": 0.383, \"2P\": 5.9, \"2PA\": 11.5, \"2P%\": 0.511, \"eFG%\": 0.538, \"FT\": 4.9, \"FTA\": 5.6, \"FT%\": 0.873, \"ORB\": 0.5, \"DRB\": 3.2, \"TRB\": 3.8, \"AST\": 6.5, \"STL\": 0.8, \"BLK\": 0.5, \"TOV\": 1.5, \"PF\": 2.1, \"PTS\": 26.1}, {\"Player\": \"Skylar Mays\", \"Pos\": \"PG\", \"Age\": 26, \"Tm\": \"POR\", \"G\": 20, \"GS\": 5, \"MP\": 17.4, \"FG\": 2.6, \"FGA\": 6.7, \"FG%\": 0.381, \"3P\": 0.7, \"3PA\": 2.5, \"3P%\": 0.286, \"2P\": 1.9, \"2PA\": 4.3, \"2P%\": 0.435, \"eFG%\": 0.433, \"FT\": 0.6, \"FTA\": 0.8, \"FT%\": 0.8, \"ORB\": 0.4, \"DRB\": 1.2, \"TRB\": 1.6, \"AST\": 3.7, \"STL\": 0.7, \"BLK\": 0.2, \"TOV\": 0.9, \"PF\": 1.0, \"PTS\": 6.4}, {\"Player\": \"Miles McBride\", \"Pos\": \"PG\", \"Age\": 23, \"Tm\": \"NYK\", \"G\": 20, \"GS\": 0, \"MP\": 5.4, \"FG\": 0.8, \"FGA\": 1.6, \"FG%\": 0.469, \"3P\": 0.4, \"3PA\": 1.0, \"3P%\": 0.4, \"2P\": 0.4, \"2PA\": 0.6, \"2P%\": 0.583, \"eFG%\": 0.594, \"FT\": 0.1, \"FTA\": 0.1, \"FT%\": 0.5, \"ORB\": 0.1, \"DRB\": 0.2, \"TRB\": 0.3, \"AST\": 0.5, \"STL\": 0.3, \"BLK\": 0.0, \"TOV\": 0.1, \"PF\": 0.7, \"PTS\": 2.0}, {\"Player\": \"CJ McCollum\", \"Pos\": \"PG\", \"Age\": 32, \"Tm\": \"NOP\", \"G\": 20, \"GS\": 20, \"MP\": 33.6, \"FG\": 7.1, \"FGA\": 15.5, \"FG%\": 0.46, \"3P\": 3.4, \"3PA\": 7.9, \"3P%\": 0.427, \"2P\": 3.8, \"2PA\": 7.6, \"2P%\": 0.493, \"eFG%\": 0.568, \"FT\": 2.3, \"FTA\": 3.0, \"FT%\": 0.78, \"ORB\": 0.6, \"DRB\": 3.4, \"TRB\": 4.0, \"AST\": 5.1, \"STL\": 1.5, \"BLK\": 0.8, \"TOV\": 1.6, \"PF\": 2.3, \"PTS\": 19.9}, {\"Player\": \"T.J. McConnell\", \"Pos\": \"PG\", \"Age\": 31, \"Tm\": \"IND\", \"G\": 24, \"GS\": 1, \"MP\": 15.1, \"FG\": 3.3, \"FGA\": 6.3, \"FG%\": 0.527, \"3P\": 0.0, \"3PA\": 0.5, \"3P%\": 0.091, \"2P\": 3.3, \"2PA\": 5.8, \"2P%\": 0.561, \"eFG%\": 0.53, \"FT\": 1.0, \"FTA\": 1.4, \"FT%\": 0.727, \"ORB\": 0.5, \"DRB\": 2.0, \"TRB\": 2.6, \"AST\": 4.8, \"STL\": 0.9, \"BLK\": 0.1, \"TOV\": 1.1, \"PF\": 1.0, \"PTS\": 7.6}, {\"Player\": \"Jaden McDaniels\", \"Pos\": \"SF\", \"Age\": 23, \"Tm\": \"MIN\", \"G\": 22, \"GS\": 21, \"MP\": 27.0, \"FG\": 4.4, \"FGA\": 8.3, \"FG%\": 0.527, \"3P\": 1.1, \"3PA\": 3.0, \"3P%\": 0.364, \"2P\": 3.3, \"2PA\": 5.3, \"2P%\": 0.621, \"eFG%\": 0.593, \"FT\": 0.7, \"FTA\": 1.0, \"FT%\": 0.727, \"ORB\": 0.6, \"DRB\": 1.6, \"TRB\": 2.2, \"AST\": 1.1, \"STL\": 0.8, \"BLK\": 0.7, \"TOV\": 1.0, \"PF\": 3.5, \"PTS\": 10.5}, {\"Player\": \"Jalen McDaniels\", \"Pos\": \"SF\", \"Age\": 26, \"Tm\": \"TOR\", \"G\": 20, \"GS\": 0, \"MP\": 9.8, \"FG\": 1.1, \"FGA\": 3.5, \"FG%\": 0.3, \"3P\": 0.4, \"3PA\": 1.9, \"3P%\": 0.189, \"2P\": 0.7, \"2PA\": 1.7, \"2P%\": 0.424, \"eFG%\": 0.35, \"FT\": 0.4, \"FTA\": 0.4, \"FT%\": 0.875, \"ORB\": 0.2, \"DRB\": 1.1, \"TRB\": 1.3, \"AST\": 0.6, \"STL\": 0.4, \"BLK\": 0.2, \"TOV\": 0.4, \"PF\": 1.1, \"PTS\": 2.8}, {\"Player\": \"Doug McDermott\", \"Pos\": \"SF\", \"Age\": 32, \"Tm\": \"SAS\", \"G\": 30, \"GS\": 0, \"MP\": 15.9, \"FG\": 2.0, \"FGA\": 4.6, \"FG%\": 0.442, \"3P\": 1.6, \"3PA\": 3.6, \"3P%\": 0.45, \"2P\": 0.4, \"2PA\": 1.0, \"2P%\": 0.414, \"eFG%\": 0.62, \"FT\": 0.3, \"FTA\": 0.4, \"FT%\": 0.667, \"ORB\": 0.1, \"DRB\": 0.9, \"TRB\": 1.0, \"AST\": 1.4, \"STL\": 0.3, \"BLK\": 0.1, \"TOV\": 0.6, \"PF\": 1.2, \"PTS\": 6.0}, {\"Player\": \"JaVale McGee\", \"Pos\": \"C\", \"Age\": 36, \"Tm\": \"SAC\", \"G\": 27, \"GS\": 0, \"MP\": 8.4, \"FG\": 2.0, \"FGA\": 3.0, \"FG%\": 0.667, \"3P\": 0.0, \"3PA\": 0.0, \"3P%\": 0.0, \"2P\": 2.0, \"2PA\": 3.0, \"2P%\": 0.675, \"eFG%\": 0.667, \"FT\": 0.6, \"FTA\": 1.0, \"FT%\": 0.556, \"ORB\": 1.0, \"DRB\": 1.9, \"TRB\": 2.9, \"AST\": 0.4, \"STL\": 0.2, \"BLK\": 0.6, \"TOV\": 1.0, \"PF\": 1.3, \"PTS\": 4.6}, {\"Player\": \"Bryce McGowens\", \"Pos\": \"SG\", \"Age\": 21, \"Tm\": \"CHO\", \"G\": 26, \"GS\": 7, \"MP\": 18.2, \"FG\": 1.9, \"FGA\": 4.2, \"FG%\": 0.459, \"3P\": 0.8, \"3PA\": 2.0, \"3P%\": 0.415, \"2P\": 1.1, \"2PA\": 2.2, \"2P%\": 0.5, \"eFG%\": 0.56, \"FT\": 0.9, \"FTA\": 1.2, \"FT%\": 0.742, \"ORB\": 0.3, \"DRB\": 1.6, \"TRB\": 1.9, \"AST\": 1.0, \"STL\": 0.3, \"BLK\": 0.1, \"TOV\": 0.5, \"PF\": 1.8, \"PTS\": 5.6}, {\"Player\": \"Jordan McLaughlin\", \"Pos\": \"PG\", \"Age\": 27, \"Tm\": \"MIN\", \"G\": 12, \"GS\": 0, \"MP\": 5.2, \"FG\": 0.6, \"FGA\": 1.3, \"FG%\": 0.467, \"3P\": 0.3, \"3PA\": 0.5, \"3P%\": 0.5, \"2P\": 0.3, \"2PA\": 0.8, \"2P%\": 0.444, \"eFG%\": 0.567, \"FT\": 0.2, \"FTA\": 0.2, \"FT%\": 1.0, \"ORB\": 0.2, \"DRB\": 0.3, \"TRB\": 0.4, \"AST\": 1.3, \"STL\": 0.5, \"BLK\": 0.3, \"TOV\": 0.1, \"PF\": 0.3, \"PTS\": 1.6}, {\"Player\": \"De'Anthony Melton\", \"Pos\": \"SG\", \"Age\": 25, \"Tm\": \"PHI\", \"G\": 31, \"GS\": 31, \"MP\": 29.4, \"FG\": 4.0, \"FGA\": 10.1, \"FG%\": 0.397, \"3P\": 2.1, \"3PA\": 5.8, \"3P%\": 0.365, \"2P\": 1.9, \"2PA\": 4.2, \"2P%\": 0.443, \"eFG%\": 0.503, \"FT\": 1.9, \"FTA\": 2.4, \"FT%\": 0.822, \"ORB\": 0.8, \"DRB\": 3.2, \"TRB\": 4.0, \"AST\": 3.2, \"STL\": 1.7, \"BLK\": 0.5, \"TOV\": 1.2, \"PF\": 2.5, \"PTS\": 12.1}, {\"Player\": \"Sam Merrill\", \"Pos\": \"SG\", \"Age\": 27, \"Tm\": \"CLE\", \"G\": 18, \"GS\": 0, \"MP\": 11.6, \"FG\": 2.1, \"FGA\": 4.9, \"FG%\": 0.432, \"3P\": 1.9, \"3PA\": 4.2, \"3P%\": 0.447, \"2P\": 0.2, \"2PA\": 0.7, \"2P%\": 0.333, \"eFG%\": 0.625, \"FT\": 0.2, \"FTA\": 0.2, \"FT%\": 0.75, \"ORB\": 0.3, \"DRB\": 1.0, \"TRB\": 1.3, \"AST\": 0.9, \"STL\": 0.2, \"BLK\": 0.1, \"TOV\": 0.4, \"PF\": 1.1, \"PTS\": 6.3}, {\"Player\": \"Chimezie Metu\", \"Pos\": \"C\", \"Age\": 26, \"Tm\": \"PHO\", \"G\": 23, \"GS\": 3, \"MP\": 13.3, \"FG\": 2.1, \"FGA\": 4.1, \"FG%\": 0.505, \"3P\": 0.6, \"3PA\": 1.7, \"3P%\": 0.333, \"2P\": 1.5, \"2PA\": 2.4, \"2P%\": 0.625, \"eFG%\": 0.574, \"FT\": 1.1, \"FTA\": 1.3, \"FT%\": 0.867, \"ORB\": 0.8, \"DRB\": 2.4, \"TRB\": 3.3, \"AST\": 0.5, \"STL\": 0.5, \"BLK\": 0.2, \"TOV\": 0.8, \"PF\": 1.1, \"PTS\": 5.9}, {\"Player\": \"Vasilije Mici\\u0107\", \"Pos\": \"PG\", \"Age\": 30, \"Tm\": \"OKC\", \"G\": 13, \"GS\": 0, \"MP\": 12.6, \"FG\": 1.0, \"FGA\": 3.2, \"FG%\": 0.31, \"3P\": 0.4, \"3PA\": 1.9, \"3P%\": 0.2, \"2P\": 0.6, \"2PA\": 1.3, \"2P%\": 0.471, \"eFG%\": 0.369, \"FT\": 0.3, \"FTA\": 0.5, \"FT%\": 0.667, \"ORB\": 0.1, \"DRB\": 0.6, \"TRB\": 0.7, \"AST\": 2.8, \"STL\": 0.4, \"BLK\": 0.2, \"TOV\": 0.9, \"PF\": 1.2, \"PTS\": 2.7}, {\"Player\": \"Khris Middleton\", \"Pos\": \"SF\", \"Age\": 32, \"Tm\": \"MIL\", \"G\": 28, \"GS\": 28, \"MP\": 25.0, \"FG\": 5.6, \"FGA\": 11.5, \"FG%\": 0.492, \"3P\": 1.6, \"3PA\": 4.3, \"3P%\": 0.372, \"2P\": 4.0, \"2PA\": 7.1, \"2P%\": 0.565, \"eFG%\": 0.562, \"FT\": 1.6, \"FTA\": 1.9, \"FT%\": 0.833, \"ORB\": 0.7, \"DRB\": 3.8, \"TRB\": 4.5, \"AST\": 4.8, \"STL\": 0.8, \"BLK\": 0.1, \"TOV\": 2.1, \"PF\": 2.3, \"PTS\": 14.5}, {\"Player\": \"Brandon Miller\", \"Pos\": \"SF\", \"Age\": 21, \"Tm\": \"CHO\", \"G\": 28, \"GS\": 22, \"MP\": 31.3, \"FG\": 5.6, \"FGA\": 13.0, \"FG%\": 0.433, \"3P\": 2.1, \"3PA\": 5.3, \"3P%\": 0.396, \"2P\": 3.5, \"2PA\": 7.6, \"2P%\": 0.458, \"eFG%\": 0.514, \"FT\": 1.6, \"FTA\": 1.9, \"FT%\": 0.815, \"ORB\": 0.9, \"DRB\": 3.0, \"TRB\": 3.8, \"AST\": 2.2, \"STL\": 0.6, \"BLK\": 0.5, \"TOV\": 1.7, \"PF\": 2.7, \"PTS\": 14.9}, {\"Player\": \"Dariq Whitehead\", \"Pos\": \"SF\", \"Age\": 19, \"Tm\": \"BRK\", \"G\": 2, \"GS\": 0, \"MP\": 12.0, \"FG\": 0.5, \"FGA\": 2.5, \"FG%\": 0.2, \"3P\": 0.0, \"3PA\": 1.5, \"3P%\": 0.0, \"2P\": 0.5, \"2PA\": 1.0, \"2P%\": 0.5, \"eFG%\": 0.2, \"FT\": 0.5, \"FTA\": 1.0, \"FT%\": 0.5, \"ORB\": 0.0, \"DRB\": 2.0, \"TRB\": 2.0, \"AST\": 1.5, \"STL\": 0.0, \"BLK\": 0.5, \"TOV\": 0.0, \"PF\": 0.0, \"PTS\": 1.5}, {\"Player\": \"Shake Milton\", \"Pos\": \"SG\", \"Age\": 27, \"Tm\": \"MIN\", \"G\": 27, \"GS\": 0, \"MP\": 14.9, \"FG\": 1.8, \"FGA\": 4.7, \"FG%\": 0.378, \"3P\": 0.4, \"3PA\": 1.7, \"3P%\": 0.255, \"2P\": 1.3, \"2PA\": 3.0, \"2P%\": 0.45, \"eFG%\": 0.425, \"FT\": 1.3, \"FTA\": 1.6, \"FT%\": 0.837, \"ORB\": 0.2, \"DRB\": 1.4, \"TRB\": 1.6, \"AST\": 1.5, \"STL\": 0.5, \"BLK\": 0.1, \"TOV\": 0.9, \"PF\": 1.4, \"PTS\": 5.3}, {\"Player\": \"Justin Minaya\", \"Pos\": \"SF\", \"Age\": 24, \"Tm\": \"POR\", \"G\": 6, \"GS\": 0, \"MP\": 6.3, \"FG\": 0.3, \"FGA\": 1.0, \"FG%\": 0.333, \"3P\": 0.3, \"3PA\": 0.7, \"3P%\": 0.5, \"2P\": 0.0, \"2PA\": 0.3, \"2P%\": 0.0, \"eFG%\": 0.5, \"FT\": 0.2, \"FTA\": 0.3, \"FT%\": 0.5, \"ORB\": 0.7, \"DRB\": 0.2, \"TRB\": 0.8, \"AST\": 0.0, \"STL\": 0.0, \"BLK\": 0.2, \"TOV\": 0.2, \"PF\": 0.3, \"PTS\": 1.2}, {\"Player\": \"Josh Minott\", \"Pos\": \"SF\", \"Age\": 21, \"Tm\": \"MIN\", \"G\": 12, \"GS\": 0, \"MP\": 2.6, \"FG\": 0.7, \"FGA\": 1.3, \"FG%\": 0.533, \"3P\": 0.0, \"3PA\": 0.4, \"3P%\": 0.0, \"2P\": 0.7, \"2PA\": 0.8, \"2P%\": 0.8, \"eFG%\": 0.533, \"FT\": 0.3, \"FTA\": 0.5, \"FT%\": 0.667, \"ORB\": 0.1, \"DRB\": 0.2, \"TRB\": 0.3, \"AST\": 0.3, \"STL\": 0.0, \"BLK\": 0.1, \"TOV\": 0.1, \"PF\": 0.3, \"PTS\": 1.7}, {\"Player\": \"Davion Mitchell\", \"Pos\": \"PG\", \"Age\": 25, \"Tm\": \"SAC\", \"G\": 24, \"GS\": 3, \"MP\": 13.0, \"FG\": 1.4, \"FGA\": 3.8, \"FG%\": 0.37, \"3P\": 0.5, \"3PA\": 2.0, \"3P%\": 0.25, \"2P\": 0.9, \"2PA\": 1.8, \"2P%\": 0.5, \"eFG%\": 0.435, \"FT\": 0.4, \"FTA\": 0.5, \"FT%\": 0.769, \"ORB\": 0.1, \"DRB\": 0.8, \"TRB\": 1.0, \"AST\": 2.0, \"STL\": 0.2, \"BLK\": 0.1, \"TOV\": 0.5, \"PF\": 1.3, \"PTS\": 3.8}, {\"Player\": \"Donovan Mitchell\", \"Pos\": \"SG\", \"Age\": 27, \"Tm\": \"CLE\", \"G\": 24, \"GS\": 24, \"MP\": 36.5, \"FG\": 9.8, \"FGA\": 21.3, \"FG%\": 0.457, \"3P\": 3.1, \"3PA\": 8.9, \"3P%\": 0.347, \"2P\": 6.7, \"2PA\": 12.5, \"2P%\": 0.535, \"eFG%\": 0.529, \"FT\": 5.3, \"FTA\": 6.0, \"FT%\": 0.895, \"ORB\": 1.1, \"DRB\": 4.6, \"TRB\": 5.7, \"AST\": 5.7, \"STL\": 1.9, \"BLK\": 0.5, \"TOV\": 2.6, \"PF\": 2.4, \"PTS\": 27.9}, {\"Player\": \"Evan Mobley\", \"Pos\": \"PF\", \"Age\": 22, \"Tm\": \"CLE\", \"G\": 21, \"GS\": 21, \"MP\": 33.6, \"FG\": 6.8, \"FGA\": 11.8, \"FG%\": 0.573, \"3P\": 0.1, \"3PA\": 0.5, \"3P%\": 0.2, \"2P\": 6.7, \"2PA\": 11.3, \"2P%\": 0.588, \"eFG%\": 0.577, \"FT\": 2.4, \"FTA\": 3.1, \"FT%\": 0.769, \"ORB\": 2.7, \"DRB\": 7.8, \"TRB\": 10.5, \"AST\": 2.9, \"STL\": 0.8, \"BLK\": 1.7, \"TOV\": 2.3, \"PF\": 2.9, \"PTS\": 16.0}, {\"Player\": \"Malik Monk\", \"Pos\": \"SG\", \"Age\": 25, \"Tm\": \"SAC\", \"G\": 30, \"GS\": 0, \"MP\": 24.9, \"FG\": 4.9, \"FGA\": 11.0, \"FG%\": 0.442, \"3P\": 2.6, \"3PA\": 6.2, \"3P%\": 0.412, \"2P\": 2.3, \"2PA\": 4.8, \"2P%\": 0.483, \"eFG%\": 0.559, \"FT\": 2.2, \"FTA\": 2.5, \"FT%\": 0.892, \"ORB\": 0.4, \"DRB\": 2.2, \"TRB\": 2.6, \"AST\": 5.2, \"STL\": 0.6, \"BLK\": 0.6, \"TOV\": 2.2, \"PF\": 1.8, \"PTS\": 14.5}, {\"Player\": \"Moses Moody\", \"Pos\": \"SG\", \"Age\": 21, \"Tm\": \"GSW\", \"G\": 31, \"GS\": 4, \"MP\": 18.0, \"FG\": 3.0, \"FGA\": 6.2, \"FG%\": 0.477, \"3P\": 1.0, \"3PA\": 2.9, \"3P%\": 0.33, \"2P\": 2.0, \"2PA\": 3.3, \"2P%\": 0.608, \"eFG%\": 0.554, \"FT\": 1.3, \"FTA\": 1.7, \"FT%\": 0.774, \"ORB\": 1.2, \"DRB\": 2.0, \"TRB\": 3.2, \"AST\": 0.9, \"STL\": 0.7, \"BLK\": 0.3, \"TOV\": 0.7, \"PF\": 1.4, \"PTS\": 8.2}, {\"Player\": \"Ja Morant\", \"Pos\": \"PG\", \"Age\": 24, \"Tm\": \"MEM\", \"G\": 6, \"GS\": 6, \"MP\": 35.5, \"FG\": 9.3, \"FGA\": 20.0, \"FG%\": 0.467, \"3P\": 0.8, \"3PA\": 4.8, \"3P%\": 0.172, \"2P\": 8.5, \"2PA\": 15.2, \"2P%\": 0.56, \"eFG%\": 0.488, \"FT\": 5.7, \"FTA\": 6.8, \"FT%\": 0.829, \"ORB\": 0.5, \"DRB\": 4.5, \"TRB\": 5.0, \"AST\": 7.8, \"STL\": 0.7, \"BLK\": 0.7, \"TOV\": 3.2, \"PF\": 2.0, \"PTS\": 25.2}, {\"Player\": \"Marcus Morris\", \"Pos\": \"PF\", \"Age\": 34, \"Tm\": \"PHI\", \"G\": 24, \"GS\": 4, \"MP\": 15.3, \"FG\": 2.3, \"FGA\": 4.9, \"FG%\": 0.479, \"3P\": 1.0, \"3PA\": 2.2, \"3P%\": 0.442, \"2P\": 1.4, \"2PA\": 2.7, \"2P%\": 0.508, \"eFG%\": 0.577, \"FT\": 0.5, \"FTA\": 0.6, \"FT%\": 0.867, \"ORB\": 0.4, \"DRB\": 2.3, \"TRB\": 2.6, \"AST\": 0.8, \"STL\": 0.3, \"BLK\": 0.3, \"TOV\": 0.3, \"PF\": 1.9, \"PTS\": 6.2}, {\"Player\": \"Markieff Morris\", \"Pos\": \"PF\", \"Age\": 34, \"Tm\": \"DAL\", \"G\": 13, \"GS\": 1, \"MP\": 9.8, \"FG\": 1.1, \"FGA\": 3.3, \"FG%\": 0.326, \"3P\": 0.6, \"3PA\": 2.1, \"3P%\": 0.296, \"2P\": 0.5, \"2PA\": 1.2, \"2P%\": 0.375, \"eFG%\": 0.419, \"FT\": 0.1, \"FTA\": 0.2, \"FT%\": 0.5, \"ORB\": 0.3, \"DRB\": 1.5, \"TRB\": 1.8, \"AST\": 0.8, \"STL\": 0.3, \"BLK\": 0.1, \"TOV\": 0.6, \"PF\": 0.7, \"PTS\": 2.8}, {\"Player\": \"Trey Murphy III\", \"Pos\": \"SF\", \"Age\": 23, \"Tm\": \"NOP\", \"G\": 12, \"GS\": 1, \"MP\": 27.0, \"FG\": 4.8, \"FGA\": 10.3, \"FG%\": 0.472, \"3P\": 2.8, \"3PA\": 6.5, \"3P%\": 0.423, \"2P\": 2.1, \"2PA\": 3.8, \"2P%\": 0.556, \"eFG%\": 0.606, \"FT\": 2.3, \"FTA\": 2.8, \"FT%\": 0.848, \"ORB\": 0.3, \"DRB\": 3.7, \"TRB\": 4.0, \"AST\": 1.7, \"STL\": 0.8, \"BLK\": 0.3, \"TOV\": 0.7, \"PF\": 1.2, \"PTS\": 14.8}, {\"Player\": \"Dejounte Murray\", \"Pos\": \"SG\", \"Age\": 27, \"Tm\": \"ATL\", \"G\": 32, \"GS\": 32, \"MP\": 34.4, \"FG\": 7.9, \"FGA\": 17.1, \"FG%\": 0.461, \"3P\": 2.4, \"3PA\": 6.3, \"3P%\": 0.383, \"2P\": 5.5, \"2PA\": 10.8, \"2P%\": 0.506, \"eFG%\": 0.531, \"FT\": 2.4, \"FTA\": 2.9, \"FT%\": 0.817, \"ORB\": 0.8, \"DRB\": 3.8, \"TRB\": 4.6, \"AST\": 5.2, \"STL\": 1.5, \"BLK\": 0.3, \"TOV\": 2.1, \"PF\": 1.7, \"PTS\": 20.5}, {\"Player\": \"Jamal Murray\", \"Pos\": \"PG\", \"Age\": 26, \"Tm\": \"DEN\", \"G\": 21, \"GS\": 21, \"MP\": 29.7, \"FG\": 7.2, \"FGA\": 15.4, \"FG%\": 0.469, \"3P\": 2.6, \"3PA\": 5.7, \"3P%\": 0.454, \"2P\": 4.7, \"2PA\": 9.8, \"2P%\": 0.478, \"eFG%\": 0.552, \"FT\": 2.6, \"FTA\": 3.0, \"FT%\": 0.887, \"ORB\": 0.6, \"DRB\": 3.3, \"TRB\": 3.9, \"AST\": 6.2, \"STL\": 0.9, \"BLK\": 0.8, \"TOV\": 1.8, \"PF\": 1.8, \"PTS\": 19.7}, {\"Player\": \"Keegan Murray\", \"Pos\": \"SF\", \"Age\": 23, \"Tm\": \"SAC\", \"G\": 27, \"GS\": 27, \"MP\": 32.4, \"FG\": 5.7, \"FGA\": 12.8, \"FG%\": 0.443, \"3P\": 2.5, \"3PA\": 6.9, \"3P%\": 0.362, \"2P\": 3.2, \"2PA\": 5.9, \"2P%\": 0.538, \"eFG%\": 0.541, \"FT\": 1.5, \"FTA\": 1.7, \"FT%\": 0.851, \"ORB\": 1.3, \"DRB\": 4.0, \"TRB\": 5.3, \"AST\": 1.6, \"STL\": 1.2, \"BLK\": 0.4, \"TOV\": 0.9, \"PF\": 2.8, \"PTS\": 15.3}, {\"Player\": \"Kris Murray\", \"Pos\": \"SF\", \"Age\": 23, \"Tm\": \"POR\", \"G\": 16, \"GS\": 0, \"MP\": 10.6, \"FG\": 1.0, \"FGA\": 2.7, \"FG%\": 0.372, \"3P\": 0.5, \"3PA\": 1.6, \"3P%\": 0.308, \"2P\": 0.5, \"2PA\": 1.1, \"2P%\": 0.471, \"eFG%\": 0.465, \"FT\": 0.2, \"FTA\": 0.3, \"FT%\": 0.6, \"ORB\": 0.6, \"DRB\": 1.1, \"TRB\": 1.7, \"AST\": 0.5, \"STL\": 0.8, \"BLK\": 0.2, \"TOV\": 0.1, \"PF\": 0.9, \"PTS\": 2.7}, {\"Player\": \"Mike Muscala\", \"Pos\": \"C\", \"Age\": 32, \"Tm\": \"WAS\", \"G\": 19, \"GS\": 2, \"MP\": 14.0, \"FG\": 1.4, \"FGA\": 3.6, \"FG%\": 0.377, \"3P\": 0.6, \"3PA\": 2.1, \"3P%\": 0.308, \"2P\": 0.7, \"2PA\": 1.6, \"2P%\": 0.467, \"eFG%\": 0.464, \"FT\": 0.7, \"FTA\": 0.9, \"FT%\": 0.778, \"ORB\": 0.6, \"DRB\": 2.2, \"TRB\": 2.8, \"AST\": 1.1, \"STL\": 0.2, \"BLK\": 0.4, \"TOV\": 0.6, \"PF\": 1.3, \"PTS\": 4.1}, {\"Player\": \"Larry Nance Jr.\", \"Pos\": \"C\", \"Age\": 31, \"Tm\": \"NOP\", \"G\": 16, \"GS\": 0, \"MP\": 16.2, \"FG\": 1.8, \"FGA\": 3.3, \"FG%\": 0.538, \"3P\": 0.3, \"3PA\": 0.9, \"3P%\": 0.357, \"2P\": 1.4, \"2PA\": 2.4, \"2P%\": 0.605, \"eFG%\": 0.587, \"FT\": 0.5, \"FTA\": 0.8, \"FT%\": 0.667, \"ORB\": 1.3, \"DRB\": 3.4, \"TRB\": 4.7, \"AST\": 0.8, \"STL\": 0.9, \"BLK\": 0.3, \"TOV\": 1.0, \"PF\": 1.4, \"PTS\": 4.3}, {\"Player\": \"Andrew Nembhard\", \"Pos\": \"PG\", \"Age\": 24, \"Tm\": \"IND\", \"G\": 23, \"GS\": 7, \"MP\": 20.0, \"FG\": 3.3, \"FGA\": 6.9, \"FG%\": 0.484, \"3P\": 0.7, \"3PA\": 2.1, \"3P%\": 0.306, \"2P\": 2.7, \"2PA\": 4.8, \"2P%\": 0.564, \"eFG%\": 0.531, \"FT\": 0.3, \"FTA\": 0.5, \"FT%\": 0.727, \"ORB\": 0.6, \"DRB\": 1.2, \"TRB\": 1.8, \"AST\": 4.0, \"STL\": 0.9, \"BLK\": 0.0, \"TOV\": 1.6, \"PF\": 2.0, \"PTS\": 7.7}, {\"Player\": \"Aaron Nesmith\", \"Pos\": \"SF\", \"Age\": 24, \"Tm\": \"IND\", \"G\": 30, \"GS\": 5, \"MP\": 25.6, \"FG\": 4.2, \"FGA\": 8.1, \"FG%\": 0.514, \"3P\": 2.2, \"3PA\": 4.7, \"3P%\": 0.471, \"2P\": 2.0, \"2PA\": 3.4, \"2P%\": 0.573, \"eFG%\": 0.65, \"FT\": 1.2, \"FTA\": 1.7, \"FT%\": 0.7, \"ORB\": 0.9, \"DRB\": 2.4, \"TRB\": 3.2, \"AST\": 1.0, \"STL\": 1.1, \"BLK\": 0.8, \"TOV\": 0.9, \"PF\": 3.4, \"PTS\": 11.7}, {\"Player\": \"Georges Niang\", \"Pos\": \"PF\", \"Age\": 30, \"Tm\": \"CLE\", \"G\": 33, \"GS\": 1, \"MP\": 21.8, \"FG\": 3.1, \"FGA\": 7.6, \"FG%\": 0.402, \"3P\": 1.5, \"3PA\": 4.6, \"3P%\": 0.329, \"2P\": 1.5, \"2PA\": 3.0, \"2P%\": 0.515, \"eFG%\": 0.502, \"FT\": 0.4, \"FTA\": 0.5, \"FT%\": 0.824, \"ORB\": 0.4, \"DRB\": 3.1, \"TRB\": 3.5, \"AST\": 1.2, \"STL\": 0.3, \"BLK\": 0.2, \"TOV\": 0.9, \"PF\": 2.4, \"PTS\": 8.1}, {\"Player\": \"Daishen Nix\", \"Pos\": \"PG\", \"Age\": 21, \"Tm\": \"MIN\", \"G\": 6, \"GS\": 0, \"MP\": 3.5, \"FG\": 0.5, \"FGA\": 1.3, \"FG%\": 0.375, \"3P\": 0.3, \"3PA\": 0.8, \"3P%\": 0.4, \"2P\": 0.2, \"2PA\": 0.5, \"2P%\": 0.333, \"eFG%\": 0.5, \"FT\": 0.0, \"FTA\": 0.3, \"FT%\": 0.0, \"ORB\": 0.0, \"DRB\": 0.2, \"TRB\": 0.2, \"AST\": 0.0, \"STL\": 0.2, \"BLK\": 0.0, \"TOV\": 0.0, \"PF\": 0.0, \"PTS\": 1.3}, {\"Player\": \"Zeke Nnaji\", \"Pos\": \"PF\", \"Age\": 23, \"Tm\": \"DEN\", \"G\": 29, \"GS\": 0, \"MP\": 10.4, \"FG\": 1.3, \"FGA\": 2.7, \"FG%\": 0.474, \"3P\": 0.1, \"3PA\": 0.4, \"3P%\": 0.308, \"2P\": 1.1, \"2PA\": 2.2, \"2P%\": 0.508, \"eFG%\": 0.5, \"FT\": 0.8, \"FTA\": 1.2, \"FT%\": 0.629, \"ORB\": 1.2, \"DRB\": 1.1, \"TRB\": 2.4, \"AST\": 0.5, \"STL\": 0.2, \"BLK\": 0.7, \"TOV\": 0.7, \"PF\": 1.6, \"PTS\": 3.4}, {\"Player\": \"Jaylen Nowell\", \"Pos\": \"SG\", \"Age\": 24, \"Tm\": \"MEM\", \"G\": 9, \"GS\": 1, \"MP\": 17.3, \"FG\": 2.4, \"FGA\": 6.1, \"FG%\": 0.4, \"3P\": 0.4, \"3PA\": 2.6, \"3P%\": 0.174, \"2P\": 2.0, \"2PA\": 3.6, \"2P%\": 0.563, \"eFG%\": 0.436, \"FT\": 0.3, \"FTA\": 0.3, \"FT%\": 1.0, \"ORB\": 0.3, \"DRB\": 1.2, \"TRB\": 1.6, \"AST\": 1.8, \"STL\": 0.3, \"BLK\": 0.0, \"TOV\": 0.6, \"PF\": 1.4, \"PTS\": 5.7}, {\"Player\": \"Jusuf Nurki\\u0107\", \"Pos\": \"C\", \"Age\": 29, \"Tm\": \"PHO\", \"G\": 31, \"GS\": 31, \"MP\": 28.0, \"FG\": 4.8, \"FGA\": 9.8, \"FG%\": 0.485, \"3P\": 0.6, \"3PA\": 2.3, \"3P%\": 0.268, \"2P\": 4.2, \"2PA\": 7.5, \"2P%\": 0.551, \"eFG%\": 0.516, \"FT\": 2.6, \"FTA\": 3.7, \"FT%\": 0.719, \"ORB\": 2.8, \"DRB\": 7.5, \"TRB\": 10.4, \"AST\": 3.6, \"STL\": 0.9, \"BLK\": 1.2, \"TOV\": 2.1, \"PF\": 3.5, \"PTS\": 12.8}, {\"Player\": \"Jordan Nwora\", \"Pos\": \"SF\", \"Age\": 25, \"Tm\": \"IND\", \"G\": 11, \"GS\": 0, \"MP\": 10.9, \"FG\": 2.5, \"FGA\": 5.1, \"FG%\": 0.482, \"3P\": 0.7, \"3PA\": 2.2, \"3P%\": 0.333, \"2P\": 1.7, \"2PA\": 2.9, \"2P%\": 0.594, \"eFG%\": 0.554, \"FT\": 0.5, \"FTA\": 0.6, \"FT%\": 0.857, \"ORB\": 0.6, \"DRB\": 1.4, \"TRB\": 2.0, \"AST\": 1.0, \"STL\": 0.5, \"BLK\": 0.1, \"TOV\": 0.9, \"PF\": 1.1, \"PTS\": 6.2}, {\"Player\": \"Royce O'Neale\", \"Pos\": \"SF\", \"Age\": 30, \"Tm\": \"BRK\", \"G\": 32, \"GS\": 6, \"MP\": 25.8, \"FG\": 2.6, \"FGA\": 6.8, \"FG%\": 0.389, \"3P\": 2.1, \"3PA\": 5.5, \"3P%\": 0.383, \"2P\": 0.5, \"2PA\": 1.3, \"2P%\": 0.415, \"eFG%\": 0.544, \"FT\": 0.3, \"FTA\": 0.5, \"FT%\": 0.625, \"ORB\": 0.8, \"DRB\": 3.9, \"TRB\": 4.6, \"AST\": 3.2, \"STL\": 0.7, \"BLK\": 0.7, \"TOV\": 0.9, \"PF\": 2.4, \"PTS\": 7.7}, {\"Player\": \"Josh Okogie\", \"Pos\": \"SG\", \"Age\": 25, \"Tm\": \"PHO\", \"G\": 27, \"GS\": 11, \"MP\": 20.0, \"FG\": 1.7, \"FGA\": 4.4, \"FG%\": 0.387, \"3P\": 0.5, \"3PA\": 2.1, \"3P%\": 0.25, \"2P\": 1.2, \"2PA\": 2.3, \"2P%\": 0.508, \"eFG%\": 0.445, \"FT\": 1.8, \"FTA\": 2.4, \"FT%\": 0.75, \"ORB\": 1.5, \"DRB\": 1.6, \"TRB\": 3.1, \"AST\": 1.3, \"STL\": 0.9, \"BLK\": 0.5, \"TOV\": 0.7, \"PF\": 1.4, \"PTS\": 5.7}, {\"Player\": \"Onyeka Okongwu\", \"Pos\": \"C\", \"Age\": 23, \"Tm\": \"ATL\", \"G\": 31, \"GS\": 2, \"MP\": 24.5, \"FG\": 3.7, \"FGA\": 6.4, \"FG%\": 0.581, \"3P\": 0.4, \"3PA\": 1.4, \"3P%\": 0.286, \"2P\": 3.3, \"2PA\": 5.0, \"2P%\": 0.66, \"eFG%\": 0.611, \"FT\": 1.8, \"FTA\": 2.1, \"FT%\": 0.833, \"ORB\": 2.4, \"DRB\": 4.3, \"TRB\": 6.7, \"AST\": 1.5, \"STL\": 0.5, \"BLK\": 0.9, \"TOV\": 0.8, \"PF\": 2.8, \"PTS\": 9.6}, {\"Player\": \"Isaac Okoro\", \"Pos\": \"SF\", \"Age\": 23, \"Tm\": \"CLE\", \"G\": 24, \"GS\": 13, \"MP\": 26.2, \"FG\": 3.1, \"FGA\": 6.3, \"FG%\": 0.493, \"3P\": 0.9, \"3PA\": 2.6, \"3P%\": 0.349, \"2P\": 2.2, \"2PA\": 3.7, \"2P%\": 0.596, \"eFG%\": 0.566, \"FT\": 1.6, \"FTA\": 2.3, \"FT%\": 0.704, \"ORB\": 1.3, \"DRB\": 2.0, \"TRB\": 3.3, \"AST\": 2.1, \"STL\": 0.9, \"BLK\": 0.5, \"TOV\": 0.8, \"PF\": 2.3, \"PTS\": 8.8}, {\"Player\": \"Kelly Olynyk\", \"Pos\": \"C\", \"Age\": 32, \"Tm\": \"UTA\", \"G\": 32, \"GS\": 8, \"MP\": 21.9, \"FG\": 3.0, \"FGA\": 5.3, \"FG%\": 0.559, \"3P\": 0.8, \"3PA\": 1.9, \"3P%\": 0.41, \"2P\": 2.2, \"2PA\": 3.4, \"2P%\": 0.642, \"eFG%\": 0.632, \"FT\": 1.4, \"FTA\": 1.6, \"FT%\": 0.9, \"ORB\": 1.5, \"DRB\": 3.9, \"TRB\": 5.4, \"AST\": 4.7, \"STL\": 0.9, \"BLK\": 0.3, \"TOV\": 1.8, \"PF\": 2.7, \"PTS\": 8.1}, {\"Player\": \"Eugene Omoruyi\", \"Pos\": \"SF\", \"Age\": 26, \"Tm\": \"WAS\", \"G\": 16, \"GS\": 0, \"MP\": 5.8, \"FG\": 1.8, \"FGA\": 2.9, \"FG%\": 0.609, \"3P\": 0.3, \"3PA\": 0.9, \"3P%\": 0.357, \"2P\": 1.4, \"2PA\": 2.0, \"2P%\": 0.719, \"eFG%\": 0.663, \"FT\": 0.9, \"FTA\": 1.2, \"FT%\": 0.737, \"ORB\": 0.6, \"DRB\": 1.0, \"TRB\": 1.6, \"AST\": 0.6, \"STL\": 0.5, \"BLK\": 0.1, \"TOV\": 0.6, \"PF\": 0.9, \"PTS\": 4.7}, {\"Player\": \"Cedi Osman\", \"Pos\": \"SF\", \"Age\": 28, \"Tm\": \"SAS\", \"G\": 32, \"GS\": 1, \"MP\": 18.3, \"FG\": 2.8, \"FGA\": 6.1, \"FG%\": 0.464, \"3P\": 1.2, \"3PA\": 3.2, \"3P%\": 0.359, \"2P\": 1.7, \"2PA\": 2.9, \"2P%\": 0.581, \"eFG%\": 0.559, \"FT\": 0.7, \"FTA\": 1.1, \"FT%\": 0.676, \"ORB\": 0.3, \"DRB\": 1.9, \"TRB\": 2.3, \"AST\": 1.8, \"STL\": 0.4, \"BLK\": 0.2, \"TOV\": 0.6, \"PF\": 1.5, \"PTS\": 7.6}, {\"Player\": \"Kelly Oubre Jr.\", \"Pos\": \"SF\", \"Age\": 28, \"Tm\": \"PHI\", \"G\": 21, \"GS\": 11, \"MP\": 26.4, \"FG\": 4.9, \"FGA\": 10.3, \"FG%\": 0.47, \"3P\": 1.7, \"3PA\": 4.7, \"3P%\": 0.367, \"2P\": 3.1, \"2PA\": 5.7, \"2P%\": 0.555, \"eFG%\": 0.553, \"FT\": 1.6, \"FTA\": 2.3, \"FT%\": 0.708, \"ORB\": 1.1, \"DRB\": 3.0, \"TRB\": 4.1, \"AST\": 0.8, \"STL\": 1.2, \"BLK\": 0.4, \"TOV\": 0.8, \"PF\": 2.3, \"PTS\": 13.0}, {\"Player\": \"Chris Paul\", \"Pos\": \"PG\", \"Age\": 38, \"Tm\": \"GSW\", \"G\": 29, \"GS\": 8, \"MP\": 27.5, \"FG\": 3.2, \"FGA\": 7.9, \"FG%\": 0.412, \"3P\": 1.3, \"3PA\": 3.8, \"3P%\": 0.339, \"2P\": 2.0, \"2PA\": 4.1, \"2P%\": 0.479, \"eFG%\": 0.493, \"FT\": 1.1, \"FTA\": 1.2, \"FT%\": 0.889, \"ORB\": 0.3, \"DRB\": 3.4, \"TRB\": 3.8, \"AST\": 7.4, \"STL\": 1.2, \"BLK\": 0.1, \"TOV\": 1.2, \"PF\": 1.9, \"PTS\": 8.9}, {\"Player\": \"Cameron Payne\", \"Pos\": \"PG\", \"Age\": 29, \"Tm\": \"MIL\", \"G\": 33, \"GS\": 2, \"MP\": 15.8, \"FG\": 2.2, \"FGA\": 4.8, \"FG%\": 0.459, \"3P\": 1.1, \"3PA\": 2.8, \"3P%\": 0.394, \"2P\": 1.1, \"2PA\": 2.0, \"2P%\": 0.554, \"eFG%\": 0.575, \"FT\": 0.7, \"FTA\": 0.8, \"FT%\": 0.92, \"ORB\": 0.1, \"DRB\": 1.1, \"TRB\": 1.2, \"AST\": 2.4, \"STL\": 0.4, \"BLK\": 0.1, \"TOV\": 0.8, \"PF\": 1.8, \"PTS\": 6.2}, {\"Player\": \"Gary Payton II\", \"Pos\": \"SG\", \"Age\": 31, \"Tm\": \"GSW\", \"G\": 15, \"GS\": 0, \"MP\": 16.7, \"FG\": 2.3, \"FGA\": 4.9, \"FG%\": 0.473, \"3P\": 0.6, \"3PA\": 1.9, \"3P%\": 0.31, \"2P\": 1.7, \"2PA\": 3.0, \"2P%\": 0.578, \"eFG%\": 0.534, \"FT\": 0.4, \"FTA\": 0.6, \"FT%\": 0.667, \"ORB\": 1.0, \"DRB\": 1.9, \"TRB\": 2.9, \"AST\": 0.9, \"STL\": 1.1, \"BLK\": 0.3, \"TOV\": 0.6, \"PF\": 1.9, \"PTS\": 5.7}, {\"Player\": \"Julian Phillips\", \"Pos\": \"SF\", \"Age\": 20, \"Tm\": \"CHI\", \"G\": 19, \"GS\": 0, \"MP\": 4.0, \"FG\": 0.3, \"FGA\": 0.9, \"FG%\": 0.278, \"3P\": 0.0, \"3PA\": 0.5, \"3P%\": 0.0, \"2P\": 0.3, \"2PA\": 0.5, \"2P%\": 0.556, \"eFG%\": 0.278, \"FT\": 0.1, \"FTA\": 0.2, \"FT%\": 0.25, \"ORB\": 0.1, \"DRB\": 0.4, \"TRB\": 0.5, \"AST\": 0.3, \"STL\": 0.1, \"BLK\": 0.0, \"TOV\": 0.1, \"PF\": 0.5, \"PTS\": 0.6}, {\"Player\": \"Jalen Pickett\", \"Pos\": \"SG\", \"Age\": 24, \"Tm\": \"DEN\", \"G\": 15, \"GS\": 0, \"MP\": 6.0, \"FG\": 0.7, \"FGA\": 1.7, \"FG%\": 0.44, \"3P\": 0.5, \"3PA\": 1.2, \"3P%\": 0.389, \"2P\": 0.3, \"2PA\": 0.5, \"2P%\": 0.571, \"eFG%\": 0.58, \"FT\": 0.1, \"FTA\": 0.1, \"FT%\": 1.0, \"ORB\": 0.1, \"DRB\": 0.7, \"TRB\": 0.7, \"AST\": 0.7, \"STL\": 0.2, \"BLK\": 0.0, \"TOV\": 0.4, \"PF\": 0.5, \"PTS\": 2.1}, {\"Player\": \"Brandin Podziemski\", \"Pos\": \"SG\", \"Age\": 20, \"Tm\": \"GSW\", \"G\": 26, \"GS\": 8, \"MP\": 23.2, \"FG\": 3.5, \"FGA\": 7.5, \"FG%\": 0.469, \"3P\": 1.3, \"3PA\": 3.2, \"3P%\": 0.417, \"2P\": 2.2, \"2PA\": 4.2, \"2P%\": 0.509, \"eFG%\": 0.559, \"FT\": 0.7, \"FTA\": 1.0, \"FT%\": 0.704, \"ORB\": 1.5, \"DRB\": 3.9, \"TRB\": 5.5, \"AST\": 3.2, \"STL\": 1.0, \"BLK\": 0.2, \"TOV\": 1.4, \"PF\": 1.8, \"PTS\": 9.1}, {\"Player\": \"Aleksej Pokusevski\", \"Pos\": \"PF\", \"Age\": 22, \"Tm\": \"OKC\", \"G\": 7, \"GS\": 0, \"MP\": 6.1, \"FG\": 0.3, \"FGA\": 1.6, \"FG%\": 0.182, \"3P\": 0.1, \"3PA\": 1.1, \"3P%\": 0.125, \"2P\": 0.1, \"2PA\": 0.4, \"2P%\": 0.333, \"eFG%\": 0.227, \"FT\": 0.1, \"FTA\": 0.3, \"FT%\": 0.5, \"ORB\": 0.3, \"DRB\": 0.9, \"TRB\": 1.1, \"AST\": 0.7, \"STL\": 0.0, \"BLK\": 0.1, \"TOV\": 0.4, \"PF\": 0.7, \"PTS\": 0.9}, {\"Player\": \"Jordan Poole\", \"Pos\": \"SG\", \"Age\": 24, \"Tm\": \"WAS\", \"G\": 31, \"GS\": 31, \"MP\": 29.3, \"FG\": 6.2, \"FGA\": 14.9, \"FG%\": 0.414, \"3P\": 2.1, \"3PA\": 6.6, \"3P%\": 0.312, \"2P\": 4.1, \"2PA\": 8.3, \"2P%\": 0.496, \"eFG%\": 0.484, \"FT\": 2.8, \"FTA\": 3.3, \"FT%\": 0.871, \"ORB\": 0.4, \"DRB\": 2.1, \"TRB\": 2.5, \"AST\": 3.7, \"STL\": 1.0, \"BLK\": 0.3, \"TOV\": 2.6, \"PF\": 3.1, \"PTS\": 17.2}, {\"Player\": \"Craig Porter Jr.\", \"Pos\": \"PG\", \"Age\": 23, \"Tm\": \"CLE\", \"G\": 22, \"GS\": 5, \"MP\": 16.7, \"FG\": 3.0, \"FGA\": 6.2, \"FG%\": 0.493, \"3P\": 0.3, \"3PA\": 0.9, \"3P%\": 0.35, \"2P\": 2.7, \"2PA\": 5.3, \"2P%\": 0.517, \"eFG%\": 0.518, \"FT\": 1.1, \"FTA\": 1.6, \"FT%\": 0.667, \"ORB\": 0.5, \"DRB\": 2.1, \"TRB\": 2.7, \"AST\": 3.3, \"STL\": 0.7, \"BLK\": 0.5, \"TOV\": 1.0, \"PF\": 1.1, \"PTS\": 7.5}, {\"Player\": \"Michael Porter Jr.\", \"Pos\": \"SF\", \"Age\": 25, \"Tm\": \"DEN\", \"G\": 35, \"GS\": 35, \"MP\": 31.2, \"FG\": 6.3, \"FGA\": 13.3, \"FG%\": 0.47, \"3P\": 2.8, \"3PA\": 7.1, \"3P%\": 0.392, \"2P\": 3.5, \"2PA\": 6.2, \"2P%\": 0.56, \"eFG%\": 0.575, \"FT\": 1.0, \"FTA\": 1.3, \"FT%\": 0.761, \"ORB\": 1.4, \"DRB\": 6.2, \"TRB\": 7.5, \"AST\": 1.5, \"STL\": 0.4, \"BLK\": 0.8, \"TOV\": 1.1, \"PF\": 1.9, \"PTS\": 16.3}, {\"Player\": \"Otto Porter Jr.\", \"Pos\": \"SF\", \"Age\": 30, \"Tm\": \"TOR\", \"G\": 15, \"GS\": 1, \"MP\": 11.6, \"FG\": 0.9, \"FGA\": 2.2, \"FG%\": 0.424, \"3P\": 0.5, \"3PA\": 1.5, \"3P%\": 0.348, \"2P\": 0.4, \"2PA\": 0.7, \"2P%\": 0.6, \"eFG%\": 0.545, \"FT\": 0.2, \"FTA\": 0.2, \"FT%\": 1.0, \"ORB\": 0.4, \"DRB\": 1.5, \"TRB\": 1.9, \"AST\": 0.5, \"STL\": 0.3, \"BLK\": 0.3, \"TOV\": 0.1, \"PF\": 1.3, \"PTS\": 2.6}, {\"Player\": \"Bobby Portis\", \"Pos\": \"PF\", \"Age\": 28, \"Tm\": \"MIL\", \"G\": 33, \"GS\": 0, \"MP\": 24.2, \"FG\": 5.2, \"FGA\": 10.2, \"FG%\": 0.507, \"3P\": 1.0, \"3PA\": 2.9, \"3P%\": 0.354, \"2P\": 4.1, \"2PA\": 7.2, \"2P%\": 0.569, \"eFG%\": 0.558, \"FT\": 1.3, \"FTA\": 1.6, \"FT%\": 0.808, \"ORB\": 1.7, \"DRB\": 5.1, \"TRB\": 6.8, \"AST\": 1.2, \"STL\": 0.8, \"BLK\": 0.5, \"TOV\": 0.9, \"PF\": 2.5, \"PTS\": 12.6}, {\"Player\": \"Kristaps Porzi\\u0146\\u0123is\", \"Pos\": \"C\", \"Age\": 28, \"Tm\": \"BOS\", \"G\": 23, \"GS\": 23, \"MP\": 30.6, \"FG\": 6.8, \"FGA\": 12.9, \"FG%\": 0.527, \"3P\": 1.7, \"3PA\": 5.4, \"3P%\": 0.323, \"2P\": 5.0, \"2PA\": 7.5, \"2P%\": 0.674, \"eFG%\": 0.595, \"FT\": 4.7, \"FTA\": 5.7, \"FT%\": 0.831, \"ORB\": 1.5, \"DRB\": 5.7, \"TRB\": 7.2, \"AST\": 1.7, \"STL\": 0.8, \"BLK\": 1.7, \"TOV\": 1.6, \"PF\": 3.0, \"PTS\": 20.0}, {\"Player\": \"Dwight Powell\", \"Pos\": \"C\", \"Age\": 32, \"Tm\": \"DAL\", \"G\": 31, \"GS\": 3, \"MP\": 14.5, \"FG\": 1.6, \"FGA\": 2.2, \"FG%\": 0.731, \"3P\": 0.0, \"3PA\": 0.1, \"3P%\": 0.5, \"2P\": 1.5, \"2PA\": 2.1, \"2P%\": 0.738, \"eFG%\": 0.739, \"FT\": 1.4, \"FTA\": 1.7, \"FT%\": 0.815, \"ORB\": 1.5, \"DRB\": 1.9, \"TRB\": 3.4, \"AST\": 1.4, \"STL\": 0.5, \"BLK\": 0.4, \"TOV\": 0.4, \"PF\": 1.9, \"PTS\": 4.6}, {\"Player\": \"Norman Powell\", \"Pos\": \"SG\", \"Age\": 30, \"Tm\": \"LAC\", \"G\": 32, \"GS\": 0, \"MP\": 25.6, \"FG\": 4.7, \"FGA\": 9.2, \"FG%\": 0.505, \"3P\": 1.9, \"3PA\": 4.3, \"3P%\": 0.449, \"2P\": 2.7, \"2PA\": 4.9, \"2P%\": 0.554, \"eFG%\": 0.61, \"FT\": 2.1, \"FTA\": 2.4, \"FT%\": 0.882, \"ORB\": 0.2, \"DRB\": 2.2, \"TRB\": 2.3, \"AST\": 1.0, \"STL\": 0.6, \"BLK\": 0.4, \"TOV\": 0.9, \"PF\": 2.0, \"PTS\": 13.3}, {\"Player\": \"Taurean Prince\", \"Pos\": \"PF\", \"Age\": 29, \"Tm\": \"LAL\", \"G\": 32, \"GS\": 32, \"MP\": 30.9, \"FG\": 3.6, \"FGA\": 8.3, \"FG%\": 0.436, \"3P\": 2.2, \"3PA\": 5.5, \"3P%\": 0.401, \"2P\": 1.4, \"2PA\": 2.8, \"2P%\": 0.506, \"eFG%\": 0.57, \"FT\": 0.6, \"FTA\": 0.8, \"FT%\": 0.76, \"ORB\": 0.3, \"DRB\": 2.6, \"TRB\": 2.8, \"AST\": 1.8, \"STL\": 0.9, \"BLK\": 0.5, \"TOV\": 1.0, \"PF\": 2.3, \"PTS\": 10.1}, {\"Player\": \"Payton Pritchard\", \"Pos\": \"PG\", \"Age\": 26, \"Tm\": \"BOS\", \"G\": 32, \"GS\": 0, \"MP\": 20.5, \"FG\": 2.7, \"FGA\": 6.5, \"FG%\": 0.413, \"3P\": 1.7, \"3PA\": 4.3, \"3P%\": 0.381, \"2P\": 1.0, \"2PA\": 2.2, \"2P%\": 0.478, \"eFG%\": 0.541, \"FT\": 0.4, \"FTA\": 0.6, \"FT%\": 0.65, \"ORB\": 1.0, \"DRB\": 2.2, \"TRB\": 3.2, \"AST\": 3.0, \"STL\": 0.4, \"BLK\": 0.1, \"TOV\": 0.6, \"PF\": 1.3, \"PTS\": 7.4}, {\"Player\": \"Olivier-Maxence Prosper\", \"Pos\": \"PF\", \"Age\": 21, \"Tm\": \"DAL\", \"G\": 21, \"GS\": 0, \"MP\": 9.1, \"FG\": 0.9, \"FGA\": 2.5, \"FG%\": 0.34, \"3P\": 0.3, \"3PA\": 1.3, \"3P%\": 0.214, \"2P\": 0.6, \"2PA\": 1.2, \"2P%\": 0.48, \"eFG%\": 0.396, \"FT\": 0.8, \"FTA\": 1.1, \"FT%\": 0.696, \"ORB\": 0.6, \"DRB\": 1.4, \"TRB\": 2.0, \"AST\": 0.7, \"STL\": 0.1, \"BLK\": 0.0, \"TOV\": 0.2, \"PF\": 0.6, \"PTS\": 2.8}, {\"Player\": \"Immanuel Quickley\", \"Pos\": \"SG-PG\", \"Age\": 24, \"Tm\": \"TOT\", \"G\": 31, \"GS\": 1, \"MP\": 24.1, \"FG\": 5.1, \"FGA\": 11.2, \"FG%\": 0.451, \"3P\": 2.1, \"3PA\": 5.4, \"3P%\": 0.395, \"2P\": 2.9, \"2PA\": 5.8, \"2P%\": 0.503, \"eFG%\": 0.546, \"FT\": 2.7, \"FTA\": 3.1, \"FT%\": 0.866, \"ORB\": 0.2, \"DRB\": 2.5, \"TRB\": 2.7, \"AST\": 2.5, \"STL\": 0.6, \"BLK\": 0.1, \"TOV\": 1.0, \"PF\": 1.5, \"PTS\": 15.0}, {\"Player\": \"Immanuel Quickley\", \"Pos\": \"SG\", \"Age\": 24, \"Tm\": \"NYK\", \"G\": 30, \"GS\": 0, \"MP\": 24.0, \"FG\": 5.1, \"FGA\": 11.2, \"FG%\": 0.454, \"3P\": 2.1, \"3PA\": 5.4, \"3P%\": 0.395, \"2P\": 2.9, \"2PA\": 5.8, \"2P%\": 0.509, \"eFG%\": 0.549, \"FT\": 2.7, \"FTA\": 3.1, \"FT%\": 0.872, \"ORB\": 0.2, \"DRB\": 2.4, \"TRB\": 2.6, \"AST\": 2.5, \"STL\": 0.5, \"BLK\": 0.1, \"TOV\": 1.0, \"PF\": 1.5, \"PTS\": 15.0}, {\"Player\": \"Immanuel Quickley\", \"Pos\": \"PG\", \"Age\": 24, \"Tm\": \"TOR\", \"G\": 1, \"GS\": 1, \"MP\": 28.0, \"FG\": 5.0, \"FGA\": 13.0, \"FG%\": 0.385, \"3P\": 2.0, \"3PA\": 5.0, \"3P%\": 0.4, \"2P\": 3.0, \"2PA\": 8.0, \"2P%\": 0.375, \"eFG%\": 0.462, \"FT\": 2.0, \"FTA\": 3.0, \"FT%\": 0.667, \"ORB\": 0.0, \"DRB\": 6.0, \"TRB\": 6.0, \"AST\": 3.0, \"STL\": 2.0, \"BLK\": 0.0, \"TOV\": 0.0, \"PF\": 4.0, \"PTS\": 14.0}, {\"Player\": \"Julius Randle\", \"Pos\": \"PF\", \"Age\": 29, \"Tm\": \"NYK\", \"G\": 33, \"GS\": 33, \"MP\": 35.6, \"FG\": 8.7, \"FGA\": 18.3, \"FG%\": 0.474, \"3P\": 1.4, \"3PA\": 5.0, \"3P%\": 0.283, \"2P\": 7.2, \"2PA\": 13.2, \"2P%\": 0.547, \"eFG%\": 0.513, \"FT\": 5.3, \"FTA\": 6.9, \"FT%\": 0.763, \"ORB\": 2.2, \"DRB\": 7.4, \"TRB\": 9.6, \"AST\": 4.7, \"STL\": 0.5, \"BLK\": 0.2, \"TOV\": 3.4, \"PF\": 2.8, \"PTS\": 24.0}, {\"Player\": \"Duop Reath\", \"Pos\": \"C\", \"Age\": 27, \"Tm\": \"POR\", \"G\": 20, \"GS\": 4, \"MP\": 15.3, \"FG\": 3.0, \"FGA\": 6.8, \"FG%\": 0.441, \"3P\": 1.4, \"3PA\": 3.9, \"3P%\": 0.359, \"2P\": 1.6, \"2PA\": 2.9, \"2P%\": 0.552, \"eFG%\": 0.544, \"FT\": 1.2, \"FTA\": 1.3, \"FT%\": 0.923, \"ORB\": 1.2, \"DRB\": 1.9, \"TRB\": 3.1, \"AST\": 1.0, \"STL\": 0.6, \"BLK\": 0.4, \"TOV\": 0.7, \"PF\": 2.0, \"PTS\": 8.6}, {\"Player\": \"Austin Reaves\", \"Pos\": \"SG\", \"Age\": 25, \"Tm\": \"LAL\", \"G\": 34, \"GS\": 9, \"MP\": 29.4, \"FG\": 5.2, \"FGA\": 11.0, \"FG%\": 0.477, \"3P\": 1.6, \"3PA\": 4.6, \"3P%\": 0.357, \"2P\": 3.6, \"2PA\": 6.4, \"2P%\": 0.565, \"eFG%\": 0.552, \"FT\": 2.9, \"FTA\": 3.4, \"FT%\": 0.877, \"ORB\": 1.0, \"DRB\": 3.5, \"TRB\": 4.4, \"AST\": 4.9, \"STL\": 0.9, \"BLK\": 0.1, \"TOV\": 2.3, \"PF\": 1.6, \"PTS\": 15.1}, {\"Player\": \"Cam Reddish\", \"Pos\": \"SF\", \"Age\": 24, \"Tm\": \"LAL\", \"G\": 27, \"GS\": 20, \"MP\": 24.6, \"FG\": 2.4, \"FGA\": 6.2, \"FG%\": 0.393, \"3P\": 0.8, \"3PA\": 2.7, \"3P%\": 0.297, \"2P\": 1.6, \"2PA\": 3.5, \"2P%\": 0.468, \"eFG%\": 0.458, \"FT\": 1.2, \"FTA\": 1.4, \"FT%\": 0.868, \"ORB\": 0.6, \"DRB\": 2.0, \"TRB\": 2.7, \"AST\": 1.6, \"STL\": 1.3, \"BLK\": 0.3, \"TOV\": 0.7, \"PF\": 1.7, \"PTS\": 6.9}, {\"Player\": \"Paul Reed\", \"Pos\": \"C\", \"Age\": 24, \"Tm\": \"PHI\", \"G\": 32, \"GS\": 5, \"MP\": 15.2, \"FG\": 2.3, \"FGA\": 4.2, \"FG%\": 0.564, \"3P\": 0.2, \"3PA\": 0.5, \"3P%\": 0.375, \"2P\": 2.2, \"2PA\": 3.7, \"2P%\": 0.59, \"eFG%\": 0.586, \"FT\": 0.6, \"FTA\": 0.8, \"FT%\": 0.741, \"ORB\": 1.9, \"DRB\": 2.6, \"TRB\": 4.5, \"AST\": 1.3, \"STL\": 0.7, \"BLK\": 0.7, \"TOV\": 0.9, \"PF\": 2.3, \"PTS\": 5.5}, {\"Player\": \"Naz Reid\", \"Pos\": \"C\", \"Age\": 24, \"Tm\": \"MIN\", \"G\": 32, \"GS\": 0, \"MP\": 22.1, \"FG\": 4.7, \"FGA\": 9.4, \"FG%\": 0.502, \"3P\": 1.9, \"3PA\": 4.7, \"3P%\": 0.397, \"2P\": 2.8, \"2PA\": 4.7, \"2P%\": 0.607, \"eFG%\": 0.601, \"FT\": 1.3, \"FTA\": 1.4, \"FT%\": 0.913, \"ORB\": 1.0, \"DRB\": 3.4, \"TRB\": 4.4, \"AST\": 1.0, \"STL\": 0.7, \"BLK\": 0.6, \"TOV\": 1.4, \"PF\": 2.0, \"PTS\": 12.6}, {\"Player\": \"Jared Rhoden\", \"Pos\": \"SG\", \"Age\": 24, \"Tm\": \"DET\", \"G\": 5, \"GS\": 0, \"MP\": 6.0, \"FG\": 1.0, \"FGA\": 1.8, \"FG%\": 0.556, \"3P\": 0.2, \"3PA\": 0.8, \"3P%\": 0.25, \"2P\": 0.8, \"2PA\": 1.0, \"2P%\": 0.8, \"eFG%\": 0.611, \"FT\": 0.4, \"FTA\": 0.4, \"FT%\": 1.0, \"ORB\": 0.2, \"DRB\": 0.6, \"TRB\": 0.8, \"AST\": 0.6, \"STL\": 0.0, \"BLK\": 0.0, \"TOV\": 0.4, \"PF\": 0.8, \"PTS\": 2.6}, {\"Player\": \"Josh Richardson\", \"Pos\": \"SG\", \"Age\": 30, \"Tm\": \"MIA\", \"G\": 24, \"GS\": 4, \"MP\": 27.8, \"FG\": 3.6, \"FGA\": 8.3, \"FG%\": 0.437, \"3P\": 1.5, \"3PA\": 4.5, \"3P%\": 0.327, \"2P\": 2.2, \"2PA\": 3.8, \"2P%\": 0.565, \"eFG%\": 0.525, \"FT\": 1.3, \"FTA\": 1.5, \"FT%\": 0.914, \"ORB\": 0.5, \"DRB\": 2.3, \"TRB\": 2.7, \"AST\": 3.0, \"STL\": 0.6, \"BLK\": 0.3, \"TOV\": 1.0, \"PF\": 1.7, \"PTS\": 10.0}, {\"Player\": \"Duncan Robinson\", \"Pos\": \"SF\", \"Age\": 29, \"Tm\": \"MIA\", \"G\": 31, \"GS\": 16, \"MP\": 29.2, \"FG\": 5.0, \"FGA\": 10.5, \"FG%\": 0.479, \"3P\": 3.1, \"3PA\": 7.0, \"3P%\": 0.444, \"2P\": 1.9, \"2PA\": 3.5, \"2P%\": 0.545, \"eFG%\": 0.626, \"FT\": 1.5, \"FTA\": 1.7, \"FT%\": 0.865, \"ORB\": 0.3, \"DRB\": 2.5, \"TRB\": 2.8, \"AST\": 3.1, \"STL\": 0.5, \"BLK\": 0.2, \"TOV\": 1.2, \"PF\": 2.3, \"PTS\": 14.6}, {\"Player\": \"Jerome Robinson\", \"Pos\": \"SG\", \"Age\": 26, \"Tm\": \"GSW\", \"G\": 4, \"GS\": 0, \"MP\": 3.3, \"FG\": 0.0, \"FGA\": 1.3, \"FG%\": 0.0, \"3P\": 0.0, \"3PA\": 0.8, \"3P%\": 0.0, \"2P\": 0.0, \"2PA\": 0.5, \"2P%\": 0.0, \"eFG%\": 0.0, \"FT\": 0.8, \"FTA\": 1.0, \"FT%\": 0.75, \"ORB\": 0.3, \"DRB\": 0.3, \"TRB\": 0.5, \"AST\": 0.0, \"STL\": 0.0, \"BLK\": 0.3, \"TOV\": 0.0, \"PF\": 0.0, \"PTS\": 0.8}, {\"Player\": \"Orlando Robinson\", \"Pos\": \"C\", \"Age\": 23, \"Tm\": \"MIA\", \"G\": 14, \"GS\": 7, \"MP\": 15.2, \"FG\": 2.2, \"FGA\": 4.2, \"FG%\": 0.525, \"3P\": 0.5, \"3PA\": 0.9, \"3P%\": 0.583, \"2P\": 1.7, \"2PA\": 3.4, \"2P%\": 0.511, \"eFG%\": 0.585, \"FT\": 0.8, \"FTA\": 1.1, \"FT%\": 0.688, \"ORB\": 1.3, \"DRB\": 2.9, \"TRB\": 4.2, \"AST\": 1.7, \"STL\": 0.4, \"BLK\": 0.5, \"TOV\": 0.9, \"PF\": 2.0, \"PTS\": 5.7}, {\"Player\": \"Jeremiah Robinson-Earl\", \"Pos\": \"PF\", \"Age\": 23, \"Tm\": \"NOP\", \"G\": 13, \"GS\": 1, \"MP\": 11.8, \"FG\": 1.8, \"FGA\": 3.2, \"FG%\": 0.548, \"3P\": 0.5, \"3PA\": 1.2, \"3P%\": 0.438, \"2P\": 1.2, \"2PA\": 2.0, \"2P%\": 0.615, \"eFG%\": 0.631, \"FT\": 0.5, \"FTA\": 0.5, \"FT%\": 1.0, \"ORB\": 0.8, \"DRB\": 1.9, \"TRB\": 2.7, \"AST\": 0.7, \"STL\": 0.3, \"BLK\": 0.1, \"TOV\": 0.5, \"PF\": 0.9, \"PTS\": 4.5}, {\"Player\": \"David Roddy\", \"Pos\": \"PF\", \"Age\": 22, \"Tm\": \"MEM\", \"G\": 30, \"GS\": 8, \"MP\": 23.2, \"FG\": 3.0, \"FGA\": 7.5, \"FG%\": 0.406, \"3P\": 1.0, \"3PA\": 3.3, \"3P%\": 0.29, \"2P\": 2.1, \"2PA\": 4.1, \"2P%\": 0.5, \"eFG%\": 0.471, \"FT\": 0.9, \"FTA\": 1.4, \"FT%\": 0.683, \"ORB\": 0.9, \"DRB\": 3.0, \"TRB\": 3.9, \"AST\": 1.3, \"STL\": 0.6, \"BLK\": 0.3, \"TOV\": 0.9, \"PF\": 1.3, \"PTS\": 8.0}, {\"Player\": \"Ryan Rollins\", \"Pos\": \"PG\", \"Age\": 21, \"Tm\": \"WAS\", \"G\": 10, \"GS\": 0, \"MP\": 6.6, \"FG\": 1.3, \"FGA\": 2.5, \"FG%\": 0.52, \"3P\": 0.2, \"3PA\": 0.3, \"3P%\": 0.667, \"2P\": 1.1, \"2PA\": 2.2, \"2P%\": 0.5, \"eFG%\": 0.56, \"FT\": 1.3, \"FTA\": 1.7, \"FT%\": 0.765, \"ORB\": 0.2, \"DRB\": 0.9, \"TRB\": 1.1, \"AST\": 1.1, \"STL\": 0.8, \"BLK\": 0.3, \"TOV\": 0.7, \"PF\": 0.7, \"PTS\": 4.1}, {\"Player\": \"Derrick Rose\", \"Pos\": \"PG\", \"Age\": 35, \"Tm\": \"MEM\", \"G\": 16, \"GS\": 7, \"MP\": 18.5, \"FG\": 3.4, \"FGA\": 7.8, \"FG%\": 0.435, \"3P\": 0.7, \"3PA\": 2.0, \"3P%\": 0.344, \"2P\": 2.7, \"2PA\": 5.8, \"2P%\": 0.467, \"eFG%\": 0.48, \"FT\": 1.2, \"FTA\": 1.3, \"FT%\": 0.905, \"ORB\": 0.4, \"DRB\": 1.4, \"TRB\": 1.9, \"AST\": 3.4, \"STL\": 0.4, \"BLK\": 0.1, \"TOV\": 1.4, \"PF\": 1.1, \"PTS\": 8.6}, {\"Player\": \"Terry Rozier\", \"Pos\": \"SG\", \"Age\": 29, \"Tm\": \"CHO\", \"G\": 20, \"GS\": 20, \"MP\": 35.8, \"FG\": 8.7, \"FGA\": 18.8, \"FG%\": 0.463, \"3P\": 2.7, \"3PA\": 7.3, \"3P%\": 0.37, \"2P\": 6.0, \"2PA\": 11.5, \"2P%\": 0.522, \"eFG%\": 0.535, \"FT\": 3.5, \"FTA\": 4.1, \"FT%\": 0.854, \"ORB\": 0.6, \"DRB\": 3.3, \"TRB\": 3.9, \"AST\": 7.2, \"STL\": 1.2, \"BLK\": 0.4, \"TOV\": 2.4, \"PF\": 1.8, \"PTS\": 23.6}, {\"Player\": \"Rayan Rupert\", \"Pos\": \"SG\", \"Age\": 19, \"Tm\": \"POR\", \"G\": 8, \"GS\": 0, \"MP\": 4.5, \"FG\": 0.1, \"FGA\": 1.6, \"FG%\": 0.077, \"3P\": 0.1, \"3PA\": 0.8, \"3P%\": 0.167, \"2P\": 0.0, \"2PA\": 0.9, \"2P%\": 0.0, \"eFG%\": 0.115, \"FT\": 0.3, \"FTA\": 0.5, \"FT%\": 0.5, \"ORB\": 0.1, \"DRB\": 0.0, \"TRB\": 0.1, \"AST\": 0.5, \"STL\": 0.3, \"BLK\": 0.0, \"TOV\": 0.3, \"PF\": 0.1, \"PTS\": 0.6}, {\"Player\": \"D'Angelo Russell\", \"Pos\": \"PG\", \"Age\": 27, \"Tm\": \"LAL\", \"G\": 32, \"GS\": 28, \"MP\": 29.1, \"FG\": 5.6, \"FGA\": 12.0, \"FG%\": 0.466, \"3P\": 2.0, \"3PA\": 5.2, \"3P%\": 0.388, \"2P\": 3.6, \"2PA\": 6.8, \"2P%\": 0.525, \"eFG%\": 0.549, \"FT\": 1.6, \"FTA\": 2.1, \"FT%\": 0.773, \"ORB\": 0.3, \"DRB\": 2.7, \"TRB\": 2.9, \"AST\": 6.1, \"STL\": 0.8, \"BLK\": 0.5, \"TOV\": 1.8, \"PF\": 2.0, \"PTS\": 14.8}, {\"Player\": \"Matt Ryan\", \"Pos\": \"SF\", \"Age\": 26, \"Tm\": \"NOP\", \"G\": 13, \"GS\": 1, \"MP\": 22.9, \"FG\": 2.9, \"FGA\": 6.4, \"FG%\": 0.458, \"3P\": 2.5, \"3PA\": 5.2, \"3P%\": 0.471, \"2P\": 0.5, \"2PA\": 1.2, \"2P%\": 0.4, \"eFG%\": 0.651, \"FT\": 1.0, \"FTA\": 1.1, \"FT%\": 0.929, \"ORB\": 0.4, \"DRB\": 1.9, \"TRB\": 2.3, \"AST\": 1.1, \"STL\": 0.4, \"BLK\": 0.1, \"TOV\": 1.2, \"PF\": 1.8, \"PTS\": 9.3}, {\"Player\": \"Domantas Sabonis\", \"Pos\": \"C\", \"Age\": 27, \"Tm\": \"SAC\", \"G\": 31, \"GS\": 31, \"MP\": 34.7, \"FG\": 7.6, \"FGA\": 12.9, \"FG%\": 0.593, \"3P\": 0.4, \"3PA\": 1.2, \"3P%\": 0.351, \"2P\": 7.2, \"2PA\": 11.7, \"2P%\": 0.617, \"eFG%\": 0.609, \"FT\": 3.7, \"FTA\": 5.6, \"FT%\": 0.661, \"ORB\": 3.2, \"DRB\": 9.1, \"TRB\": 12.3, \"AST\": 7.5, \"STL\": 0.8, \"BLK\": 0.6, \"TOV\": 2.9, \"PF\": 3.2, \"PTS\": 19.4}, {\"Player\": \"Luka \\u0160amani\\u0107\", \"Pos\": \"PF\", \"Age\": 24, \"Tm\": \"UTA\", \"G\": 15, \"GS\": 0, \"MP\": 6.5, \"FG\": 1.3, \"FGA\": 3.3, \"FG%\": 0.38, \"3P\": 0.3, \"3PA\": 1.3, \"3P%\": 0.263, \"2P\": 0.9, \"2PA\": 2.1, \"2P%\": 0.452, \"eFG%\": 0.43, \"FT\": 0.3, \"FTA\": 0.3, \"FT%\": 1.0, \"ORB\": 0.3, \"DRB\": 1.7, \"TRB\": 2.1, \"AST\": 0.2, \"STL\": 0.1, \"BLK\": 0.1, \"TOV\": 0.4, \"PF\": 0.7, \"PTS\": 3.1}, {\"Player\": \"Jermaine Samuels\", \"Pos\": \"SF\", \"Age\": 25, \"Tm\": \"HOU\", \"G\": 6, \"GS\": 0, \"MP\": 6.3, \"FG\": 0.8, \"FGA\": 1.2, \"FG%\": 0.714, \"3P\": 0.0, \"3PA\": 0.3, \"3P%\": 0.0, \"2P\": 0.8, \"2PA\": 0.8, \"2P%\": 1.0, \"eFG%\": 0.714, \"FT\": 0.3, \"FTA\": 0.3, \"FT%\": 1.0, \"ORB\": 0.2, \"DRB\": 1.2, \"TRB\": 1.3, \"AST\": 0.3, \"STL\": 0.2, \"BLK\": 0.2, \"TOV\": 0.0, \"PF\": 0.5, \"PTS\": 2.0}, {\"Player\": \"Gui Santos\", \"Pos\": \"PF\", \"Age\": 21, \"Tm\": \"GSW\", \"G\": 4, \"GS\": 0, \"MP\": 5.5, \"FG\": 1.0, \"FGA\": 1.8, \"FG%\": 0.571, \"3P\": 0.3, \"3PA\": 0.8, \"3P%\": 0.333, \"2P\": 0.8, \"2PA\": 1.0, \"2P%\": 0.75, \"eFG%\": 0.643, \"FT\": 1.0, \"FTA\": 1.0, \"FT%\": 1.0, \"ORB\": 1.0, \"DRB\": 1.0, \"TRB\": 2.0, \"AST\": 0.3, \"STL\": 0.0, \"BLK\": 0.0, \"TOV\": 0.5, \"PF\": 0.8, \"PTS\": 3.3}, {\"Player\": \"Dario \\u0160ari\\u0107\", \"Pos\": \"C\", \"Age\": 29, \"Tm\": \"GSW\", \"G\": 32, \"GS\": 4, \"MP\": 20.5, \"FG\": 3.6, \"FGA\": 7.8, \"FG%\": 0.468, \"3P\": 1.5, \"3PA\": 3.9, \"3P%\": 0.389, \"2P\": 2.1, \"2PA\": 3.8, \"2P%\": 0.549, \"eFG%\": 0.567, \"FT\": 1.7, \"FTA\": 2.0, \"FT%\": 0.857, \"ORB\": 1.6, \"DRB\": 4.2, \"TRB\": 5.8, \"AST\": 2.1, \"STL\": 0.6, \"BLK\": 0.2, \"TOV\": 1.2, \"PF\": 2.3, \"PTS\": 10.5}, {\"Player\": \"Olivier Sarr\", \"Pos\": \"C\", \"Age\": 24, \"Tm\": \"OKC\", \"G\": 8, \"GS\": 0, \"MP\": 8.4, \"FG\": 0.8, \"FGA\": 1.4, \"FG%\": 0.545, \"3P\": 0.3, \"3PA\": 0.6, \"3P%\": 0.4, \"2P\": 0.5, \"2PA\": 0.8, \"2P%\": 0.667, \"eFG%\": 0.636, \"FT\": 0.8, \"FTA\": 1.0, \"FT%\": 0.75, \"ORB\": 0.8, \"DRB\": 2.5, \"TRB\": 3.3, \"AST\": 0.3, \"STL\": 0.0, \"BLK\": 0.6, \"TOV\": 0.3, \"PF\": 1.8, \"PTS\": 2.5}, {\"Player\": \"Marcus Sasser\", \"Pos\": \"PG\", \"Age\": 23, \"Tm\": \"DET\", \"G\": 30, \"GS\": 0, \"MP\": 15.9, \"FG\": 2.8, \"FGA\": 5.8, \"FG%\": 0.486, \"3P\": 1.2, \"3PA\": 2.8, \"3P%\": 0.429, \"2P\": 1.6, \"2PA\": 3.0, \"2P%\": 0.539, \"eFG%\": 0.59, \"FT\": 0.6, \"FTA\": 0.7, \"FT%\": 0.857, \"ORB\": 0.1, \"DRB\": 1.5, \"TRB\": 1.6, \"AST\": 2.3, \"STL\": 0.6, \"BLK\": 0.2, \"TOV\": 0.8, \"PF\": 1.4, \"PTS\": 7.4}, {\"Player\": \"Admiral Schofield\", \"Pos\": \"PF\", \"Age\": 26, \"Tm\": \"ORL\", \"G\": 9, \"GS\": 0, \"MP\": 3.2, \"FG\": 0.3, \"FGA\": 1.1, \"FG%\": 0.3, \"3P\": 0.1, \"3PA\": 0.7, \"3P%\": 0.167, \"2P\": 0.2, \"2PA\": 0.4, \"2P%\": 0.5, \"eFG%\": 0.35, \"FT\": 0.0, \"FTA\": 0.2, \"FT%\": 0.0, \"ORB\": 0.0, \"DRB\": 0.6, \"TRB\": 0.6, \"AST\": 0.2, \"STL\": 0.0, \"BLK\": 0.0, \"TOV\": 0.4, \"PF\": 0.7, \"PTS\": 0.8}, {\"Player\": \"Dennis Schr\\u00f6der\", \"Pos\": \"PG\", \"Age\": 30, \"Tm\": \"TOR\", \"G\": 33, \"GS\": 30, \"MP\": 32.1, \"FG\": 5.2, \"FGA\": 11.9, \"FG%\": 0.436, \"3P\": 1.6, \"3PA\": 4.6, \"3P%\": 0.358, \"2P\": 3.5, \"2PA\": 7.3, \"2P%\": 0.485, \"eFG%\": 0.505, \"FT\": 2.5, \"FTA\": 2.9, \"FT%\": 0.856, \"ORB\": 0.5, \"DRB\": 2.2, \"TRB\": 2.7, \"AST\": 7.0, \"STL\": 1.0, \"BLK\": 0.1, \"TOV\": 1.7, \"PF\": 2.2, \"PTS\": 14.5}, {\"Player\": \"Dereon Seabron\", \"Pos\": \"SG\", \"Age\": 23, \"Tm\": \"NOP\", \"G\": 5, \"GS\": 0, \"MP\": 10.4, \"FG\": 0.8, \"FGA\": 2.6, \"FG%\": 0.308, \"3P\": 0.2, \"3PA\": 0.4, \"3P%\": 0.5, \"2P\": 0.6, \"2PA\": 2.2, \"2P%\": 0.273, \"eFG%\": 0.346, \"FT\": 1.0, \"FTA\": 1.2, \"FT%\": 0.833, \"ORB\": 0.2, \"DRB\": 1.2, \"TRB\": 1.4, \"AST\": 0.8, \"STL\": 0.4, \"BLK\": 0.2, \"TOV\": 0.0, \"PF\": 0.8, \"PTS\": 2.8}, {\"Player\": \"Alperen \\u015eeng\\u00fcn\", \"Pos\": \"C\", \"Age\": 21, \"Tm\": \"HOU\", \"G\": 31, \"GS\": 31, \"MP\": 31.9, \"FG\": 8.4, \"FGA\": 15.4, \"FG%\": 0.544, \"3P\": 0.7, \"3PA\": 2.2, \"3P%\": 0.309, \"2P\": 7.7, \"2PA\": 13.2, \"2P%\": 0.583, \"eFG%\": 0.566, \"FT\": 3.8, \"FTA\": 5.2, \"FT%\": 0.728, \"ORB\": 2.6, \"DRB\": 6.5, \"TRB\": 9.1, \"AST\": 5.3, \"STL\": 1.1, \"BLK\": 0.8, \"TOV\": 2.5, \"PF\": 3.3, \"PTS\": 21.3}, {\"Player\": \"Collin Sexton\", \"Pos\": \"SG\", \"Age\": 25, \"Tm\": \"UTA\", \"G\": 34, \"GS\": 11, \"MP\": 23.5, \"FG\": 5.2, \"FGA\": 11.2, \"FG%\": 0.466, \"3P\": 1.3, \"3PA\": 3.8, \"3P%\": 0.341, \"2P\": 3.9, \"2PA\": 7.4, \"2P%\": 0.53, \"eFG%\": 0.524, \"FT\": 3.8, \"FTA\": 4.4, \"FT%\": 0.878, \"ORB\": 0.9, \"DRB\": 1.9, \"TRB\": 2.8, \"AST\": 3.7, \"STL\": 0.6, \"BLK\": 0.2, \"TOV\": 1.8, \"PF\": 2.0, \"PTS\": 15.6}, {\"Player\": \"Landry Shamet\", \"Pos\": \"SG\", \"Age\": 26, \"Tm\": \"WAS\", \"G\": 20, \"GS\": 0, \"MP\": 16.1, \"FG\": 2.8, \"FGA\": 6.2, \"FG%\": 0.452, \"3P\": 1.3, \"3PA\": 3.6, \"3P%\": 0.366, \"2P\": 1.5, \"2PA\": 2.7, \"2P%\": 0.566, \"eFG%\": 0.556, \"FT\": 0.3, \"FTA\": 0.6, \"FT%\": 0.5, \"ORB\": 0.1, \"DRB\": 1.1, \"TRB\": 1.2, \"AST\": 1.4, \"STL\": 0.6, \"BLK\": 0.2, \"TOV\": 0.6, \"PF\": 1.7, \"PTS\": 7.2}, {\"Player\": \"Day'Ron Sharpe\", \"Pos\": \"C\", \"Age\": 22, \"Tm\": \"BRK\", \"G\": 33, \"GS\": 1, \"MP\": 16.0, \"FG\": 2.9, \"FGA\": 5.1, \"FG%\": 0.575, \"3P\": 0.0, \"3PA\": 0.2, \"3P%\": 0.143, \"2P\": 2.9, \"2PA\": 4.8, \"2P%\": 0.594, \"eFG%\": 0.578, \"FT\": 1.3, \"FTA\": 2.2, \"FT%\": 0.595, \"ORB\": 2.8, \"DRB\": 4.2, \"TRB\": 6.9, \"AST\": 1.4, \"STL\": 0.5, \"BLK\": 0.9, \"TOV\": 1.1, \"PF\": 2.3, \"PTS\": 7.2}, {\"Player\": \"Shaedon Sharpe\", \"Pos\": \"SG\", \"Age\": 20, \"Tm\": \"POR\", \"G\": 27, \"GS\": 25, \"MP\": 34.4, \"FG\": 5.6, \"FGA\": 13.7, \"FG%\": 0.407, \"3P\": 2.0, \"3PA\": 5.7, \"3P%\": 0.348, \"2P\": 3.6, \"2PA\": 8.0, \"2P%\": 0.449, \"eFG%\": 0.48, \"FT\": 3.2, \"FTA\": 3.9, \"FT%\": 0.827, \"ORB\": 1.3, \"DRB\": 3.9, \"TRB\": 5.2, \"AST\": 3.2, \"STL\": 0.9, \"BLK\": 0.3, \"TOV\": 2.5, \"PF\": 2.9, \"PTS\": 16.4}, {\"Player\": \"Ben Sheppard\", \"Pos\": \"SG\", \"Age\": 22, \"Tm\": \"IND\", \"G\": 13, \"GS\": 0, \"MP\": 7.0, \"FG\": 1.2, \"FGA\": 2.6, \"FG%\": 0.441, \"3P\": 0.5, \"3PA\": 1.6, \"3P%\": 0.333, \"2P\": 0.6, \"2PA\": 1.0, \"2P%\": 0.615, \"eFG%\": 0.544, \"FT\": 0.3, \"FTA\": 0.5, \"FT%\": 0.667, \"ORB\": 0.2, \"DRB\": 0.5, \"TRB\": 0.6, \"AST\": 0.6, \"STL\": 0.3, \"BLK\": 0.0, \"TOV\": 0.1, \"PF\": 0.8, \"PTS\": 3.2}, {\"Player\": \"Pascal Siakam\", \"Pos\": \"PF\", \"Age\": 29, \"Tm\": \"TOR\", \"G\": 33, \"GS\": 33, \"MP\": 35.1, \"FG\": 8.5, \"FGA\": 16.4, \"FG%\": 0.518, \"3P\": 1.1, \"3PA\": 3.7, \"3P%\": 0.285, \"2P\": 7.4, \"2PA\": 12.7, \"2P%\": 0.586, \"eFG%\": 0.55, \"FT\": 4.3, \"FTA\": 5.8, \"FT%\": 0.749, \"ORB\": 1.5, \"DRB\": 5.1, \"TRB\": 6.5, \"AST\": 5.0, \"STL\": 0.8, \"BLK\": 0.2, \"TOV\": 2.2, \"PF\": 2.3, \"PTS\": 22.4}, {\"Player\": \"Anfernee Simons\", \"Pos\": \"SG\", \"Age\": 24, \"Tm\": \"POR\", \"G\": 11, \"GS\": 11, \"MP\": 34.2, \"FG\": 9.5, \"FGA\": 20.7, \"FG%\": 0.456, \"3P\": 3.8, \"3PA\": 9.5, \"3P%\": 0.4, \"2P\": 5.6, \"2PA\": 11.2, \"2P%\": 0.504, \"eFG%\": 0.548, \"FT\": 4.4, \"FTA\": 4.7, \"FT%\": 0.923, \"ORB\": 0.6, \"DRB\": 2.5, \"TRB\": 3.1, \"AST\": 5.3, \"STL\": 0.9, \"BLK\": 0.1, \"TOV\": 2.4, \"PF\": 2.0, \"PTS\": 27.1}, {\"Player\": \"Marcus Smart\", \"Pos\": \"PG\", \"Age\": 29, \"Tm\": \"MEM\", \"G\": 15, \"GS\": 15, \"MP\": 29.6, \"FG\": 4.8, \"FGA\": 11.2, \"FG%\": 0.429, \"3P\": 1.7, \"3PA\": 6.0, \"3P%\": 0.289, \"2P\": 3.1, \"2PA\": 5.2, \"2P%\": 0.59, \"eFG%\": 0.506, \"FT\": 2.1, \"FTA\": 2.6, \"FT%\": 0.795, \"ORB\": 0.3, \"DRB\": 2.0, \"TRB\": 2.3, \"AST\": 4.5, \"STL\": 2.3, \"BLK\": 0.3, \"TOV\": 3.1, \"PF\": 2.8, \"PTS\": 13.4}, {\"Player\": \"Dennis Smith Jr.\", \"Pos\": \"PG\", \"Age\": 26, \"Tm\": \"BRK\", \"G\": 19, \"GS\": 1, \"MP\": 18.6, \"FG\": 2.7, \"FGA\": 6.7, \"FG%\": 0.409, \"3P\": 0.5, \"3PA\": 1.8, \"3P%\": 0.257, \"2P\": 2.3, \"2PA\": 4.8, \"2P%\": 0.467, \"eFG%\": 0.445, \"FT\": 1.0, \"FTA\": 1.2, \"FT%\": 0.826, \"ORB\": 0.7, \"DRB\": 2.3, \"TRB\": 3.0, \"AST\": 3.7, \"STL\": 0.9, \"BLK\": 0.2, \"TOV\": 1.1, \"PF\": 2.4, \"PTS\": 6.9}, {\"Player\": \"Dru Smith\", \"Pos\": \"SG\", \"Age\": 26, \"Tm\": \"MIA\", \"G\": 9, \"GS\": 0, \"MP\": 14.6, \"FG\": 1.7, \"FGA\": 3.7, \"FG%\": 0.455, \"3P\": 0.8, \"3PA\": 1.9, \"3P%\": 0.412, \"2P\": 0.9, \"2PA\": 1.8, \"2P%\": 0.5, \"eFG%\": 0.561, \"FT\": 0.2, \"FTA\": 0.2, \"FT%\": 1.0, \"ORB\": 0.7, \"DRB\": 0.9, \"TRB\": 1.6, \"AST\": 1.6, \"STL\": 1.0, \"BLK\": 0.3, \"TOV\": 0.6, \"PF\": 1.3, \"PTS\": 4.3}, {\"Player\": \"Ish Smith\", \"Pos\": \"PG\", \"Age\": 35, \"Tm\": \"CHO\", \"G\": 25, \"GS\": 2, \"MP\": 16.8, \"FG\": 1.8, \"FGA\": 3.6, \"FG%\": 0.505, \"3P\": 0.1, \"3PA\": 0.2, \"3P%\": 0.5, \"2P\": 1.8, \"2PA\": 3.5, \"2P%\": 0.506, \"eFG%\": 0.516, \"FT\": 0.1, \"FTA\": 0.1, \"FT%\": 1.0, \"ORB\": 0.3, \"DRB\": 1.3, \"TRB\": 1.6, \"AST\": 3.2, \"STL\": 0.3, \"BLK\": 0.1, \"TOV\": 1.3, \"PF\": 1.1, \"PTS\": 3.8}, {\"Player\": \"Jabari Smith Jr.\", \"Pos\": \"PF\", \"Age\": 20, \"Tm\": \"HOU\", \"G\": 30, \"GS\": 30, \"MP\": 30.3, \"FG\": 5.0, \"FGA\": 10.2, \"FG%\": 0.49, \"3P\": 1.7, \"3PA\": 4.4, \"3P%\": 0.379, \"2P\": 3.3, \"2PA\": 5.8, \"2P%\": 0.575, \"eFG%\": 0.572, \"FT\": 1.8, \"FTA\": 2.2, \"FT%\": 0.821, \"ORB\": 1.9, \"DRB\": 6.6, \"TRB\": 8.5, \"AST\": 1.5, \"STL\": 0.6, \"BLK\": 0.8, \"TOV\": 1.2, \"PF\": 3.0, \"PTS\": 13.5}, {\"Player\": \"Jalen Smith\", \"Pos\": \"C\", \"Age\": 23, \"Tm\": \"IND\", \"G\": 20, \"GS\": 4, \"MP\": 16.0, \"FG\": 3.9, \"FGA\": 5.9, \"FG%\": 0.667, \"3P\": 1.2, \"3PA\": 2.1, \"3P%\": 0.561, \"2P\": 2.8, \"2PA\": 3.8, \"2P%\": 0.724, \"eFG%\": 0.765, \"FT\": 1.3, \"FTA\": 1.9, \"FT%\": 0.658, \"ORB\": 1.4, \"DRB\": 3.8, \"TRB\": 5.2, \"AST\": 0.9, \"STL\": 0.3, \"BLK\": 0.4, \"TOV\": 1.0, \"PF\": 2.4, \"PTS\": 10.2}, {\"Player\": \"Nick Smith Jr.\", \"Pos\": \"SG\", \"Age\": 19, \"Tm\": \"CHO\", \"G\": 16, \"GS\": 0, \"MP\": 12.3, \"FG\": 2.4, \"FGA\": 5.3, \"FG%\": 0.452, \"3P\": 1.3, \"3PA\": 2.8, \"3P%\": 0.477, \"2P\": 1.1, \"2PA\": 2.5, \"2P%\": 0.425, \"eFG%\": 0.577, \"FT\": 0.1, \"FTA\": 0.1, \"FT%\": 1.0, \"ORB\": 0.4, \"DRB\": 0.7, \"TRB\": 1.1, \"AST\": 0.8, \"STL\": 0.1, \"BLK\": 0.3, \"TOV\": 0.6, \"PF\": 1.1, \"PTS\": 6.2}, {\"Player\": \"Jeremy Sochan\", \"Pos\": \"PF\", \"Age\": 20, \"Tm\": \"SAS\", \"G\": 32, \"GS\": 31, \"MP\": 29.1, \"FG\": 4.2, \"FGA\": 9.8, \"FG%\": 0.433, \"3P\": 0.9, \"3PA\": 2.4, \"3P%\": 0.372, \"2P\": 3.3, \"2PA\": 7.3, \"2P%\": 0.453, \"eFG%\": 0.479, \"FT\": 1.5, \"FTA\": 2.0, \"FT%\": 0.762, \"ORB\": 1.5, \"DRB\": 4.0, \"TRB\": 5.6, \"AST\": 4.1, \"STL\": 0.6, \"BLK\": 0.3, \"TOV\": 2.1, \"PF\": 2.6, \"PTS\": 10.8}, {\"Player\": \"Jaden Springer\", \"Pos\": \"SG\", \"Age\": 21, \"Tm\": \"PHI\", \"G\": 19, \"GS\": 0, \"MP\": 9.1, \"FG\": 1.2, \"FGA\": 3.1, \"FG%\": 0.379, \"3P\": 0.3, \"3PA\": 0.9, \"3P%\": 0.294, \"2P\": 0.9, \"2PA\": 2.2, \"2P%\": 0.415, \"eFG%\": 0.422, \"FT\": 0.6, \"FTA\": 0.8, \"FT%\": 0.75, \"ORB\": 0.7, \"DRB\": 0.6, \"TRB\": 1.4, \"AST\": 0.9, \"STL\": 0.5, \"BLK\": 0.4, \"TOV\": 0.8, \"PF\": 1.3, \"PTS\": 3.2}, {\"Player\": \"Lamar Stevens\", \"Pos\": \"PF\", \"Age\": 26, \"Tm\": \"BOS\", \"G\": 12, \"GS\": 1, \"MP\": 5.0, \"FG\": 1.0, \"FGA\": 1.8, \"FG%\": 0.545, \"3P\": 0.2, \"3PA\": 0.5, \"3P%\": 0.333, \"2P\": 0.8, \"2PA\": 1.3, \"2P%\": 0.625, \"eFG%\": 0.591, \"FT\": 0.3, \"FTA\": 0.3, \"FT%\": 0.75, \"ORB\": 0.5, \"DRB\": 0.7, \"TRB\": 1.2, \"AST\": 0.5, \"STL\": 0.3, \"BLK\": 0.3, \"TOV\": 0.3, \"PF\": 0.8, \"PTS\": 2.4}, {\"Player\": \"Isaiah Stewart\", \"Pos\": \"PF\", \"Age\": 22, \"Tm\": \"DET\", \"G\": 28, \"GS\": 28, \"MP\": 30.7, \"FG\": 3.9, \"FGA\": 8.2, \"FG%\": 0.472, \"3P\": 1.4, \"3PA\": 3.5, \"3P%\": 0.398, \"2P\": 2.5, \"2PA\": 4.7, \"2P%\": 0.527, \"eFG%\": 0.557, \"FT\": 1.3, \"FTA\": 1.7, \"FT%\": 0.745, \"ORB\": 1.9, \"DRB\": 5.2, \"TRB\": 7.0, \"AST\": 1.7, \"STL\": 0.3, \"BLK\": 0.6, \"TOV\": 1.5, \"PF\": 2.6, \"PTS\": 10.4}, {\"Player\": \"Julian Strawther\", \"Pos\": \"SF\", \"Age\": 21, \"Tm\": \"DEN\", \"G\": 32, \"GS\": 0, \"MP\": 14.0, \"FG\": 2.2, \"FGA\": 5.8, \"FG%\": 0.386, \"3P\": 1.2, \"3PA\": 3.6, \"3P%\": 0.325, \"2P\": 1.1, \"2PA\": 2.2, \"2P%\": 0.486, \"eFG%\": 0.486, \"FT\": 0.5, \"FTA\": 0.7, \"FT%\": 0.696, \"ORB\": 0.1, \"DRB\": 1.4, \"TRB\": 1.5, \"AST\": 1.1, \"STL\": 0.5, \"BLK\": 0.2, \"TOV\": 0.5, \"PF\": 1.5, \"PTS\": 6.1}, {\"Player\": \"Max Strus\", \"Pos\": \"SF\", \"Age\": 27, \"Tm\": \"CLE\", \"G\": 33, \"GS\": 33, \"MP\": 34.8, \"FG\": 4.9, \"FGA\": 12.4, \"FG%\": 0.394, \"3P\": 2.8, \"3PA\": 8.3, \"3P%\": 0.339, \"2P\": 2.1, \"2PA\": 4.1, \"2P%\": 0.504, \"eFG%\": 0.507, \"FT\": 1.2, \"FTA\": 1.5, \"FT%\": 0.796, \"ORB\": 0.7, \"DRB\": 4.4, \"TRB\": 5.1, \"AST\": 3.9, \"STL\": 1.0, \"BLK\": 0.6, \"TOV\": 1.7, \"PF\": 2.9, \"PTS\": 13.8}, {\"Player\": \"Jalen Suggs\", \"Pos\": \"SG\", \"Age\": 22, \"Tm\": \"ORL\", \"G\": 28, \"GS\": 28, \"MP\": 26.5, \"FG\": 4.5, \"FGA\": 9.7, \"FG%\": 0.465, \"3P\": 1.7, \"3PA\": 4.8, \"3P%\": 0.353, \"2P\": 2.8, \"2PA\": 4.9, \"2P%\": 0.572, \"eFG%\": 0.552, \"FT\": 2.0, \"FTA\": 2.5, \"FT%\": 0.797, \"ORB\": 0.6, \"DRB\": 2.8, \"TRB\": 3.4, \"AST\": 2.5, \"STL\": 1.5, \"BLK\": 0.7, \"TOV\": 2.0, \"PF\": 2.8, \"PTS\": 12.6}, {\"Player\": \"Jae'Sean Tate\", \"Pos\": \"SF\", \"Age\": 28, \"Tm\": \"HOU\", \"G\": 29, \"GS\": 3, \"MP\": 18.5, \"FG\": 2.1, \"FGA\": 4.3, \"FG%\": 0.492, \"3P\": 0.5, \"3PA\": 1.6, \"3P%\": 0.319, \"2P\": 1.6, \"2PA\": 2.7, \"2P%\": 0.597, \"eFG%\": 0.552, \"FT\": 0.5, \"FTA\": 0.8, \"FT%\": 0.682, \"ORB\": 1.0, \"DRB\": 2.5, \"TRB\": 3.5, \"AST\": 1.0, \"STL\": 0.8, \"BLK\": 0.2, \"TOV\": 0.5, \"PF\": 2.6, \"PTS\": 5.2}, {\"Player\": \"Jayson Tatum\", \"Pos\": \"PF\", \"Age\": 25, \"Tm\": \"BOS\", \"G\": 30, \"GS\": 30, \"MP\": 36.8, \"FG\": 9.3, \"FGA\": 19.6, \"FG%\": 0.474, \"3P\": 3.0, \"3PA\": 8.7, \"3P%\": 0.346, \"2P\": 6.3, \"2PA\": 10.9, \"2P%\": 0.575, \"eFG%\": 0.55, \"FT\": 5.4, \"FTA\": 6.7, \"FT%\": 0.806, \"ORB\": 0.9, \"DRB\": 7.5, \"TRB\": 8.4, \"AST\": 4.4, \"STL\": 1.0, \"BLK\": 0.5, \"TOV\": 2.9, \"PF\": 2.1, \"PTS\": 26.9}, {\"Player\": \"Garrett Temple\", \"Pos\": \"SG\", \"Age\": 37, \"Tm\": \"TOR\", \"G\": 6, \"GS\": 0, \"MP\": 3.2, \"FG\": 0.7, \"FGA\": 0.8, \"FG%\": 0.8, \"3P\": 0.2, \"3PA\": 0.2, \"3P%\": 1.0, \"2P\": 0.5, \"2PA\": 0.7, \"2P%\": 0.75, \"eFG%\": 0.9, \"FT\": 0.3, \"FTA\": 0.3, \"FT%\": 1.0, \"ORB\": 0.0, \"DRB\": 0.3, \"TRB\": 0.3, \"AST\": 0.5, \"STL\": 0.2, \"BLK\": 0.0, \"TOV\": 0.0, \"PF\": 0.0, \"PTS\": 1.8}, {\"Player\": \"Dalen Terry\", \"Pos\": \"SG\", \"Age\": 21, \"Tm\": \"CHI\", \"G\": 18, \"GS\": 0, \"MP\": 9.4, \"FG\": 0.7, \"FGA\": 1.7, \"FG%\": 0.4, \"3P\": 0.2, \"3PA\": 0.9, \"3P%\": 0.176, \"2P\": 0.5, \"2PA\": 0.7, \"2P%\": 0.692, \"eFG%\": 0.45, \"FT\": 0.4, \"FTA\": 0.6, \"FT%\": 0.7, \"ORB\": 0.3, \"DRB\": 1.2, \"TRB\": 1.5, \"AST\": 0.9, \"STL\": 0.2, \"BLK\": 0.3, \"TOV\": 0.4, \"PF\": 0.9, \"PTS\": 1.9}, {\"Player\": \"Daniel Theis\", \"Pos\": \"C\", \"Age\": 31, \"Tm\": \"TOT\", \"G\": 22, \"GS\": 0, \"MP\": 16.5, \"FG\": 2.8, \"FGA\": 5.4, \"FG%\": 0.517, \"3P\": 0.5, \"3PA\": 1.0, \"3P%\": 0.455, \"2P\": 2.3, \"2PA\": 4.4, \"2P%\": 0.531, \"eFG%\": 0.559, \"FT\": 1.0, \"FTA\": 1.4, \"FT%\": 0.742, \"ORB\": 1.5, \"DRB\": 1.9, \"TRB\": 3.4, \"AST\": 0.7, \"STL\": 0.4, \"BLK\": 0.8, \"TOV\": 0.7, \"PF\": 2.4, \"PTS\": 7.0}, {\"Player\": \"Daniel Theis\", \"Pos\": \"C\", \"Age\": 31, \"Tm\": \"LAC\", \"G\": 21, \"GS\": 0, \"MP\": 16.9, \"FG\": 2.9, \"FGA\": 5.4, \"FG%\": 0.526, \"3P\": 0.5, \"3PA\": 1.0, \"3P%\": 0.476, \"2P\": 2.4, \"2PA\": 4.4, \"2P%\": 0.538, \"eFG%\": 0.57, \"FT\": 1.1, \"FTA\": 1.5, \"FT%\": 0.742, \"ORB\": 1.5, \"DRB\": 2.0, \"TRB\": 3.5, \"AST\": 0.8, \"STL\": 0.4, \"BLK\": 0.9, \"TOV\": 0.7, \"PF\": 2.5, \"PTS\": 7.3}, {\"Player\": \"Cam Thomas\", \"Pos\": \"SG\", \"Age\": 22, \"Tm\": \"BRK\", \"G\": 24, \"GS\": 20, \"MP\": 29.9, \"FG\": 8.3, \"FGA\": 18.6, \"FG%\": 0.448, \"3P\": 2.1, \"3PA\": 5.7, \"3P%\": 0.365, \"2P\": 6.3, \"2PA\": 12.9, \"2P%\": 0.485, \"eFG%\": 0.504, \"FT\": 3.6, \"FTA\": 4.5, \"FT%\": 0.806, \"ORB\": 0.3, \"DRB\": 2.3, \"TRB\": 2.6, \"AST\": 2.3, \"STL\": 0.6, \"BLK\": 0.4, \"TOV\": 1.7, \"PF\": 2.2, \"PTS\": 22.4}, {\"Player\": \"Amen Thompson\", \"Pos\": \"SF\", \"Age\": 21, \"Tm\": \"HOU\", \"G\": 12, \"GS\": 0, \"MP\": 15.3, \"FG\": 2.0, \"FGA\": 4.5, \"FG%\": 0.444, \"3P\": 0.3, \"3PA\": 1.4, \"3P%\": 0.176, \"2P\": 1.8, \"2PA\": 3.1, \"2P%\": 0.568, \"eFG%\": 0.472, \"FT\": 0.9, \"FTA\": 1.5, \"FT%\": 0.611, \"ORB\": 0.8, \"DRB\": 2.5, \"TRB\": 3.3, \"AST\": 1.8, \"STL\": 0.7, \"BLK\": 0.2, \"TOV\": 1.0, \"PF\": 1.8, \"PTS\": 5.2}, {\"Player\": \"Ausar Thompson\", \"Pos\": \"SF\", \"Age\": 21, \"Tm\": \"DET\", \"G\": 33, \"GS\": 24, \"MP\": 25.3, \"FG\": 3.7, \"FGA\": 8.1, \"FG%\": 0.462, \"3P\": 0.3, \"3PA\": 1.8, \"3P%\": 0.153, \"2P\": 3.5, \"2PA\": 6.3, \"2P%\": 0.551, \"eFG%\": 0.479, \"FT\": 1.3, \"FTA\": 1.9, \"FT%\": 0.698, \"ORB\": 2.3, \"DRB\": 4.8, \"TRB\": 7.1, \"AST\": 2.2, \"STL\": 0.8, \"BLK\": 1.1, \"TOV\": 1.6, \"PF\": 3.1, \"PTS\": 9.1}, {\"Player\": \"Klay Thompson\", \"Pos\": \"SF\", \"Age\": 33, \"Tm\": \"GSW\", \"G\": 31, \"GS\": 31, \"MP\": 30.2, \"FG\": 5.8, \"FGA\": 13.9, \"FG%\": 0.416, \"3P\": 3.2, \"3PA\": 8.4, \"3P%\": 0.377, \"2P\": 2.6, \"2PA\": 5.5, \"2P%\": 0.476, \"eFG%\": 0.53, \"FT\": 2.0, \"FTA\": 2.2, \"FT%\": 0.899, \"ORB\": 0.5, \"DRB\": 3.2, \"TRB\": 3.7, \"AST\": 2.1, \"STL\": 0.5, \"BLK\": 0.5, \"TOV\": 1.7, \"PF\": 1.9, \"PTS\": 16.7}, {\"Player\": \"JT Thor\", \"Pos\": \"PF\", \"Age\": 21, \"Tm\": \"CHO\", \"G\": 25, \"GS\": 1, \"MP\": 14.8, \"FG\": 1.2, \"FGA\": 3.2, \"FG%\": 0.383, \"3P\": 0.5, \"3PA\": 1.7, \"3P%\": 0.31, \"2P\": 0.7, \"2PA\": 1.6, \"2P%\": 0.462, \"eFG%\": 0.463, \"FT\": 0.1, \"FTA\": 0.3, \"FT%\": 0.429, \"ORB\": 0.8, \"DRB\": 1.6, \"TRB\": 2.4, \"AST\": 0.4, \"STL\": 0.2, \"BLK\": 0.4, \"TOV\": 0.2, \"PF\": 1.1, \"PTS\": 3.1}, {\"Player\": \"Matisse Thybulle\", \"Pos\": \"SF\", \"Age\": 26, \"Tm\": \"POR\", \"G\": 32, \"GS\": 13, \"MP\": 23.8, \"FG\": 2.1, \"FGA\": 4.9, \"FG%\": 0.424, \"3P\": 1.5, \"3PA\": 3.9, \"3P%\": 0.373, \"2P\": 0.6, \"2PA\": 1.0, \"2P%\": 0.625, \"eFG%\": 0.573, \"FT\": 0.3, \"FTA\": 0.4, \"FT%\": 0.75, \"ORB\": 0.5, \"DRB\": 1.7, \"TRB\": 2.2, \"AST\": 1.1, \"STL\": 1.7, \"BLK\": 0.9, \"TOV\": 0.6, \"PF\": 1.2, \"PTS\": 5.9}, {\"Player\": \"Xavier Tillman Sr.\", \"Pos\": \"C\", \"Age\": 25, \"Tm\": \"MEM\", \"G\": 20, \"GS\": 6, \"MP\": 20.0, \"FG\": 2.5, \"FGA\": 6.5, \"FG%\": 0.38, \"3P\": 0.5, \"3PA\": 2.0, \"3P%\": 0.256, \"2P\": 2.0, \"2PA\": 4.5, \"2P%\": 0.433, \"eFG%\": 0.419, \"FT\": 0.4, \"FTA\": 1.0, \"FT%\": 0.35, \"ORB\": 1.5, \"DRB\": 3.1, \"TRB\": 4.6, \"AST\": 1.5, \"STL\": 1.2, \"BLK\": 1.0, \"TOV\": 0.9, \"PF\": 1.6, \"PTS\": 5.8}, {\"Player\": \"Obi Toppin\", \"Pos\": \"PF\", \"Age\": 25, \"Tm\": \"IND\", \"G\": 32, \"GS\": 27, \"MP\": 23.9, \"FG\": 4.6, \"FGA\": 7.8, \"FG%\": 0.586, \"3P\": 1.3, \"3PA\": 3.3, \"3P%\": 0.381, \"2P\": 3.3, \"2PA\": 4.5, \"2P%\": 0.736, \"eFG%\": 0.667, \"FT\": 1.2, \"FTA\": 1.5, \"FT%\": 0.755, \"ORB\": 1.1, \"DRB\": 2.8, \"TRB\": 3.9, \"AST\": 1.3, \"STL\": 0.5, \"BLK\": 0.6, \"TOV\": 0.8, \"PF\": 2.2, \"PTS\": 11.5}, {\"Player\": \"Karl-Anthony Towns\", \"Pos\": \"PF\", \"Age\": 28, \"Tm\": \"MIN\", \"G\": 31, \"GS\": 31, \"MP\": 32.8, \"FG\": 7.7, \"FGA\": 15.1, \"FG%\": 0.509, \"3P\": 1.9, \"3PA\": 4.6, \"3P%\": 0.413, \"2P\": 5.8, \"2PA\": 10.5, \"2P%\": 0.551, \"eFG%\": 0.572, \"FT\": 4.1, \"FTA\": 4.6, \"FT%\": 0.895, \"ORB\": 1.6, \"DRB\": 7.5, \"TRB\": 9.2, \"AST\": 2.9, \"STL\": 0.8, \"BLK\": 0.5, \"TOV\": 3.0, \"PF\": 3.5, \"PTS\": 21.4}, {\"Player\": \"Gary Trent Jr.\", \"Pos\": \"SG\", \"Age\": 25, \"Tm\": \"TOR\", \"G\": 30, \"GS\": 5, \"MP\": 26.0, \"FG\": 4.2, \"FGA\": 10.4, \"FG%\": 0.399, \"3P\": 2.2, \"3PA\": 5.8, \"3P%\": 0.382, \"2P\": 2.0, \"2PA\": 4.7, \"2P%\": 0.421, \"eFG%\": 0.505, \"FT\": 0.9, \"FTA\": 1.4, \"FT%\": 0.651, \"ORB\": 0.3, \"DRB\": 2.1, \"TRB\": 2.4, \"AST\": 1.7, \"STL\": 0.8, \"BLK\": 0.1, \"TOV\": 0.6, \"PF\": 1.0, \"PTS\": 11.5}, {\"Player\": \"P.J. Tucker\", \"Pos\": \"PF\", \"Age\": 38, \"Tm\": \"TOT\", \"G\": 15, \"GS\": 3, \"MP\": 15.9, \"FG\": 0.4, \"FGA\": 1.3, \"FG%\": 0.316, \"3P\": 0.3, \"3PA\": 1.1, \"3P%\": 0.313, \"2P\": 0.1, \"2PA\": 0.2, \"2P%\": 0.333, \"eFG%\": 0.447, \"FT\": 0.2, \"FTA\": 0.2, \"FT%\": 1.0, \"ORB\": 1.1, \"DRB\": 1.8, \"TRB\": 2.9, \"AST\": 0.5, \"STL\": 0.6, \"BLK\": 0.2, \"TOV\": 0.3, \"PF\": 2.3, \"PTS\": 1.3}, {\"Player\": \"P.J. Tucker\", \"Pos\": \"PF\", \"Age\": 38, \"Tm\": \"LAC\", \"G\": 12, \"GS\": 0, \"MP\": 14.4, \"FG\": 0.3, \"FGA\": 1.2, \"FG%\": 0.286, \"3P\": 0.3, \"3PA\": 0.9, \"3P%\": 0.273, \"2P\": 0.1, \"2PA\": 0.3, \"2P%\": 0.333, \"eFG%\": 0.393, \"FT\": 0.3, \"FTA\": 0.3, \"FT%\": 1.0, \"ORB\": 1.3, \"DRB\": 1.2, \"TRB\": 2.4, \"AST\": 0.7, \"STL\": 0.5, \"BLK\": 0.1, \"TOV\": 0.2, \"PF\": 2.2, \"PTS\": 1.2}, {\"Player\": \"Myles Turner\", \"Pos\": \"C\", \"Age\": 27, \"Tm\": \"IND\", \"G\": 31, \"GS\": 31, \"MP\": 27.5, \"FG\": 6.2, \"FGA\": 11.8, \"FG%\": 0.525, \"3P\": 1.5, \"3PA\": 4.0, \"3P%\": 0.36, \"2P\": 4.7, \"2PA\": 7.8, \"2P%\": 0.61, \"eFG%\": 0.586, \"FT\": 3.7, \"FTA\": 4.5, \"FT%\": 0.823, \"ORB\": 1.7, \"DRB\": 5.6, \"TRB\": 7.4, \"AST\": 1.1, \"STL\": 0.5, \"BLK\": 2.2, \"TOV\": 1.4, \"PF\": 3.2, \"PTS\": 17.6}, {\"Player\": \"Stanley Umude\", \"Pos\": \"SG\", \"Age\": 24, \"Tm\": \"DET\", \"G\": 15, \"GS\": 0, \"MP\": 10.3, \"FG\": 1.3, \"FGA\": 2.9, \"FG%\": 0.455, \"3P\": 0.9, \"3PA\": 1.8, \"3P%\": 0.519, \"2P\": 0.4, \"2PA\": 1.1, \"2P%\": 0.353, \"eFG%\": 0.614, \"FT\": 1.4, \"FTA\": 1.5, \"FT%\": 0.913, \"ORB\": 0.2, \"DRB\": 1.7, \"TRB\": 1.9, \"AST\": 0.5, \"STL\": 0.3, \"BLK\": 0.3, \"TOV\": 0.7, \"PF\": 1.6, \"PTS\": 5.0}, {\"Player\": \"Jonas Valan\\u010di\\u016bnas\", \"Pos\": \"C\", \"Age\": 31, \"Tm\": \"NOP\", \"G\": 33, \"GS\": 33, \"MP\": 27.6, \"FG\": 5.7, \"FGA\": 10.0, \"FG%\": 0.568, \"3P\": 0.7, \"3PA\": 1.9, \"3P%\": 0.355, \"2P\": 5.0, \"2PA\": 8.1, \"2P%\": 0.618, \"eFG%\": 0.602, \"FT\": 2.4, \"FTA\": 3.0, \"FT%\": 0.8, \"ORB\": 2.4, \"DRB\": 7.2, \"TRB\": 9.7, \"AST\": 2.4, \"STL\": 0.6, \"BLK\": 1.3, \"TOV\": 1.5, \"PF\": 3.2, \"PTS\": 14.4}, {\"Player\": \"Jarred Vanderbilt\", \"Pos\": \"PF\", \"Age\": 24, \"Tm\": \"LAL\", \"G\": 13, \"GS\": 5, \"MP\": 17.8, \"FG\": 1.2, \"FGA\": 3.4, \"FG%\": 0.341, \"3P\": 0.1, \"3PA\": 1.1, \"3P%\": 0.071, \"2P\": 1.1, \"2PA\": 2.3, \"2P%\": 0.467, \"eFG%\": 0.352, \"FT\": 0.2, \"FTA\": 0.3, \"FT%\": 0.75, \"ORB\": 1.2, \"DRB\": 2.8, \"TRB\": 4.1, \"AST\": 0.8, \"STL\": 0.7, \"BLK\": 0.2, \"TOV\": 0.3, \"PF\": 1.9, \"PTS\": 2.6}, {\"Player\": \"Fred VanVleet\", \"Pos\": \"PG\", \"Age\": 29, \"Tm\": \"HOU\", \"G\": 30, \"GS\": 30, \"MP\": 37.4, \"FG\": 5.7, \"FGA\": 14.2, \"FG%\": 0.402, \"3P\": 3.0, \"3PA\": 7.6, \"3P%\": 0.39, \"2P\": 2.7, \"2PA\": 6.6, \"2P%\": 0.416, \"eFG%\": 0.507, \"FT\": 3.0, \"FTA\": 3.4, \"FT%\": 0.874, \"ORB\": 0.3, \"DRB\": 3.6, \"TRB\": 3.9, \"AST\": 8.5, \"STL\": 1.1, \"BLK\": 0.5, \"TOV\": 1.7, \"PF\": 1.9, \"PTS\": 17.4}, {\"Player\": \"Devin Vassell\", \"Pos\": \"SG\", \"Age\": 23, \"Tm\": \"SAS\", \"G\": 27, \"GS\": 21, \"MP\": 30.2, \"FG\": 6.7, \"FGA\": 14.5, \"FG%\": 0.463, \"3P\": 2.6, \"3PA\": 7.1, \"3P%\": 0.365, \"2P\": 4.1, \"2PA\": 7.4, \"2P%\": 0.558, \"eFG%\": 0.552, \"FT\": 2.3, \"FTA\": 2.9, \"FT%\": 0.818, \"ORB\": 0.4, \"DRB\": 3.0, \"TRB\": 3.4, \"AST\": 3.0, \"STL\": 1.2, \"BLK\": 0.2, \"TOV\": 1.3, \"PF\": 1.1, \"PTS\": 18.3}, {\"Player\": \"Sasha Vezenkov\", \"Pos\": \"PF\", \"Age\": 28, \"Tm\": \"SAC\", \"G\": 27, \"GS\": 0, \"MP\": 12.9, \"FG\": 2.0, \"FGA\": 4.6, \"FG%\": 0.427, \"3P\": 1.1, \"3PA\": 2.9, \"3P%\": 0.367, \"2P\": 0.9, \"2PA\": 1.7, \"2P%\": 0.533, \"eFG%\": 0.544, \"FT\": 0.2, \"FTA\": 0.3, \"FT%\": 0.75, \"ORB\": 0.7, \"DRB\": 1.9, \"TRB\": 2.6, \"AST\": 0.5, \"STL\": 0.5, \"BLK\": 0.2, \"TOV\": 0.3, \"PF\": 1.0, \"PTS\": 5.2}, {\"Player\": \"Gabe Vincent\", \"Pos\": \"PG\", \"Age\": 27, \"Tm\": \"LAL\", \"G\": 5, \"GS\": 0, \"MP\": 25.4, \"FG\": 2.4, \"FGA\": 6.4, \"FG%\": 0.375, \"3P\": 0.4, \"3PA\": 3.4, \"3P%\": 0.118, \"2P\": 2.0, \"2PA\": 3.0, \"2P%\": 0.667, \"eFG%\": 0.406, \"FT\": 0.2, \"FTA\": 0.4, \"FT%\": 0.5, \"ORB\": 0.4, \"DRB\": 0.6, \"TRB\": 1.0, \"AST\": 3.0, \"STL\": 1.2, \"BLK\": 0.0, \"TOV\": 0.4, \"PF\": 2.4, \"PTS\": 5.4}, {\"Player\": \"Nikola Vu\\u010devi\\u0107\", \"Pos\": \"C\", \"Age\": 33, \"Tm\": \"CHI\", \"G\": 31, \"GS\": 31, \"MP\": 34.0, \"FG\": 7.0, \"FGA\": 15.5, \"FG%\": 0.452, \"3P\": 1.1, \"3PA\": 3.9, \"3P%\": 0.281, \"2P\": 5.9, \"2PA\": 11.6, \"2P%\": 0.51, \"eFG%\": 0.488, \"FT\": 1.6, \"FTA\": 1.8, \"FT%\": 0.875, \"ORB\": 2.7, \"DRB\": 7.6, \"TRB\": 10.4, \"AST\": 3.4, \"STL\": 0.8, \"BLK\": 0.7, \"TOV\": 1.7, \"PF\": 2.6, \"PTS\": 16.7}, {\"Player\": \"Dean Wade\", \"Pos\": \"PF\", \"Age\": 27, \"Tm\": \"CLE\", \"G\": 26, \"GS\": 19, \"MP\": 22.1, \"FG\": 1.8, \"FGA\": 4.5, \"FG%\": 0.405, \"3P\": 1.4, \"3PA\": 3.8, \"3P%\": 0.37, \"2P\": 0.4, \"2PA\": 0.6, \"2P%\": 0.625, \"eFG%\": 0.565, \"FT\": 0.4, \"FTA\": 0.5, \"FT%\": 0.786, \"ORB\": 1.1, \"DRB\": 3.7, \"TRB\": 4.8, \"AST\": 0.8, \"STL\": 0.9, \"BLK\": 0.3, \"TOV\": 0.5, \"PF\": 2.2, \"PTS\": 5.5}, {\"Player\": \"Franz Wagner\", \"Pos\": \"SF\", \"Age\": 22, \"Tm\": \"ORL\", \"G\": 32, \"GS\": 32, \"MP\": 34.2, \"FG\": 7.8, \"FGA\": 16.8, \"FG%\": 0.465, \"3P\": 1.4, \"3PA\": 4.9, \"3P%\": 0.287, \"2P\": 6.4, \"2PA\": 11.9, \"2P%\": 0.538, \"eFG%\": 0.507, \"FT\": 4.2, \"FTA\": 4.9, \"FT%\": 0.847, \"ORB\": 1.1, \"DRB\": 4.9, \"TRB\": 6.0, \"AST\": 4.0, \"STL\": 1.2, \"BLK\": 0.4, \"TOV\": 1.8, \"PF\": 2.3, \"PTS\": 21.2}, {\"Player\": \"Moritz Wagner\", \"Pos\": \"C\", \"Age\": 26, \"Tm\": \"ORL\", \"G\": 32, \"GS\": 0, \"MP\": 18.5, \"FG\": 4.4, \"FGA\": 7.3, \"FG%\": 0.601, \"3P\": 0.5, \"3PA\": 1.6, \"3P%\": 0.314, \"2P\": 3.9, \"2PA\": 5.7, \"2P%\": 0.681, \"eFG%\": 0.635, \"FT\": 1.9, \"FTA\": 2.4, \"FT%\": 0.782, \"ORB\": 1.5, \"DRB\": 2.8, \"TRB\": 4.4, \"AST\": 1.2, \"STL\": 0.4, \"BLK\": 0.3, \"TOV\": 1.3, \"PF\": 2.3, \"PTS\": 11.2}, {\"Player\": \"Ish Wainright\", \"Pos\": \"SF\", \"Age\": 29, \"Tm\": \"POR\", \"G\": 6, \"GS\": 0, \"MP\": 4.8, \"FG\": 0.5, \"FGA\": 2.2, \"FG%\": 0.231, \"3P\": 0.5, \"3PA\": 1.8, \"3P%\": 0.273, \"2P\": 0.0, \"2PA\": 0.3, \"2P%\": 0.0, \"eFG%\": 0.346, \"FT\": 0.3, \"FTA\": 0.3, \"FT%\": 1.0, \"ORB\": 0.0, \"DRB\": 0.7, \"TRB\": 0.7, \"AST\": 0.0, \"STL\": 0.2, \"BLK\": 0.2, \"TOV\": 0.2, \"PF\": 0.7, \"PTS\": 1.8}, {\"Player\": \"Jabari Walker\", \"Pos\": \"SF\", \"Age\": 21, \"Tm\": \"POR\", \"G\": 32, \"GS\": 0, \"MP\": 18.9, \"FG\": 2.9, \"FGA\": 6.0, \"FG%\": 0.487, \"3P\": 0.5, \"3PA\": 1.8, \"3P%\": 0.271, \"2P\": 2.4, \"2PA\": 4.2, \"2P%\": 0.582, \"eFG%\": 0.528, \"FT\": 1.8, \"FTA\": 2.3, \"FT%\": 0.76, \"ORB\": 1.8, \"DRB\": 3.6, \"TRB\": 5.5, \"AST\": 0.7, \"STL\": 0.7, \"BLK\": 0.4, \"TOV\": 0.9, \"PF\": 2.3, \"PTS\": 8.2}, {\"Player\": \"Jarace Walker\", \"Pos\": \"PF\", \"Age\": 20, \"Tm\": \"IND\", \"G\": 9, \"GS\": 0, \"MP\": 9.4, \"FG\": 1.3, \"FGA\": 3.1, \"FG%\": 0.429, \"3P\": 0.3, \"3PA\": 1.2, \"3P%\": 0.273, \"2P\": 1.0, \"2PA\": 1.9, \"2P%\": 0.529, \"eFG%\": 0.482, \"FT\": 0.3, \"FTA\": 0.3, \"FT%\": 1.0, \"ORB\": 0.1, \"DRB\": 1.2, \"TRB\": 1.3, \"AST\": 1.2, \"STL\": 0.4, \"BLK\": 0.3, \"TOV\": 0.3, \"PF\": 1.2, \"PTS\": 3.3}, {\"Player\": \"Lonnie Walker IV\", \"Pos\": \"SG\", \"Age\": 25, \"Tm\": \"BRK\", \"G\": 17, \"GS\": 0, \"MP\": 21.3, \"FG\": 5.2, \"FGA\": 10.6, \"FG%\": 0.489, \"3P\": 2.6, \"3PA\": 5.6, \"3P%\": 0.463, \"2P\": 2.6, \"2PA\": 5.0, \"2P%\": 0.518, \"eFG%\": 0.611, \"FT\": 1.7, \"FTA\": 2.2, \"FT%\": 0.763, \"ORB\": 0.2, \"DRB\": 2.5, \"TRB\": 2.6, \"AST\": 1.6, \"STL\": 0.6, \"BLK\": 0.4, \"TOV\": 1.5, \"PF\": 0.9, \"PTS\": 14.6}, {\"Player\": \"Cason Wallace\", \"Pos\": \"SG\", \"Age\": 20, \"Tm\": \"OKC\", \"G\": 31, \"GS\": 6, \"MP\": 21.7, \"FG\": 2.6, \"FGA\": 5.0, \"FG%\": 0.532, \"3P\": 1.0, \"3PA\": 2.3, \"3P%\": 0.431, \"2P\": 1.6, \"2PA\": 2.6, \"2P%\": 0.622, \"eFG%\": 0.633, \"FT\": 0.5, \"FTA\": 0.5, \"FT%\": 0.824, \"ORB\": 0.5, \"DRB\": 1.7, \"TRB\": 2.2, \"AST\": 1.5, \"STL\": 0.6, \"BLK\": 0.5, \"TOV\": 0.5, \"PF\": 1.7, \"PTS\": 6.7}, {\"Player\": \"P.J. Washington\", \"Pos\": \"PF\", \"Age\": 25, \"Tm\": \"CHO\", \"G\": 28, \"GS\": 13, \"MP\": 29.4, \"FG\": 5.0, \"FGA\": 11.8, \"FG%\": 0.422, \"3P\": 1.8, \"3PA\": 5.8, \"3P%\": 0.309, \"2P\": 3.2, \"2PA\": 6.0, \"2P%\": 0.533, \"eFG%\": 0.498, \"FT\": 1.6, \"FTA\": 2.1, \"FT%\": 0.763, \"ORB\": 1.3, \"DRB\": 4.1, \"TRB\": 5.4, \"AST\": 2.3, \"STL\": 0.9, \"BLK\": 0.8, \"TOV\": 1.5, \"PF\": 2.6, \"PTS\": 13.3}, {\"Player\": \"Yuta Watanabe\", \"Pos\": \"SF\", \"Age\": 29, \"Tm\": \"PHO\", \"G\": 22, \"GS\": 0, \"MP\": 15.8, \"FG\": 1.4, \"FGA\": 4.0, \"FG%\": 0.345, \"3P\": 1.0, \"3PA\": 3.2, \"3P%\": 0.329, \"2P\": 0.3, \"2PA\": 0.8, \"2P%\": 0.412, \"eFG%\": 0.477, \"FT\": 0.4, \"FTA\": 0.6, \"FT%\": 0.692, \"ORB\": 0.5, \"DRB\": 1.4, \"TRB\": 1.9, \"AST\": 0.5, \"STL\": 0.3, \"BLK\": 0.3, \"TOV\": 0.6, \"PF\": 1.4, \"PTS\": 4.2}, {\"Player\": \"Trendon Watford\", \"Pos\": \"PF\", \"Age\": 23, \"Tm\": \"BRK\", \"G\": 23, \"GS\": 0, \"MP\": 13.5, \"FG\": 2.6, \"FGA\": 4.8, \"FG%\": 0.541, \"3P\": 0.3, \"3PA\": 0.9, \"3P%\": 0.3, \"2P\": 2.3, \"2PA\": 4.0, \"2P%\": 0.593, \"eFG%\": 0.568, \"FT\": 0.9, \"FTA\": 1.0, \"FT%\": 0.875, \"ORB\": 0.8, \"DRB\": 2.4, \"TRB\": 3.2, \"AST\": 1.8, \"STL\": 0.5, \"BLK\": 0.3, \"TOV\": 1.0, \"PF\": 1.7, \"PTS\": 6.4}, {\"Player\": \"Peyton Watson\", \"Pos\": \"SF\", \"Age\": 21, \"Tm\": \"DEN\", \"G\": 33, \"GS\": 2, \"MP\": 17.7, \"FG\": 2.6, \"FGA\": 5.0, \"FG%\": 0.512, \"3P\": 0.6, \"3PA\": 1.8, \"3P%\": 0.345, \"2P\": 2.0, \"2PA\": 3.3, \"2P%\": 0.602, \"eFG%\": 0.572, \"FT\": 0.8, \"FTA\": 1.3, \"FT%\": 0.651, \"ORB\": 0.5, \"DRB\": 2.1, \"TRB\": 2.6, \"AST\": 1.1, \"STL\": 0.5, \"BLK\": 0.9, \"TOV\": 0.6, \"PF\": 1.7, \"PTS\": 6.6}, {\"Player\": \"Victor Wembanyama\", \"Pos\": \"PF\", \"Age\": 20, \"Tm\": \"SAS\", \"G\": 28, \"GS\": 28, \"MP\": 29.5, \"FG\": 7.0, \"FGA\": 15.8, \"FG%\": 0.442, \"3P\": 1.4, \"3PA\": 4.9, \"3P%\": 0.29, \"2P\": 5.6, \"2PA\": 10.9, \"2P%\": 0.511, \"eFG%\": 0.488, \"FT\": 3.4, \"FTA\": 4.3, \"FT%\": 0.793, \"ORB\": 2.2, \"DRB\": 8.1, \"TRB\": 10.3, \"AST\": 3.0, \"STL\": 1.3, \"BLK\": 3.1, \"TOV\": 3.3, \"PF\": 2.3, \"PTS\": 18.9}, {\"Player\": \"Blake Wesley\", \"Pos\": \"SG\", \"Age\": 20, \"Tm\": \"SAS\", \"G\": 11, \"GS\": 0, \"MP\": 6.3, \"FG\": 0.6, \"FGA\": 1.7, \"FG%\": 0.368, \"3P\": 0.0, \"3PA\": 0.3, \"3P%\": 0.0, \"2P\": 0.6, \"2PA\": 1.5, \"2P%\": 0.438, \"eFG%\": 0.368, \"FT\": 0.5, \"FTA\": 0.9, \"FT%\": 0.5, \"ORB\": 0.3, \"DRB\": 0.4, \"TRB\": 0.6, \"AST\": 1.9, \"STL\": 0.3, \"BLK\": 0.1, \"TOV\": 0.2, \"PF\": 0.7, \"PTS\": 1.7}, {\"Player\": \"Russell Westbrook\", \"Pos\": \"PG\", \"Age\": 35, \"Tm\": \"LAC\", \"G\": 32, \"GS\": 10, \"MP\": 23.9, \"FG\": 4.6, \"FGA\": 9.9, \"FG%\": 0.468, \"3P\": 0.7, \"3PA\": 2.3, \"3P%\": 0.284, \"2P\": 4.0, \"2PA\": 7.6, \"2P%\": 0.525, \"eFG%\": 0.502, \"FT\": 1.5, \"FTA\": 2.3, \"FT%\": 0.635, \"ORB\": 1.6, \"DRB\": 4.9, \"TRB\": 6.5, \"AST\": 4.7, \"STL\": 1.1, \"BLK\": 0.5, \"TOV\": 2.3, \"PF\": 2.0, \"PTS\": 11.4}, {\"Player\": \"Coby White\", \"Pos\": \"PG\", \"Age\": 23, \"Tm\": \"CHI\", \"G\": 34, \"GS\": 34, \"MP\": 35.0, \"FG\": 6.3, \"FGA\": 14.3, \"FG%\": 0.442, \"3P\": 2.9, \"3PA\": 7.3, \"3P%\": 0.391, \"2P\": 3.5, \"2PA\": 7.0, \"2P%\": 0.496, \"eFG%\": 0.542, \"FT\": 2.2, \"FTA\": 2.6, \"FT%\": 0.822, \"ORB\": 0.5, \"DRB\": 3.8, \"TRB\": 4.3, \"AST\": 4.8, \"STL\": 0.7, \"BLK\": 0.2, \"TOV\": 2.0, \"PF\": 2.5, \"PTS\": 17.7}, {\"Player\": \"Derrick White\", \"Pos\": \"SG\", \"Age\": 29, \"Tm\": \"BOS\", \"G\": 29, \"GS\": 29, \"MP\": 32.6, \"FG\": 5.7, \"FGA\": 11.6, \"FG%\": 0.491, \"3P\": 2.7, \"3PA\": 6.6, \"3P%\": 0.416, \"2P\": 3.0, \"2PA\": 5.0, \"2P%\": 0.589, \"eFG%\": 0.609, \"FT\": 2.9, \"FTA\": 3.2, \"FT%\": 0.892, \"ORB\": 0.8, \"DRB\": 3.1, \"TRB\": 3.9, \"AST\": 5.3, \"STL\": 1.2, \"BLK\": 1.3, \"TOV\": 1.7, \"PF\": 2.1, \"PTS\": 17.0}, {\"Player\": \"Cam Whitmore\", \"Pos\": \"SF\", \"Age\": 19, \"Tm\": \"HOU\", \"G\": 8, \"GS\": 0, \"MP\": 9.0, \"FG\": 2.6, \"FGA\": 4.9, \"FG%\": 0.538, \"3P\": 0.8, \"3PA\": 2.0, \"3P%\": 0.375, \"2P\": 1.9, \"2PA\": 2.9, \"2P%\": 0.652, \"eFG%\": 0.615, \"FT\": 0.9, \"FTA\": 1.8, \"FT%\": 0.5, \"ORB\": 0.5, \"DRB\": 1.6, \"TRB\": 2.1, \"AST\": 0.3, \"STL\": 0.4, \"BLK\": 0.1, \"TOV\": 0.4, \"PF\": 0.8, \"PTS\": 6.9}, {\"Player\": \"Aaron Wiggins\", \"Pos\": \"SG\", \"Age\": 25, \"Tm\": \"OKC\", \"G\": 29, \"GS\": 0, \"MP\": 12.1, \"FG\": 1.8, \"FGA\": 3.1, \"FG%\": 0.582, \"3P\": 0.5, \"3PA\": 1.1, \"3P%\": 0.484, \"2P\": 1.3, \"2PA\": 2.1, \"2P%\": 0.633, \"eFG%\": 0.665, \"FT\": 0.6, \"FTA\": 0.9, \"FT%\": 0.72, \"ORB\": 0.7, \"DRB\": 1.7, \"TRB\": 2.4, \"AST\": 0.7, \"STL\": 0.4, \"BLK\": 0.1, \"TOV\": 0.6, \"PF\": 1.1, \"PTS\": 4.8}, {\"Player\": \"Andrew Wiggins\", \"Pos\": \"SF\", \"Age\": 28, \"Tm\": \"GSW\", \"G\": 28, \"GS\": 21, \"MP\": 26.6, \"FG\": 4.8, \"FGA\": 11.3, \"FG%\": 0.424, \"3P\": 1.0, \"3PA\": 3.2, \"3P%\": 0.3, \"2P\": 3.8, \"2PA\": 8.1, \"2P%\": 0.473, \"eFG%\": 0.467, \"FT\": 2.1, \"FTA\": 3.0, \"FT%\": 0.706, \"ORB\": 1.9, \"DRB\": 2.5, \"TRB\": 4.4, \"AST\": 1.4, \"STL\": 0.3, \"BLK\": 0.4, \"TOV\": 1.6, \"PF\": 2.4, \"PTS\": 12.7}, {\"Player\": \"Lindell Wigginton\", \"Pos\": \"PG\", \"Age\": 25, \"Tm\": \"MIL\", \"G\": 3, \"GS\": 0, \"MP\": 2.7, \"FG\": 0.7, \"FGA\": 1.7, \"FG%\": 0.4, \"3P\": 0.0, \"3PA\": 0.7, \"3P%\": 0.0, \"2P\": 0.7, \"2PA\": 1.0, \"2P%\": 0.667, \"eFG%\": 0.4, \"FT\": 0.7, \"FTA\": 0.7, \"FT%\": 1.0, \"ORB\": 0.0, \"DRB\": 0.0, \"TRB\": 0.0, \"AST\": 0.0, \"STL\": 0.0, \"BLK\": 0.0, \"TOV\": 0.3, \"PF\": 0.3, \"PTS\": 2.0}, {\"Player\": \"Grant Williams\", \"Pos\": \"PF\", \"Age\": 25, \"Tm\": \"DAL\", \"G\": 31, \"GS\": 27, \"MP\": 28.4, \"FG\": 3.1, \"FGA\": 7.4, \"FG%\": 0.417, \"3P\": 1.9, \"3PA\": 5.0, \"3P%\": 0.381, \"2P\": 1.2, \"2PA\": 2.4, \"2P%\": 0.493, \"eFG%\": 0.546, \"FT\": 0.8, \"FTA\": 1.2, \"FT%\": 0.649, \"ORB\": 1.1, \"DRB\": 2.7, \"TRB\": 3.8, \"AST\": 1.6, \"STL\": 0.5, \"BLK\": 0.6, \"TOV\": 0.9, \"PF\": 2.9, \"PTS\": 8.8}, {\"Player\": \"Jalen Williams\", \"Pos\": \"PF\", \"Age\": 22, \"Tm\": \"OKC\", \"G\": 28, \"GS\": 28, \"MP\": 31.8, \"FG\": 6.8, \"FGA\": 13.1, \"FG%\": 0.518, \"3P\": 1.3, \"3PA\": 3.2, \"3P%\": 0.416, \"2P\": 5.5, \"2PA\": 9.9, \"2P%\": 0.55, \"eFG%\": 0.568, \"FT\": 3.1, \"FTA\": 3.6, \"FT%\": 0.851, \"ORB\": 0.4, \"DRB\": 3.5, \"TRB\": 3.9, \"AST\": 4.0, \"STL\": 0.9, \"BLK\": 0.5, \"TOV\": 1.7, \"PF\": 2.6, \"PTS\": 18.0}, {\"Player\": \"Jaylin Williams\", \"Pos\": \"C\", \"Age\": 21, \"Tm\": \"OKC\", \"G\": 26, \"GS\": 0, \"MP\": 11.9, \"FG\": 1.2, \"FGA\": 3.2, \"FG%\": 0.378, \"3P\": 0.7, \"3PA\": 2.0, \"3P%\": 0.333, \"2P\": 0.5, \"2PA\": 1.2, \"2P%\": 0.452, \"eFG%\": 0.482, \"FT\": 0.5, \"FTA\": 0.6, \"FT%\": 0.933, \"ORB\": 0.5, \"DRB\": 2.8, \"TRB\": 3.3, \"AST\": 1.4, \"STL\": 0.3, \"BLK\": 0.2, \"TOV\": 0.4, \"PF\": 1.6, \"PTS\": 3.6}, {\"Player\": \"Jeenathan Williams\", \"Pos\": \"SG\", \"Age\": 24, \"Tm\": \"HOU\", \"G\": 4, \"GS\": 0, \"MP\": 5.5, \"FG\": 1.5, \"FGA\": 2.8, \"FG%\": 0.545, \"3P\": 0.0, \"3PA\": 0.5, \"3P%\": 0.0, \"2P\": 1.5, \"2PA\": 2.3, \"2P%\": 0.667, \"eFG%\": 0.545, \"FT\": 0.3, \"FTA\": 0.5, \"FT%\": 0.5, \"ORB\": 0.0, \"DRB\": 0.0, \"TRB\": 0.0, \"AST\": 0.5, \"STL\": 0.3, \"BLK\": 0.0, \"TOV\": 0.0, \"PF\": 0.5, \"PTS\": 3.3}, {\"Player\": \"Kenrich Williams\", \"Pos\": \"PF\", \"Age\": 29, \"Tm\": \"OKC\", \"G\": 21, \"GS\": 0, \"MP\": 15.7, \"FG\": 2.0, \"FGA\": 4.0, \"FG%\": 0.494, \"3P\": 1.0, \"3PA\": 2.0, \"3P%\": 0.465, \"2P\": 1.0, \"2PA\": 1.9, \"2P%\": 0.525, \"eFG%\": 0.614, \"FT\": 0.1, \"FTA\": 0.5, \"FT%\": 0.3, \"ORB\": 0.6, \"DRB\": 2.0, \"TRB\": 2.7, \"AST\": 1.7, \"STL\": 0.6, \"BLK\": 0.1, \"TOV\": 0.2, \"PF\": 1.6, \"PTS\": 5.0}, {\"Player\": \"Patrick Williams\", \"Pos\": \"PF\", \"Age\": 22, \"Tm\": \"CHI\", \"G\": 34, \"GS\": 24, \"MP\": 27.9, \"FG\": 3.9, \"FGA\": 8.4, \"FG%\": 0.46, \"3P\": 1.4, \"3PA\": 3.3, \"3P%\": 0.407, \"2P\": 2.5, \"2PA\": 5.1, \"2P%\": 0.494, \"eFG%\": 0.54, \"FT\": 1.3, \"FTA\": 1.6, \"FT%\": 0.768, \"ORB\": 1.1, \"DRB\": 2.9, \"TRB\": 4.1, \"AST\": 1.5, \"STL\": 0.9, \"BLK\": 0.9, \"TOV\": 1.1, \"PF\": 1.9, \"PTS\": 10.4}, {\"Player\": \"Vince Williams Jr.\", \"Pos\": \"SG\", \"Age\": 23, \"Tm\": \"MEM\", \"G\": 24, \"GS\": 7, \"MP\": 20.9, \"FG\": 1.5, \"FGA\": 4.3, \"FG%\": 0.359, \"3P\": 1.1, \"3PA\": 3.3, \"3P%\": 0.325, \"2P\": 0.5, \"2PA\": 1.0, \"2P%\": 0.478, \"eFG%\": 0.485, \"FT\": 1.1, \"FTA\": 1.3, \"FT%\": 0.813, \"ORB\": 1.0, \"DRB\": 4.0, \"TRB\": 5.0, \"AST\": 1.6, \"STL\": 0.5, \"BLK\": 0.6, \"TOV\": 0.8, \"PF\": 2.2, \"PTS\": 5.3}, {\"Player\": \"Ziaire Williams\", \"Pos\": \"SF\", \"Age\": 22, \"Tm\": \"MEM\", \"G\": 30, \"GS\": 8, \"MP\": 19.0, \"FG\": 2.5, \"FGA\": 6.6, \"FG%\": 0.382, \"3P\": 1.0, \"3PA\": 3.3, \"3P%\": 0.316, \"2P\": 1.5, \"2PA\": 3.4, \"2P%\": 0.446, \"eFG%\": 0.46, \"FT\": 1.2, \"FTA\": 1.4, \"FT%\": 0.854, \"ORB\": 0.6, \"DRB\": 3.0, \"TRB\": 3.6, \"AST\": 1.4, \"STL\": 0.4, \"BLK\": 0.3, \"TOV\": 1.3, \"PF\": 1.7, \"PTS\": 7.3}, {\"Player\": \"Zion Williamson\", \"Pos\": \"PF\", \"Age\": 23, \"Tm\": \"NOP\", \"G\": 27, \"GS\": 27, \"MP\": 30.9, \"FG\": 8.8, \"FGA\": 15.1, \"FG%\": 0.582, \"3P\": 0.1, \"3PA\": 0.3, \"3P%\": 0.333, \"2P\": 8.7, \"2PA\": 14.7, \"2P%\": 0.588, \"eFG%\": 0.586, \"FT\": 4.7, \"FTA\": 7.2, \"FT%\": 0.656, \"ORB\": 2.0, \"DRB\": 4.2, \"TRB\": 6.1, \"AST\": 4.6, \"STL\": 1.0, \"BLK\": 0.3, \"TOV\": 2.6, \"PF\": 2.7, \"PTS\": 22.4}, {\"Player\": \"Jalen Wilson\", \"Pos\": \"PF\", \"Age\": 23, \"Tm\": \"BRK\", \"G\": 9, \"GS\": 0, \"MP\": 9.7, \"FG\": 1.3, \"FGA\": 2.7, \"FG%\": 0.5, \"3P\": 0.2, \"3PA\": 0.7, \"3P%\": 0.333, \"2P\": 1.1, \"2PA\": 2.0, \"2P%\": 0.556, \"eFG%\": 0.542, \"FT\": 1.7, \"FTA\": 1.7, \"FT%\": 1.0, \"ORB\": 1.2, \"DRB\": 1.0, \"TRB\": 2.2, \"AST\": 0.8, \"STL\": 0.1, \"BLK\": 0.1, \"TOV\": 0.3, \"PF\": 1.0, \"PTS\": 4.6}, {\"Player\": \"James Wiseman\", \"Pos\": \"C\", \"Age\": 22, \"Tm\": \"DET\", \"G\": 22, \"GS\": 0, \"MP\": 14.2, \"FG\": 2.8, \"FGA\": 3.9, \"FG%\": 0.721, \"3P\": 0.0, \"3PA\": 0.0, \"3P%\": 0.0, \"2P\": 2.8, \"2PA\": 3.9, \"2P%\": 0.729, \"eFG%\": 0.721, \"FT\": 0.8, \"FTA\": 1.2, \"FT%\": 0.654, \"ORB\": 1.4, \"DRB\": 2.8, \"TRB\": 4.1, \"AST\": 0.6, \"STL\": 0.2, \"BLK\": 0.7, \"TOV\": 1.0, \"PF\": 2.2, \"PTS\": 6.4}, {\"Player\": \"Christian Wood\", \"Pos\": \"PF\", \"Age\": 28, \"Tm\": \"LAL\", \"G\": 29, \"GS\": 1, \"MP\": 19.0, \"FG\": 2.4, \"FGA\": 5.1, \"FG%\": 0.466, \"3P\": 0.8, \"3PA\": 2.4, \"3P%\": 0.329, \"2P\": 1.6, \"2PA\": 2.7, \"2P%\": 0.59, \"eFG%\": 0.544, \"FT\": 1.2, \"FTA\": 2.0, \"FT%\": 0.614, \"ORB\": 0.8, \"DRB\": 4.6, \"TRB\": 5.4, \"AST\": 1.0, \"STL\": 0.2, \"BLK\": 0.6, \"TOV\": 1.2, \"PF\": 1.5, \"PTS\": 6.8}, {\"Player\": \"Delon Wright\", \"Pos\": \"PG\", \"Age\": 31, \"Tm\": \"WAS\", \"G\": 11, \"GS\": 0, \"MP\": 17.2, \"FG\": 1.5, \"FGA\": 3.6, \"FG%\": 0.4, \"3P\": 0.5, \"3PA\": 1.5, \"3P%\": 0.313, \"2P\": 1.0, \"2PA\": 2.2, \"2P%\": 0.458, \"eFG%\": 0.463, \"FT\": 1.5, \"FTA\": 1.7, \"FT%\": 0.895, \"ORB\": 0.4, \"DRB\": 2.1, \"TRB\": 2.5, \"AST\": 3.6, \"STL\": 1.5, \"BLK\": 0.2, \"TOV\": 0.7, \"PF\": 0.8, \"PTS\": 4.9}, {\"Player\": \"Trae Young\", \"Pos\": \"PG\", \"Age\": 25, \"Tm\": \"ATL\", \"G\": 30, \"GS\": 30, \"MP\": 36.6, \"FG\": 8.8, \"FGA\": 20.2, \"FG%\": 0.436, \"3P\": 3.6, \"3PA\": 9.3, \"3P%\": 0.385, \"2P\": 5.2, \"2PA\": 10.9, \"2P%\": 0.48, \"eFG%\": 0.525, \"FT\": 7.2, \"FTA\": 8.3, \"FT%\": 0.86, \"ORB\": 0.5, \"DRB\": 2.5, \"TRB\": 3.0, \"AST\": 11.3, \"STL\": 1.4, \"BLK\": 0.2, \"TOV\": 4.3, \"PF\": 2.0, \"PTS\": 28.3}, {\"Player\": \"Omer Yurtseven\", \"Pos\": \"C\", \"Age\": 25, \"Tm\": \"UTA\", \"G\": 20, \"GS\": 6, \"MP\": 11.7, \"FG\": 1.8, \"FGA\": 3.5, \"FG%\": 0.507, \"3P\": 0.2, \"3PA\": 0.7, \"3P%\": 0.231, \"2P\": 1.6, \"2PA\": 2.8, \"2P%\": 0.571, \"eFG%\": 0.529, \"FT\": 0.3, \"FTA\": 0.4, \"FT%\": 0.75, \"ORB\": 1.5, \"DRB\": 2.9, \"TRB\": 4.4, \"AST\": 0.7, \"STL\": 0.2, \"BLK\": 0.5, \"TOV\": 1.0, \"PF\": 1.6, \"PTS\": 4.0}, {\"Player\": \"Cody Zeller\", \"Pos\": \"C\", \"Age\": 31, \"Tm\": \"NOP\", \"G\": 23, \"GS\": 0, \"MP\": 9.6, \"FG\": 0.6, \"FGA\": 1.7, \"FG%\": 0.333, \"3P\": 0.0, \"3PA\": 0.0, \"3P%\": 0.0, \"2P\": 0.6, \"2PA\": 1.7, \"2P%\": 0.342, \"eFG%\": 0.333, \"FT\": 0.7, \"FTA\": 1.1, \"FT%\": 0.577, \"ORB\": 1.2, \"DRB\": 1.8, \"TRB\": 3.0, \"AST\": 1.1, \"STL\": 0.2, \"BLK\": 0.1, \"TOV\": 0.3, \"PF\": 1.3, \"PTS\": 1.8}], \"data-f71d8cfc24396bc49734be281631bd84\": [{\"Player\": \"Bam Adebayo\", \"Pos\": \"C\", \"Age\": 26, \"Tm\": \"MIA\", \"G\": 23, \"GS\": 23, \"MP\": 34.1, \"FG\": 8.0, \"FGA\": 15.7, \"FG%\": 0.506, \"3P\": 0.0, \"3PA\": 0.3, \"3P%\": 0.167, \"2P\": 7.9, \"2PA\": 15.5, \"2P%\": 0.511, \"eFG%\": 0.507, \"FT\": 6.0, \"FTA\": 7.8, \"FT%\": 0.777, \"ORB\": 2.1, \"DRB\": 8.3, \"TRB\": 10.4, \"AST\": 4.0, \"STL\": 1.1, \"BLK\": 1.0, \"TOV\": 2.7, \"PF\": 2.4, \"PTS\": 22.0}, {\"Player\": \"Giannis Antetokounmpo\", \"Pos\": \"PF\", \"Age\": 29, \"Tm\": \"MIL\", \"G\": 32, \"GS\": 32, \"MP\": 34.8, \"FG\": 11.5, \"FGA\": 18.9, \"FG%\": 0.606, \"3P\": 0.3, \"3PA\": 1.7, \"3P%\": 0.204, \"2P\": 11.1, \"2PA\": 17.3, \"2P%\": 0.645, \"eFG%\": 0.615, \"FT\": 7.6, \"FTA\": 11.3, \"FT%\": 0.676, \"ORB\": 2.7, \"DRB\": 8.6, \"TRB\": 11.3, \"AST\": 5.7, \"STL\": 1.3, \"BLK\": 1.2, \"TOV\": 3.8, \"PF\": 2.9, \"PTS\": 30.9}, {\"Player\": \"LaMelo Ball\", \"Pos\": \"PG\", \"Age\": 22, \"Tm\": \"CHO\", \"G\": 15, \"GS\": 15, \"MP\": 33.4, \"FG\": 8.8, \"FGA\": 19.9, \"FG%\": 0.443, \"3P\": 3.5, \"3PA\": 8.9, \"3P%\": 0.388, \"2P\": 5.3, \"2PA\": 10.9, \"2P%\": 0.488, \"eFG%\": 0.53, \"FT\": 3.6, \"FTA\": 4.2, \"FT%\": 0.857, \"ORB\": 1.5, \"DRB\": 3.9, \"TRB\": 5.5, \"AST\": 8.2, \"STL\": 1.4, \"BLK\": 0.3, \"TOV\": 3.9, \"PF\": 3.5, \"PTS\": 24.7}, {\"Player\": \"Paolo Banchero\", \"Pos\": \"PF\", \"Age\": 21, \"Tm\": \"ORL\", \"G\": 32, \"GS\": 32, \"MP\": 34.2, \"FG\": 7.8, \"FGA\": 16.8, \"FG%\": 0.465, \"3P\": 1.3, \"3PA\": 3.6, \"3P%\": 0.357, \"2P\": 6.5, \"2PA\": 13.2, \"2P%\": 0.494, \"eFG%\": 0.503, \"FT\": 4.8, \"FTA\": 6.8, \"FT%\": 0.697, \"ORB\": 1.2, \"DRB\": 5.8, \"TRB\": 7.0, \"AST\": 4.7, \"STL\": 1.0, \"BLK\": 0.6, \"TOV\": 3.1, \"PF\": 2.0, \"PTS\": 21.7}, {\"Player\": \"Desmond Bane\", \"Pos\": \"SG\", \"Age\": 25, \"Tm\": \"MEM\", \"G\": 31, \"GS\": 31, \"MP\": 34.5, \"FG\": 9.0, \"FGA\": 19.2, \"FG%\": 0.471, \"3P\": 3.5, \"3PA\": 9.0, \"3P%\": 0.385, \"2P\": 5.6, \"2PA\": 10.2, \"2P%\": 0.546, \"eFG%\": 0.561, \"FT\": 3.1, \"FTA\": 3.6, \"FT%\": 0.858, \"ORB\": 0.9, \"DRB\": 3.7, \"TRB\": 4.6, \"AST\": 5.2, \"STL\": 1.1, \"BLK\": 0.6, \"TOV\": 2.8, \"PF\": 2.9, \"PTS\": 24.6}, {\"Player\": \"Scottie Barnes\", \"Pos\": \"SG\", \"Age\": 22, \"Tm\": \"TOR\", \"G\": 33, \"GS\": 33, \"MP\": 35.2, \"FG\": 7.8, \"FGA\": 16.3, \"FG%\": 0.48, \"3P\": 2.2, \"3PA\": 5.7, \"3P%\": 0.385, \"2P\": 5.6, \"2PA\": 10.6, \"2P%\": 0.531, \"eFG%\": 0.547, \"FT\": 3.2, \"FTA\": 4.1, \"FT%\": 0.772, \"ORB\": 2.6, \"DRB\": 6.7, \"TRB\": 9.3, \"AST\": 5.8, \"STL\": 1.5, \"BLK\": 1.4, \"TOV\": 2.4, \"PF\": 2.0, \"PTS\": 21.0}, {\"Player\": \"Devin Booker\", \"Pos\": \"PG\", \"Age\": 27, \"Tm\": \"PHO\", \"G\": 24, \"GS\": 24, \"MP\": 35.8, \"FG\": 8.9, \"FGA\": 19.1, \"FG%\": 0.466, \"3P\": 2.0, \"3PA\": 5.3, \"3P%\": 0.373, \"2P\": 7.0, \"2PA\": 13.9, \"2P%\": 0.502, \"eFG%\": 0.517, \"FT\": 6.6, \"FTA\": 7.5, \"FT%\": 0.883, \"ORB\": 0.9, \"DRB\": 4.4, \"TRB\": 5.3, \"AST\": 7.9, \"STL\": 0.8, \"BLK\": 0.4, \"TOV\": 2.8, \"PF\": 3.3, \"PTS\": 26.4}, {\"Player\": \"Mikal Bridges\", \"Pos\": \"SF\", \"Age\": 27, \"Tm\": \"BRK\", \"G\": 33, \"GS\": 33, \"MP\": 34.1, \"FG\": 7.5, \"FGA\": 16.4, \"FG%\": 0.457, \"3P\": 2.0, \"3PA\": 5.6, \"3P%\": 0.359, \"2P\": 5.5, \"2PA\": 10.8, \"2P%\": 0.508, \"eFG%\": 0.519, \"FT\": 4.1, \"FTA\": 5.0, \"FT%\": 0.829, \"ORB\": 1.0, \"DRB\": 4.3, \"TRB\": 5.3, \"AST\": 3.8, \"STL\": 0.9, \"BLK\": 0.4, \"TOV\": 2.3, \"PF\": 1.6, \"PTS\": 21.1}, {\"Player\": \"Jaylen Brown\", \"Pos\": \"SF\", \"Age\": 27, \"Tm\": \"BOS\", \"G\": 30, \"GS\": 30, \"MP\": 33.8, \"FG\": 8.9, \"FGA\": 18.2, \"FG%\": 0.489, \"3P\": 2.2, \"3PA\": 6.2, \"3P%\": 0.358, \"2P\": 6.7, \"2PA\": 12.0, \"2P%\": 0.557, \"eFG%\": 0.55, \"FT\": 2.9, \"FTA\": 4.0, \"FT%\": 0.733, \"ORB\": 0.9, \"DRB\": 4.2, \"TRB\": 5.1, \"AST\": 3.7, \"STL\": 1.1, \"BLK\": 0.6, \"TOV\": 2.5, \"PF\": 2.7, \"PTS\": 23.0}, {\"Player\": \"Jalen Brunson\", \"Pos\": \"PG\", \"Age\": 27, \"Tm\": \"NYK\", \"G\": 33, \"GS\": 33, \"MP\": 35.9, \"FG\": 9.0, \"FGA\": 19.4, \"FG%\": 0.463, \"3P\": 2.8, \"3PA\": 6.4, \"3P%\": 0.431, \"2P\": 6.2, \"2PA\": 13.0, \"2P%\": 0.479, \"eFG%\": 0.534, \"FT\": 4.8, \"FTA\": 5.9, \"FT%\": 0.82, \"ORB\": 0.7, \"DRB\": 3.3, \"TRB\": 4.0, \"AST\": 6.2, \"STL\": 1.1, \"BLK\": 0.2, \"TOV\": 2.4, \"PF\": 2.2, \"PTS\": 25.6}, {\"Player\": \"Jimmy Butler\", \"Pos\": \"PF\", \"Age\": 34, \"Tm\": \"MIA\", \"G\": 24, \"GS\": 24, \"MP\": 33.6, \"FG\": 6.5, \"FGA\": 14.0, \"FG%\": 0.464, \"3P\": 0.8, \"3PA\": 2.2, \"3P%\": 0.377, \"2P\": 5.7, \"2PA\": 11.8, \"2P%\": 0.481, \"eFG%\": 0.494, \"FT\": 7.1, \"FTA\": 8.1, \"FT%\": 0.881, \"ORB\": 1.9, \"DRB\": 3.2, \"TRB\": 5.0, \"AST\": 4.5, \"STL\": 1.0, \"BLK\": 0.4, \"TOV\": 1.8, \"PF\": 1.1, \"PTS\": 21.0}, {\"Player\": \"Cade Cunningham\", \"Pos\": \"PG\", \"Age\": 22, \"Tm\": \"DET\", \"G\": 33, \"GS\": 33, \"MP\": 35.0, \"FG\": 8.5, \"FGA\": 19.2, \"FG%\": 0.443, \"3P\": 1.9, \"3PA\": 5.6, \"3P%\": 0.337, \"2P\": 6.6, \"2PA\": 13.7, \"2P%\": 0.486, \"eFG%\": 0.491, \"FT\": 4.1, \"FTA\": 4.7, \"FT%\": 0.87, \"ORB\": 0.5, \"DRB\": 3.5, \"TRB\": 4.0, \"AST\": 7.3, \"STL\": 1.0, \"BLK\": 0.3, \"TOV\": 3.9, \"PF\": 2.8, \"PTS\": 23.0}, {\"Player\": \"Stephen Curry\", \"Pos\": \"PG\", \"Age\": 35, \"Tm\": \"GSW\", \"G\": 30, \"GS\": 30, \"MP\": 33.5, \"FG\": 8.6, \"FGA\": 19.0, \"FG%\": 0.453, \"3P\": 4.7, \"3PA\": 11.6, \"3P%\": 0.409, \"2P\": 3.9, \"2PA\": 7.4, \"2P%\": 0.523, \"eFG%\": 0.578, \"FT\": 5.4, \"FTA\": 5.8, \"FT%\": 0.931, \"ORB\": 0.5, \"DRB\": 3.9, \"TRB\": 4.4, \"AST\": 4.5, \"STL\": 0.7, \"BLK\": 0.4, \"TOV\": 3.1, \"PF\": 1.8, \"PTS\": 27.3}, {\"Player\": \"Anthony Davis\", \"Pos\": \"C\", \"Age\": 30, \"Tm\": \"LAL\", \"G\": 32, \"GS\": 32, \"MP\": 35.6, \"FG\": 9.5, \"FGA\": 17.2, \"FG%\": 0.551, \"3P\": 0.4, \"3PA\": 1.0, \"3P%\": 0.375, \"2P\": 9.1, \"2PA\": 16.2, \"2P%\": 0.562, \"eFG%\": 0.562, \"FT\": 5.7, \"FTA\": 7.1, \"FT%\": 0.806, \"ORB\": 3.3, \"DRB\": 9.0, \"TRB\": 12.3, \"AST\": 3.3, \"STL\": 1.2, \"BLK\": 2.6, \"TOV\": 2.0, \"PF\": 2.6, \"PTS\": 25.0}, {\"Player\": \"DeMar DeRozan\", \"Pos\": \"SF\", \"Age\": 34, \"Tm\": \"CHI\", \"G\": 32, \"GS\": 32, \"MP\": 36.7, \"FG\": 7.8, \"FGA\": 17.0, \"FG%\": 0.455, \"3P\": 0.9, \"3PA\": 2.6, \"3P%\": 0.345, \"2P\": 6.8, \"2PA\": 14.4, \"2P%\": 0.475, \"eFG%\": 0.482, \"FT\": 6.0, \"FTA\": 7.1, \"FT%\": 0.838, \"ORB\": 0.7, \"DRB\": 3.2, \"TRB\": 3.8, \"AST\": 5.4, \"STL\": 1.1, \"BLK\": 0.8, \"TOV\": 1.4, \"PF\": 2.2, \"PTS\": 22.4}, {\"Player\": \"Luka Don\\u010di\\u0107\", \"Pos\": \"PG\", \"Age\": 24, \"Tm\": \"DAL\", \"G\": 31, \"GS\": 31, \"MP\": 36.9, \"FG\": 11.4, \"FGA\": 23.6, \"FG%\": 0.484, \"3P\": 4.0, \"3PA\": 10.6, \"3P%\": 0.378, \"2P\": 7.4, \"2PA\": 13.0, \"2P%\": 0.569, \"eFG%\": 0.568, \"FT\": 6.6, \"FTA\": 8.4, \"FT%\": 0.785, \"ORB\": 0.8, \"DRB\": 7.5, \"TRB\": 8.3, \"AST\": 9.4, \"STL\": 1.4, \"BLK\": 0.6, \"TOV\": 4.0, \"PF\": 1.7, \"PTS\": 33.4}, {\"Player\": \"Kevin Durant\", \"Pos\": \"PF\", \"Age\": 35, \"Tm\": \"PHO\", \"G\": 28, \"GS\": 28, \"MP\": 37.1, \"FG\": 10.4, \"FGA\": 19.7, \"FG%\": 0.525, \"3P\": 2.2, \"3PA\": 4.6, \"3P%\": 0.477, \"2P\": 8.2, \"2PA\": 15.1, \"2P%\": 0.54, \"eFG%\": 0.581, \"FT\": 7.0, \"FTA\": 8.0, \"FT%\": 0.874, \"ORB\": 0.4, \"DRB\": 5.9, \"TRB\": 6.3, \"AST\": 6.0, \"STL\": 0.9, \"BLK\": 1.1, \"TOV\": 3.4, \"PF\": 1.8, \"PTS\": 29.9}, {\"Player\": \"Anthony Edwards\", \"Pos\": \"SG\", \"Age\": 22, \"Tm\": \"MIN\", \"G\": 29, \"GS\": 29, \"MP\": 34.7, \"FG\": 9.0, \"FGA\": 19.7, \"FG%\": 0.458, \"3P\": 2.6, \"3PA\": 6.8, \"3P%\": 0.379, \"2P\": 6.4, \"2PA\": 12.9, \"2P%\": 0.5, \"eFG%\": 0.524, \"FT\": 5.7, \"FTA\": 6.8, \"FT%\": 0.842, \"ORB\": 0.6, \"DRB\": 4.8, \"TRB\": 5.3, \"AST\": 5.1, \"STL\": 1.3, \"BLK\": 0.7, \"TOV\": 3.3, \"PF\": 1.8, \"PTS\": 26.3}, {\"Player\": \"Joel Embiid\", \"Pos\": \"C\", \"Age\": 29, \"Tm\": \"PHI\", \"G\": 25, \"GS\": 25, \"MP\": 34.2, \"FG\": 11.8, \"FGA\": 21.8, \"FG%\": 0.54, \"3P\": 1.1, \"3PA\": 3.2, \"3P%\": 0.35, \"2P\": 10.6, \"2PA\": 18.6, \"2P%\": 0.573, \"eFG%\": 0.566, \"FT\": 10.3, \"FTA\": 11.6, \"FT%\": 0.893, \"ORB\": 2.8, \"DRB\": 8.9, \"TRB\": 11.7, \"AST\": 6.0, \"STL\": 1.2, \"BLK\": 2.0, \"TOV\": 3.8, \"PF\": 2.8, \"PTS\": 35.0}, {\"Player\": \"De'Aaron Fox\", \"Pos\": \"PG\", \"Age\": 26, \"Tm\": \"SAC\", \"G\": 25, \"GS\": 25, \"MP\": 35.3, \"FG\": 10.5, \"FGA\": 21.8, \"FG%\": 0.483, \"3P\": 3.6, \"3PA\": 8.8, \"3P%\": 0.403, \"2P\": 7.0, \"2PA\": 12.9, \"2P%\": 0.539, \"eFG%\": 0.565, \"FT\": 5.4, \"FTA\": 7.4, \"FT%\": 0.72, \"ORB\": 1.0, \"DRB\": 3.6, \"TRB\": 4.6, \"AST\": 6.1, \"STL\": 1.6, \"BLK\": 0.4, \"TOV\": 2.6, \"PF\": 2.7, \"PTS\": 30.0}, {\"Player\": \"Darius Garland\", \"Pos\": \"PG\", \"Age\": 24, \"Tm\": \"CLE\", \"G\": 20, \"GS\": 20, \"MP\": 34.0, \"FG\": 7.6, \"FGA\": 16.1, \"FG%\": 0.47, \"3P\": 1.8, \"3PA\": 5.2, \"3P%\": 0.346, \"2P\": 5.8, \"2PA\": 10.9, \"2P%\": 0.53, \"eFG%\": 0.526, \"FT\": 3.8, \"FTA\": 4.6, \"FT%\": 0.835, \"ORB\": 0.6, \"DRB\": 2.2, \"TRB\": 2.8, \"AST\": 5.9, \"STL\": 1.6, \"BLK\": 0.2, \"TOV\": 3.8, \"PF\": 1.6, \"PTS\": 20.7}, {\"Player\": \"Paul George\", \"Pos\": \"PF\", \"Age\": 33, \"Tm\": \"LAC\", \"G\": 30, \"GS\": 30, \"MP\": 34.5, \"FG\": 8.0, \"FGA\": 17.7, \"FG%\": 0.451, \"3P\": 3.3, \"3PA\": 8.2, \"3P%\": 0.398, \"2P\": 4.7, \"2PA\": 9.5, \"2P%\": 0.497, \"eFG%\": 0.543, \"FT\": 3.6, \"FTA\": 3.9, \"FT%\": 0.931, \"ORB\": 0.7, \"DRB\": 4.8, \"TRB\": 5.5, \"AST\": 4.0, \"STL\": 1.6, \"BLK\": 0.3, \"TOV\": 2.3, \"PF\": 3.0, \"PTS\": 22.9}, {\"Player\": \"Shai Gilgeous-Alexander\", \"Pos\": \"PG\", \"Age\": 25, \"Tm\": \"OKC\", \"G\": 30, \"GS\": 30, \"MP\": 34.7, \"FG\": 11.2, \"FGA\": 20.6, \"FG%\": 0.546, \"3P\": 1.1, \"3PA\": 3.4, \"3P%\": 0.317, \"2P\": 10.2, \"2PA\": 17.2, \"2P%\": 0.591, \"eFG%\": 0.572, \"FT\": 7.7, \"FTA\": 8.4, \"FT%\": 0.916, \"ORB\": 0.8, \"DRB\": 4.8, \"TRB\": 5.7, \"AST\": 6.3, \"STL\": 2.6, \"BLK\": 0.8, \"TOV\": 2.0, \"PF\": 2.3, \"PTS\": 31.2}, {\"Player\": \"Jerami Grant\", \"Pos\": \"PF\", \"Age\": 29, \"Tm\": \"POR\", \"G\": 28, \"GS\": 28, \"MP\": 34.9, \"FG\": 7.5, \"FGA\": 16.4, \"FG%\": 0.459, \"3P\": 2.4, \"3PA\": 5.8, \"3P%\": 0.417, \"2P\": 5.1, \"2PA\": 10.5, \"2P%\": 0.481, \"eFG%\": 0.533, \"FT\": 4.7, \"FTA\": 5.8, \"FT%\": 0.81, \"ORB\": 0.7, \"DRB\": 3.2, \"TRB\": 3.9, \"AST\": 2.6, \"STL\": 0.7, \"BLK\": 0.8, \"TOV\": 2.4, \"PF\": 2.3, \"PTS\": 22.1}, {\"Player\": \"Tyrese Haliburton\", \"Pos\": \"PG\", \"Age\": 23, \"Tm\": \"IND\", \"G\": 29, \"GS\": 29, \"MP\": 34.3, \"FG\": 8.8, \"FGA\": 17.6, \"FG%\": 0.501, \"3P\": 3.5, \"3PA\": 8.7, \"3P%\": 0.406, \"2P\": 5.3, \"2PA\": 9.0, \"2P%\": 0.592, \"eFG%\": 0.601, \"FT\": 3.5, \"FTA\": 4.1, \"FT%\": 0.856, \"ORB\": 0.7, \"DRB\": 3.5, \"TRB\": 4.2, \"AST\": 12.7, \"STL\": 1.0, \"BLK\": 0.6, \"TOV\": 2.6, \"PF\": 1.1, \"PTS\": 24.7}, {\"Player\": \"Tyler Herro\", \"Pos\": \"SG\", \"Age\": 24, \"Tm\": \"MIA\", \"G\": 15, \"GS\": 15, \"MP\": 34.5, \"FG\": 8.7, \"FGA\": 19.1, \"FG%\": 0.455, \"3P\": 3.3, \"3PA\": 7.9, \"3P%\": 0.424, \"2P\": 5.3, \"2PA\": 11.2, \"2P%\": 0.476, \"eFG%\": 0.542, \"FT\": 2.7, \"FTA\": 3.1, \"FT%\": 0.872, \"ORB\": 0.6, \"DRB\": 4.9, \"TRB\": 5.5, \"AST\": 4.5, \"STL\": 1.3, \"BLK\": 0.1, \"TOV\": 2.7, \"PF\": 1.3, \"PTS\": 23.4}, {\"Player\": \"Brandon Ingram\", \"Pos\": \"SF\", \"Age\": 26, \"Tm\": \"NOP\", \"G\": 30, \"GS\": 30, \"MP\": 34.0, \"FG\": 8.8, \"FGA\": 17.5, \"FG%\": 0.501, \"3P\": 1.4, \"3PA\": 4.0, \"3P%\": 0.347, \"2P\": 7.4, \"2PA\": 13.5, \"2P%\": 0.547, \"eFG%\": 0.541, \"FT\": 4.4, \"FTA\": 5.4, \"FT%\": 0.815, \"ORB\": 0.7, \"DRB\": 4.1, \"TRB\": 4.8, \"AST\": 5.5, \"STL\": 0.8, \"BLK\": 0.5, \"TOV\": 2.6, \"PF\": 2.2, \"PTS\": 23.3}, {\"Player\": \"Kyrie Irving\", \"Pos\": \"SG\", \"Age\": 31, \"Tm\": \"DAL\", \"G\": 18, \"GS\": 18, \"MP\": 31.8, \"FG\": 8.4, \"FGA\": 18.0, \"FG%\": 0.469, \"3P\": 2.5, \"3PA\": 6.4, \"3P%\": 0.391, \"2P\": 5.9, \"2PA\": 11.6, \"2P%\": 0.512, \"eFG%\": 0.539, \"FT\": 3.1, \"FTA\": 3.5, \"FT%\": 0.889, \"ORB\": 0.6, \"DRB\": 3.6, \"TRB\": 4.2, \"AST\": 5.1, \"STL\": 1.1, \"BLK\": 0.3, \"TOV\": 1.3, \"PF\": 1.9, \"PTS\": 22.5}, {\"Player\": \"Jaren Jackson Jr.\", \"Pos\": \"C\", \"Age\": 24, \"Tm\": \"MEM\", \"G\": 32, \"GS\": 32, \"MP\": 31.5, \"FG\": 7.2, \"FGA\": 15.6, \"FG%\": 0.458, \"3P\": 1.6, \"3PA\": 4.9, \"3P%\": 0.327, \"2P\": 5.6, \"2PA\": 10.8, \"2P%\": 0.517, \"eFG%\": 0.509, \"FT\": 5.1, \"FTA\": 6.2, \"FT%\": 0.832, \"ORB\": 1.4, \"DRB\": 4.2, \"TRB\": 5.5, \"AST\": 1.7, \"STL\": 0.8, \"BLK\": 1.6, \"TOV\": 1.9, \"PF\": 3.6, \"PTS\": 21.0}, {\"Player\": \"LeBron James\", \"Pos\": \"PF\", \"Age\": 39, \"Tm\": \"LAL\", \"G\": 31, \"GS\": 31, \"MP\": 34.2, \"FG\": 9.4, \"FGA\": 17.6, \"FG%\": 0.535, \"3P\": 2.3, \"3PA\": 5.5, \"3P%\": 0.409, \"2P\": 7.2, \"2PA\": 12.1, \"2P%\": 0.592, \"eFG%\": 0.599, \"FT\": 4.3, \"FTA\": 5.8, \"FT%\": 0.749, \"ORB\": 0.9, \"DRB\": 6.5, \"TRB\": 7.4, \"AST\": 7.4, \"STL\": 1.4, \"BLK\": 0.7, \"TOV\": 3.3, \"PF\": 1.1, \"PTS\": 25.4}, {\"Player\": \"Nikola Joki\\u0107\", \"Pos\": \"C\", \"Age\": 28, \"Tm\": \"DEN\", \"G\": 34, \"GS\": 34, \"MP\": 33.4, \"FG\": 9.9, \"FGA\": 17.8, \"FG%\": 0.559, \"3P\": 1.1, \"3PA\": 3.3, \"3P%\": 0.333, \"2P\": 8.9, \"2PA\": 14.5, \"2P%\": 0.609, \"eFG%\": 0.589, \"FT\": 4.8, \"FTA\": 5.8, \"FT%\": 0.818, \"ORB\": 3.0, \"DRB\": 9.2, \"TRB\": 12.3, \"AST\": 9.1, \"STL\": 1.1, \"BLK\": 0.9, \"TOV\": 2.7, \"PF\": 2.6, \"PTS\": 25.7}, {\"Player\": \"Kyle Kuzma\", \"Pos\": \"PF\", \"Age\": 28, \"Tm\": \"WAS\", \"G\": 32, \"GS\": 32, \"MP\": 31.3, \"FG\": 8.9, \"FGA\": 19.2, \"FG%\": 0.466, \"3P\": 2.5, \"3PA\": 7.0, \"3P%\": 0.357, \"2P\": 6.4, \"2PA\": 12.2, \"2P%\": 0.528, \"eFG%\": 0.531, \"FT\": 2.7, \"FTA\": 3.5, \"FT%\": 0.768, \"ORB\": 0.9, \"DRB\": 5.3, \"TRB\": 6.2, \"AST\": 4.3, \"STL\": 0.3, \"BLK\": 0.6, \"TOV\": 2.6, \"PF\": 2.2, \"PTS\": 23.1}, {\"Player\": \"Zach LaVine\", \"Pos\": \"SG\", \"Age\": 28, \"Tm\": \"CHI\", \"G\": 18, \"GS\": 18, \"MP\": 35.3, \"FG\": 7.3, \"FGA\": 16.6, \"FG%\": 0.443, \"3P\": 2.4, \"3PA\": 7.1, \"3P%\": 0.336, \"2P\": 4.9, \"2PA\": 9.4, \"2P%\": 0.524, \"eFG%\": 0.515, \"FT\": 3.9, \"FTA\": 4.6, \"FT%\": 0.866, \"ORB\": 0.3, \"DRB\": 4.6, \"TRB\": 4.9, \"AST\": 3.4, \"STL\": 0.9, \"BLK\": 0.2, \"TOV\": 2.0, \"PF\": 2.1, \"PTS\": 21.0}, {\"Player\": \"Kawhi Leonard\", \"Pos\": \"SF\", \"Age\": 32, \"Tm\": \"LAC\", \"G\": 28, \"GS\": 28, \"MP\": 34.5, \"FG\": 9.1, \"FGA\": 17.4, \"FG%\": 0.522, \"3P\": 2.3, \"3PA\": 5.4, \"3P%\": 0.428, \"2P\": 6.8, \"2PA\": 12.0, \"2P%\": 0.564, \"eFG%\": 0.588, \"FT\": 3.9, \"FTA\": 4.5, \"FT%\": 0.872, \"ORB\": 1.1, \"DRB\": 4.9, \"TRB\": 5.9, \"AST\": 3.6, \"STL\": 1.6, \"BLK\": 0.7, \"TOV\": 1.5, \"PF\": 1.4, \"PTS\": 24.4}, {\"Player\": \"Damian Lillard\", \"Pos\": \"PG\", \"Age\": 33, \"Tm\": \"MIL\", \"G\": 31, \"GS\": 31, \"MP\": 35.2, \"FG\": 7.4, \"FGA\": 17.1, \"FG%\": 0.431, \"3P\": 3.2, \"3PA\": 8.7, \"3P%\": 0.365, \"2P\": 4.2, \"2PA\": 8.4, \"2P%\": 0.5, \"eFG%\": 0.524, \"FT\": 7.5, \"FTA\": 8.1, \"FT%\": 0.924, \"ORB\": 0.6, \"DRB\": 3.9, \"TRB\": 4.5, \"AST\": 6.8, \"STL\": 1.0, \"BLK\": 0.2, \"TOV\": 2.7, \"PF\": 1.7, \"PTS\": 25.5}, {\"Player\": \"Lauri Markkanen\", \"Pos\": \"PF\", \"Age\": 26, \"Tm\": \"UTA\", \"G\": 24, \"GS\": 24, \"MP\": 32.7, \"FG\": 8.0, \"FGA\": 16.3, \"FG%\": 0.487, \"3P\": 3.2, \"3PA\": 8.4, \"3P%\": 0.376, \"2P\": 4.8, \"2PA\": 7.9, \"2P%\": 0.605, \"eFG%\": 0.584, \"FT\": 4.1, \"FTA\": 4.8, \"FT%\": 0.861, \"ORB\": 2.3, \"DRB\": 6.2, \"TRB\": 8.5, \"AST\": 1.6, \"STL\": 1.0, \"BLK\": 0.6, \"TOV\": 1.2, \"PF\": 2.1, \"PTS\": 23.2}, {\"Player\": \"Tyrese Maxey\", \"Pos\": \"PG\", \"Age\": 23, \"Tm\": \"PHI\", \"G\": 31, \"GS\": 31, \"MP\": 37.4, \"FG\": 9.0, \"FGA\": 19.7, \"FG%\": 0.458, \"3P\": 3.2, \"3PA\": 8.3, \"3P%\": 0.383, \"2P\": 5.9, \"2PA\": 11.5, \"2P%\": 0.511, \"eFG%\": 0.538, \"FT\": 4.9, \"FTA\": 5.6, \"FT%\": 0.873, \"ORB\": 0.5, \"DRB\": 3.2, \"TRB\": 3.8, \"AST\": 6.5, \"STL\": 0.8, \"BLK\": 0.5, \"TOV\": 1.5, \"PF\": 2.1, \"PTS\": 26.1}, {\"Player\": \"Donovan Mitchell\", \"Pos\": \"SG\", \"Age\": 27, \"Tm\": \"CLE\", \"G\": 24, \"GS\": 24, \"MP\": 36.5, \"FG\": 9.8, \"FGA\": 21.3, \"FG%\": 0.457, \"3P\": 3.1, \"3PA\": 8.9, \"3P%\": 0.347, \"2P\": 6.7, \"2PA\": 12.5, \"2P%\": 0.535, \"eFG%\": 0.529, \"FT\": 5.3, \"FTA\": 6.0, \"FT%\": 0.895, \"ORB\": 1.1, \"DRB\": 4.6, \"TRB\": 5.7, \"AST\": 5.7, \"STL\": 1.9, \"BLK\": 0.5, \"TOV\": 2.6, \"PF\": 2.4, \"PTS\": 27.9}, {\"Player\": \"Ja Morant\", \"Pos\": \"PG\", \"Age\": 24, \"Tm\": \"MEM\", \"G\": 6, \"GS\": 6, \"MP\": 35.5, \"FG\": 9.3, \"FGA\": 20.0, \"FG%\": 0.467, \"3P\": 0.8, \"3PA\": 4.8, \"3P%\": 0.172, \"2P\": 8.5, \"2PA\": 15.2, \"2P%\": 0.56, \"eFG%\": 0.488, \"FT\": 5.7, \"FTA\": 6.8, \"FT%\": 0.829, \"ORB\": 0.5, \"DRB\": 4.5, \"TRB\": 5.0, \"AST\": 7.8, \"STL\": 0.7, \"BLK\": 0.7, \"TOV\": 3.2, \"PF\": 2.0, \"PTS\": 25.2}, {\"Player\": \"Dejounte Murray\", \"Pos\": \"SG\", \"Age\": 27, \"Tm\": \"ATL\", \"G\": 32, \"GS\": 32, \"MP\": 34.4, \"FG\": 7.9, \"FGA\": 17.1, \"FG%\": 0.461, \"3P\": 2.4, \"3PA\": 6.3, \"3P%\": 0.383, \"2P\": 5.5, \"2PA\": 10.8, \"2P%\": 0.506, \"eFG%\": 0.531, \"FT\": 2.4, \"FTA\": 2.9, \"FT%\": 0.817, \"ORB\": 0.8, \"DRB\": 3.8, \"TRB\": 4.6, \"AST\": 5.2, \"STL\": 1.5, \"BLK\": 0.3, \"TOV\": 2.1, \"PF\": 1.7, \"PTS\": 20.5}, {\"Player\": \"Julius Randle\", \"Pos\": \"PF\", \"Age\": 29, \"Tm\": \"NYK\", \"G\": 33, \"GS\": 33, \"MP\": 35.6, \"FG\": 8.7, \"FGA\": 18.3, \"FG%\": 0.474, \"3P\": 1.4, \"3PA\": 5.0, \"3P%\": 0.283, \"2P\": 7.2, \"2PA\": 13.2, \"2P%\": 0.547, \"eFG%\": 0.513, \"FT\": 5.3, \"FTA\": 6.9, \"FT%\": 0.763, \"ORB\": 2.2, \"DRB\": 7.4, \"TRB\": 9.6, \"AST\": 4.7, \"STL\": 0.5, \"BLK\": 0.2, \"TOV\": 3.4, \"PF\": 2.8, \"PTS\": 24.0}, {\"Player\": \"Terry Rozier\", \"Pos\": \"SG\", \"Age\": 29, \"Tm\": \"CHO\", \"G\": 20, \"GS\": 20, \"MP\": 35.8, \"FG\": 8.7, \"FGA\": 18.8, \"FG%\": 0.463, \"3P\": 2.7, \"3PA\": 7.3, \"3P%\": 0.37, \"2P\": 6.0, \"2PA\": 11.5, \"2P%\": 0.522, \"eFG%\": 0.535, \"FT\": 3.5, \"FTA\": 4.1, \"FT%\": 0.854, \"ORB\": 0.6, \"DRB\": 3.3, \"TRB\": 3.9, \"AST\": 7.2, \"STL\": 1.2, \"BLK\": 0.4, \"TOV\": 2.4, \"PF\": 1.8, \"PTS\": 23.6}, {\"Player\": \"Alperen \\u015eeng\\u00fcn\", \"Pos\": \"C\", \"Age\": 21, \"Tm\": \"HOU\", \"G\": 31, \"GS\": 31, \"MP\": 31.9, \"FG\": 8.4, \"FGA\": 15.4, \"FG%\": 0.544, \"3P\": 0.7, \"3PA\": 2.2, \"3P%\": 0.309, \"2P\": 7.7, \"2PA\": 13.2, \"2P%\": 0.583, \"eFG%\": 0.566, \"FT\": 3.8, \"FTA\": 5.2, \"FT%\": 0.728, \"ORB\": 2.6, \"DRB\": 6.5, \"TRB\": 9.1, \"AST\": 5.3, \"STL\": 1.1, \"BLK\": 0.8, \"TOV\": 2.5, \"PF\": 3.3, \"PTS\": 21.3}, {\"Player\": \"Pascal Siakam\", \"Pos\": \"PF\", \"Age\": 29, \"Tm\": \"TOR\", \"G\": 33, \"GS\": 33, \"MP\": 35.1, \"FG\": 8.5, \"FGA\": 16.4, \"FG%\": 0.518, \"3P\": 1.1, \"3PA\": 3.7, \"3P%\": 0.285, \"2P\": 7.4, \"2PA\": 12.7, \"2P%\": 0.586, \"eFG%\": 0.55, \"FT\": 4.3, \"FTA\": 5.8, \"FT%\": 0.749, \"ORB\": 1.5, \"DRB\": 5.1, \"TRB\": 6.5, \"AST\": 5.0, \"STL\": 0.8, \"BLK\": 0.2, \"TOV\": 2.2, \"PF\": 2.3, \"PTS\": 22.4}, {\"Player\": \"Anfernee Simons\", \"Pos\": \"SG\", \"Age\": 24, \"Tm\": \"POR\", \"G\": 11, \"GS\": 11, \"MP\": 34.2, \"FG\": 9.5, \"FGA\": 20.7, \"FG%\": 0.456, \"3P\": 3.8, \"3PA\": 9.5, \"3P%\": 0.4, \"2P\": 5.6, \"2PA\": 11.2, \"2P%\": 0.504, \"eFG%\": 0.548, \"FT\": 4.4, \"FTA\": 4.7, \"FT%\": 0.923, \"ORB\": 0.6, \"DRB\": 2.5, \"TRB\": 3.1, \"AST\": 5.3, \"STL\": 0.9, \"BLK\": 0.1, \"TOV\": 2.4, \"PF\": 2.0, \"PTS\": 27.1}, {\"Player\": \"Jayson Tatum\", \"Pos\": \"PF\", \"Age\": 25, \"Tm\": \"BOS\", \"G\": 30, \"GS\": 30, \"MP\": 36.8, \"FG\": 9.3, \"FGA\": 19.6, \"FG%\": 0.474, \"3P\": 3.0, \"3PA\": 8.7, \"3P%\": 0.346, \"2P\": 6.3, \"2PA\": 10.9, \"2P%\": 0.575, \"eFG%\": 0.55, \"FT\": 5.4, \"FTA\": 6.7, \"FT%\": 0.806, \"ORB\": 0.9, \"DRB\": 7.5, \"TRB\": 8.4, \"AST\": 4.4, \"STL\": 1.0, \"BLK\": 0.5, \"TOV\": 2.9, \"PF\": 2.1, \"PTS\": 26.9}, {\"Player\": \"Cam Thomas\", \"Pos\": \"SG\", \"Age\": 22, \"Tm\": \"BRK\", \"G\": 24, \"GS\": 20, \"MP\": 29.9, \"FG\": 8.3, \"FGA\": 18.6, \"FG%\": 0.448, \"3P\": 2.1, \"3PA\": 5.7, \"3P%\": 0.365, \"2P\": 6.3, \"2PA\": 12.9, \"2P%\": 0.485, \"eFG%\": 0.504, \"FT\": 3.6, \"FTA\": 4.5, \"FT%\": 0.806, \"ORB\": 0.3, \"DRB\": 2.3, \"TRB\": 2.6, \"AST\": 2.3, \"STL\": 0.6, \"BLK\": 0.4, \"TOV\": 1.7, \"PF\": 2.2, \"PTS\": 22.4}, {\"Player\": \"Karl-Anthony Towns\", \"Pos\": \"PF\", \"Age\": 28, \"Tm\": \"MIN\", \"G\": 31, \"GS\": 31, \"MP\": 32.8, \"FG\": 7.7, \"FGA\": 15.1, \"FG%\": 0.509, \"3P\": 1.9, \"3PA\": 4.6, \"3P%\": 0.413, \"2P\": 5.8, \"2PA\": 10.5, \"2P%\": 0.551, \"eFG%\": 0.572, \"FT\": 4.1, \"FTA\": 4.6, \"FT%\": 0.895, \"ORB\": 1.6, \"DRB\": 7.5, \"TRB\": 9.2, \"AST\": 2.9, \"STL\": 0.8, \"BLK\": 0.5, \"TOV\": 3.0, \"PF\": 3.5, \"PTS\": 21.4}, {\"Player\": \"Franz Wagner\", \"Pos\": \"SF\", \"Age\": 22, \"Tm\": \"ORL\", \"G\": 32, \"GS\": 32, \"MP\": 34.2, \"FG\": 7.8, \"FGA\": 16.8, \"FG%\": 0.465, \"3P\": 1.4, \"3PA\": 4.9, \"3P%\": 0.287, \"2P\": 6.4, \"2PA\": 11.9, \"2P%\": 0.538, \"eFG%\": 0.507, \"FT\": 4.2, \"FTA\": 4.9, \"FT%\": 0.847, \"ORB\": 1.1, \"DRB\": 4.9, \"TRB\": 6.0, \"AST\": 4.0, \"STL\": 1.2, \"BLK\": 0.4, \"TOV\": 1.8, \"PF\": 2.3, \"PTS\": 21.2}, {\"Player\": \"Zion Williamson\", \"Pos\": \"PF\", \"Age\": 23, \"Tm\": \"NOP\", \"G\": 27, \"GS\": 27, \"MP\": 30.9, \"FG\": 8.8, \"FGA\": 15.1, \"FG%\": 0.582, \"3P\": 0.1, \"3PA\": 0.3, \"3P%\": 0.333, \"2P\": 8.7, \"2PA\": 14.7, \"2P%\": 0.588, \"eFG%\": 0.586, \"FT\": 4.7, \"FTA\": 7.2, \"FT%\": 0.656, \"ORB\": 2.0, \"DRB\": 4.2, \"TRB\": 6.1, \"AST\": 4.6, \"STL\": 1.0, \"BLK\": 0.3, \"TOV\": 2.6, \"PF\": 2.7, \"PTS\": 22.4}, {\"Player\": \"Trae Young\", \"Pos\": \"PG\", \"Age\": 25, \"Tm\": \"ATL\", \"G\": 30, \"GS\": 30, \"MP\": 36.6, \"FG\": 8.8, \"FGA\": 20.2, \"FG%\": 0.436, \"3P\": 3.6, \"3PA\": 9.3, \"3P%\": 0.385, \"2P\": 5.2, \"2PA\": 10.9, \"2P%\": 0.48, \"eFG%\": 0.525, \"FT\": 7.2, \"FTA\": 8.3, \"FT%\": 0.86, \"ORB\": 0.5, \"DRB\": 2.5, \"TRB\": 3.0, \"AST\": 11.3, \"STL\": 1.4, \"BLK\": 0.2, \"TOV\": 4.3, \"PF\": 2.0, \"PTS\": 28.3}]}}, {\"mode\": \"vega-lite\"});\n",
       "</script>"
      ],
      "text/plain": [
       "alt.HConcatChart(...)"
      ]
     },
     "execution_count": 91,
     "metadata": {},
     "output_type": "execute_result"
    }
   ],
   "source": [
    "c1 | c2"
   ]
  },
  {
   "cell_type": "markdown",
   "id": "c6498d81-85e9-44c6-a52c-f46637dfeec4",
   "metadata": {},
   "source": [
    "Using Altair I was able to plot a grpah using the minutes played and points per game as the x and y-axis respectively. I also used the tooltip function within altair so that each individual point will have the players name in addition to other stats that are relavent. This is just a way to visualize the trend of minutes played and points per game. The second chart is a chart of the NBA players that scored more than 20 points per game. I also changed the bound of the x and y-axis to centralize the data better."
   ]
  },
  {
   "cell_type": "markdown",
   "id": "0da49025-c48e-4af5-b8ae-4ae7ada7eaf4",
   "metadata": {},
   "source": [
    "## Linear Regression Model and $R^2$ Value"
   ]
  },
  {
   "cell_type": "code",
   "execution_count": 92,
   "id": "242ee6a4-55e0-469e-b922-2291ce24705a",
   "metadata": {},
   "outputs": [
    {
     "data": {
      "image/png": "[encoded data removed]",
      "text/plain": [
       "<Figure size 640x480 with 1 Axes>"
      ]
     },
     "metadata": {},
     "output_type": "display_data"
    },
    {
     "name": "stdout",
     "output_type": "stream",
     "text": [
      "R^2 value: 0.1804183428580789\n"
     ]
    }
   ],
   "source": [
    "df = pd.DataFrame(df)\n",
    "df = df[df['PTS'] > 20]\n",
    "Y = df['PTS'].values\n",
    "X = df['MP'].values.reshape(-1,1)\n",
    "model = LinearRegression()\n",
    "model.fit(X, Y)\n",
    "Y_pred = model.predict(X)\n",
    "plt.scatter(X, Y, color='blue', label='NBA Players')\n",
    "plt.plot(X, Y_pred, color='red', label='Line of best fit')\n",
    "plt.xlabel('Minutes')\n",
    "plt.ylabel('Points')\n",
    "plt.title('Linear Regression')\n",
    "plt.legend()\n",
    "plt.show()\n",
    "r_squared = model.score(X, Y)\n",
    "print(f'R^2 value: {r_squared}')"
   ]
  },
  {
   "cell_type": "markdown",
   "id": "1be395bf-05a9-435e-bec1-0ceea024a6db",
   "metadata": {},
   "source": [
    "This Linear Regression plot is using the two variables of minutes on the x-axis and points along the y-axis. I also included the $R^2$ value of the graph. The low $R^2$ value shows that the prediction of points based on minutes played is not a great one. A consequence of this is that you can see the players that are above this line, meaning the data points above the line of best fit score more on average based on the amount of minutes they play per game. You can say that these players are above average scorers for the amount of minutes they play. It also shows that there is not a clear relation between points per game and minutes played."
   ]
  },
  {
   "cell_type": "code",
   "execution_count": 93,
   "id": "c6d10a75-ca95-46d9-a317-5b78350ce69d",
   "metadata": {},
   "outputs": [
    {
     "name": "stdout",
     "output_type": "stream",
     "text": [
      "Players that are above average scorers:\n",
      "                      Player Pos  Age   Tm   G  GS    MP    FG   FGA    FG%  \\\n",
      "11     Giannis Antetokounmpo  PF   29  MIL  32  32  34.8  11.5  18.9  0.606   \n",
      "25               LaMelo Ball  PG   22  CHO  15  15  33.4   8.8  19.9  0.443   \n",
      "58              Devin Booker  PG   27  PHO  24  24  35.8   8.9  19.1  0.466   \n",
      "113            Stephen Curry  PG   35  GSW  30  30  33.5   8.6  19.0  0.453   \n",
      "125              Luka Dončić  PG   24  DAL  31  31  36.9  11.4  23.6  0.484   \n",
      "131             Kevin Durant  PF   35  PHO  28  28  37.1  10.4  19.7  0.525   \n",
      "134          Anthony Edwards  SG   22  MIN  29  29  34.7   9.0  19.7  0.458   \n",
      "137              Joel Embiid   C   29  PHI  25  25  34.2  11.8  21.8  0.540   \n",
      "147             De'Aaron Fox  PG   26  SAC  25  25  35.3  10.5  21.8  0.483   \n",
      "161  Shai Gilgeous-Alexander  PG   25  OKC  30  30  34.7  11.2  20.6  0.546   \n",
      "181        Tyrese Haliburton  PG   23  IND  29  29  34.3   8.8  17.6  0.501   \n",
      "222             Kyrie Irving  SG   31  DAL  18  18  31.8   8.4  18.0  0.469   \n",
      "231             LeBron James  PF   39  LAL  31  31  34.2   9.4  17.6  0.535   \n",
      "242             Nikola Jokić   C   28  DEN  34  34  33.4   9.9  17.8  0.559   \n",
      "263               Kyle Kuzma  PF   28  WAS  32  32  31.3   8.9  19.2  0.466   \n",
      "275           Damian Lillard  PG   33  MIL  31  31  35.2   7.4  17.1  0.431   \n",
      "293          Lauri Markkanen  PF   26  UTA  24  24  32.7   8.0  16.3  0.487   \n",
      "329         Donovan Mitchell  SG   27  CLE  24  24  36.5   9.8  21.3  0.457   \n",
      "438          Anfernee Simons  SG   24  POR  11  11  34.2   9.5  20.7  0.456   \n",
      "459             Jayson Tatum  PF   25  BOS  30  30  36.8   9.3  19.6  0.474   \n",
      "466               Cam Thomas  SG   22  BRK  24  20  29.9   8.3  18.6  0.448   \n",
      "527          Zion Williamson  PF   23  NOP  27  27  30.9   8.8  15.1  0.582   \n",
      "534               Trae Young  PG   25  ATL  30  30  36.6   8.8  20.2  0.436   \n",
      "\n",
      "     ...    FT%  ORB  DRB   TRB   AST  STL  BLK  TOV   PF   PTS  \n",
      "11   ...  0.676  2.7  8.6  11.3   5.7  1.3  1.2  3.8  2.9  30.9  \n",
      "25   ...  0.857  1.5  3.9   5.5   8.2  1.4  0.3  3.9  3.5  24.7  \n",
      "58   ...  0.883  0.9  4.4   5.3   7.9  0.8  0.4  2.8  3.3  26.4  \n",
      "113  ...  0.931  0.5  3.9   4.4   4.5  0.7  0.4  3.1  1.8  27.3  \n",
      "125  ...  0.785  0.8  7.5   8.3   9.4  1.4  0.6  4.0  1.7  33.4  \n",
      "131  ...  0.874  0.4  5.9   6.3   6.0  0.9  1.1  3.4  1.8  29.9  \n",
      "134  ...  0.842  0.6  4.8   5.3   5.1  1.3  0.7  3.3  1.8  26.3  \n",
      "137  ...  0.893  2.8  8.9  11.7   6.0  1.2  2.0  3.8  2.8  35.0  \n",
      "147  ...  0.720  1.0  3.6   4.6   6.1  1.6  0.4  2.6  2.7  30.0  \n",
      "161  ...  0.916  0.8  4.8   5.7   6.3  2.6  0.8  2.0  2.3  31.2  \n",
      "181  ...  0.856  0.7  3.5   4.2  12.7  1.0  0.6  2.6  1.1  24.7  \n",
      "222  ...  0.889  0.6  3.6   4.2   5.1  1.1  0.3  1.3  1.9  22.5  \n",
      "231  ...  0.749  0.9  6.5   7.4   7.4  1.4  0.7  3.3  1.1  25.4  \n",
      "242  ...  0.818  3.0  9.2  12.3   9.1  1.1  0.9  2.7  2.6  25.7  \n",
      "263  ...  0.768  0.9  5.3   6.2   4.3  0.3  0.6  2.6  2.2  23.1  \n",
      "275  ...  0.924  0.6  3.9   4.5   6.8  1.0  0.2  2.7  1.7  25.5  \n",
      "293  ...  0.861  2.3  6.2   8.5   1.6  1.0  0.6  1.2  2.1  23.2  \n",
      "329  ...  0.895  1.1  4.6   5.7   5.7  1.9  0.5  2.6  2.4  27.9  \n",
      "438  ...  0.923  0.6  2.5   3.1   5.3  0.9  0.1  2.4  2.0  27.1  \n",
      "459  ...  0.806  0.9  7.5   8.4   4.4  1.0  0.5  2.9  2.1  26.9  \n",
      "466  ...  0.806  0.3  2.3   2.6   2.3  0.6  0.4  1.7  2.2  22.4  \n",
      "527  ...  0.656  2.0  4.2   6.1   4.6  1.0  0.3  2.6  2.7  22.4  \n",
      "534  ...  0.860  0.5  2.5   3.0  11.3  1.4  0.2  4.3  2.0  28.3  \n",
      "\n",
      "[23 rows x 29 columns]\n"
     ]
    }
   ],
   "source": [
    "above_average_scorers = df['PTS'] > Y_pred\n",
    "Players_above_average = df[above_average_scorers]\n",
    "print(\"Players that are above average scorers:\")\n",
    "print(Players_above_average)"
   ]
  },
  {
   "cell_type": "markdown",
   "id": "421dd6e1-343d-412c-8b41-ed9fd51997dc",
   "metadata": {},
   "source": [
    "The 23 NBA players mentioned abpove score at a higher output than the liner model predicted based on their minutes per game. There are a lot that make sense, but there are a few NBA players that many consider to not be that good such as Kyle Kuzma and Cam Thomas. Those are the players that surprised me who were above average scorers from the minutes that they played."
   ]
  },
  {
   "cell_type": "code",
   "execution_count": 94,
   "id": "83bb12e3-c0d8-480d-8470-5ce4b93b48c6",
   "metadata": {},
   "outputs": [
    {
     "name": "stdout",
     "output_type": "stream",
     "text": [
      "Players that are below average scorers:\n",
      "                 Player Pos  Age   Tm   G  GS    MP   FG   FGA    FG%  ...  \\\n",
      "3           Bam Adebayo   C   26  MIA  23  23  34.1  8.0  15.7  0.506  ...   \n",
      "27       Paolo Banchero  PF   21  ORL  32  32  34.2  7.8  16.8  0.465  ...   \n",
      "28         Desmond Bane  SG   25  MEM  31  31  34.5  9.0  19.2  0.471  ...   \n",
      "32       Scottie Barnes  SG   22  TOR  33  33  35.2  7.8  16.3  0.480  ...   \n",
      "65        Mikal Bridges  SF   27  BRK  33  33  34.1  7.5  16.4  0.457  ...   \n",
      "74         Jaylen Brown  SF   27  BOS  30  30  33.8  8.9  18.2  0.489  ...   \n",
      "78        Jalen Brunson  PG   27  NYK  33  33  35.9  9.0  19.4  0.463  ...   \n",
      "84         Jimmy Butler  PF   34  MIA  24  24  33.6  6.5  14.0  0.464  ...   \n",
      "111     Cade Cunningham  PG   22  DET  33  33  35.0  8.5  19.2  0.443  ...   \n",
      "115       Anthony Davis   C   30  LAL  32  32  35.6  9.5  17.2  0.551  ...   \n",
      "119       DeMar DeRozan  SF   34  CHI  32  32  36.7  7.8  17.0  0.455  ...   \n",
      "152      Darius Garland  PG   24  CLE  20  20  34.0  7.6  16.1  0.470  ...   \n",
      "157         Paul George  PF   33  LAC  30  30  34.5  8.0  17.7  0.451  ...   \n",
      "170        Jerami Grant  PF   29  POR  28  28  34.9  7.5  16.4  0.459  ...   \n",
      "200         Tyler Herro  SG   24  MIA  15  15  34.5  8.7  19.1  0.455  ...   \n",
      "221      Brandon Ingram  SF   26  NOP  30  30  34.0  8.8  17.5  0.501  ...   \n",
      "228   Jaren Jackson Jr.   C   24  MEM  32  32  31.5  7.2  15.6  0.458  ...   \n",
      "266         Zach LaVine  SG   28  CHI  18  18  35.3  7.3  16.6  0.443  ...   \n",
      "270       Kawhi Leonard  SF   32  LAC  28  28  34.5  9.1  17.4  0.522  ...   \n",
      "303        Tyrese Maxey  PG   23  PHI  31  31  37.4  9.0  19.7  0.458  ...   \n",
      "336           Ja Morant  PG   24  MEM   6   6  35.5  9.3  20.0  0.467  ...   \n",
      "340     Dejounte Murray  SG   27  ATL  32  32  34.4  7.9  17.1  0.461  ...   \n",
      "397       Julius Randle  PF   29  NYK  33  33  35.6  8.7  18.3  0.474  ...   \n",
      "414        Terry Rozier  SG   29  CHO  20  20  35.8  8.7  18.8  0.463  ...   \n",
      "429      Alperen Şengün   C   21  HOU  31  31  31.9  8.4  15.4  0.544  ...   \n",
      "436       Pascal Siakam  PF   29  TOR  33  33  35.1  8.5  16.4  0.518  ...   \n",
      "477  Karl-Anthony Towns  PF   28  MIN  31  31  32.8  7.7  15.1  0.509  ...   \n",
      "494        Franz Wagner  SF   22  ORL  32  32  34.2  7.8  16.8  0.465  ...   \n",
      "\n",
      "       FT%  ORB  DRB   TRB  AST  STL  BLK  TOV   PF   PTS  \n",
      "3    0.777  2.1  8.3  10.4  4.0  1.1  1.0  2.7  2.4  22.0  \n",
      "27   0.697  1.2  5.8   7.0  4.7  1.0  0.6  3.1  2.0  21.7  \n",
      "28   0.858  0.9  3.7   4.6  5.2  1.1  0.6  2.8  2.9  24.6  \n",
      "32   0.772  2.6  6.7   9.3  5.8  1.5  1.4  2.4  2.0  21.0  \n",
      "65   0.829  1.0  4.3   5.3  3.8  0.9  0.4  2.3  1.6  21.1  \n",
      "74   0.733  0.9  4.2   5.1  3.7  1.1  0.6  2.5  2.7  23.0  \n",
      "78   0.820  0.7  3.3   4.0  6.2  1.1  0.2  2.4  2.2  25.6  \n",
      "84   0.881  1.9  3.2   5.0  4.5  1.0  0.4  1.8  1.1  21.0  \n",
      "111  0.870  0.5  3.5   4.0  7.3  1.0  0.3  3.9  2.8  23.0  \n",
      "115  0.806  3.3  9.0  12.3  3.3  1.2  2.6  2.0  2.6  25.0  \n",
      "119  0.838  0.7  3.2   3.8  5.4  1.1  0.8  1.4  2.2  22.4  \n",
      "152  0.835  0.6  2.2   2.8  5.9  1.6  0.2  3.8  1.6  20.7  \n",
      "157  0.931  0.7  4.8   5.5  4.0  1.6  0.3  2.3  3.0  22.9  \n",
      "170  0.810  0.7  3.2   3.9  2.6  0.7  0.8  2.4  2.3  22.1  \n",
      "200  0.872  0.6  4.9   5.5  4.5  1.3  0.1  2.7  1.3  23.4  \n",
      "221  0.815  0.7  4.1   4.8  5.5  0.8  0.5  2.6  2.2  23.3  \n",
      "228  0.832  1.4  4.2   5.5  1.7  0.8  1.6  1.9  3.6  21.0  \n",
      "266  0.866  0.3  4.6   4.9  3.4  0.9  0.2  2.0  2.1  21.0  \n",
      "270  0.872  1.1  4.9   5.9  3.6  1.6  0.7  1.5  1.4  24.4  \n",
      "303  0.873  0.5  3.2   3.8  6.5  0.8  0.5  1.5  2.1  26.1  \n",
      "336  0.829  0.5  4.5   5.0  7.8  0.7  0.7  3.2  2.0  25.2  \n",
      "340  0.817  0.8  3.8   4.6  5.2  1.5  0.3  2.1  1.7  20.5  \n",
      "397  0.763  2.2  7.4   9.6  4.7  0.5  0.2  3.4  2.8  24.0  \n",
      "414  0.854  0.6  3.3   3.9  7.2  1.2  0.4  2.4  1.8  23.6  \n",
      "429  0.728  2.6  6.5   9.1  5.3  1.1  0.8  2.5  3.3  21.3  \n",
      "436  0.749  1.5  5.1   6.5  5.0  0.8  0.2  2.2  2.3  22.4  \n",
      "477  0.895  1.6  7.5   9.2  2.9  0.8  0.5  3.0  3.5  21.4  \n",
      "494  0.847  1.1  4.9   6.0  4.0  1.2  0.4  1.8  2.3  21.2  \n",
      "\n",
      "[28 rows x 29 columns]\n"
     ]
    }
   ],
   "source": [
    "below_average_scorers = df['PTS'] <= Y_pred\n",
    "Players_below_average = df[below_average_scorers]\n",
    "print(\"Players that are below average scorers:\")\n",
    "print(Players_below_average)"
   ]
  },
  {
   "cell_type": "markdown",
   "id": "d275db3f-1202-4d5a-afcf-14233bd6028e",
   "metadata": {},
   "source": [
    "These 28 NBA players are those who scored less than the model predicted, many of which made the All-Star game this year or were on the All-NBA teams, such as Scottie Barnes, Jalen Brunson, Kawhi Leonard, Anthony Davis, and Jaylen Brown to name a few. I believe that this shows that basing the quality of a player cannot only be determined through their points per game output based on minutes played and how above average they are."
   ]
  },
  {
   "cell_type": "markdown",
   "id": "b7031a15-edbc-423e-b9b9-7a4750aaa26b",
   "metadata": {},
   "source": [
    "## Plotly Component"
   ]
  },
  {
   "cell_type": "markdown",
   "id": "6609cef1-11b6-42ee-9f9d-7953ac8b8830",
   "metadata": {},
   "source": [
    "We will now use a bar chart to visualize the average points per game for the NBA players that average 25 points per game or more."
   ]
  },
  {
   "cell_type": "code",
   "execution_count": 95,
   "id": "8c253dce-05c7-4869-878b-55d2e834ac0e",
   "metadata": {},
   "outputs": [
    {
     "data": {
      "application/vnd.plotly.v1+json": {
       "config": {
        "plotlyServerURL": "https://plot.ly"
       },
       "data": [
        {
         "alignmentgroup": "True",
         "hovertemplate": "x=%{x}<br>y=%{y}<extra></extra>",
         "legendgroup": "",
         "marker": {
          "color": "#636efa",
          "pattern": {
           "shape": ""
          }
         },
         "name": "",
         "offsetgroup": "",
         "orientation": "v",
         "showlegend": false,
         "textposition": "auto",
         "type": "bar",
         "x": [
          "Anfernee Simons",
          "Anthony Davis",
          "Anthony Edwards",
          "Damian Lillard",
          "De'Aaron Fox",
          "Devin Booker",
          "Donovan Mitchell",
          "Giannis Antetokounmpo",
          "Ja Morant",
          "Jalen Brunson",
          "Jayson Tatum",
          "Joel Embiid",
          "Kevin Durant",
          "LeBron James",
          "Luka Dončić",
          "Nikola Jokić",
          "Shai Gilgeous-Alexander",
          "Stephen Curry",
          "Trae Young",
          "Tyrese Maxey"
         ],
         "xaxis": "x",
         "y": [
          27.1,
          25,
          26.3,
          25.5,
          30,
          26.4,
          27.9,
          30.9,
          25.2,
          25.6,
          26.9,
          35,
          29.9,
          25.4,
          33.4,
          25.7,
          31.2,
          27.3,
          28.3,
          26.1
         ],
         "yaxis": "y"
        }
       ],
       "layout": {
        "autosize": true,
        "barmode": "relative",
        "legend": {
         "tracegroupgap": 0
        },
        "margin": {
         "t": 60
        },
        "template": {
         "data": {
          "bar": [
           {
            "error_x": {
             "color": "#2a3f5f"
            },
            "error_y": {
             "color": "#2a3f5f"
            },
            "marker": {
             "line": {
              "color": "#E5ECF6",
              "width": 0.5
             },
             "pattern": {
              "fillmode": "overlay",
              "size": 10,
              "solidity": 0.2
             }
            },
            "type": "bar"
           }
          ],
          "barpolar": [
           {
            "marker": {
             "line": {
              "color": "#E5ECF6",
              "width": 0.5
             },
             "pattern": {
              "fillmode": "overlay",
              "size": 10,
              "solidity": 0.2
             }
            },
            "type": "barpolar"
           }
          ],
          "carpet": [
           {
            "aaxis": {
             "endlinecolor": "#2a3f5f",
             "gridcolor": "white",
             "linecolor": "white",
             "minorgridcolor": "white",
             "startlinecolor": "#2a3f5f"
            },
            "baxis": {
             "endlinecolor": "#2a3f5f",
             "gridcolor": "white",
             "linecolor": "white",
             "minorgridcolor": "white",
             "startlinecolor": "#2a3f5f"
            },
            "type": "carpet"
           }
          ],
          "choropleth": [
           {
            "colorbar": {
             "outlinewidth": 0,
             "ticks": ""
            },
            "type": "choropleth"
           }
          ],
          "contour": [
           {
            "colorbar": {
             "outlinewidth": 0,
             "ticks": ""
            },
            "colorscale": [
             [
              0,
              "#0d0887"
             ],
             [
              0.1111111111111111,
              "#46039f"
             ],
             [
              0.2222222222222222,
              "#7201a8"
             ],
             [
              0.3333333333333333,
              "#9c179e"
             ],
             [
              0.4444444444444444,
              "#bd3786"
             ],
             [
              0.5555555555555556,
              "#d8576b"
             ],
             [
              0.6666666666666666,
              "#ed7953"
             ],
             [
              0.7777777777777778,
              "#fb9f3a"
             ],
             [
              0.8888888888888888,
              "#fdca26"
             ],
             [
              1,
              "#f0f921"
             ]
            ],
            "type": "contour"
           }
          ],
          "contourcarpet": [
           {
            "colorbar": {
             "outlinewidth": 0,
             "ticks": ""
            },
            "type": "contourcarpet"
           }
          ],
          "heatmap": [
           {
            "colorbar": {
             "outlinewidth": 0,
             "ticks": ""
            },
            "colorscale": [
             [
              0,
              "#0d0887"
             ],
             [
              0.1111111111111111,
              "#46039f"
             ],
             [
              0.2222222222222222,
              "#7201a8"
             ],
             [
              0.3333333333333333,
              "#9c179e"
             ],
             [
              0.4444444444444444,
              "#bd3786"
             ],
             [
              0.5555555555555556,
              "#d8576b"
             ],
             [
              0.6666666666666666,
              "#ed7953"
             ],
             [
              0.7777777777777778,
              "#fb9f3a"
             ],
             [
              0.8888888888888888,
              "#fdca26"
             ],
             [
              1,
              "#f0f921"
             ]
            ],
            "type": "heatmap"
           }
          ],
          "heatmapgl": [
           {
            "colorbar": {
             "outlinewidth": 0,
             "ticks": ""
            },
            "colorscale": [
             [
              0,
              "#0d0887"
             ],
             [
              0.1111111111111111,
              "#46039f"
             ],
             [
              0.2222222222222222,
              "#7201a8"
             ],
             [
              0.3333333333333333,
              "#9c179e"
             ],
             [
              0.4444444444444444,
              "#bd3786"
             ],
             [
              0.5555555555555556,
              "#d8576b"
             ],
             [
              0.6666666666666666,
              "#ed7953"
             ],
             [
              0.7777777777777778,
              "#fb9f3a"
             ],
             [
              0.8888888888888888,
              "#fdca26"
             ],
             [
              1,
              "#f0f921"
             ]
            ],
            "type": "heatmapgl"
           }
          ],
          "histogram": [
           {
            "marker": {
             "pattern": {
              "fillmode": "overlay",
              "size": 10,
              "solidity": 0.2
             }
            },
            "type": "histogram"
           }
          ],
          "histogram2d": [
           {
            "colorbar": {
             "outlinewidth": 0,
             "ticks": ""
            },
            "colorscale": [
             [
              0,
              "#0d0887"
             ],
             [
              0.1111111111111111,
              "#46039f"
             ],
             [
              0.2222222222222222,
              "#7201a8"
             ],
             [
              0.3333333333333333,
              "#9c179e"
             ],
             [
              0.4444444444444444,
              "#bd3786"
             ],
             [
              0.5555555555555556,
              "#d8576b"
             ],
             [
              0.6666666666666666,
              "#ed7953"
             ],
             [
              0.7777777777777778,
              "#fb9f3a"
             ],
             [
              0.8888888888888888,
              "#fdca26"
             ],
             [
              1,
              "#f0f921"
             ]
            ],
            "type": "histogram2d"
           }
          ],
          "histogram2dcontour": [
           {
            "colorbar": {
             "outlinewidth": 0,
             "ticks": ""
            },
            "colorscale": [
             [
              0,
              "#0d0887"
             ],
             [
              0.1111111111111111,
              "#46039f"
             ],
             [
              0.2222222222222222,
              "#7201a8"
             ],
             [
              0.3333333333333333,
              "#9c179e"
             ],
             [
              0.4444444444444444,
              "#bd3786"
             ],
             [
              0.5555555555555556,
              "#d8576b"
             ],
             [
              0.6666666666666666,
              "#ed7953"
             ],
             [
              0.7777777777777778,
              "#fb9f3a"
             ],
             [
              0.8888888888888888,
              "#fdca26"
             ],
             [
              1,
              "#f0f921"
             ]
            ],
            "type": "histogram2dcontour"
           }
          ],
          "mesh3d": [
           {
            "colorbar": {
             "outlinewidth": 0,
             "ticks": ""
            },
            "type": "mesh3d"
           }
          ],
          "parcoords": [
           {
            "line": {
             "colorbar": {
              "outlinewidth": 0,
              "ticks": ""
             }
            },
            "type": "parcoords"
           }
          ],
          "pie": [
           {
            "automargin": true,
            "type": "pie"
           }
          ],
          "scatter": [
           {
            "fillpattern": {
             "fillmode": "overlay",
             "size": 10,
             "solidity": 0.2
            },
            "type": "scatter"
           }
          ],
          "scatter3d": [
           {
            "line": {
             "colorbar": {
              "outlinewidth": 0,
              "ticks": ""
             }
            },
            "marker": {
             "colorbar": {
              "outlinewidth": 0,
              "ticks": ""
             }
            },
            "type": "scatter3d"
           }
          ],
          "scattercarpet": [
           {
            "marker": {
             "colorbar": {
              "outlinewidth": 0,
              "ticks": ""
             }
            },
            "type": "scattercarpet"
           }
          ],
          "scattergeo": [
           {
            "marker": {
             "colorbar": {
              "outlinewidth": 0,
              "ticks": ""
             }
            },
            "type": "scattergeo"
           }
          ],
          "scattergl": [
           {
            "marker": {
             "colorbar": {
              "outlinewidth": 0,
              "ticks": ""
             }
            },
            "type": "scattergl"
           }
          ],
          "scattermapbox": [
           {
            "marker": {
             "colorbar": {
              "outlinewidth": 0,
              "ticks": ""
             }
            },
            "type": "scattermapbox"
           }
          ],
          "scatterpolar": [
           {
            "marker": {
             "colorbar": {
              "outlinewidth": 0,
              "ticks": ""
             }
            },
            "type": "scatterpolar"
           }
          ],
          "scatterpolargl": [
           {
            "marker": {
             "colorbar": {
              "outlinewidth": 0,
              "ticks": ""
             }
            },
            "type": "scatterpolargl"
           }
          ],
          "scatterternary": [
           {
            "marker": {
             "colorbar": {
              "outlinewidth": 0,
              "ticks": ""
             }
            },
            "type": "scatterternary"
           }
          ],
          "surface": [
           {
            "colorbar": {
             "outlinewidth": 0,
             "ticks": ""
            },
            "colorscale": [
             [
              0,
              "#0d0887"
             ],
             [
              0.1111111111111111,
              "#46039f"
             ],
             [
              0.2222222222222222,
              "#7201a8"
             ],
             [
              0.3333333333333333,
              "#9c179e"
             ],
             [
              0.4444444444444444,
              "#bd3786"
             ],
             [
              0.5555555555555556,
              "#d8576b"
             ],
             [
              0.6666666666666666,
              "#ed7953"
             ],
             [
              0.7777777777777778,
              "#fb9f3a"
             ],
             [
              0.8888888888888888,
              "#fdca26"
             ],
             [
              1,
              "#f0f921"
             ]
            ],
            "type": "surface"
           }
          ],
          "table": [
           {
            "cells": {
             "fill": {
              "color": "#EBF0F8"
             },
             "line": {
              "color": "white"
             }
            },
            "header": {
             "fill": {
              "color": "#C8D4E3"
             },
             "line": {
              "color": "white"
             }
            },
            "type": "table"
           }
          ]
         },
         "layout": {
          "annotationdefaults": {
           "arrowcolor": "#2a3f5f",
           "arrowhead": 0,
           "arrowwidth": 1
          },
          "autotypenumbers": "strict",
          "coloraxis": {
           "colorbar": {
            "outlinewidth": 0,
            "ticks": ""
           }
          },
          "colorscale": {
           "diverging": [
            [
             0,
             "#8e0152"
            ],
            [
             0.1,
             "#c51b7d"
            ],
            [
             0.2,
             "#de77ae"
            ],
            [
             0.3,
             "#f1b6da"
            ],
            [
             0.4,
             "#fde0ef"
            ],
            [
             0.5,
             "#f7f7f7"
            ],
            [
             0.6,
             "#e6f5d0"
            ],
            [
             0.7,
             "#b8e186"
            ],
            [
             0.8,
             "#7fbc41"
            ],
            [
             0.9,
             "#4d9221"
            ],
            [
             1,
             "#276419"
            ]
           ],
           "sequential": [
            [
             0,
             "#0d0887"
            ],
            [
             0.1111111111111111,
             "#46039f"
            ],
            [
             0.2222222222222222,
             "#7201a8"
            ],
            [
             0.3333333333333333,
             "#9c179e"
            ],
            [
             0.4444444444444444,
             "#bd3786"
            ],
            [
             0.5555555555555556,
             "#d8576b"
            ],
            [
             0.6666666666666666,
             "#ed7953"
            ],
            [
             0.7777777777777778,
             "#fb9f3a"
            ],
            [
             0.8888888888888888,
             "#fdca26"
            ],
            [
             1,
             "#f0f921"
            ]
           ],
           "sequentialminus": [
            [
             0,
             "#0d0887"
            ],
            [
             0.1111111111111111,
             "#46039f"
            ],
            [
             0.2222222222222222,
             "#7201a8"
            ],
            [
             0.3333333333333333,
             "#9c179e"
            ],
            [
             0.4444444444444444,
             "#bd3786"
            ],
            [
             0.5555555555555556,
             "#d8576b"
            ],
            [
             0.6666666666666666,
             "#ed7953"
            ],
            [
             0.7777777777777778,
             "#fb9f3a"
            ],
            [
             0.8888888888888888,
             "#fdca26"
            ],
            [
             1,
             "#f0f921"
            ]
           ]
          },
          "colorway": [
           "#636efa",
           "#EF553B",
           "#00cc96",
           "#ab63fa",
           "#FFA15A",
           "#19d3f3",
           "#FF6692",
           "#B6E880",
           "#FF97FF",
           "#FECB52"
          ],
          "font": {
           "color": "#2a3f5f"
          },
          "geo": {
           "bgcolor": "white",
           "lakecolor": "white",
           "landcolor": "#E5ECF6",
           "showlakes": true,
           "showland": true,
           "subunitcolor": "white"
          },
          "hoverlabel": {
           "align": "left"
          },
          "hovermode": "closest",
          "mapbox": {
           "style": "light"
          },
          "paper_bgcolor": "white",
          "plot_bgcolor": "#E5ECF6",
          "polar": {
           "angularaxis": {
            "gridcolor": "white",
            "linecolor": "white",
            "ticks": ""
           },
           "bgcolor": "#E5ECF6",
           "radialaxis": {
            "gridcolor": "white",
            "linecolor": "white",
            "ticks": ""
           }
          },
          "scene": {
           "xaxis": {
            "backgroundcolor": "#E5ECF6",
            "gridcolor": "white",
            "gridwidth": 2,
            "linecolor": "white",
            "showbackground": true,
            "ticks": "",
            "zerolinecolor": "white"
           },
           "yaxis": {
            "backgroundcolor": "#E5ECF6",
            "gridcolor": "white",
            "gridwidth": 2,
            "linecolor": "white",
            "showbackground": true,
            "ticks": "",
            "zerolinecolor": "white"
           },
           "zaxis": {
            "backgroundcolor": "#E5ECF6",
            "gridcolor": "white",
            "gridwidth": 2,
            "linecolor": "white",
            "showbackground": true,
            "ticks": "",
            "zerolinecolor": "white"
           }
          },
          "shapedefaults": {
           "line": {
            "color": "#2a3f5f"
           }
          },
          "ternary": {
           "aaxis": {
            "gridcolor": "white",
            "linecolor": "white",
            "ticks": ""
           },
           "baxis": {
            "gridcolor": "white",
            "linecolor": "white",
            "ticks": ""
           },
           "bgcolor": "#E5ECF6",
           "caxis": {
            "gridcolor": "white",
            "linecolor": "white",
            "ticks": ""
           }
          },
          "title": {
           "x": 0.05
          },
          "xaxis": {
           "automargin": true,
           "gridcolor": "white",
           "linecolor": "white",
           "ticks": "",
           "title": {
            "standoff": 15
           },
           "zerolinecolor": "white",
           "zerolinewidth": 2
          },
          "yaxis": {
           "automargin": true,
           "gridcolor": "white",
           "linecolor": "white",
           "ticks": "",
           "title": {
            "standoff": 15
           },
           "zerolinecolor": "white",
           "zerolinewidth": 2
          }
         }
        },
        "xaxis": {
         "anchor": "y",
         "autorange": true,
         "domain": [
          0,
          1
         ],
         "range": [
          -0.5,
          19.5
         ],
         "title": {
          "text": "x"
         },
         "type": "category"
        },
        "yaxis": {
         "anchor": "x",
         "autorange": true,
         "domain": [
          0,
          1
         ],
         "range": [
          0,
          36.8421052631579
         ],
         "title": {
          "text": "y"
         },
         "type": "linear"
        }
       }
      },
      "image/png": "[encoded data removed]",
      "text/html": [
       "<div>                            <div id=\"b78bdfbd-823c-43b3-972c-f19d23652273\" class=\"plotly-graph-div\" style=\"height:525px; width:100%;\"></div>            <script type=\"text/javascript\">                require([\"plotly\"], function(Plotly) {                    window.PLOTLYENV=window.PLOTLYENV || {};                                    if (document.getElementById(\"b78bdfbd-823c-43b3-972c-f19d23652273\")) {                    Plotly.newPlot(                        \"b78bdfbd-823c-43b3-972c-f19d23652273\",                        [{\"alignmentgroup\":\"True\",\"hovertemplate\":\"x=%{x}<br>y=%{y}<extra></extra>\",\"legendgroup\":\"\",\"marker\":{\"color\":\"#636efa\",\"pattern\":{\"shape\":\"\"}},\"name\":\"\",\"offsetgroup\":\"\",\"orientation\":\"v\",\"showlegend\":false,\"textposition\":\"auto\",\"x\":[\"Anfernee Simons\",\"Anthony Davis\",\"Anthony Edwards\",\"Damian Lillard\",\"De'Aaron Fox\",\"Devin Booker\",\"Donovan Mitchell\",\"Giannis Antetokounmpo\",\"Ja Morant\",\"Jalen Brunson\",\"Jayson Tatum\",\"Joel Embiid\",\"Kevin Durant\",\"LeBron James\",\"Luka Don\\u010di\\u0107\",\"Nikola Joki\\u0107\",\"Shai Gilgeous-Alexander\",\"Stephen Curry\",\"Trae Young\",\"Tyrese Maxey\"],\"xaxis\":\"x\",\"y\":[27.1,25.0,26.3,25.5,30.0,26.4,27.9,30.9,25.2,25.6,26.9,35.0,29.9,25.4,33.4,25.7,31.2,27.3,28.3,26.1],\"yaxis\":\"y\",\"type\":\"bar\"}],                        {\"template\":{\"data\":{\"histogram2dcontour\":[{\"type\":\"histogram2dcontour\",\"colorbar\":{\"outlinewidth\":0,\"ticks\":\"\"},\"colorscale\":[[0.0,\"#0d0887\"],[0.1111111111111111,\"#46039f\"],[0.2222222222222222,\"#7201a8\"],[0.3333333333333333,\"#9c179e\"],[0.4444444444444444,\"#bd3786\"],[0.5555555555555556,\"#d8576b\"],[0.6666666666666666,\"#ed7953\"],[0.7777777777777778,\"#fb9f3a\"],[0.8888888888888888,\"#fdca26\"],[1.0,\"#f0f921\"]]}],\"choropleth\":[{\"type\":\"choropleth\",\"colorbar\":{\"outlinewidth\":0,\"ticks\":\"\"}}],\"histogram2d\":[{\"type\":\"histogram2d\",\"colorbar\":{\"outlinewidth\":0,\"ticks\":\"\"},\"colorscale\":[[0.0,\"#0d0887\"],[0.1111111111111111,\"#46039f\"],[0.2222222222222222,\"#7201a8\"],[0.3333333333333333,\"#9c179e\"],[0.4444444444444444,\"#bd3786\"],[0.5555555555555556,\"#d8576b\"],[0.6666666666666666,\"#ed7953\"],[0.7777777777777778,\"#fb9f3a\"],[0.8888888888888888,\"#fdca26\"],[1.0,\"#f0f921\"]]}],\"heatmap\":[{\"type\":\"heatmap\",\"colorbar\":{\"outlinewidth\":0,\"ticks\":\"\"},\"colorscale\":[[0.0,\"#0d0887\"],[0.1111111111111111,\"#46039f\"],[0.2222222222222222,\"#7201a8\"],[0.3333333333333333,\"#9c179e\"],[0.4444444444444444,\"#bd3786\"],[0.5555555555555556,\"#d8576b\"],[0.6666666666666666,\"#ed7953\"],[0.7777777777777778,\"#fb9f3a\"],[0.8888888888888888,\"#fdca26\"],[1.0,\"#f0f921\"]]}],\"heatmapgl\":[{\"type\":\"heatmapgl\",\"colorbar\":{\"outlinewidth\":0,\"ticks\":\"\"},\"colorscale\":[[0.0,\"#0d0887\"],[0.1111111111111111,\"#46039f\"],[0.2222222222222222,\"#7201a8\"],[0.3333333333333333,\"#9c179e\"],[0.4444444444444444,\"#bd3786\"],[0.5555555555555556,\"#d8576b\"],[0.6666666666666666,\"#ed7953\"],[0.7777777777777778,\"#fb9f3a\"],[0.8888888888888888,\"#fdca26\"],[1.0,\"#f0f921\"]]}],\"contourcarpet\":[{\"type\":\"contourcarpet\",\"colorbar\":{\"outlinewidth\":0,\"ticks\":\"\"}}],\"contour\":[{\"type\":\"contour\",\"colorbar\":{\"outlinewidth\":0,\"ticks\":\"\"},\"colorscale\":[[0.0,\"#0d0887\"],[0.1111111111111111,\"#46039f\"],[0.2222222222222222,\"#7201a8\"],[0.3333333333333333,\"#9c179e\"],[0.4444444444444444,\"#bd3786\"],[0.5555555555555556,\"#d8576b\"],[0.6666666666666666,\"#ed7953\"],[0.7777777777777778,\"#fb9f3a\"],[0.8888888888888888,\"#fdca26\"],[1.0,\"#f0f921\"]]}],\"surface\":[{\"type\":\"surface\",\"colorbar\":{\"outlinewidth\":0,\"ticks\":\"\"},\"colorscale\":[[0.0,\"#0d0887\"],[0.1111111111111111,\"#46039f\"],[0.2222222222222222,\"#7201a8\"],[0.3333333333333333,\"#9c179e\"],[0.4444444444444444,\"#bd3786\"],[0.5555555555555556,\"#d8576b\"],[0.6666666666666666,\"#ed7953\"],[0.7777777777777778,\"#fb9f3a\"],[0.8888888888888888,\"#fdca26\"],[1.0,\"#f0f921\"]]}],\"mesh3d\":[{\"type\":\"mesh3d\",\"colorbar\":{\"outlinewidth\":0,\"ticks\":\"\"}}],\"scatter\":[{\"fillpattern\":{\"fillmode\":\"overlay\",\"size\":10,\"solidity\":0.2},\"type\":\"scatter\"}],\"parcoords\":[{\"type\":\"parcoords\",\"line\":{\"colorbar\":{\"outlinewidth\":0,\"ticks\":\"\"}}}],\"scatterpolargl\":[{\"type\":\"scatterpolargl\",\"marker\":{\"colorbar\":{\"outlinewidth\":0,\"ticks\":\"\"}}}],\"bar\":[{\"error_x\":{\"color\":\"#2a3f5f\"},\"error_y\":{\"color\":\"#2a3f5f\"},\"marker\":{\"line\":{\"color\":\"#E5ECF6\",\"width\":0.5},\"pattern\":{\"fillmode\":\"overlay\",\"size\":10,\"solidity\":0.2}},\"type\":\"bar\"}],\"scattergeo\":[{\"type\":\"scattergeo\",\"marker\":{\"colorbar\":{\"outlinewidth\":0,\"ticks\":\"\"}}}],\"scatterpolar\":[{\"type\":\"scatterpolar\",\"marker\":{\"colorbar\":{\"outlinewidth\":0,\"ticks\":\"\"}}}],\"histogram\":[{\"marker\":{\"pattern\":{\"fillmode\":\"overlay\",\"size\":10,\"solidity\":0.2}},\"type\":\"histogram\"}],\"scattergl\":[{\"type\":\"scattergl\",\"marker\":{\"colorbar\":{\"outlinewidth\":0,\"ticks\":\"\"}}}],\"scatter3d\":[{\"type\":\"scatter3d\",\"line\":{\"colorbar\":{\"outlinewidth\":0,\"ticks\":\"\"}},\"marker\":{\"colorbar\":{\"outlinewidth\":0,\"ticks\":\"\"}}}],\"scattermapbox\":[{\"type\":\"scattermapbox\",\"marker\":{\"colorbar\":{\"outlinewidth\":0,\"ticks\":\"\"}}}],\"scatterternary\":[{\"type\":\"scatterternary\",\"marker\":{\"colorbar\":{\"outlinewidth\":0,\"ticks\":\"\"}}}],\"scattercarpet\":[{\"type\":\"scattercarpet\",\"marker\":{\"colorbar\":{\"outlinewidth\":0,\"ticks\":\"\"}}}],\"carpet\":[{\"aaxis\":{\"endlinecolor\":\"#2a3f5f\",\"gridcolor\":\"white\",\"linecolor\":\"white\",\"minorgridcolor\":\"white\",\"startlinecolor\":\"#2a3f5f\"},\"baxis\":{\"endlinecolor\":\"#2a3f5f\",\"gridcolor\":\"white\",\"linecolor\":\"white\",\"minorgridcolor\":\"white\",\"startlinecolor\":\"#2a3f5f\"},\"type\":\"carpet\"}],\"table\":[{\"cells\":{\"fill\":{\"color\":\"#EBF0F8\"},\"line\":{\"color\":\"white\"}},\"header\":{\"fill\":{\"color\":\"#C8D4E3\"},\"line\":{\"color\":\"white\"}},\"type\":\"table\"}],\"barpolar\":[{\"marker\":{\"line\":{\"color\":\"#E5ECF6\",\"width\":0.5},\"pattern\":{\"fillmode\":\"overlay\",\"size\":10,\"solidity\":0.2}},\"type\":\"barpolar\"}],\"pie\":[{\"automargin\":true,\"type\":\"pie\"}]},\"layout\":{\"autotypenumbers\":\"strict\",\"colorway\":[\"#636efa\",\"#EF553B\",\"#00cc96\",\"#ab63fa\",\"#FFA15A\",\"#19d3f3\",\"#FF6692\",\"#B6E880\",\"#FF97FF\",\"#FECB52\"],\"font\":{\"color\":\"#2a3f5f\"},\"hovermode\":\"closest\",\"hoverlabel\":{\"align\":\"left\"},\"paper_bgcolor\":\"white\",\"plot_bgcolor\":\"#E5ECF6\",\"polar\":{\"bgcolor\":\"#E5ECF6\",\"angularaxis\":{\"gridcolor\":\"white\",\"linecolor\":\"white\",\"ticks\":\"\"},\"radialaxis\":{\"gridcolor\":\"white\",\"linecolor\":\"white\",\"ticks\":\"\"}},\"ternary\":{\"bgcolor\":\"#E5ECF6\",\"aaxis\":{\"gridcolor\":\"white\",\"linecolor\":\"white\",\"ticks\":\"\"},\"baxis\":{\"gridcolor\":\"white\",\"linecolor\":\"white\",\"ticks\":\"\"},\"caxis\":{\"gridcolor\":\"white\",\"linecolor\":\"white\",\"ticks\":\"\"}},\"coloraxis\":{\"colorbar\":{\"outlinewidth\":0,\"ticks\":\"\"}},\"colorscale\":{\"sequential\":[[0.0,\"#0d0887\"],[0.1111111111111111,\"#46039f\"],[0.2222222222222222,\"#7201a8\"],[0.3333333333333333,\"#9c179e\"],[0.4444444444444444,\"#bd3786\"],[0.5555555555555556,\"#d8576b\"],[0.6666666666666666,\"#ed7953\"],[0.7777777777777778,\"#fb9f3a\"],[0.8888888888888888,\"#fdca26\"],[1.0,\"#f0f921\"]],\"sequentialminus\":[[0.0,\"#0d0887\"],[0.1111111111111111,\"#46039f\"],[0.2222222222222222,\"#7201a8\"],[0.3333333333333333,\"#9c179e\"],[0.4444444444444444,\"#bd3786\"],[0.5555555555555556,\"#d8576b\"],[0.6666666666666666,\"#ed7953\"],[0.7777777777777778,\"#fb9f3a\"],[0.8888888888888888,\"#fdca26\"],[1.0,\"#f0f921\"]],\"diverging\":[[0,\"#8e0152\"],[0.1,\"#c51b7d\"],[0.2,\"#de77ae\"],[0.3,\"#f1b6da\"],[0.4,\"#fde0ef\"],[0.5,\"#f7f7f7\"],[0.6,\"#e6f5d0\"],[0.7,\"#b8e186\"],[0.8,\"#7fbc41\"],[0.9,\"#4d9221\"],[1,\"#276419\"]]},\"xaxis\":{\"gridcolor\":\"white\",\"linecolor\":\"white\",\"ticks\":\"\",\"title\":{\"standoff\":15},\"zerolinecolor\":\"white\",\"automargin\":true,\"zerolinewidth\":2},\"yaxis\":{\"gridcolor\":\"white\",\"linecolor\":\"white\",\"ticks\":\"\",\"title\":{\"standoff\":15},\"zerolinecolor\":\"white\",\"automargin\":true,\"zerolinewidth\":2},\"scene\":{\"xaxis\":{\"backgroundcolor\":\"#E5ECF6\",\"gridcolor\":\"white\",\"linecolor\":\"white\",\"showbackground\":true,\"ticks\":\"\",\"zerolinecolor\":\"white\",\"gridwidth\":2},\"yaxis\":{\"backgroundcolor\":\"#E5ECF6\",\"gridcolor\":\"white\",\"linecolor\":\"white\",\"showbackground\":true,\"ticks\":\"\",\"zerolinecolor\":\"white\",\"gridwidth\":2},\"zaxis\":{\"backgroundcolor\":\"#E5ECF6\",\"gridcolor\":\"white\",\"linecolor\":\"white\",\"showbackground\":true,\"ticks\":\"\",\"zerolinecolor\":\"white\",\"gridwidth\":2}},\"shapedefaults\":{\"line\":{\"color\":\"#2a3f5f\"}},\"annotationdefaults\":{\"arrowcolor\":\"#2a3f5f\",\"arrowhead\":0,\"arrowwidth\":1},\"geo\":{\"bgcolor\":\"white\",\"landcolor\":\"#E5ECF6\",\"subunitcolor\":\"white\",\"showland\":true,\"showlakes\":true,\"lakecolor\":\"white\"},\"title\":{\"x\":0.05},\"mapbox\":{\"style\":\"light\"}}},\"xaxis\":{\"anchor\":\"y\",\"domain\":[0.0,1.0],\"title\":{\"text\":\"x\"}},\"yaxis\":{\"anchor\":\"x\",\"domain\":[0.0,1.0],\"title\":{\"text\":\"y\"}},\"legend\":{\"tracegroupgap\":0},\"margin\":{\"t\":60},\"barmode\":\"relative\"},                        {\"responsive\": true}                    ).then(function(){\n",
       "                            \n",
       "var gd = document.getElementById('b78bdfbd-823c-43b3-972c-f19d23652273');\n",
       "var x = new MutationObserver(function (mutations, observer) {{\n",
       "        var display = window.getComputedStyle(gd).display;\n",
       "        if (!display || display === 'none') {{\n",
       "            console.log([gd, 'removed!']);\n",
       "            Plotly.purge(gd);\n",
       "            observer.disconnect();\n",
       "        }}\n",
       "}});\n",
       "\n",
       "// Listen for the removal of the full notebook cells\n",
       "var notebookContainer = gd.closest('#notebook-container');\n",
       "if (notebookContainer) {{\n",
       "    x.observe(notebookContainer, {childList: true});\n",
       "}}\n",
       "\n",
       "// Listen for the clearing of the current output cell\n",
       "var outputEl = gd.closest('.output');\n",
       "if (outputEl) {{\n",
       "    x.observe(outputEl, {childList: true});\n",
       "}}\n",
       "\n",
       "                        })                };                });            </script>        </div>"
      ]
     },
     "metadata": {},
     "output_type": "display_data"
    }
   ],
   "source": [
    "df_PPG = df[df['PTS'] >= 25]\n",
    "PPG = pd.DataFrame(df_PPG.groupby('Player')['PTS'].mean())\n",
    "bar_chart = px.bar(df_PPG, x = PPG.index, y = PPG[\"PTS\"])\n",
    "bar_chart.show()"
   ]
  },
  {
   "cell_type": "markdown",
   "id": "7e944ec6-8267-4ca0-ad28-30754316a01e",
   "metadata": {},
   "source": [
    "I will create another barchart but now will have the NBA players that average a higher field goal percentage than 50%."
   ]
  },
  {
   "cell_type": "code",
   "execution_count": 96,
   "id": "a83eb361-df5d-4cc0-bc54-6f5c5d1a9b0f",
   "metadata": {},
   "outputs": [
    {
     "data": {
      "application/vnd.plotly.v1+json": {
       "config": {
        "plotlyServerURL": "https://plot.ly"
       },
       "data": [
        {
         "alignmentgroup": "True",
         "hovertemplate": "x=%{x}<br>y=%{y}<extra></extra>",
         "legendgroup": "",
         "marker": {
          "color": "#636efa",
          "pattern": {
           "shape": ""
          }
         },
         "name": "",
         "offsetgroup": "",
         "orientation": "v",
         "showlegend": false,
         "textposition": "auto",
         "type": "bar",
         "x": [
          "Alperen Şengün",
          "Anthony Davis",
          "Bam Adebayo",
          "Brandon Ingram",
          "Giannis Antetokounmpo",
          "Joel Embiid",
          "Karl-Anthony Towns",
          "Kawhi Leonard",
          "Kevin Durant",
          "LeBron James",
          "Nikola Jokić",
          "Pascal Siakam",
          "Shai Gilgeous-Alexander",
          "Tyrese Haliburton",
          "Zion Williamson"
         ],
         "xaxis": "x",
         "y": [
          0.544,
          0.551,
          0.506,
          0.501,
          0.606,
          0.54,
          0.509,
          0.522,
          0.525,
          0.535,
          0.559,
          0.518,
          0.546,
          0.501,
          0.582
         ],
         "yaxis": "y"
        }
       ],
       "layout": {
        "autosize": true,
        "barmode": "relative",
        "legend": {
         "tracegroupgap": 0
        },
        "margin": {
         "t": 60
        },
        "template": {
         "data": {
          "bar": [
           {
            "error_x": {
             "color": "#2a3f5f"
            },
            "error_y": {
             "color": "#2a3f5f"
            },
            "marker": {
             "line": {
              "color": "#E5ECF6",
              "width": 0.5
             },
             "pattern": {
              "fillmode": "overlay",
              "size": 10,
              "solidity": 0.2
             }
            },
            "type": "bar"
           }
          ],
          "barpolar": [
           {
            "marker": {
             "line": {
              "color": "#E5ECF6",
              "width": 0.5
             },
             "pattern": {
              "fillmode": "overlay",
              "size": 10,
              "solidity": 0.2
             }
            },
            "type": "barpolar"
           }
          ],
          "carpet": [
           {
            "aaxis": {
             "endlinecolor": "#2a3f5f",
             "gridcolor": "white",
             "linecolor": "white",
             "minorgridcolor": "white",
             "startlinecolor": "#2a3f5f"
            },
            "baxis": {
             "endlinecolor": "#2a3f5f",
             "gridcolor": "white",
             "linecolor": "white",
             "minorgridcolor": "white",
             "startlinecolor": "#2a3f5f"
            },
            "type": "carpet"
           }
          ],
          "choropleth": [
           {
            "colorbar": {
             "outlinewidth": 0,
             "ticks": ""
            },
            "type": "choropleth"
           }
          ],
          "contour": [
           {
            "colorbar": {
             "outlinewidth": 0,
             "ticks": ""
            },
            "colorscale": [
             [
              0,
              "#0d0887"
             ],
             [
              0.1111111111111111,
              "#46039f"
             ],
             [
              0.2222222222222222,
              "#7201a8"
             ],
             [
              0.3333333333333333,
              "#9c179e"
             ],
             [
              0.4444444444444444,
              "#bd3786"
             ],
             [
              0.5555555555555556,
              "#d8576b"
             ],
             [
              0.6666666666666666,
              "#ed7953"
             ],
             [
              0.7777777777777778,
              "#fb9f3a"
             ],
             [
              0.8888888888888888,
              "#fdca26"
             ],
             [
              1,
              "#f0f921"
             ]
            ],
            "type": "contour"
           }
          ],
          "contourcarpet": [
           {
            "colorbar": {
             "outlinewidth": 0,
             "ticks": ""
            },
            "type": "contourcarpet"
           }
          ],
          "heatmap": [
           {
            "colorbar": {
             "outlinewidth": 0,
             "ticks": ""
            },
            "colorscale": [
             [
              0,
              "#0d0887"
             ],
             [
              0.1111111111111111,
              "#46039f"
             ],
             [
              0.2222222222222222,
              "#7201a8"
             ],
             [
              0.3333333333333333,
              "#9c179e"
             ],
             [
              0.4444444444444444,
              "#bd3786"
             ],
             [
              0.5555555555555556,
              "#d8576b"
             ],
             [
              0.6666666666666666,
              "#ed7953"
             ],
             [
              0.7777777777777778,
              "#fb9f3a"
             ],
             [
              0.8888888888888888,
              "#fdca26"
             ],
             [
              1,
              "#f0f921"
             ]
            ],
            "type": "heatmap"
           }
          ],
          "heatmapgl": [
           {
            "colorbar": {
             "outlinewidth": 0,
             "ticks": ""
            },
            "colorscale": [
             [
              0,
              "#0d0887"
             ],
             [
              0.1111111111111111,
              "#46039f"
             ],
             [
              0.2222222222222222,
              "#7201a8"
             ],
             [
              0.3333333333333333,
              "#9c179e"
             ],
             [
              0.4444444444444444,
              "#bd3786"
             ],
             [
              0.5555555555555556,
              "#d8576b"
             ],
             [
              0.6666666666666666,
              "#ed7953"
             ],
             [
              0.7777777777777778,
              "#fb9f3a"
             ],
             [
              0.8888888888888888,
              "#fdca26"
             ],
             [
              1,
              "#f0f921"
             ]
            ],
            "type": "heatmapgl"
           }
          ],
          "histogram": [
           {
            "marker": {
             "pattern": {
              "fillmode": "overlay",
              "size": 10,
              "solidity": 0.2
             }
            },
            "type": "histogram"
           }
          ],
          "histogram2d": [
           {
            "colorbar": {
             "outlinewidth": 0,
             "ticks": ""
            },
            "colorscale": [
             [
              0,
              "#0d0887"
             ],
             [
              0.1111111111111111,
              "#46039f"
             ],
             [
              0.2222222222222222,
              "#7201a8"
             ],
             [
              0.3333333333333333,
              "#9c179e"
             ],
             [
              0.4444444444444444,
              "#bd3786"
             ],
             [
              0.5555555555555556,
              "#d8576b"
             ],
             [
              0.6666666666666666,
              "#ed7953"
             ],
             [
              0.7777777777777778,
              "#fb9f3a"
             ],
             [
              0.8888888888888888,
              "#fdca26"
             ],
             [
              1,
              "#f0f921"
             ]
            ],
            "type": "histogram2d"
           }
          ],
          "histogram2dcontour": [
           {
            "colorbar": {
             "outlinewidth": 0,
             "ticks": ""
            },
            "colorscale": [
             [
              0,
              "#0d0887"
             ],
             [
              0.1111111111111111,
              "#46039f"
             ],
             [
              0.2222222222222222,
              "#7201a8"
             ],
             [
              0.3333333333333333,
              "#9c179e"
             ],
             [
              0.4444444444444444,
              "#bd3786"
             ],
             [
              0.5555555555555556,
              "#d8576b"
             ],
             [
              0.6666666666666666,
              "#ed7953"
             ],
             [
              0.7777777777777778,
              "#fb9f3a"
             ],
             [
              0.8888888888888888,
              "#fdca26"
             ],
             [
              1,
              "#f0f921"
             ]
            ],
            "type": "histogram2dcontour"
           }
          ],
          "mesh3d": [
           {
            "colorbar": {
             "outlinewidth": 0,
             "ticks": ""
            },
            "type": "mesh3d"
           }
          ],
          "parcoords": [
           {
            "line": {
             "colorbar": {
              "outlinewidth": 0,
              "ticks": ""
             }
            },
            "type": "parcoords"
           }
          ],
          "pie": [
           {
            "automargin": true,
            "type": "pie"
           }
          ],
          "scatter": [
           {
            "fillpattern": {
             "fillmode": "overlay",
             "size": 10,
             "solidity": 0.2
            },
            "type": "scatter"
           }
          ],
          "scatter3d": [
           {
            "line": {
             "colorbar": {
              "outlinewidth": 0,
              "ticks": ""
             }
            },
            "marker": {
             "colorbar": {
              "outlinewidth": 0,
              "ticks": ""
             }
            },
            "type": "scatter3d"
           }
          ],
          "scattercarpet": [
           {
            "marker": {
             "colorbar": {
              "outlinewidth": 0,
              "ticks": ""
             }
            },
            "type": "scattercarpet"
           }
          ],
          "scattergeo": [
           {
            "marker": {
             "colorbar": {
              "outlinewidth": 0,
              "ticks": ""
             }
            },
            "type": "scattergeo"
           }
          ],
          "scattergl": [
           {
            "marker": {
             "colorbar": {
              "outlinewidth": 0,
              "ticks": ""
             }
            },
            "type": "scattergl"
           }
          ],
          "scattermapbox": [
           {
            "marker": {
             "colorbar": {
              "outlinewidth": 0,
              "ticks": ""
             }
            },
            "type": "scattermapbox"
           }
          ],
          "scatterpolar": [
           {
            "marker": {
             "colorbar": {
              "outlinewidth": 0,
              "ticks": ""
             }
            },
            "type": "scatterpolar"
           }
          ],
          "scatterpolargl": [
           {
            "marker": {
             "colorbar": {
              "outlinewidth": 0,
              "ticks": ""
             }
            },
            "type": "scatterpolargl"
           }
          ],
          "scatterternary": [
           {
            "marker": {
             "colorbar": {
              "outlinewidth": 0,
              "ticks": ""
             }
            },
            "type": "scatterternary"
           }
          ],
          "surface": [
           {
            "colorbar": {
             "outlinewidth": 0,
             "ticks": ""
            },
            "colorscale": [
             [
              0,
              "#0d0887"
             ],
             [
              0.1111111111111111,
              "#46039f"
             ],
             [
              0.2222222222222222,
              "#7201a8"
             ],
             [
              0.3333333333333333,
              "#9c179e"
             ],
             [
              0.4444444444444444,
              "#bd3786"
             ],
             [
              0.5555555555555556,
              "#d8576b"
             ],
             [
              0.6666666666666666,
              "#ed7953"
             ],
             [
              0.7777777777777778,
              "#fb9f3a"
             ],
             [
              0.8888888888888888,
              "#fdca26"
             ],
             [
              1,
              "#f0f921"
             ]
            ],
            "type": "surface"
           }
          ],
          "table": [
           {
            "cells": {
             "fill": {
              "color": "#EBF0F8"
             },
             "line": {
              "color": "white"
             }
            },
            "header": {
             "fill": {
              "color": "#C8D4E3"
             },
             "line": {
              "color": "white"
             }
            },
            "type": "table"
           }
          ]
         },
         "layout": {
          "annotationdefaults": {
           "arrowcolor": "#2a3f5f",
           "arrowhead": 0,
           "arrowwidth": 1
          },
          "autotypenumbers": "strict",
          "coloraxis": {
           "colorbar": {
            "outlinewidth": 0,
            "ticks": ""
           }
          },
          "colorscale": {
           "diverging": [
            [
             0,
             "#8e0152"
            ],
            [
             0.1,
             "#c51b7d"
            ],
            [
             0.2,
             "#de77ae"
            ],
            [
             0.3,
             "#f1b6da"
            ],
            [
             0.4,
             "#fde0ef"
            ],
            [
             0.5,
             "#f7f7f7"
            ],
            [
             0.6,
             "#e6f5d0"
            ],
            [
             0.7,
             "#b8e186"
            ],
            [
             0.8,
             "#7fbc41"
            ],
            [
             0.9,
             "#4d9221"
            ],
            [
             1,
             "#276419"
            ]
           ],
           "sequential": [
            [
             0,
             "#0d0887"
            ],
            [
             0.1111111111111111,
             "#46039f"
            ],
            [
             0.2222222222222222,
             "#7201a8"
            ],
            [
             0.3333333333333333,
             "#9c179e"
            ],
            [
             0.4444444444444444,
             "#bd3786"
            ],
            [
             0.5555555555555556,
             "#d8576b"
            ],
            [
             0.6666666666666666,
             "#ed7953"
            ],
            [
             0.7777777777777778,
             "#fb9f3a"
            ],
            [
             0.8888888888888888,
             "#fdca26"
            ],
            [
             1,
             "#f0f921"
            ]
           ],
           "sequentialminus": [
            [
             0,
             "#0d0887"
            ],
            [
             0.1111111111111111,
             "#46039f"
            ],
            [
             0.2222222222222222,
             "#7201a8"
            ],
            [
             0.3333333333333333,
             "#9c179e"
            ],
            [
             0.4444444444444444,
             "#bd3786"
            ],
            [
             0.5555555555555556,
             "#d8576b"
            ],
            [
             0.6666666666666666,
             "#ed7953"
            ],
            [
             0.7777777777777778,
             "#fb9f3a"
            ],
            [
             0.8888888888888888,
             "#fdca26"
            ],
            [
             1,
             "#f0f921"
            ]
           ]
          },
          "colorway": [
           "#636efa",
           "#EF553B",
           "#00cc96",
           "#ab63fa",
           "#FFA15A",
           "#19d3f3",
           "#FF6692",
           "#B6E880",
           "#FF97FF",
           "#FECB52"
          ],
          "font": {
           "color": "#2a3f5f"
          },
          "geo": {
           "bgcolor": "white",
           "lakecolor": "white",
           "landcolor": "#E5ECF6",
           "showlakes": true,
           "showland": true,
           "subunitcolor": "white"
          },
          "hoverlabel": {
           "align": "left"
          },
          "hovermode": "closest",
          "mapbox": {
           "style": "light"
          },
          "paper_bgcolor": "white",
          "plot_bgcolor": "#E5ECF6",
          "polar": {
           "angularaxis": {
            "gridcolor": "white",
            "linecolor": "white",
            "ticks": ""
           },
           "bgcolor": "#E5ECF6",
           "radialaxis": {
            "gridcolor": "white",
            "linecolor": "white",
            "ticks": ""
           }
          },
          "scene": {
           "xaxis": {
            "backgroundcolor": "#E5ECF6",
            "gridcolor": "white",
            "gridwidth": 2,
            "linecolor": "white",
            "showbackground": true,
            "ticks": "",
            "zerolinecolor": "white"
           },
           "yaxis": {
            "backgroundcolor": "#E5ECF6",
            "gridcolor": "white",
            "gridwidth": 2,
            "linecolor": "white",
            "showbackground": true,
            "ticks": "",
            "zerolinecolor": "white"
           },
           "zaxis": {
            "backgroundcolor": "#E5ECF6",
            "gridcolor": "white",
            "gridwidth": 2,
            "linecolor": "white",
            "showbackground": true,
            "ticks": "",
            "zerolinecolor": "white"
           }
          },
          "shapedefaults": {
           "line": {
            "color": "#2a3f5f"
           }
          },
          "ternary": {
           "aaxis": {
            "gridcolor": "white",
            "linecolor": "white",
            "ticks": ""
           },
           "baxis": {
            "gridcolor": "white",
            "linecolor": "white",
            "ticks": ""
           },
           "bgcolor": "#E5ECF6",
           "caxis": {
            "gridcolor": "white",
            "linecolor": "white",
            "ticks": ""
           }
          },
          "title": {
           "x": 0.05
          },
          "xaxis": {
           "automargin": true,
           "gridcolor": "white",
           "linecolor": "white",
           "ticks": "",
           "title": {
            "standoff": 15
           },
           "zerolinecolor": "white",
           "zerolinewidth": 2
          },
          "yaxis": {
           "automargin": true,
           "gridcolor": "white",
           "linecolor": "white",
           "ticks": "",
           "title": {
            "standoff": 15
           },
           "zerolinecolor": "white",
           "zerolinewidth": 2
          }
         }
        },
        "xaxis": {
         "anchor": "y",
         "autorange": true,
         "domain": [
          0,
          1
         ],
         "range": [
          -0.5,
          14.5
         ],
         "title": {
          "text": "x"
         },
         "type": "category"
        },
        "yaxis": {
         "anchor": "x",
         "autorange": true,
         "domain": [
          0,
          1
         ],
         "range": [
          0,
          0.6378947368421053
         ],
         "title": {
          "text": "y"
         },
         "type": "linear"
        }
       }
      },
      "image/png": "[encoded data removed]",
      "text/html": [
       "<div>                            <div id=\"67c95dd3-c534-49a0-bd5e-59c1659f05ff\" class=\"plotly-graph-div\" style=\"height:525px; width:100%;\"></div>            <script type=\"text/javascript\">                require([\"plotly\"], function(Plotly) {                    window.PLOTLYENV=window.PLOTLYENV || {};                                    if (document.getElementById(\"67c95dd3-c534-49a0-bd5e-59c1659f05ff\")) {                    Plotly.newPlot(                        \"67c95dd3-c534-49a0-bd5e-59c1659f05ff\",                        [{\"alignmentgroup\":\"True\",\"hovertemplate\":\"x=%{x}<br>y=%{y}<extra></extra>\",\"legendgroup\":\"\",\"marker\":{\"color\":\"#636efa\",\"pattern\":{\"shape\":\"\"}},\"name\":\"\",\"offsetgroup\":\"\",\"orientation\":\"v\",\"showlegend\":false,\"textposition\":\"auto\",\"x\":[\"Alperen \\u015eeng\\u00fcn\",\"Anthony Davis\",\"Bam Adebayo\",\"Brandon Ingram\",\"Giannis Antetokounmpo\",\"Joel Embiid\",\"Karl-Anthony Towns\",\"Kawhi Leonard\",\"Kevin Durant\",\"LeBron James\",\"Nikola Joki\\u0107\",\"Pascal Siakam\",\"Shai Gilgeous-Alexander\",\"Tyrese Haliburton\",\"Zion Williamson\"],\"xaxis\":\"x\",\"y\":[0.544,0.551,0.506,0.501,0.606,0.54,0.509,0.522,0.525,0.535,0.559,0.518,0.546,0.501,0.582],\"yaxis\":\"y\",\"type\":\"bar\"}],                        {\"template\":{\"data\":{\"histogram2dcontour\":[{\"type\":\"histogram2dcontour\",\"colorbar\":{\"outlinewidth\":0,\"ticks\":\"\"},\"colorscale\":[[0.0,\"#0d0887\"],[0.1111111111111111,\"#46039f\"],[0.2222222222222222,\"#7201a8\"],[0.3333333333333333,\"#9c179e\"],[0.4444444444444444,\"#bd3786\"],[0.5555555555555556,\"#d8576b\"],[0.6666666666666666,\"#ed7953\"],[0.7777777777777778,\"#fb9f3a\"],[0.8888888888888888,\"#fdca26\"],[1.0,\"#f0f921\"]]}],\"choropleth\":[{\"type\":\"choropleth\",\"colorbar\":{\"outlinewidth\":0,\"ticks\":\"\"}}],\"histogram2d\":[{\"type\":\"histogram2d\",\"colorbar\":{\"outlinewidth\":0,\"ticks\":\"\"},\"colorscale\":[[0.0,\"#0d0887\"],[0.1111111111111111,\"#46039f\"],[0.2222222222222222,\"#7201a8\"],[0.3333333333333333,\"#9c179e\"],[0.4444444444444444,\"#bd3786\"],[0.5555555555555556,\"#d8576b\"],[0.6666666666666666,\"#ed7953\"],[0.7777777777777778,\"#fb9f3a\"],[0.8888888888888888,\"#fdca26\"],[1.0,\"#f0f921\"]]}],\"heatmap\":[{\"type\":\"heatmap\",\"colorbar\":{\"outlinewidth\":0,\"ticks\":\"\"},\"colorscale\":[[0.0,\"#0d0887\"],[0.1111111111111111,\"#46039f\"],[0.2222222222222222,\"#7201a8\"],[0.3333333333333333,\"#9c179e\"],[0.4444444444444444,\"#bd3786\"],[0.5555555555555556,\"#d8576b\"],[0.6666666666666666,\"#ed7953\"],[0.7777777777777778,\"#fb9f3a\"],[0.8888888888888888,\"#fdca26\"],[1.0,\"#f0f921\"]]}],\"heatmapgl\":[{\"type\":\"heatmapgl\",\"colorbar\":{\"outlinewidth\":0,\"ticks\":\"\"},\"colorscale\":[[0.0,\"#0d0887\"],[0.1111111111111111,\"#46039f\"],[0.2222222222222222,\"#7201a8\"],[0.3333333333333333,\"#9c179e\"],[0.4444444444444444,\"#bd3786\"],[0.5555555555555556,\"#d8576b\"],[0.6666666666666666,\"#ed7953\"],[0.7777777777777778,\"#fb9f3a\"],[0.8888888888888888,\"#fdca26\"],[1.0,\"#f0f921\"]]}],\"contourcarpet\":[{\"type\":\"contourcarpet\",\"colorbar\":{\"outlinewidth\":0,\"ticks\":\"\"}}],\"contour\":[{\"type\":\"contour\",\"colorbar\":{\"outlinewidth\":0,\"ticks\":\"\"},\"colorscale\":[[0.0,\"#0d0887\"],[0.1111111111111111,\"#46039f\"],[0.2222222222222222,\"#7201a8\"],[0.3333333333333333,\"#9c179e\"],[0.4444444444444444,\"#bd3786\"],[0.5555555555555556,\"#d8576b\"],[0.6666666666666666,\"#ed7953\"],[0.7777777777777778,\"#fb9f3a\"],[0.8888888888888888,\"#fdca26\"],[1.0,\"#f0f921\"]]}],\"surface\":[{\"type\":\"surface\",\"colorbar\":{\"outlinewidth\":0,\"ticks\":\"\"},\"colorscale\":[[0.0,\"#0d0887\"],[0.1111111111111111,\"#46039f\"],[0.2222222222222222,\"#7201a8\"],[0.3333333333333333,\"#9c179e\"],[0.4444444444444444,\"#bd3786\"],[0.5555555555555556,\"#d8576b\"],[0.6666666666666666,\"#ed7953\"],[0.7777777777777778,\"#fb9f3a\"],[0.8888888888888888,\"#fdca26\"],[1.0,\"#f0f921\"]]}],\"mesh3d\":[{\"type\":\"mesh3d\",\"colorbar\":{\"outlinewidth\":0,\"ticks\":\"\"}}],\"scatter\":[{\"fillpattern\":{\"fillmode\":\"overlay\",\"size\":10,\"solidity\":0.2},\"type\":\"scatter\"}],\"parcoords\":[{\"type\":\"parcoords\",\"line\":{\"colorbar\":{\"outlinewidth\":0,\"ticks\":\"\"}}}],\"scatterpolargl\":[{\"type\":\"scatterpolargl\",\"marker\":{\"colorbar\":{\"outlinewidth\":0,\"ticks\":\"\"}}}],\"bar\":[{\"error_x\":{\"color\":\"#2a3f5f\"},\"error_y\":{\"color\":\"#2a3f5f\"},\"marker\":{\"line\":{\"color\":\"#E5ECF6\",\"width\":0.5},\"pattern\":{\"fillmode\":\"overlay\",\"size\":10,\"solidity\":0.2}},\"type\":\"bar\"}],\"scattergeo\":[{\"type\":\"scattergeo\",\"marker\":{\"colorbar\":{\"outlinewidth\":0,\"ticks\":\"\"}}}],\"scatterpolar\":[{\"type\":\"scatterpolar\",\"marker\":{\"colorbar\":{\"outlinewidth\":0,\"ticks\":\"\"}}}],\"histogram\":[{\"marker\":{\"pattern\":{\"fillmode\":\"overlay\",\"size\":10,\"solidity\":0.2}},\"type\":\"histogram\"}],\"scattergl\":[{\"type\":\"scattergl\",\"marker\":{\"colorbar\":{\"outlinewidth\":0,\"ticks\":\"\"}}}],\"scatter3d\":[{\"type\":\"scatter3d\",\"line\":{\"colorbar\":{\"outlinewidth\":0,\"ticks\":\"\"}},\"marker\":{\"colorbar\":{\"outlinewidth\":0,\"ticks\":\"\"}}}],\"scattermapbox\":[{\"type\":\"scattermapbox\",\"marker\":{\"colorbar\":{\"outlinewidth\":0,\"ticks\":\"\"}}}],\"scatterternary\":[{\"type\":\"scatterternary\",\"marker\":{\"colorbar\":{\"outlinewidth\":0,\"ticks\":\"\"}}}],\"scattercarpet\":[{\"type\":\"scattercarpet\",\"marker\":{\"colorbar\":{\"outlinewidth\":0,\"ticks\":\"\"}}}],\"carpet\":[{\"aaxis\":{\"endlinecolor\":\"#2a3f5f\",\"gridcolor\":\"white\",\"linecolor\":\"white\",\"minorgridcolor\":\"white\",\"startlinecolor\":\"#2a3f5f\"},\"baxis\":{\"endlinecolor\":\"#2a3f5f\",\"gridcolor\":\"white\",\"linecolor\":\"white\",\"minorgridcolor\":\"white\",\"startlinecolor\":\"#2a3f5f\"},\"type\":\"carpet\"}],\"table\":[{\"cells\":{\"fill\":{\"color\":\"#EBF0F8\"},\"line\":{\"color\":\"white\"}},\"header\":{\"fill\":{\"color\":\"#C8D4E3\"},\"line\":{\"color\":\"white\"}},\"type\":\"table\"}],\"barpolar\":[{\"marker\":{\"line\":{\"color\":\"#E5ECF6\",\"width\":0.5},\"pattern\":{\"fillmode\":\"overlay\",\"size\":10,\"solidity\":0.2}},\"type\":\"barpolar\"}],\"pie\":[{\"automargin\":true,\"type\":\"pie\"}]},\"layout\":{\"autotypenumbers\":\"strict\",\"colorway\":[\"#636efa\",\"#EF553B\",\"#00cc96\",\"#ab63fa\",\"#FFA15A\",\"#19d3f3\",\"#FF6692\",\"#B6E880\",\"#FF97FF\",\"#FECB52\"],\"font\":{\"color\":\"#2a3f5f\"},\"hovermode\":\"closest\",\"hoverlabel\":{\"align\":\"left\"},\"paper_bgcolor\":\"white\",\"plot_bgcolor\":\"#E5ECF6\",\"polar\":{\"bgcolor\":\"#E5ECF6\",\"angularaxis\":{\"gridcolor\":\"white\",\"linecolor\":\"white\",\"ticks\":\"\"},\"radialaxis\":{\"gridcolor\":\"white\",\"linecolor\":\"white\",\"ticks\":\"\"}},\"ternary\":{\"bgcolor\":\"#E5ECF6\",\"aaxis\":{\"gridcolor\":\"white\",\"linecolor\":\"white\",\"ticks\":\"\"},\"baxis\":{\"gridcolor\":\"white\",\"linecolor\":\"white\",\"ticks\":\"\"},\"caxis\":{\"gridcolor\":\"white\",\"linecolor\":\"white\",\"ticks\":\"\"}},\"coloraxis\":{\"colorbar\":{\"outlinewidth\":0,\"ticks\":\"\"}},\"colorscale\":{\"sequential\":[[0.0,\"#0d0887\"],[0.1111111111111111,\"#46039f\"],[0.2222222222222222,\"#7201a8\"],[0.3333333333333333,\"#9c179e\"],[0.4444444444444444,\"#bd3786\"],[0.5555555555555556,\"#d8576b\"],[0.6666666666666666,\"#ed7953\"],[0.7777777777777778,\"#fb9f3a\"],[0.8888888888888888,\"#fdca26\"],[1.0,\"#f0f921\"]],\"sequentialminus\":[[0.0,\"#0d0887\"],[0.1111111111111111,\"#46039f\"],[0.2222222222222222,\"#7201a8\"],[0.3333333333333333,\"#9c179e\"],[0.4444444444444444,\"#bd3786\"],[0.5555555555555556,\"#d8576b\"],[0.6666666666666666,\"#ed7953\"],[0.7777777777777778,\"#fb9f3a\"],[0.8888888888888888,\"#fdca26\"],[1.0,\"#f0f921\"]],\"diverging\":[[0,\"#8e0152\"],[0.1,\"#c51b7d\"],[0.2,\"#de77ae\"],[0.3,\"#f1b6da\"],[0.4,\"#fde0ef\"],[0.5,\"#f7f7f7\"],[0.6,\"#e6f5d0\"],[0.7,\"#b8e186\"],[0.8,\"#7fbc41\"],[0.9,\"#4d9221\"],[1,\"#276419\"]]},\"xaxis\":{\"gridcolor\":\"white\",\"linecolor\":\"white\",\"ticks\":\"\",\"title\":{\"standoff\":15},\"zerolinecolor\":\"white\",\"automargin\":true,\"zerolinewidth\":2},\"yaxis\":{\"gridcolor\":\"white\",\"linecolor\":\"white\",\"ticks\":\"\",\"title\":{\"standoff\":15},\"zerolinecolor\":\"white\",\"automargin\":true,\"zerolinewidth\":2},\"scene\":{\"xaxis\":{\"backgroundcolor\":\"#E5ECF6\",\"gridcolor\":\"white\",\"linecolor\":\"white\",\"showbackground\":true,\"ticks\":\"\",\"zerolinecolor\":\"white\",\"gridwidth\":2},\"yaxis\":{\"backgroundcolor\":\"#E5ECF6\",\"gridcolor\":\"white\",\"linecolor\":\"white\",\"showbackground\":true,\"ticks\":\"\",\"zerolinecolor\":\"white\",\"gridwidth\":2},\"zaxis\":{\"backgroundcolor\":\"#E5ECF6\",\"gridcolor\":\"white\",\"linecolor\":\"white\",\"showbackground\":true,\"ticks\":\"\",\"zerolinecolor\":\"white\",\"gridwidth\":2}},\"shapedefaults\":{\"line\":{\"color\":\"#2a3f5f\"}},\"annotationdefaults\":{\"arrowcolor\":\"#2a3f5f\",\"arrowhead\":0,\"arrowwidth\":1},\"geo\":{\"bgcolor\":\"white\",\"landcolor\":\"#E5ECF6\",\"subunitcolor\":\"white\",\"showland\":true,\"showlakes\":true,\"lakecolor\":\"white\"},\"title\":{\"x\":0.05},\"mapbox\":{\"style\":\"light\"}}},\"xaxis\":{\"anchor\":\"y\",\"domain\":[0.0,1.0],\"title\":{\"text\":\"x\"}},\"yaxis\":{\"anchor\":\"x\",\"domain\":[0.0,1.0],\"title\":{\"text\":\"y\"}},\"legend\":{\"tracegroupgap\":0},\"margin\":{\"t\":60},\"barmode\":\"relative\"},                        {\"responsive\": true}                    ).then(function(){\n",
       "                            \n",
       "var gd = document.getElementById('67c95dd3-c534-49a0-bd5e-59c1659f05ff');\n",
       "var x = new MutationObserver(function (mutations, observer) {{\n",
       "        var display = window.getComputedStyle(gd).display;\n",
       "        if (!display || display === 'none') {{\n",
       "            console.log([gd, 'removed!']);\n",
       "            Plotly.purge(gd);\n",
       "            observer.disconnect();\n",
       "        }}\n",
       "}});\n",
       "\n",
       "// Listen for the removal of the full notebook cells\n",
       "var notebookContainer = gd.closest('#notebook-container');\n",
       "if (notebookContainer) {{\n",
       "    x.observe(notebookContainer, {childList: true});\n",
       "}}\n",
       "\n",
       "// Listen for the clearing of the current output cell\n",
       "var outputEl = gd.closest('.output');\n",
       "if (outputEl) {{\n",
       "    x.observe(outputEl, {childList: true});\n",
       "}}\n",
       "\n",
       "                        })                };                });            </script>        </div>"
      ]
     },
     "metadata": {},
     "output_type": "display_data"
    }
   ],
   "source": [
    "df_FG = df[df['FG%'] > 0.500]\n",
    "FG = pd.DataFrame(df_FG.groupby('Player')['FG%'].mean())\n",
    "bar_chart = px.bar(df_FG, x = FG.index, y = FG[\"FG%\"])\n",
    "bar_chart.show()"
   ]
  },
  {
   "cell_type": "markdown",
   "id": "d8416246-6b9c-44db-9b5f-93d57c503f5b",
   "metadata": {},
   "source": [
    "When looking at both of the bar charts, you can see some overlap in both charts with the same players such as Anthony Davis, Giannis Antetokounmpo, Joel Embiid, Kevin Durant, LeBron James, Nikola Jokić, and Shai Gilgeous-Alexander. These are the best scorers in the NBA who are the most efficient when shooting the ball."
   ]
  },
  {
   "cell_type": "markdown",
   "id": "bbde3579-fcd7-47f5-ba81-840bf86a32f0",
   "metadata": {},
   "source": [
    "## Correlation between the Five Main Stats and FG% and MP"
   ]
  },
  {
   "cell_type": "code",
   "execution_count": 97,
   "id": "a3195cc6-75f3-428e-91f9-cde35d0fceee",
   "metadata": {},
   "outputs": [
    {
     "data": {
      "text/html": [
       "<div>\n",
       "<style scoped>\n",
       "    .dataframe tbody tr th:only-of-type {\n",
       "        vertical-align: middle;\n",
       "    }\n",
       "\n",
       "    .dataframe tbody tr th {\n",
       "        vertical-align: top;\n",
       "    }\n",
       "\n",
       "    .dataframe thead th {\n",
       "        text-align: right;\n",
       "    }\n",
       "</style>\n",
       "<table border=\"1\" class=\"dataframe\">\n",
       "  <thead>\n",
       "    <tr style=\"text-align: right;\">\n",
       "      <th></th>\n",
       "      <th>PTS</th>\n",
       "      <th>TRB</th>\n",
       "      <th>AST</th>\n",
       "      <th>STL</th>\n",
       "      <th>BLK</th>\n",
       "      <th>FG%</th>\n",
       "      <th>MP</th>\n",
       "    </tr>\n",
       "  </thead>\n",
       "  <tbody>\n",
       "    <tr>\n",
       "      <th>PTS</th>\n",
       "      <td>1.000000</td>\n",
       "      <td>0.273783</td>\n",
       "      <td>0.112722</td>\n",
       "      <td>0.407189</td>\n",
       "      <td>0.252402</td>\n",
       "      <td>0.346648</td>\n",
       "      <td>0.042197</td>\n",
       "    </tr>\n",
       "    <tr>\n",
       "      <th>TRB</th>\n",
       "      <td>0.273783</td>\n",
       "      <td>1.000000</td>\n",
       "      <td>-0.151427</td>\n",
       "      <td>0.070361</td>\n",
       "      <td>0.797259</td>\n",
       "      <td>0.810272</td>\n",
       "      <td>-0.254707</td>\n",
       "    </tr>\n",
       "    <tr>\n",
       "      <th>AST</th>\n",
       "      <td>0.112722</td>\n",
       "      <td>-0.151427</td>\n",
       "      <td>1.000000</td>\n",
       "      <td>0.057256</td>\n",
       "      <td>-0.361143</td>\n",
       "      <td>-0.144822</td>\n",
       "      <td>0.150785</td>\n",
       "    </tr>\n",
       "    <tr>\n",
       "      <th>STL</th>\n",
       "      <td>0.407189</td>\n",
       "      <td>0.070361</td>\n",
       "      <td>0.057256</td>\n",
       "      <td>1.000000</td>\n",
       "      <td>0.071895</td>\n",
       "      <td>0.288845</td>\n",
       "      <td>-0.037373</td>\n",
       "    </tr>\n",
       "    <tr>\n",
       "      <th>BLK</th>\n",
       "      <td>0.252402</td>\n",
       "      <td>0.797259</td>\n",
       "      <td>-0.361143</td>\n",
       "      <td>0.071895</td>\n",
       "      <td>1.000000</td>\n",
       "      <td>0.697845</td>\n",
       "      <td>-0.133159</td>\n",
       "    </tr>\n",
       "    <tr>\n",
       "      <th>FG%</th>\n",
       "      <td>0.346648</td>\n",
       "      <td>0.810272</td>\n",
       "      <td>-0.144822</td>\n",
       "      <td>0.288845</td>\n",
       "      <td>0.697845</td>\n",
       "      <td>1.000000</td>\n",
       "      <td>-0.328815</td>\n",
       "    </tr>\n",
       "    <tr>\n",
       "      <th>MP</th>\n",
       "      <td>0.042197</td>\n",
       "      <td>-0.254707</td>\n",
       "      <td>0.150785</td>\n",
       "      <td>-0.037373</td>\n",
       "      <td>-0.133159</td>\n",
       "      <td>-0.328815</td>\n",
       "      <td>1.000000</td>\n",
       "    </tr>\n",
       "  </tbody>\n",
       "</table>\n",
       "</div>"
      ],
      "text/plain": [
       "          PTS       TRB       AST       STL       BLK       FG%        MP\n",
       "PTS  1.000000  0.273783  0.112722  0.407189  0.252402  0.346648  0.042197\n",
       "TRB  0.273783  1.000000 -0.151427  0.070361  0.797259  0.810272 -0.254707\n",
       "AST  0.112722 -0.151427  1.000000  0.057256 -0.361143 -0.144822  0.150785\n",
       "STL  0.407189  0.070361  0.057256  1.000000  0.071895  0.288845 -0.037373\n",
       "BLK  0.252402  0.797259 -0.361143  0.071895  1.000000  0.697845 -0.133159\n",
       "FG%  0.346648  0.810272 -0.144822  0.288845  0.697845  1.000000 -0.328815\n",
       "MP   0.042197 -0.254707  0.150785 -0.037373 -0.133159 -0.328815  1.000000"
      ]
     },
     "execution_count": 97,
     "metadata": {},
     "output_type": "execute_result"
    }
   ],
   "source": [
    "corr_df = df_PPG[['PTS', 'TRB', 'AST', 'STL', 'BLK', 'FG%', 'MP' ]]\n",
    "corr_df.corr()"
   ]
  },
  {
   "cell_type": "markdown",
   "id": "f998427c-ac1e-47dc-aa8d-74693f4af1be",
   "metadata": {},
   "source": [
    "For this correlation matrix, I used the NBA players that score more than 25 points per game. From the correlation matrix you can see that there is a somewhat large correlation shared between assist and blocks. This means that the higher assist the less likely you are to have higher blocks and vice versa. This most likely stems from Centers being the ones who get the most blocks, but they also tend to get fewer assist. There is a very high positive correlation between blocks and total rebounds as well as field goal percentage and total rebounds. This is also most likely due to Center and Power Forwards since they tend to be closer to the basket (higher field goal percentage) and taller players (higher rebounds and blocks)."
   ]
  },
  {
   "cell_type": "markdown",
   "id": "73f012e4-4f35-4640-ba2f-9ab7d36d8040",
   "metadata": {},
   "source": [
    "# Centers and Outliers"
   ]
  },
  {
   "cell_type": "markdown",
   "id": "f7f6de99-bc1a-4985-b85d-d01f42cba57c",
   "metadata": {},
   "source": [
    "In the NBA the Center is usually the player that has the most rebounds per game, blocks, and can score a bit but not much else. We will now see of there are Centers that completely break that idea."
   ]
  },
  {
   "cell_type": "markdown",
   "id": "3d7947da-20fa-4608-b96d-028d5255b6f7",
   "metadata": {},
   "source": [
    "## kNN Regression"
   ]
  },
  {
   "cell_type": "code",
   "execution_count": 98,
   "id": "c2bbde86-d5cb-4554-953a-576ebcff8a15",
   "metadata": {},
   "outputs": [
    {
     "data": {
      "image/png": "[encoded data removed]",
      "text/plain": [
       "<Figure size 640x480 with 1 Axes>"
      ]
     },
     "metadata": {},
     "output_type": "display_data"
    }
   ],
   "source": [
    "df = pd.read_csv(\"NBA_2024_per_game(03-01-2024).csv\")\n",
    "df = df.dropna()\n",
    "df_center = df[df['Pos'] == 'C']\n",
    "X = df_center['TRB'].values.reshape(-1,1)\n",
    "y = df_center['AST'].values\n",
    "knn = KNeighborsRegressor(n_neighbors=12)\n",
    "knn.fit(X, y)\n",
    "X_test = np.arange(0,15,0.5).reshape(-1,1)\n",
    "y_pred = knn.predict(X_test)\n",
    "plt.scatter(X, y, color='darkorange', label='data')\n",
    "plt.plot(X_test, y_pred, color='navy', label='KNN regression')\n",
    "plt.xlabel('Rebounds per game')\n",
    "plt.ylabel('Assist per game')\n",
    "plt.title('KNN Regression Plot')\n",
    "plt.legend()\n",
    "plt.show()"
   ]
  },
  {
   "cell_type": "markdown",
   "id": "de6eea82-f45a-4658-9749-dbb763864abf",
   "metadata": {},
   "source": [
    "Using the k-nearest-neighbors regression plot, you can see that there is a trend for a majority of the Centers in the NBA, but there are also quite a few outliers. I chose the y-axis to be assist per game since Centers are not known for their assists, but there are quite a few centers who had more than 5 assist per game. The biggest outliers are players such as Nikola Jokić, Domantis Sabonis, and Joel Embiid. The k-nearest-neighbors regression plot can predict the trend of rebounds per game to assist per game, but the three aforementioned Centers are outliers and elite passers at their position."
   ]
  }
 ],
 "metadata": {
  "kernelspec": {
   "display_name": "Python 3 (ipykernel)",
   "language": "python",
   "name": "python3"
  },
  "language_info": {
   "codemirror_mode": {
    "name": "ipython",
    "version": 3
   },
   "file_extension": ".py",
   "mimetype": "text/x-python",
   "name": "python",
   "nbconvert_exporter": "python",
   "pygments_lexer": "ipython3",
   "version": "3.11.7"
  }
 },
 "nbformat": 4,
 "nbformat_minor": 5
}
