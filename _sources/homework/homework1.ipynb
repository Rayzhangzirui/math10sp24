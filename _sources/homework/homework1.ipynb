{
 "cells": [
  {
   "cell_type": "markdown",
   "id": "37691194",
   "metadata": {},
   "source": [
    "# Homework 1 (Due 4/12 11:59 PM)\n",
    "\n",
    "## Name:\n",
    "\n",
    "## ID:\n",
    "\n",
    "## Instructions\n",
    "Run everything (select cell in the menu, and click Run all), export as pdf, and submit the pdf to gradescope. \n",
    "\n",
    "To export as pdf, you can use the following methods: (1) File -> download as -> pdf (2) print as pdf from browser."
   ]
  },
  {
   "cell_type": "markdown",
   "id": "a876e123",
   "metadata": {},
   "source": [
    "**Q1** Fibonacci sequence\n",
    "\n",
    "\n",
    "**Q1 (1)**. Create a markdown cell below, write down the recurrence relation for the [Fibonacci sequence](https://en.wikipedia.org/wiki/Fibonacci_sequence)"
   ]
  },
  {
   "cell_type": "markdown",
   "id": "698f7dc6",
   "metadata": {},
   "source": [
    "Answer here"
   ]
  },
  {
   "cell_type": "markdown",
   "id": "0ea79884",
   "metadata": {},
   "source": [
    "**Q1 (2)** Write a function, ``myfibo(n)``, using a loop, that returns the n-th Fibonacci number."
   ]
  },
  {
   "cell_type": "code",
   "execution_count": null,
   "id": "36673627",
   "metadata": {},
   "outputs": [],
   "source": [
    "# code here"
   ]
  },
  {
   "cell_type": "markdown",
   "id": "b57bfd24",
   "metadata": {},
   "source": [
    "**Q1 (3)** Write a function, ``myfibo_rec(n)``, using recursion, that returns the n-th Fibonacci number."
   ]
  },
  {
   "cell_type": "code",
   "execution_count": 1,
   "id": "d3c22bf3",
   "metadata": {},
   "outputs": [],
   "source": [
    "# code here"
   ]
  },
  {
   "cell_type": "markdown",
   "id": "ff54ec81",
   "metadata": {},
   "source": [
    "**Q1 (4)** Compare the time it takes to run ``myfibo(20)`` and ``myfibo_rec(20)``. Which one is faster? Why?"
   ]
  },
  {
   "cell_type": "code",
   "execution_count": 9,
   "id": "6d8d594b",
   "metadata": {},
   "outputs": [
    {
     "ename": "NameError",
     "evalue": "name 'myfibo' is not defined",
     "output_type": "error",
     "traceback": [
      "\u001b[0;31m---------------------------------------------------------------------------\u001b[0m",
      "\u001b[0;31mNameError\u001b[0m                                 Traceback (most recent call last)",
      "Cell \u001b[0;32mIn[9], line 2\u001b[0m\n\u001b[1;32m      1\u001b[0m get_ipython()\u001b[38;5;241m.\u001b[39mrun_line_magic(\u001b[38;5;124m'\u001b[39m\u001b[38;5;124mtimeit\u001b[39m\u001b[38;5;124m'\u001b[39m, \u001b[38;5;124m'\u001b[39m\u001b[38;5;124m'\u001b[39m)\n\u001b[0;32m----> 2\u001b[0m \u001b[43mmyfibo\u001b[49m(\u001b[38;5;241m20\u001b[39m)\n",
      "\u001b[0;31mNameError\u001b[0m: name 'myfibo' is not defined"
     ]
    }
   ],
   "source": [
    "# run the following code to check the time, %timeit will run the code multiple times and give you the average time it took to run the code\n",
    "# %timeit \n",
    "# myfibo(20)"
   ]
  },
  {
   "cell_type": "code",
   "execution_count": null,
   "id": "8e01fb19",
   "metadata": {},
   "outputs": [],
   "source": [
    "# run the following code to check the time\n",
    "# %timeit \n",
    "# myfibo_rec(20)"
   ]
  },
  {
   "cell_type": "code",
   "execution_count": null,
   "id": "dab74d20",
   "metadata": {},
   "outputs": [],
   "source": [
    "# code here"
   ]
  },
  {
   "cell_type": "markdown",
   "id": "7b065388",
   "metadata": {},
   "source": [
    "Answer here"
   ]
  },
  {
   "cell_type": "markdown",
   "id": "cafa8882",
   "metadata": {},
   "source": [
    "**Q2** \n",
    "\n",
    "Define a function ``mycumsum(x)``, which take a list of numbers ``x``, and modify ``x``, so that the modified list is the list of cumulative sum of the original list: \n",
    "\n",
    "If the original list is [$x_0$, $x_1$, $x_2$, ...], then the modified list is [$x_0$, $x_0+x_1$, $x_0+x_1+x_2$, ...].\n",
    "\n",
    "Your function should only use a single for-loop.\n",
    "\n",
    "For example \n",
    "\n",
    "```\n",
    "x = [1,1,1]\n",
    "\n",
    "mycumsum(x)\n",
    "\n",
    "print(x)\n",
    "```\n",
    "\n",
    "produce ``[1,2,3]``"
   ]
  },
  {
   "cell_type": "code",
   "execution_count": 3,
   "id": "4052df73",
   "metadata": {},
   "outputs": [],
   "source": [
    "# code here"
   ]
  },
  {
   "cell_type": "markdown",
   "id": "a0313c00",
   "metadata": {},
   "source": [
    "**Q3** Working with list\n",
    "\n",
    "**Q3 (1)** Generate a list of numbers between 1 and 100 that exclude (1) multiples of 7 and (2) numbers that ends with 7\n",
    "\n",
    "For example, 7, 14, 17, 21, 27, 28, .. are excluded.\n",
    "\n",
    "Do not use \"outer for-loop\". you can use list comprehension.\n",
    "\n",
    "Hint: you might need to convert between integer and string.\n",
    "\n",
    "Hint: you can define a helper function.\n",
    "\n"
   ]
  },
  {
   "cell_type": "code",
   "execution_count": 10,
   "id": "83703d7f",
   "metadata": {},
   "outputs": [],
   "source": [
    "# code here"
   ]
  },
  {
   "cell_type": "markdown",
   "id": "8647d0ba",
   "metadata": {},
   "source": [
    "**Q3 (2)** Sort the previous list in \"increasing order\",  in term of the absolute distance to the number 50. No need to break tie. For example, if the list is [48,50,51], the sorted list should be [50,51,48].\n",
    "\n",
    "Do it in one-line. Hint: use list comprehension, and the built-in function ``sorted`` or ``sort``, and lambda function."
   ]
  },
  {
   "cell_type": "code",
   "execution_count": null,
   "id": "dcedefbc",
   "metadata": {},
   "outputs": [],
   "source": [
    "# Code here"
   ]
  },
  {
   "cell_type": "markdown",
   "id": "ff5005d1",
   "metadata": {},
   "source": [
    "**Q4.** Gradient Descent\n",
    "\n",
    "To find the minimum of a function $f(x)$ with initial guess $x_0$, we can use the gradient descent algorithm:\n",
    "\n",
    "$$x_{n+1} = x_n - \\text{lr} \\cdot  f'(x_n)$$\n",
    "\n",
    "where $\\text{lr}$ is the learning rate.\n",
    "\n"
   ]
  },
  {
   "cell_type": "markdown",
   "id": "433b49fe",
   "metadata": {},
   "source": [
    "**Q4 (1)** Explain the idea of this algorithm, that is, why does it work? What is the appropriate stopping criterion for the gradient descent algorithm?"
   ]
  },
  {
   "cell_type": "markdown",
   "id": "5d029333",
   "metadata": {},
   "source": [
    "answer here"
   ]
  },
  {
   "cell_type": "markdown",
   "id": "6ce6101c",
   "metadata": {},
   "source": [
    "**Q4 (2)** implement the gradient descent algorithm for finding the minimum of some function  $f(x) = x^2$ with initial guess ``x0 = 1`` and learning rate ``lr = 0.01``.\n",
    "\n"
   ]
  },
  {
   "cell_type": "code",
   "execution_count": null,
   "id": "812357b1",
   "metadata": {},
   "outputs": [],
   "source": [
    "# code here"
   ]
  },
  {
   "cell_type": "markdown",
   "id": "5def7f1c",
   "metadata": {},
   "source": []
  }
 ],
 "metadata": {
  "kernelspec": {
   "display_name": "Python 3 (ipykernel)",
   "language": "python",
   "name": "python3"
  },
  "language_info": {
   "codemirror_mode": {
    "name": "ipython",
    "version": 3
   },
   "file_extension": ".py",
   "mimetype": "text/x-python",
   "name": "python",
   "nbconvert_exporter": "python",
   "pygments_lexer": "ipython3",
   "version": "3.11.5"
  }
 },
 "nbformat": 4,
 "nbformat_minor": 5
}
