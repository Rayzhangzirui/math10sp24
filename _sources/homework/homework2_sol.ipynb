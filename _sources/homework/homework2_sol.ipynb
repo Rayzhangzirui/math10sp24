{
 "cells": [
  {
   "cell_type": "markdown",
   "id": "37691194",
   "metadata": {},
   "source": [
    "# Homework 2 sol (Due 4/19 11:59 PM)\n",
    "\n",
    "## Name:\n",
    "\n",
    "## ID:\n",
    "\n",
    "## Instructions\n",
    "Run everything (select cell in the menu, and click Run all), export as pdf, and submit the pdf to gradescope. \n",
    "\n",
    "To export as pdf, you can use the following methods: (1) File -> download as -> pdf (2) print as pdf from browser."
   ]
  },
  {
   "cell_type": "markdown",
   "id": "6ce6101c",
   "metadata": {},
   "source": [
    "**Q1** Implement a `Rectangle` class with the following attributes and methods:\n",
    "- Attributes: `width`, `height`\n",
    "- Methods: \n",
    "    - `__init__(self, width, height)`: initialize the width and height of the rectangle\n",
    "    - `area(self)`: return the area of the rectangle\n",
    "    - `smaller_than(self, rec)`: return True if the area of the rectangle is smaller than the area of another rectange object `rec`, False otherwise\n",
    "    - `resize(self, c)`: resize the rectangle, where `c` is a scaling factor. For example, if `c=2`, the width and height of the rectangle will be doubled. If `c=0.5`, the width and height of the rectangle will be halved.\n",
    "    - If `rec` is a Rectangle object, `print(rec)` should print the `(width,height)` of the rectangle.\n",
    "    - (Challenge, not graded) overload the '<' operator so that `rec1 < rec2` returns True if the area of rec1 is less than the area of rec2, False otherwise.\n",
    "\n"
   ]
  },
  {
   "cell_type": "markdown",
   "id": "9dac337e",
   "metadata": {},
   "source": [
    "(1) Define your class here"
   ]
  },
  {
   "cell_type": "code",
   "execution_count": 2,
   "id": "812357b1",
   "metadata": {
    "tags": [
     "solution"
    ]
   },
   "outputs": [],
   "source": [
    "# code here\n",
    "\n",
    "class Rectangle:\n",
    "    def __init__(self, width, height):\n",
    "        self.width = width\n",
    "        self.height = height\n",
    "    \n",
    "    def area(self):\n",
    "        return self.width * self.height\n",
    "    \n",
    "    def smaller_than(self, other):\n",
    "        return self.area() < other.area()   \n",
    "    \n",
    "    def __repr__(self):\n",
    "        return f\"({self.width}, {self.height})\"\n",
    "\n",
    "    def resize(self, c):\n",
    "        self.width = self.width * c\n",
    "        self.height = self.height * c\n",
    "    \n",
    "    def __lt__(self, other):\n",
    "        return self.area() < other.area()"
   ]
  },
  {
   "cell_type": "markdown",
   "id": "2557678b",
   "metadata": {},
   "source": [
    "(2) Use examples to demonstrate your class works correctly: what should be the outcome and print the output of the code"
   ]
  },
  {
   "cell_type": "code",
   "execution_count": 4,
   "id": "01d4cf8c",
   "metadata": {
    "tags": [
     "solution"
    ]
   },
   "outputs": [
    {
     "name": "stdout",
     "output_type": "stream",
     "text": [
      "2\n",
      "(1, 2)\n",
      "True\n",
      "8\n",
      "False\n",
      "True\n"
     ]
    }
   ],
   "source": [
    "# code here\n",
    "\n",
    "r1 = Rectangle(1, 2)\n",
    "r2 = Rectangle(2, 3)\n",
    "\n",
    "# should print 2\n",
    "print(r1.area())\n",
    "\n",
    "# should print (1, 2)\n",
    "print(r1)\n",
    "\n",
    "# should print True\n",
    "print(r1.smaller_than(r2))\n",
    "\n",
    "r1.resize(2)\n",
    "print(r1.area()) # should print 8\n",
    "\n",
    "# should print False\n",
    "print(r1.smaller_than(r2))\n",
    "\n",
    "# should print True\n",
    "print(r2 < r1)\n",
    "\n"
   ]
  },
  {
   "cell_type": "markdown",
   "id": "056285e4",
   "metadata": {},
   "source": [
    "Q2 Binomial Distribution: If we throw a coin $n$ times, and the the probability of getting a head is $p$. \n",
    "\n",
    "Let X be the number of heads. Then X is a random variable, and the probability of getting $k$ heads is given by the binomial distribution."
   ]
  },
  {
   "cell_type": "markdown",
   "id": "ddc7aadf",
   "metadata": {},
   "source": [
    "(1) Suppose we throw a fair coin 100 times. Intuitively, what should the distribution looks like? Find the `numpy` function that sample from the binomial distribution. Visualize the distribution using a histogram.\n",
    "\n"
   ]
  },
  {
   "cell_type": "code",
   "execution_count": 8,
   "id": "5e4b1a60",
   "metadata": {
    "tags": [
     "solution"
    ]
   },
   "outputs": [
    {
     "name": "stderr",
     "output_type": "stream",
     "text": [
      "/Users/Ray/opt/anaconda3/envs/torch/lib/python3.11/site-packages/seaborn/_oldcore.py:1119: FutureWarning: use_inf_as_na option is deprecated and will be removed in a future version. Convert inf values to NaN before operating instead.\n",
      "  with pd.option_context('mode.use_inf_as_na', True):\n"
     ]
    },
    {
     "data": {
      "text/plain": [
       "<Axes: ylabel='Density'>"
      ]
     },
     "execution_count": 8,
     "metadata": {},
     "output_type": "execute_result"
    },
    {
     "data": {
      "image/png": "[encoded data removed]",
      "text/plain": [
       "<Figure size 640x480 with 1 Axes>"
      ]
     },
     "metadata": {},
     "output_type": "display_data"
    }
   ],
   "source": [
    "#code here\n",
    "import numpy as np\n",
    "import seaborn as sns\n",
    "\n",
    "x = np.random.binomial(100, 0.5, 1000)\n",
    "\n",
    "# The distribution should be a bell shape: it common to see around 50 heads, but very rare to see close to 0 or 100 heads\n",
    "\n",
    "sns.histplot(x,stat='density')"
   ]
  },
  {
   "cell_type": "markdown",
   "id": "961b6399",
   "metadata": {},
   "source": [
    "(2) Suppose $n=100$ and $p=0.6$. Intuitively, what is the expectation of X. Estimate the expectation and variance of X numerically using 10000 samples."
   ]
  },
  {
   "cell_type": "code",
   "execution_count": 11,
   "id": "780dfe05",
   "metadata": {
    "tags": [
     "solution"
    ]
   },
   "outputs": [
    {
     "name": "stdout",
     "output_type": "stream",
     "text": [
      "60.0343 23.56992351\n"
     ]
    }
   ],
   "source": [
    "#code here\n",
    "\n",
    "n_sample = 10000\n",
    "n = 100\n",
    "p = 0.6\n",
    "x = np.random.binomial(n, p, n_sample)\n",
    "\n",
    "mean = np.mean(x)\n",
    "var = np.var(x) \n",
    "\n",
    "print(mean, var)"
   ]
  },
  {
   "cell_type": "markdown",
   "id": "208bd3a7",
   "metadata": {},
   "source": [
    "Q3\n",
    "\n",
    "Explore the tip dataset. You can load the dataset from seaborn.\n",
    "\n",
    "```python\n",
    "import seaborn as sns\n",
    "tips = sns.load_dataset('tips')\n",
    "```\n",
    "\n",
    "or you can download the dataset from [here](https://github.com/mwaskom/seaborn-data/blob/master/tips.csv).\n",
    "\n",
    "\n",
    "Answer the following questions. Use numbers and figures to support your answers.\n"
   ]
  },
  {
   "cell_type": "markdown",
   "id": "13d74a8a",
   "metadata": {},
   "source": [
    "(1) What is the average, median, and standard deviation of the *tip amount* and *tip percentage*?\n",
    "\n"
   ]
  },
  {
   "cell_type": "code",
   "execution_count": 14,
   "id": "ef9aa837",
   "metadata": {
    "tags": [
     "solution"
    ]
   },
   "outputs": [
    {
     "data": {
      "text/html": [
       "<div>\n",
       "<style scoped>\n",
       "    .dataframe tbody tr th:only-of-type {\n",
       "        vertical-align: middle;\n",
       "    }\n",
       "\n",
       "    .dataframe tbody tr th {\n",
       "        vertical-align: top;\n",
       "    }\n",
       "\n",
       "    .dataframe thead th {\n",
       "        text-align: right;\n",
       "    }\n",
       "</style>\n",
       "<table border=\"1\" class=\"dataframe\">\n",
       "  <thead>\n",
       "    <tr style=\"text-align: right;\">\n",
       "      <th></th>\n",
       "      <th>total_bill</th>\n",
       "      <th>tip</th>\n",
       "      <th>size</th>\n",
       "      <th>tip_percentage</th>\n",
       "    </tr>\n",
       "  </thead>\n",
       "  <tbody>\n",
       "    <tr>\n",
       "      <th>count</th>\n",
       "      <td>244.000000</td>\n",
       "      <td>244.000000</td>\n",
       "      <td>244.000000</td>\n",
       "      <td>244.000000</td>\n",
       "    </tr>\n",
       "    <tr>\n",
       "      <th>mean</th>\n",
       "      <td>19.785943</td>\n",
       "      <td>2.998279</td>\n",
       "      <td>2.569672</td>\n",
       "      <td>0.160803</td>\n",
       "    </tr>\n",
       "    <tr>\n",
       "      <th>std</th>\n",
       "      <td>8.902412</td>\n",
       "      <td>1.383638</td>\n",
       "      <td>0.951100</td>\n",
       "      <td>0.061072</td>\n",
       "    </tr>\n",
       "    <tr>\n",
       "      <th>min</th>\n",
       "      <td>3.070000</td>\n",
       "      <td>1.000000</td>\n",
       "      <td>1.000000</td>\n",
       "      <td>0.035638</td>\n",
       "    </tr>\n",
       "    <tr>\n",
       "      <th>25%</th>\n",
       "      <td>13.347500</td>\n",
       "      <td>2.000000</td>\n",
       "      <td>2.000000</td>\n",
       "      <td>0.129127</td>\n",
       "    </tr>\n",
       "    <tr>\n",
       "      <th>50%</th>\n",
       "      <td>17.795000</td>\n",
       "      <td>2.900000</td>\n",
       "      <td>2.000000</td>\n",
       "      <td>0.154770</td>\n",
       "    </tr>\n",
       "    <tr>\n",
       "      <th>75%</th>\n",
       "      <td>24.127500</td>\n",
       "      <td>3.562500</td>\n",
       "      <td>3.000000</td>\n",
       "      <td>0.191475</td>\n",
       "    </tr>\n",
       "    <tr>\n",
       "      <th>max</th>\n",
       "      <td>50.810000</td>\n",
       "      <td>10.000000</td>\n",
       "      <td>6.000000</td>\n",
       "      <td>0.710345</td>\n",
       "    </tr>\n",
       "  </tbody>\n",
       "</table>\n",
       "</div>"
      ],
      "text/plain": [
       "       total_bill         tip        size  tip_percentage\n",
       "count  244.000000  244.000000  244.000000      244.000000\n",
       "mean    19.785943    2.998279    2.569672        0.160803\n",
       "std      8.902412    1.383638    0.951100        0.061072\n",
       "min      3.070000    1.000000    1.000000        0.035638\n",
       "25%     13.347500    2.000000    2.000000        0.129127\n",
       "50%     17.795000    2.900000    2.000000        0.154770\n",
       "75%     24.127500    3.562500    3.000000        0.191475\n",
       "max     50.810000   10.000000    6.000000        0.710345"
      ]
     },
     "execution_count": 14,
     "metadata": {},
     "output_type": "execute_result"
    }
   ],
   "source": [
    "import seaborn as sns\n",
    "tips = sns.load_dataset('tips')\n",
    "\n",
    "tips['tip_percentage'] = tips['tip'] / tips['total_bill']\n",
    "\n",
    "tips.describe()"
   ]
  },
  {
   "cell_type": "markdown",
   "id": "db88854e",
   "metadata": {},
   "source": [
    "(2) Are people more willing to give higher tip when the party size is larger? Should we consider tip percentage or tip amount in this case.\n",
    "\n",
    "\n"
   ]
  },
  {
   "cell_type": "code",
   "execution_count": 17,
   "id": "1042b086",
   "metadata": {
    "tags": [
     "solution"
    ]
   },
   "outputs": [
    {
     "data": {
      "text/plain": [
       "-0.14285960069312353"
      ]
     },
     "execution_count": 17,
     "metadata": {},
     "output_type": "execute_result"
    },
    {
     "data": {
      "image/png": "[encoded data removed]",
      "text/plain": [
       "<Figure size 640x480 with 1 Axes>"
      ]
     },
     "metadata": {},
     "output_type": "display_data"
    }
   ],
   "source": [
    "\n",
    "sns.scatterplot(data=tips, x='size', y='tip_percentage')\n",
    "\n",
    "# compute correlation between size and tip_percentage\n",
    "tips['size'].corr(tips['tip_percentage'])\n",
    "\n",
    "# there is very small and negative correlation between size and tip_percentage.\n",
    "\n",
    "# Using tip amount to measure willingness might not be a good:\n",
    "# More people tend to have higher total_bill, and thus higher tip.\n",
    "# However, based on tip percentage, it seems that they are not willing to tip more."
   ]
  },
  {
   "cell_type": "markdown",
   "id": "1e2d8ff4",
   "metadata": {},
   "source": [
    "(3) Does the day of the week affect the tip percentage? Use figures to support your answer."
   ]
  },
  {
   "cell_type": "code",
   "execution_count": 49,
   "id": "d4849153",
   "metadata": {
    "tags": [
     "solution"
    ]
   },
   "outputs": [
    {
     "name": "stderr",
     "output_type": "stream",
     "text": [
      "/Users/Ray/opt/anaconda3/envs/torch/lib/python3.11/site-packages/seaborn/categorical.py:641: FutureWarning: The default of observed=False is deprecated and will be changed to True in a future version of pandas. Pass observed=False to retain current behavior or observed=True to adopt the future default and silence this warning.\n",
      "  grouped_vals = vals.groupby(grouper)\n"
     ]
    },
    {
     "data": {
      "text/plain": [
       "<Axes: xlabel='day', ylabel='tip_percentage'>"
      ]
     },
     "execution_count": 49,
     "metadata": {},
     "output_type": "execute_result"
    },
    {
     "data": {
      "image/png": "[encoded data removed]",
      "text/plain": [
       "<Figure size 640x480 with 1 Axes>"
      ]
     },
     "metadata": {},
     "output_type": "display_data"
    }
   ],
   "source": [
    "sns.boxplot(x=\"day\", y=\"tip_percentage\" ,data=tips)\n",
    "\n",
    "# based on the boxplot, the tip percentage is quite similar across different days."
   ]
  },
  {
   "cell_type": "markdown",
   "id": "1126a2c5",
   "metadata": {},
   "source": [
    "(4) If someone book a reservation with party of 4 on Saturday, what is the expected tip amount? "
   ]
  },
  {
   "cell_type": "code",
   "execution_count": 46,
   "id": "34edafe3",
   "metadata": {
    "tags": [
     "solution"
    ]
   },
   "outputs": [
    {
     "data": {
      "text/plain": [
       "4.123846153846154"
      ]
     },
     "execution_count": 46,
     "metadata": {},
     "output_type": "execute_result"
    }
   ],
   "source": [
    "# compute the average tip amount of table with size 4 on Saturday\n",
    "tips.loc[ (tips['day'] == 'Sat') & (tips['size'] == 4),'tip'].mean()"
   ]
  }
 ],
 "metadata": {
  "kernelspec": {
   "display_name": "Python 3 (ipykernel)",
   "language": "python",
   "name": "python3"
  },
  "language_info": {
   "codemirror_mode": {
    "name": "ipython",
    "version": 3
   },
   "file_extension": ".py",
   "mimetype": "text/x-python",
   "name": "python",
   "nbconvert_exporter": "python",
   "pygments_lexer": "ipython3",
   "version": "3.11.5"
  }
 },
 "nbformat": 4,
 "nbformat_minor": 5
}
