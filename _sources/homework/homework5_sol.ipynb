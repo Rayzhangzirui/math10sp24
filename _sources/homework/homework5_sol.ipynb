{
 "cells": [
  {
   "cell_type": "markdown",
   "metadata": {},
   "source": [
    "# Homework 5 (Due 5/17)\n",
    "\n",
    "## Name:\n",
    "\n",
    "## ID:\n",
    "\n",
    "## Instructions\n",
    "Run everything (select cell in the menu, and click Run all), export as pdf, and submit the pdf to gradescope. \n",
    "\n",
    "To export as pdf, you can use the following methods: (1) File -> download as -> pdf (2) print as pdf from browser."
   ]
  },
  {
   "cell_type": "markdown",
   "metadata": {},
   "source": [
    "In this homework, we will use the penguins dataset and we want to predict the ``body_mass_g`` of a penguin using the other features.\n",
    "\n",
    "We will do a series of transformation on the dataframe. You can use different copies of the dataframe or modify the dataframe in place."
   ]
  },
  {
   "cell_type": "code",
   "execution_count": 1,
   "metadata": {},
   "outputs": [],
   "source": [
    "import seaborn as sns\n",
    "\n",
    "df = sns.load_dataset(\"penguins\")"
   ]
  },
  {
   "cell_type": "markdown",
   "metadata": {},
   "source": [
    "**Q1 Data Imputation**\n",
    "\n",
    "(1) Find the row indices that have missing values and print those rows.\n"
   ]
  },
  {
   "cell_type": "code",
   "execution_count": 2,
   "metadata": {
    "tags": [
     "solution"
    ]
   },
   "outputs": [
    {
     "data": {
      "text/html": [
       "<div>\n",
       "<style scoped>\n",
       "    .dataframe tbody tr th:only-of-type {\n",
       "        vertical-align: middle;\n",
       "    }\n",
       "\n",
       "    .dataframe tbody tr th {\n",
       "        vertical-align: top;\n",
       "    }\n",
       "\n",
       "    .dataframe thead th {\n",
       "        text-align: right;\n",
       "    }\n",
       "</style>\n",
       "<table border=\"1\" class=\"dataframe\">\n",
       "  <thead>\n",
       "    <tr style=\"text-align: right;\">\n",
       "      <th></th>\n",
       "      <th>species</th>\n",
       "      <th>island</th>\n",
       "      <th>bill_length_mm</th>\n",
       "      <th>bill_depth_mm</th>\n",
       "      <th>flipper_length_mm</th>\n",
       "      <th>body_mass_g</th>\n",
       "      <th>sex</th>\n",
       "    </tr>\n",
       "  </thead>\n",
       "  <tbody>\n",
       "    <tr>\n",
       "      <th>3</th>\n",
       "      <td>Adelie</td>\n",
       "      <td>Torgersen</td>\n",
       "      <td>NaN</td>\n",
       "      <td>NaN</td>\n",
       "      <td>NaN</td>\n",
       "      <td>NaN</td>\n",
       "      <td>NaN</td>\n",
       "    </tr>\n",
       "    <tr>\n",
       "      <th>8</th>\n",
       "      <td>Adelie</td>\n",
       "      <td>Torgersen</td>\n",
       "      <td>34.1</td>\n",
       "      <td>18.1</td>\n",
       "      <td>193.0</td>\n",
       "      <td>3475.0</td>\n",
       "      <td>NaN</td>\n",
       "    </tr>\n",
       "    <tr>\n",
       "      <th>9</th>\n",
       "      <td>Adelie</td>\n",
       "      <td>Torgersen</td>\n",
       "      <td>42.0</td>\n",
       "      <td>20.2</td>\n",
       "      <td>190.0</td>\n",
       "      <td>4250.0</td>\n",
       "      <td>NaN</td>\n",
       "    </tr>\n",
       "    <tr>\n",
       "      <th>10</th>\n",
       "      <td>Adelie</td>\n",
       "      <td>Torgersen</td>\n",
       "      <td>37.8</td>\n",
       "      <td>17.1</td>\n",
       "      <td>186.0</td>\n",
       "      <td>3300.0</td>\n",
       "      <td>NaN</td>\n",
       "    </tr>\n",
       "    <tr>\n",
       "      <th>11</th>\n",
       "      <td>Adelie</td>\n",
       "      <td>Torgersen</td>\n",
       "      <td>37.8</td>\n",
       "      <td>17.3</td>\n",
       "      <td>180.0</td>\n",
       "      <td>3700.0</td>\n",
       "      <td>NaN</td>\n",
       "    </tr>\n",
       "    <tr>\n",
       "      <th>47</th>\n",
       "      <td>Adelie</td>\n",
       "      <td>Dream</td>\n",
       "      <td>37.5</td>\n",
       "      <td>18.9</td>\n",
       "      <td>179.0</td>\n",
       "      <td>2975.0</td>\n",
       "      <td>NaN</td>\n",
       "    </tr>\n",
       "    <tr>\n",
       "      <th>246</th>\n",
       "      <td>Gentoo</td>\n",
       "      <td>Biscoe</td>\n",
       "      <td>44.5</td>\n",
       "      <td>14.3</td>\n",
       "      <td>216.0</td>\n",
       "      <td>4100.0</td>\n",
       "      <td>NaN</td>\n",
       "    </tr>\n",
       "    <tr>\n",
       "      <th>286</th>\n",
       "      <td>Gentoo</td>\n",
       "      <td>Biscoe</td>\n",
       "      <td>46.2</td>\n",
       "      <td>14.4</td>\n",
       "      <td>214.0</td>\n",
       "      <td>4650.0</td>\n",
       "      <td>NaN</td>\n",
       "    </tr>\n",
       "    <tr>\n",
       "      <th>324</th>\n",
       "      <td>Gentoo</td>\n",
       "      <td>Biscoe</td>\n",
       "      <td>47.3</td>\n",
       "      <td>13.8</td>\n",
       "      <td>216.0</td>\n",
       "      <td>4725.0</td>\n",
       "      <td>NaN</td>\n",
       "    </tr>\n",
       "    <tr>\n",
       "      <th>336</th>\n",
       "      <td>Gentoo</td>\n",
       "      <td>Biscoe</td>\n",
       "      <td>44.5</td>\n",
       "      <td>15.7</td>\n",
       "      <td>217.0</td>\n",
       "      <td>4875.0</td>\n",
       "      <td>NaN</td>\n",
       "    </tr>\n",
       "    <tr>\n",
       "      <th>339</th>\n",
       "      <td>Gentoo</td>\n",
       "      <td>Biscoe</td>\n",
       "      <td>NaN</td>\n",
       "      <td>NaN</td>\n",
       "      <td>NaN</td>\n",
       "      <td>NaN</td>\n",
       "      <td>NaN</td>\n",
       "    </tr>\n",
       "  </tbody>\n",
       "</table>\n",
       "</div>"
      ],
      "text/plain": [
       "    species     island  bill_length_mm  bill_depth_mm  flipper_length_mm  \\\n",
       "3    Adelie  Torgersen             NaN            NaN                NaN   \n",
       "8    Adelie  Torgersen            34.1           18.1              193.0   \n",
       "9    Adelie  Torgersen            42.0           20.2              190.0   \n",
       "10   Adelie  Torgersen            37.8           17.1              186.0   \n",
       "11   Adelie  Torgersen            37.8           17.3              180.0   \n",
       "47   Adelie      Dream            37.5           18.9              179.0   \n",
       "246  Gentoo     Biscoe            44.5           14.3              216.0   \n",
       "286  Gentoo     Biscoe            46.2           14.4              214.0   \n",
       "324  Gentoo     Biscoe            47.3           13.8              216.0   \n",
       "336  Gentoo     Biscoe            44.5           15.7              217.0   \n",
       "339  Gentoo     Biscoe             NaN            NaN                NaN   \n",
       "\n",
       "     body_mass_g  sex  \n",
       "3            NaN  NaN  \n",
       "8         3475.0  NaN  \n",
       "9         4250.0  NaN  \n",
       "10        3300.0  NaN  \n",
       "11        3700.0  NaN  \n",
       "47        2975.0  NaN  \n",
       "246       4100.0  NaN  \n",
       "286       4650.0  NaN  \n",
       "324       4725.0  NaN  \n",
       "336       4875.0  NaN  \n",
       "339          NaN  NaN  "
      ]
     },
     "execution_count": 2,
     "metadata": {},
     "output_type": "execute_result"
    }
   ],
   "source": [
    "# get row index of missing values\n",
    "idx = df.isnull().any(axis=1)\n",
    "\n",
    "df[idx]\n"
   ]
  },
  {
   "cell_type": "markdown",
   "metadata": {},
   "source": [
    "(2) Besides removing the row with missing value, we can try to fill in the missing value: this is called data imputation. \n",
    "\n",
    "Use the `SimpleImputer` from `sklearn.impute` with the strategy `mean` to fill in the missing values.\n",
    "\n",
    "For example, if the feature `bill_length_mm` has missing values, we will replace the missing values with the mean value of `bill_length_mm`.\n",
    "\n",
    "Impute the following features:\n",
    "\n",
    "`['bill_length_mm', 'bill_depth_mm', 'flipper_length_mm', 'body_mass_g']`\n",
    "\n",
    "Print the imputed rows.\n"
   ]
  },
  {
   "cell_type": "code",
   "execution_count": 3,
   "metadata": {
    "tags": [
     "solution"
    ]
   },
   "outputs": [
    {
     "data": {
      "text/html": [
       "<div>\n",
       "<style scoped>\n",
       "    .dataframe tbody tr th:only-of-type {\n",
       "        vertical-align: middle;\n",
       "    }\n",
       "\n",
       "    .dataframe tbody tr th {\n",
       "        vertical-align: top;\n",
       "    }\n",
       "\n",
       "    .dataframe thead th {\n",
       "        text-align: right;\n",
       "    }\n",
       "</style>\n",
       "<table border=\"1\" class=\"dataframe\">\n",
       "  <thead>\n",
       "    <tr style=\"text-align: right;\">\n",
       "      <th></th>\n",
       "      <th>species</th>\n",
       "      <th>island</th>\n",
       "      <th>bill_length_mm</th>\n",
       "      <th>bill_depth_mm</th>\n",
       "      <th>flipper_length_mm</th>\n",
       "      <th>body_mass_g</th>\n",
       "      <th>sex</th>\n",
       "    </tr>\n",
       "  </thead>\n",
       "  <tbody>\n",
       "    <tr>\n",
       "      <th>3</th>\n",
       "      <td>Adelie</td>\n",
       "      <td>Torgersen</td>\n",
       "      <td>43.92193</td>\n",
       "      <td>17.15117</td>\n",
       "      <td>200.915205</td>\n",
       "      <td>4201.754386</td>\n",
       "      <td>NaN</td>\n",
       "    </tr>\n",
       "    <tr>\n",
       "      <th>8</th>\n",
       "      <td>Adelie</td>\n",
       "      <td>Torgersen</td>\n",
       "      <td>34.10000</td>\n",
       "      <td>18.10000</td>\n",
       "      <td>193.000000</td>\n",
       "      <td>3475.000000</td>\n",
       "      <td>NaN</td>\n",
       "    </tr>\n",
       "    <tr>\n",
       "      <th>9</th>\n",
       "      <td>Adelie</td>\n",
       "      <td>Torgersen</td>\n",
       "      <td>42.00000</td>\n",
       "      <td>20.20000</td>\n",
       "      <td>190.000000</td>\n",
       "      <td>4250.000000</td>\n",
       "      <td>NaN</td>\n",
       "    </tr>\n",
       "    <tr>\n",
       "      <th>10</th>\n",
       "      <td>Adelie</td>\n",
       "      <td>Torgersen</td>\n",
       "      <td>37.80000</td>\n",
       "      <td>17.10000</td>\n",
       "      <td>186.000000</td>\n",
       "      <td>3300.000000</td>\n",
       "      <td>NaN</td>\n",
       "    </tr>\n",
       "    <tr>\n",
       "      <th>11</th>\n",
       "      <td>Adelie</td>\n",
       "      <td>Torgersen</td>\n",
       "      <td>37.80000</td>\n",
       "      <td>17.30000</td>\n",
       "      <td>180.000000</td>\n",
       "      <td>3700.000000</td>\n",
       "      <td>NaN</td>\n",
       "    </tr>\n",
       "    <tr>\n",
       "      <th>47</th>\n",
       "      <td>Adelie</td>\n",
       "      <td>Dream</td>\n",
       "      <td>37.50000</td>\n",
       "      <td>18.90000</td>\n",
       "      <td>179.000000</td>\n",
       "      <td>2975.000000</td>\n",
       "      <td>NaN</td>\n",
       "    </tr>\n",
       "    <tr>\n",
       "      <th>246</th>\n",
       "      <td>Gentoo</td>\n",
       "      <td>Biscoe</td>\n",
       "      <td>44.50000</td>\n",
       "      <td>14.30000</td>\n",
       "      <td>216.000000</td>\n",
       "      <td>4100.000000</td>\n",
       "      <td>NaN</td>\n",
       "    </tr>\n",
       "    <tr>\n",
       "      <th>286</th>\n",
       "      <td>Gentoo</td>\n",
       "      <td>Biscoe</td>\n",
       "      <td>46.20000</td>\n",
       "      <td>14.40000</td>\n",
       "      <td>214.000000</td>\n",
       "      <td>4650.000000</td>\n",
       "      <td>NaN</td>\n",
       "    </tr>\n",
       "    <tr>\n",
       "      <th>324</th>\n",
       "      <td>Gentoo</td>\n",
       "      <td>Biscoe</td>\n",
       "      <td>47.30000</td>\n",
       "      <td>13.80000</td>\n",
       "      <td>216.000000</td>\n",
       "      <td>4725.000000</td>\n",
       "      <td>NaN</td>\n",
       "    </tr>\n",
       "    <tr>\n",
       "      <th>336</th>\n",
       "      <td>Gentoo</td>\n",
       "      <td>Biscoe</td>\n",
       "      <td>44.50000</td>\n",
       "      <td>15.70000</td>\n",
       "      <td>217.000000</td>\n",
       "      <td>4875.000000</td>\n",
       "      <td>NaN</td>\n",
       "    </tr>\n",
       "    <tr>\n",
       "      <th>339</th>\n",
       "      <td>Gentoo</td>\n",
       "      <td>Biscoe</td>\n",
       "      <td>43.92193</td>\n",
       "      <td>17.15117</td>\n",
       "      <td>200.915205</td>\n",
       "      <td>4201.754386</td>\n",
       "      <td>NaN</td>\n",
       "    </tr>\n",
       "  </tbody>\n",
       "</table>\n",
       "</div>"
      ],
      "text/plain": [
       "    species     island  bill_length_mm  bill_depth_mm  flipper_length_mm  \\\n",
       "3    Adelie  Torgersen        43.92193       17.15117         200.915205   \n",
       "8    Adelie  Torgersen        34.10000       18.10000         193.000000   \n",
       "9    Adelie  Torgersen        42.00000       20.20000         190.000000   \n",
       "10   Adelie  Torgersen        37.80000       17.10000         186.000000   \n",
       "11   Adelie  Torgersen        37.80000       17.30000         180.000000   \n",
       "47   Adelie      Dream        37.50000       18.90000         179.000000   \n",
       "246  Gentoo     Biscoe        44.50000       14.30000         216.000000   \n",
       "286  Gentoo     Biscoe        46.20000       14.40000         214.000000   \n",
       "324  Gentoo     Biscoe        47.30000       13.80000         216.000000   \n",
       "336  Gentoo     Biscoe        44.50000       15.70000         217.000000   \n",
       "339  Gentoo     Biscoe        43.92193       17.15117         200.915205   \n",
       "\n",
       "     body_mass_g  sex  \n",
       "3    4201.754386  NaN  \n",
       "8    3475.000000  NaN  \n",
       "9    4250.000000  NaN  \n",
       "10   3300.000000  NaN  \n",
       "11   3700.000000  NaN  \n",
       "47   2975.000000  NaN  \n",
       "246  4100.000000  NaN  \n",
       "286  4650.000000  NaN  \n",
       "324  4725.000000  NaN  \n",
       "336  4875.000000  NaN  \n",
       "339  4201.754386  NaN  "
      ]
     },
     "execution_count": 3,
     "metadata": {},
     "output_type": "execute_result"
    }
   ],
   "source": [
    "from sklearn.impute import SimpleImputer\n",
    "\n",
    "# Choosing imputation strategy for numerical columns\n",
    "# We will use the mean strategy for this example\n",
    "imputer = SimpleImputer(strategy='mean')\n",
    "\n",
    "col_impute = ['bill_length_mm', 'bill_depth_mm', 'flipper_length_mm', 'body_mass_g']\n",
    "\n",
    "# Fit and transform the data - imputation\n",
    "df[col_impute] = imputer.fit_transform(df[col_impute])\n",
    "\n",
    "\n",
    "df[idx]"
   ]
  },
  {
   "cell_type": "markdown",
   "metadata": {},
   "source": [
    "**Q2** Feature scaling"
   ]
  },
  {
   "cell_type": "markdown",
   "metadata": {},
   "source": [
    "Scale the features `['bill_length_mm', 'bill_depth_mm', 'flipper_length_mm']` to [0, 1] using `MinMaxScaler` from `sklearn.preprocessing`."
   ]
  },
  {
   "cell_type": "code",
   "execution_count": 4,
   "metadata": {
    "tags": [
     "solution"
    ]
   },
   "outputs": [],
   "source": [
    "from sklearn.preprocessing import MinMaxScaler\n",
    "\n",
    "features = ['bill_length_mm', 'bill_depth_mm', 'flipper_length_mm']\n",
    "\n",
    "# Initialize the MinMaxScaler to scale to [0,1]\n",
    "scaler = MinMaxScaler()\n",
    "\n",
    "# Fit and transform the selected columns\n",
    "df[features] = scaler.fit_transform(df[features])\n"
   ]
  },
  {
   "cell_type": "markdown",
   "metadata": {},
   "source": [
    "**Q3**  Use the scaled features `['bill_length_mm', 'bill_depth_mm', 'flipper_length_mm']` to fit a linear regression model to predict `body_mass_g`.\n",
    "\n",
    "Perform 5-fold cross validation and report the mean and standard deviation of the coefficient of determination $R^2$."
   ]
  },
  {
   "cell_type": "code",
   "execution_count": 5,
   "metadata": {
    "tags": [
     "solution"
    ]
   },
   "outputs": [
    {
     "name": "stdout",
     "output_type": "stream",
     "text": [
      "Average R-squared: 0.75321\n",
      "Standard Deviation of R-squared: 0.03308\n"
     ]
    }
   ],
   "source": [
    "from sklearn.model_selection import cross_val_score, KFold\n",
    "from sklearn.linear_model import LinearRegression\n",
    "\n",
    "import numpy as np\n",
    "\n",
    "# Assuming df is your DataFrame ready for modeling\n",
    "# Define X (features) and y (target) - example assumes 'target' as your target variable\n",
    "X = df[features]\n",
    "y = df['body_mass_g']\n",
    "\n",
    "# Initialize Linear Regression model\n",
    "model = LinearRegression()\n",
    "\n",
    "# Setup 5-fold cross-validation\n",
    "kf = KFold(n_splits=5, shuffle=True, random_state=1)\n",
    "\n",
    "# Perform cross-validation\n",
    "r2_scores = cross_val_score(model, X, y, cv=kf, scoring='r2')\n",
    "\n",
    "# Calculate average and standard deviation of R-squared scores\n",
    "average_r2 = np.mean(r2_scores)\n",
    "std_r2 = np.std(r2_scores)\n",
    "\n",
    "print(f'Average R-squared: {average_r2:.5f}')\n",
    "print(f'Standard Deviation of R-squared: {std_r2:.5f}')\n"
   ]
  },
  {
   "cell_type": "markdown",
   "metadata": {},
   "source": [
    "**Q4** Use the scaled features `['bill_length_mm', 'bill_depth_mm', 'flipper_length_mm']` to fit a `Lasso` regression model to predict `body_mass_g`.\n",
    "\n",
    "Use `alpha=0.1`.\n",
    "\n",
    "Perform 5-fold cross validation and report the mean and standard deviation of the coefficient of determination $R^2$."
   ]
  },
  {
   "cell_type": "code",
   "execution_count": 6,
   "metadata": {
    "tags": [
     "solution"
    ]
   },
   "outputs": [
    {
     "name": "stdout",
     "output_type": "stream",
     "text": [
      "Average R-squared: 0.75335\n",
      "Standard Deviation of R-squared: 0.03311\n"
     ]
    }
   ],
   "source": [
    "from sklearn.linear_model import Lasso\n",
    "\n",
    "# Assuming df is your DataFrame ready for modeling\n",
    "# Define X (features) and y (target) - example assumes 'target' as your target variable\n",
    "X = df[features]\n",
    "y = df['body_mass_g']\n",
    "\n",
    "alpha = 0.1\n",
    "\n",
    "# Initialize Linear Regression model\n",
    "model = Lasso(alpha=alpha)\n",
    "\n",
    "# Setup 5-fold cross-validation\n",
    "kf = KFold(n_splits=5, shuffle=True, random_state=1)\n",
    "\n",
    "# Perform cross-validation\n",
    "r2_scores = cross_val_score(model, X, y, cv=kf, scoring='r2')\n",
    "\n",
    "# Calculate average and standard deviation of R-squared scores\n",
    "average_r2 = np.mean(r2_scores)\n",
    "std_r2 = np.std(r2_scores)\n",
    "\n",
    "print(f'Average R-squared: {average_r2:.5f}')\n",
    "print(f'Standard Deviation of R-squared: {std_r2:.5f}')\n"
   ]
  },
  {
   "cell_type": "markdown",
   "metadata": {},
   "source": [
    "**Q5** Catagorical features\n",
    "\n",
    "(1) Look up the documentation of `pandas.get_dummy`: this function will convert categorical variable into dummy/indicator variables (1s and 0s).\n",
    "\n",
    "Notice that there is a parameter called `drop_first`. \n",
    "\n",
    "If `drop_first = True`, it will drop the first category of each feature. \n",
    "\n",
    "If `drop_first = False`, it will keep all the categories. \n",
    "\n",
    "For example, if we have a feature `color` with categories `['red', 'blue', 'green']`, then `get_dummies` will create 3 features `color_red`, `color_blue`, `color_green`.\n",
    "\n",
    "If `drop_first = True`, it will drop the first category `color_red` and keep `color_blue` and `color_green`.\n",
    "\n",
    "If `drop_first = False`, it will keep all the categories `color_red`, `color_blue`, `color_green`.\n",
    "\n",
    "For linear regression, should we set drop_first = True or False? Why?"
   ]
  },
  {
   "cell_type": "markdown",
   "metadata": {
    "tags": [
     "solution"
    ]
   },
   "source": [
    "\n",
    "For linear regression, we should use drop_first=True to avoid multicollinearity"
   ]
  },
  {
   "cell_type": "markdown",
   "metadata": {},
   "source": [
    "(2) Use the `get_dummies` method to convert `species`, `island` and `sex` to dummy variables.\n",
    "\n",
    "Print the first 5 rows of your dataframe"
   ]
  },
  {
   "cell_type": "code",
   "execution_count": 67,
   "metadata": {
    "tags": [
     "solution"
    ]
   },
   "outputs": [
    {
     "data": {
      "text/html": [
       "<div>\n",
       "<style scoped>\n",
       "    .dataframe tbody tr th:only-of-type {\n",
       "        vertical-align: middle;\n",
       "    }\n",
       "\n",
       "    .dataframe tbody tr th {\n",
       "        vertical-align: top;\n",
       "    }\n",
       "\n",
       "    .dataframe thead th {\n",
       "        text-align: right;\n",
       "    }\n",
       "</style>\n",
       "<table border=\"1\" class=\"dataframe\">\n",
       "  <thead>\n",
       "    <tr style=\"text-align: right;\">\n",
       "      <th></th>\n",
       "      <th>bill_length_mm</th>\n",
       "      <th>bill_depth_mm</th>\n",
       "      <th>flipper_length_mm</th>\n",
       "      <th>body_mass_g</th>\n",
       "      <th>species_Chinstrap</th>\n",
       "      <th>species_Gentoo</th>\n",
       "      <th>island_Dream</th>\n",
       "      <th>island_Torgersen</th>\n",
       "      <th>sex_Male</th>\n",
       "    </tr>\n",
       "  </thead>\n",
       "  <tbody>\n",
       "    <tr>\n",
       "      <th>0</th>\n",
       "      <td>0.254545</td>\n",
       "      <td>0.666667</td>\n",
       "      <td>0.152542</td>\n",
       "      <td>3750.000000</td>\n",
       "      <td>0</td>\n",
       "      <td>0</td>\n",
       "      <td>0</td>\n",
       "      <td>1</td>\n",
       "      <td>1</td>\n",
       "    </tr>\n",
       "    <tr>\n",
       "      <th>1</th>\n",
       "      <td>0.269091</td>\n",
       "      <td>0.511905</td>\n",
       "      <td>0.237288</td>\n",
       "      <td>3800.000000</td>\n",
       "      <td>0</td>\n",
       "      <td>0</td>\n",
       "      <td>0</td>\n",
       "      <td>1</td>\n",
       "      <td>0</td>\n",
       "    </tr>\n",
       "    <tr>\n",
       "      <th>2</th>\n",
       "      <td>0.298182</td>\n",
       "      <td>0.583333</td>\n",
       "      <td>0.389831</td>\n",
       "      <td>3250.000000</td>\n",
       "      <td>0</td>\n",
       "      <td>0</td>\n",
       "      <td>0</td>\n",
       "      <td>1</td>\n",
       "      <td>0</td>\n",
       "    </tr>\n",
       "    <tr>\n",
       "      <th>3</th>\n",
       "      <td>0.429888</td>\n",
       "      <td>0.482282</td>\n",
       "      <td>0.490088</td>\n",
       "      <td>4201.754386</td>\n",
       "      <td>0</td>\n",
       "      <td>0</td>\n",
       "      <td>0</td>\n",
       "      <td>1</td>\n",
       "      <td>0</td>\n",
       "    </tr>\n",
       "    <tr>\n",
       "      <th>4</th>\n",
       "      <td>0.167273</td>\n",
       "      <td>0.738095</td>\n",
       "      <td>0.355932</td>\n",
       "      <td>3450.000000</td>\n",
       "      <td>0</td>\n",
       "      <td>0</td>\n",
       "      <td>0</td>\n",
       "      <td>1</td>\n",
       "      <td>0</td>\n",
       "    </tr>\n",
       "  </tbody>\n",
       "</table>\n",
       "</div>"
      ],
      "text/plain": [
       "   bill_length_mm  bill_depth_mm  flipper_length_mm  body_mass_g  \\\n",
       "0        0.254545       0.666667           0.152542  3750.000000   \n",
       "1        0.269091       0.511905           0.237288  3800.000000   \n",
       "2        0.298182       0.583333           0.389831  3250.000000   \n",
       "3        0.429888       0.482282           0.490088  4201.754386   \n",
       "4        0.167273       0.738095           0.355932  3450.000000   \n",
       "\n",
       "   species_Chinstrap  species_Gentoo  island_Dream  island_Torgersen  sex_Male  \n",
       "0                  0               0             0                 1         1  \n",
       "1                  0               0             0                 1         0  \n",
       "2                  0               0             0                 1         0  \n",
       "3                  0               0             0                 1         0  \n",
       "4                  0               0             0                 1         0  "
      ]
     },
     "execution_count": 67,
     "metadata": {},
     "output_type": "execute_result"
    }
   ],
   "source": [
    "import pandas as pd\n",
    "\n",
    "df_dummy = pd.get_dummies(df, columns=['species', 'island','sex'], drop_first=True)\n",
    "\n",
    "df_dummy.head(5)"
   ]
  },
  {
   "cell_type": "markdown",
   "metadata": {},
   "source": [
    "**Q6** At this point, our penguins dataset have \n",
    "\n",
    "- scaled features `['bill_length_mm', 'bill_depth_mm', 'flipper_length_mm']`, and \n",
    "\n",
    "- dummy variables from `['species', 'island', 'sex']`\n",
    "\n",
    "Use these features to fit a linear regression model to predict `body_mass_g`.\n",
    "\n",
    "Compute the 5 fold cross validation score using R2 as the scoring metric.\n"
   ]
  },
  {
   "cell_type": "code",
   "execution_count": 68,
   "metadata": {
    "tags": [
     "solution"
    ]
   },
   "outputs": [
    {
     "name": "stdout",
     "output_type": "stream",
     "text": [
      "Average R-squared: 0.86275\n",
      "Standard Deviation of R-squared: 0.02198\n"
     ]
    }
   ],
   "source": [
    "X = df_dummy.drop('body_mass_g', axis=1)\n",
    "y = df_dummy['body_mass_g']\n",
    "\n",
    "\n",
    "# Initialize Linear Regression model\n",
    "model = LinearRegression()\n",
    "\n",
    "# Setup 5-fold cross-validation\n",
    "kf = KFold(n_splits=5, shuffle=True, random_state=1)\n",
    "\n",
    "# Perform cross-validation\n",
    "r2_scores = cross_val_score(model, X, y, cv=kf, scoring='r2')\n",
    "\n",
    "# Calculate average and standard deviation of R-squared scores\n",
    "average_r2 = np.mean(r2_scores)\n",
    "std_r2 = np.std(r2_scores)\n",
    "\n",
    "print(f'Average R-squared: {average_r2:.5f}')\n",
    "print(f'Standard Deviation of R-squared: {std_r2:.5f}')\n"
   ]
  }
 ],
 "metadata": {
  "kernelspec": {
   "display_name": "base",
   "language": "python",
   "name": "python3"
  },
  "language_info": {
   "codemirror_mode": {
    "name": "ipython",
    "version": 3
   },
   "file_extension": ".py",
   "mimetype": "text/x-python",
   "name": "python",
   "nbconvert_exporter": "python",
   "pygments_lexer": "ipython3",
   "version": "3.7.13"
  }
 },
 "nbformat": 4,
 "nbformat_minor": 2
}
