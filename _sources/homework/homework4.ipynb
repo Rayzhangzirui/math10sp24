{
 "cells": [
  {
   "cell_type": "markdown",
   "metadata": {},
   "source": [
    "# Homework 4 (Due 5/10)\n",
    "\n",
    "## Name:\n",
    "\n",
    "## ID:\n",
    "\n",
    "## Instructions\n",
    "Run everything (select cell in the menu, and click Run all), export as pdf, and submit the pdf to gradescope. \n",
    "\n",
    "To export as pdf, you can use the following methods: (1) File -> download as -> pdf (2) print as pdf from browser."
   ]
  },
  {
   "cell_type": "markdown",
   "metadata": {},
   "source": [
    "**Q1** Linear regression on exponential growth\n",
    "\n",
    "Suppose we want to measure the growth of a population of bacteria. We culture the bacteria in a test tube.\n",
    "We measure the volume of the cell culture at various times (hr) and obtain the following dataframe:\n"
   ]
  },
  {
   "cell_type": "code",
   "execution_count": 15,
   "metadata": {},
   "outputs": [
    {
     "name": "stdout",
     "output_type": "stream",
     "text": [
      "   time  Volume\n",
      "0   0.0    0.37\n",
      "1   1.5    1.63\n",
      "2   5.0    2.40\n",
      "3   9.0    6.20\n",
      "4  10.0   10.66\n"
     ]
    }
   ],
   "source": [
    "import pandas as pd\n",
    "df_bac = pd.DataFrame({'time': [0, 1.5, 5, 9, 10], 'Volume':[0.37, 1.63, 2.4, 6.2, 10.66]})\n",
    "print(df_bac)"
   ]
  },
  {
   "cell_type": "markdown",
   "metadata": {},
   "source": [
    "(1) Use linear regression to fit the data. Compute the $R^2$. Plot the data and the fitted line on the same figure. "
   ]
  },
  {
   "cell_type": "code",
   "execution_count": null,
   "id": "441cf0b0",
   "metadata": {},
   "outputs": [],
   "source": [
    "# code here"
   ]
  },
  {
   "cell_type": "markdown",
   "metadata": {},
   "source": [
    "(2) We know that when nutrients are abundant, the bacteria grow exponentially. Therefore, a better model might be\n",
    "\n",
    "$$ y = a e^{bx} $$\n",
    "\n",
    "where $y$ is the volume of the bacteria culture and $x$ is the time. \n",
    "\n",
    "Can we turn this into a linear regression problem?\n",
    "\n",
    "Hint: Take the natural logarithm of both sides of the equation."
   ]
  },
  {
   "cell_type": "markdown",
   "id": "c7c0353e",
   "metadata": {},
   "source": [
    "*Answer here*"
   ]
  },
  {
   "cell_type": "markdown",
   "metadata": {},
   "source": [
    "(3) After the transformation, find the optimal values of $a$ and $b$.  Compute the $R^2$. Is it better than the linear model?"
   ]
  },
  {
   "cell_type": "code",
   "execution_count": null,
   "id": "3151ba35",
   "metadata": {},
   "outputs": [],
   "source": [
    "# code here"
   ]
  },
  {
   "cell_type": "code",
   "execution_count": null,
   "id": "f056c80d",
   "metadata": {},
   "outputs": [],
   "source": [
    "# code here"
   ]
  },
  {
   "cell_type": "markdown",
   "metadata": {},
   "source": [
    "(4) Plot the data and the fitted curve in the same figure."
   ]
  },
  {
   "cell_type": "code",
   "execution_count": null,
   "id": "ec000c16",
   "metadata": {},
   "outputs": [],
   "source": [
    "# code here"
   ]
  },
  {
   "cell_type": "markdown",
   "metadata": {},
   "source": [
    "**Q2** Multiple linear regression\n",
    "\n",
    "In this problem, we would like to predict the `body_mass_g` of a penguin based on the other features in the dataset."
   ]
  },
  {
   "cell_type": "code",
   "execution_count": 20,
   "metadata": {},
   "outputs": [],
   "source": [
    "# Do not modify this cell\n",
    "df = sns.load_dataset(\"penguins\")\n",
    "df.dropna(thresh=6,inplace=True)\n",
    "\n",
    "from sklearn.model_selection import train_test_split\n",
    "# the stratify parameter makes sure that the train and test sets have the same proportion of species\n",
    "df_train, df_test = train_test_split(df, test_size=0.5, random_state=0, stratify=df['species'])"
   ]
  },
  {
   "cell_type": "markdown",
   "metadata": {},
   "source": [
    "**(1)** First, let's start with single variable linear regression. Among the following numerical features, \n",
    "\n",
    "`features = ['bill_length_mm', 'bill_depth_mm',\t'flipper_length_mm']`\n",
    "\n",
    "which one is the best predictor of `body_mass_g`?\n",
    "\n",
    "For each feature, fit a linear regression model and compute the $R^2$ on the training and testing data."
   ]
  },
  {
   "cell_type": "code",
   "execution_count": null,
   "id": "4494e575",
   "metadata": {},
   "outputs": [],
   "source": [
    "# code here"
   ]
  },
  {
   "cell_type": "markdown",
   "metadata": {},
   "source": [
    "**(2)** Best subset selection\n",
    "\n",
    "In this exercise, Let's consider what is the best subset of features to predict `body_mass_g`.\n",
    "\n",
    "Since we have 3 features, there are $2^3 = 8$ possible models. To generate all combinations, you can look up the `combinations` function in the `itertools` module (part of the Python standard library).\n",
    "\n",
    "For each model, fit a linear regression model and compute the $R^2$ on the training and testing data.\n",
    "\n",
    "Is the one using all features the best model?"
   ]
  },
  {
   "cell_type": "code",
   "execution_count": null,
   "id": "d2e5ec66",
   "metadata": {},
   "outputs": [],
   "source": [
    "# code here"
   ]
  },
  {
   "cell_type": "markdown",
   "metadata": {},
   "source": [
    "**Q3** Including categorical variables in linear regression\n",
    "\n",
    "In this problem, we stil want to predict the `body_mass_g` of a penguin based on other features in the dataset.\n",
    "\n",
    "Let's try to make use of the `species` feature in the penguins dataset. "
   ]
  },
  {
   "cell_type": "code",
   "execution_count": 23,
   "metadata": {},
   "outputs": [],
   "source": [
    "# Do not modify this cell\n",
    "df_penguins = sns.load_dataset(\"penguins\")\n",
    "df_penguins.dropna(thresh=6,inplace=True)\n"
   ]
  },
  {
   "cell_type": "markdown",
   "metadata": {},
   "source": [
    "**(1)** \n",
    "\n",
    "We can think of two different methods to encode the categorical feature:\n",
    "\n",
    "1. Method 1: Using integer 1, 2, 3 ...\n",
    "\n",
    "2. Method 2: Using dummy variables such as `is_category_A`, where `is_category_A` is 1 if the category is A, 0 otherwise.\n",
    "\n",
    "In this problem, we will compare the two methods.\n",
    "\n",
    "For our dataset, the species are `['Adelie', 'Chinstrap', 'Gentoo']`. \n",
    "\n",
    "Let's generate a few new features in `df_penguins`:\n",
    "\n",
    "- `code` is 0 if the species is Adelie, 1 if the species is Chinstrap, 2 if the species is Gentoo\n",
    "\n",
    "- `is_Adelie` is 1 if the species is Adelie, 0 otherwise\n",
    "\n",
    "- `is_Chinstrap` is 1 if the species is Chinstrap, 0 otherwise\n",
    "\n",
    "The `is_Adelie` and `is_Chinstrap` features are called dummy variables.\n",
    "\n"
   ]
  },
  {
   "cell_type": "code",
   "execution_count": null,
   "id": "e47c29d5",
   "metadata": {},
   "outputs": [],
   "source": [
    "# code here"
   ]
  },
  {
   "cell_type": "markdown",
   "metadata": {},
   "source": [
    "After generating these new features, split the new augmented dataframe into training and testing sets use the following command"
   ]
  },
  {
   "cell_type": "code",
   "execution_count": 25,
   "metadata": {},
   "outputs": [],
   "source": [
    "# Do not modify this cell\n",
    "df_penguins_train, df_penguins_test = train_test_split(df_penguins, test_size=0.5, random_state=0, stratify=df_penguins['species'])"
   ]
  },
  {
   "cell_type": "markdown",
   "metadata": {},
   "source": [
    "(2) Compare the performance using different combinations of features. Compute the $R^2$ on training and testing sets. Which one is the best?\n",
    "\n",
    "- Baseline: `['bill_length_mm', 'bill_depth_mm', 'flipper_length_mm']`\n",
    "\n",
    "- Use code: `['bill_length_mm', 'bill_depth_mm', 'flipper_length_mm', 'code']`\n",
    "\n",
    "- Use dummy: `['bill_length_mm', 'bill_depth_mm', 'flipper_length_mm', 'is_Adelie', 'is_Chinstrap']`"
   ]
  },
  {
   "cell_type": "code",
   "execution_count": null,
   "id": "9646eac1",
   "metadata": {},
   "outputs": [],
   "source": [
    "# code here"
   ]
  },
  {
   "cell_type": "code",
   "execution_count": null,
   "id": "bd57020b",
   "metadata": {},
   "outputs": [],
   "source": [
    "# code here"
   ]
  },
  {
   "cell_type": "markdown",
   "metadata": {},
   "source": [
    "(3) A final method is to fit a linear regression model for each species separately. \n",
    "\n",
    " body_mass = $\\beta^s_0$ + $\\beta^s_1$ bill_length + $\\beta^s_2$ bill_depth + $\\beta^s_3$ flipper_length\n",
    "\n",
    "where $s\\in$ {Adelie, Chinstrap, Gentoo}.\n",
    "\n",
    "Compute the $R^2$ on training and testing sets. Is this method better?"
   ]
  },
  {
   "cell_type": "code",
   "execution_count": null,
   "id": "12042c4e",
   "metadata": {},
   "outputs": [],
   "source": [
    "# code here"
   ]
  }
 ],
 "metadata": {
  "kernelspec": {
   "display_name": "base",
   "language": "python",
   "name": "python3"
  },
  "language_info": {
   "codemirror_mode": {
    "name": "ipython",
    "version": 3
   },
   "file_extension": ".py",
   "mimetype": "text/x-python",
   "name": "python",
   "nbconvert_exporter": "python",
   "pygments_lexer": "ipython3",
   "version": "3.7.13"
  }
 },
 "nbformat": 4,
 "nbformat_minor": 2
}
