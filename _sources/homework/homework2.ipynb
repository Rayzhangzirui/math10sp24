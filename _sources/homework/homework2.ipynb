{
 "cells": [
  {
   "cell_type": "markdown",
   "id": "37691194",
   "metadata": {},
   "source": [
    "# Homework 2 (Due 4/19 11:59 PM)\n",
    "\n",
    "## Name:\n",
    "\n",
    "## ID:\n",
    "\n",
    "## Instructions\n",
    "Run everything (select cell in the menu, and click Run all), export as pdf, and submit the pdf to gradescope. \n",
    "\n",
    "To export as pdf, you can use the following methods: (1) File -> download as -> pdf (2) print as pdf from browser."
   ]
  },
  {
   "cell_type": "markdown",
   "id": "6ce6101c",
   "metadata": {},
   "source": [
    "**Q1** Implement a `Rectangle` class with the following attributes and methods:\n",
    "- Attributes: `width`, `height`\n",
    "- Methods: \n",
    "    - `__init__(self, width, height)`: initialize the width and height of the rectangle\n",
    "    - `area(self)`: return the area of the rectangle\n",
    "    - `smaller_than(self, rec)`: return True if the area of the rectangle is smaller than the area of another rectange object `rec`, False otherwise\n",
    "    - `resize(self, c)`: resize the rectangle, where `c` is a scaling factor. For example, if `c=2`, the width and height of the rectangle will be doubled. If `c=0.5`, the width and height of the rectangle will be halved.\n",
    "    - If `rec` is a Rectangle object, `print(rec)` should print the width and height of the rectangle.\n",
    "    - (Challenge, not graded) overload the '<' operator so that `rec1 < rec2` returns True if the area of rec1 is less than the area of rec2, False otherwise.\n",
    "\n"
   ]
  },
  {
   "cell_type": "markdown",
   "id": "9dac337e",
   "metadata": {},
   "source": [
    "(1) Define your class here"
   ]
  },
  {
   "cell_type": "code",
   "execution_count": 9,
   "id": "812357b1",
   "metadata": {},
   "outputs": [],
   "source": [
    "# code here"
   ]
  },
  {
   "cell_type": "markdown",
   "id": "2557678b",
   "metadata": {},
   "source": [
    "(2) Use examples to demonstrate your class works correctly."
   ]
  },
  {
   "cell_type": "code",
   "execution_count": null,
   "id": "01d4cf8c",
   "metadata": {},
   "outputs": [],
   "source": [
    "# code here"
   ]
  },
  {
   "cell_type": "markdown",
   "id": "056285e4",
   "metadata": {},
   "source": [
    "Q2 Binomial Distribution: If we throw a coin, which has probability of head $p$, $n$ times. Let X be the number of heads. Then X is a random variable, and the probability of getting $k$ heads is given by the binomial distribution."
   ]
  },
  {
   "cell_type": "markdown",
   "id": "ddc7aadf",
   "metadata": {},
   "source": [
    "(1) Suppose we throw a fair coin 10 times. Intuitively, what should the distribution looks like? Find the `numpy` function that sample from the binomial distribution. Visualize the distribution using a histogram.\n",
    "\n"
   ]
  },
  {
   "cell_type": "code",
   "execution_count": null,
   "id": "5e4b1a60",
   "metadata": {},
   "outputs": [],
   "source": [
    "#code here"
   ]
  },
  {
   "cell_type": "markdown",
   "id": "961b6399",
   "metadata": {},
   "source": [
    "(2) Suppose $n=10$ and $p=0.6$. Intuitively, what is the expectation of X. Estimate the expectation and variance of X numerically using 10000 samples."
   ]
  },
  {
   "cell_type": "code",
   "execution_count": null,
   "id": "780dfe05",
   "metadata": {},
   "outputs": [],
   "source": [
    "#code here"
   ]
  },
  {
   "cell_type": "markdown",
   "id": "524c7d93",
   "metadata": {},
   "source": []
  }
 ],
 "metadata": {
  "kernelspec": {
   "display_name": "Python 3 (ipykernel)",
   "language": "python",
   "name": "python3"
  },
  "language_info": {
   "codemirror_mode": {
    "name": "ipython",
    "version": 3
   },
   "file_extension": ".py",
   "mimetype": "text/x-python",
   "name": "python",
   "nbconvert_exporter": "python",
   "pygments_lexer": "ipython3",
   "version": "3.11.5"
  }
 },
 "nbformat": 4,
 "nbformat_minor": 5
}
