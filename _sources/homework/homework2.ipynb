{
 "cells": [
  {
   "cell_type": "markdown",
   "id": "37691194",
   "metadata": {},
   "source": [
    "# Homework 2 (Due 4/19 11:59 PM)\n",
    "\n",
    "## Name:\n",
    "\n",
    "## ID:\n",
    "\n",
    "## Instructions\n",
    "Run everything (select cell in the menu, and click Run all), export as pdf, and submit the pdf to gradescope. \n",
    "\n",
    "To export as pdf, you can use the following methods: (1) File -> download as -> pdf (2) print as pdf from browser."
   ]
  },
  {
   "cell_type": "markdown",
   "id": "6ce6101c",
   "metadata": {},
   "source": [
    "**Q1** Implement a `Rectangle` class with the following attributes and methods:\n",
    "- Attributes: `width`, `height`\n",
    "- Methods: \n",
    "    - `__init__(self, width, height)`: initialize the width and height of the rectangle\n",
    "    - `area(self)`: return the area of the rectangle\n",
    "    - `smaller_than(self, rec)`: return True if the area of the rectangle is smaller than the area of another rectange object `rec`, False otherwise\n",
    "    - `resize(self, c)`: resize the rectangle, where `c` is a scaling factor. For example, if `c=2`, the width and height of the rectangle will be doubled. If `c=0.5`, the width and height of the rectangle will be halved.\n",
    "    - If `rec` is a Rectangle object, `print(rec)` should print the `(width,height)` of the rectangle.\n",
    "    - (Challenge, not graded) overload the '<' operator so that `rec1 < rec2` returns True if the area of rec1 is less than the area of rec2, False otherwise.\n",
    "\n"
   ]
  },
  {
   "cell_type": "markdown",
   "id": "9dac337e",
   "metadata": {},
   "source": [
    "(1) Define your class here"
   ]
  },
  {
   "cell_type": "code",
   "execution_count": 1,
   "id": "812357b1",
   "metadata": {},
   "outputs": [],
   "source": [
    "# code here"
   ]
  },
  {
   "cell_type": "markdown",
   "id": "2557678b",
   "metadata": {},
   "source": [
    "(2) Use examples to demonstrate your class works correctly: what should be the outcome and print the output of the code"
   ]
  },
  {
   "cell_type": "code",
   "execution_count": 2,
   "id": "01d4cf8c",
   "metadata": {},
   "outputs": [],
   "source": [
    "# code here"
   ]
  },
  {
   "cell_type": "markdown",
   "id": "056285e4",
   "metadata": {},
   "source": [
    "Q2 Binomial Distribution: If we throw a coin $n$ times, and the probability of getting a head is $p$. Let X be the number of heads. Then X is a random variable, and the probability of getting $k$ heads is given by the binomial distribution."
   ]
  },
  {
   "cell_type": "markdown",
   "id": "ddc7aadf",
   "metadata": {},
   "source": [
    "(1) Suppose we draw N samples from the distribution with n = 100 and p = 0.5. That is, each sample is the number of heads we get when we throw a fair coin 100 times. \n",
    "\n",
    "Intuitively, what should the distribution looks like? Find the `numpy` function that sample from the binomial distribution. Visualize the distribution using a histogram. Choose a large N. (e.g N= 1000)\n",
    "\n"
   ]
  },
  {
   "cell_type": "code",
   "execution_count": 3,
   "id": "5e4b1a60",
   "metadata": {},
   "outputs": [],
   "source": [
    "#code here\n"
   ]
  },
  {
   "cell_type": "markdown",
   "id": "961b6399",
   "metadata": {},
   "source": [
    "(2) Suppose $n=100$ and $p=0.6$. Intuitively, what is the expectation of X. Estimate the expectation and variance of X numerically using 10000 samples."
   ]
  },
  {
   "cell_type": "code",
   "execution_count": 4,
   "id": "780dfe05",
   "metadata": {},
   "outputs": [],
   "source": [
    "#code here"
   ]
  },
  {
   "cell_type": "markdown",
   "id": "208bd3a7",
   "metadata": {},
   "source": [
    "Q3\n",
    "\n",
    "Explore the tip dataset. You can load the dataset from seaborn.\n",
    "\n",
    "```python\n",
    "import seaborn as sns\n",
    "tips = sns.load_dataset('tips')\n",
    "```\n",
    "\n",
    "or you can download the dataset from [here](https://github.com/mwaskom/seaborn-data/blob/master/tips.csv).\n",
    "\n",
    "\n",
    "Answer the following questions. Use numbers and figures to support your answers.\n"
   ]
  },
  {
   "cell_type": "markdown",
   "id": "13d74a8a",
   "metadata": {},
   "source": [
    "(1) What is the average, median, and standard deviation of the *tip amount* and *tip percentage*?\n",
    "\n"
   ]
  },
  {
   "cell_type": "code",
   "execution_count": 5,
   "id": "ef9aa837",
   "metadata": {},
   "outputs": [],
   "source": [
    "# code and answer here"
   ]
  },
  {
   "cell_type": "markdown",
   "id": "db88854e",
   "metadata": {},
   "source": [
    "(2) Are people more willing to give higher tip when the party size is larger? Should we consider tip percentage or tip amount in this case.\n",
    "\n",
    "\n"
   ]
  },
  {
   "cell_type": "code",
   "execution_count": 6,
   "id": "1042b086",
   "metadata": {},
   "outputs": [],
   "source": [
    "# code and answer here"
   ]
  },
  {
   "cell_type": "markdown",
   "id": "1e2d8ff4",
   "metadata": {},
   "source": [
    "(3) Does the day of the week affect the tip percentage? Use figures to support your answer."
   ]
  },
  {
   "cell_type": "code",
   "execution_count": 7,
   "id": "d4849153",
   "metadata": {},
   "outputs": [],
   "source": [
    "# code and answer here"
   ]
  },
  {
   "cell_type": "markdown",
   "id": "1126a2c5",
   "metadata": {},
   "source": [
    "(4) If a someone book a reservation with party of 4 on Saturday, what is the expected tip amount? "
   ]
  },
  {
   "cell_type": "code",
   "execution_count": 8,
   "id": "34edafe3",
   "metadata": {},
   "outputs": [],
   "source": [
    "# code and answer here"
   ]
  }
 ],
 "metadata": {
  "kernelspec": {
   "display_name": "Python 3 (ipykernel)",
   "language": "python",
   "name": "python3"
  },
  "language_info": {
   "codemirror_mode": {
    "name": "ipython",
    "version": 3
   },
   "file_extension": ".py",
   "mimetype": "text/x-python",
   "name": "python",
   "nbconvert_exporter": "python",
   "pygments_lexer": "ipython3",
   "version": "3.11.5"
  }
 },
 "nbformat": 4,
 "nbformat_minor": 5
}
