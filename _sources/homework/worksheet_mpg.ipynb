{
 "cells": [
  {
   "cell_type": "markdown",
   "metadata": {
    "cell_id": "2d1b623617224d72896ab43e2d7a7d5a",
    "deepnote_cell_type": "markdown"
   },
   "source": [
    "# worksheet week 3\n",
    "\n",
    "Worksheet on Pandas and Visualization using the mpg dataset. Load the mgp dataset and answer the following questions.\n",
    "\n",
    "You can load the dataset using the following code:\n",
    "\n",
    "```python\n",
    "import seaborn as sns\n",
    "df = sns.load_dataset('mpg')\n",
    "```\n",
    "\n",
    "or you can download the dataset from [here](https://github.com/mwaskom/seaborn-data/blob/master/mpg.csv) and load it using the following code:\n",
    "\n",
    "```python\n",
    "import pandas as pd\n",
    "df = pd.read_csv('mpg.csv')\n",
    "```\n",
    "\n"
   ]
  },
  {
   "cell_type": "markdown",
   "metadata": {},
   "source": [
    "Q: Describe the dataset. What is this dataset about? How many observations does it have? How many features?\n"
   ]
  },
  {
   "cell_type": "markdown",
   "metadata": {},
   "source": [
    "Q: Is there missing data in the dataset? What's your plan to handle the missing data and why?"
   ]
  },
  {
   "cell_type": "markdown",
   "metadata": {},
   "source": [
    "Q: Create a new column `weight_kg` that converts weight from pounds to kilograms (1 pound = 0.453592 kg). Display the first few rows of the dataset after adding this new column."
   ]
  },
  {
   "cell_type": "markdown",
   "metadata": {},
   "source": [
    "Q: How to visualize the distribution of the `mpg` of different `origin`?"
   ]
  },
  {
   "cell_type": "markdown",
   "metadata": {},
   "source": [
    "Q: How to visualize different percentiles of `mpg` for different `origin`?"
   ]
  },
  {
   "cell_type": "markdown",
   "metadata": {},
   "source": [
    "Q: Calculate and display the mean and standard deviation of the `mpg` and `horsepower` for each country."
   ]
  },
  {
   "cell_type": "markdown",
   "metadata": {},
   "source": [
    "Q: Compute the correlation matrix for mpg, weight, horsepower, and acceleration.\n",
    "\n",
    "Then, create a heatmap to visualize these correlations. Which two features have the strongest correlation? Is there explanation for this correlation?"
   ]
  },
  {
   "cell_type": "markdown",
   "metadata": {},
   "source": [
    "Q: Create a pair plot of `mpg`, `displacement`, `horsepower`, and `weight`, colored by the `origin` of the cars. How do these variables interact with each other, and does car origin seem to influence these interactions?"
   ]
  },
  {
   "cell_type": "markdown",
   "metadata": {},
   "source": [
    "Q Assuming the dataset includes a `model_year`, plot the trend of average `mpg` over the years. What trend do you observe in fuel efficiency over the years?"
   ]
  },
  {
   "cell_type": "markdown",
   "metadata": {},
   "source": [
    "Q Suppose someone says \"US cars are less fuel efficient than European and Japanese cars\". Use the data, think of arguments that support and oppose this statement."
   ]
  }
 ],
 "metadata": {
  "deepnote": {},
  "deepnote_execution_queue": [],
  "deepnote_notebook_id": "10c00f3043944b9ebe3ee417968fcfd0",
  "deepnote_persisted_session": {
   "createdAt": "2023-10-16T21:31:24.983Z"
  },
  "kernelspec": {
   "display_name": "Python 3 (ipykernel)",
   "language": "python",
   "name": "python3"
  },
  "language_info": {
   "codemirror_mode": {
    "name": "ipython",
    "version": 3
   },
   "file_extension": ".py",
   "mimetype": "text/x-python",
   "name": "python",
   "nbconvert_exporter": "python",
   "pygments_lexer": "ipython3",
   "version": "3.11.5"
  }
 },
 "nbformat": 4,
 "nbformat_minor": 4
}
