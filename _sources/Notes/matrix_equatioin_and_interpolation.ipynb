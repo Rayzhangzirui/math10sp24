{
 "cells": [
  {
   "attachments": {},
   "cell_type": "markdown",
   "id": "9ca5c1ad-e1de-46cf-8978-e35f265cdaed",
   "metadata": {},
   "source": [
    "# Note: Solving Systems of Linear Equations (Matrix Equations)"
   ]
  },
  {
   "attachments": {},
   "cell_type": "markdown",
   "id": "2315d969",
   "metadata": {},
   "source": [
    "\n",
    "# Dot prodcut\n",
    "\n",
    "If we have two vectors (1d array) with the same length: \n",
    "$a = [a_1, a_2, \\dots a_n]$,\n",
    "$b = [b_1, b_2, \\dots b_n]$\n",
    "\n",
    "we can define the dot product between these two vectors: $a\\cdot b = \\sum_{i=1}^{n} a_i b_i$\n",
    "\n",
    "# Matrix vector multiplication\n",
    "\n",
    "Let \n",
    "\n",
    "$$\n",
    "A = \\begin{bmatrix}\n",
    "  a_{11} & a_{12} & \\dots &a_{1n} \\\\\n",
    "  a_{21} & a_{22} & \\dots &a_{2n} \\\\\n",
    "  \\vdots & \\vdots & \\dots &\\vdots \\\\\n",
    "  a_{n1} & a_{n2} & \\dots &a_{nn} \\\\\n",
    "\\end{bmatrix}\n",
    ",\\quad\n",
    "x = \n",
    "\\begin{bmatrix}\n",
    "  x_{1} \\\\\n",
    "  x_{2} \\\\\n",
    "  \\vdots \\\\\n",
    "  x_{n} \\\\\n",
    "\\end{bmatrix}\n",
    "$$\n",
    "\n",
    "$a_{ij}$ is the element at the i-th row and j-th column of A.\n",
    "\n",
    "Define the matrix-vector multiplication\n",
    "\n",
    "$$\\begin{aligned}\n",
    "A x =\n",
    "\\begin{bmatrix}\n",
    "  a_{11} & a_{12} & \\dots &a_{1n} \\\\\n",
    "  a_{21} & a_{22} & \\dots &a_{2n} \\\\\n",
    "  \\vdots & \\vdots & \\dots &\\vdots \\\\\n",
    "  a_{n1} & a_{n2} & \\dots &a_{nn} \\\\\n",
    "\\end{bmatrix}\n",
    "\\begin{bmatrix}\n",
    "  x_{1} \\\\\n",
    "  x_{2} \\\\\n",
    "  \\vdots \\\\\n",
    "  x_{n} \\\\\n",
    "\\end{bmatrix}\n",
    " = \n",
    "\\begin{bmatrix}\n",
    "  a_{11} x_1 +  a_{12} x_2 \\dots a_{1n} x_n \\\\\n",
    "  a_{21} x_1 +  a_{22} x_2 \\dots a_{2n} x_n \\\\\n",
    "  \\vdots \\\\\n",
    "  a_{n1} x_1 +  a_{n2} x_2 \\dots a_{nn} x_n \\\\\n",
    "\\end{bmatrix}\\\\\n",
    "\\end{aligned}$$\n",
    "\n",
    "Essentially, we take each row of A (a 1d array of n elements) and compute its dot product with $x$ (also a 1d array of n elements)\n",
    "\n",
    "# Systems of linear equations\n",
    "Here is a system of n linear equations with n unknowns $[x_1, x_2, \\dots x_n]$ \n",
    "\n",
    "$$\\begin{cases}\n",
    "  a_{11} x_1 +  a_{12} x_2 \\dots a_{1n} x_n = y_1 \\\\\n",
    "  a_{21} x_1 +  a_{22} x_2 \\dots a_{2n} x_n = y_2 \\\\\n",
    "  \\vdots \\\\\n",
    "  a_{n1} x_1 +  a_{n2} x_2 \\dots a_{nn} x_n = y_n \\\\\n",
    "\\end{cases}  $$\n",
    "\n",
    "We can write it as matrix equation $Ax = b$\n",
    "where \n",
    "\n",
    "$$A = \\begin{bmatrix}\n",
    "  a_{11} & a_{12} & \\dots &a_{1n} \\\\\n",
    "  a_{21} & a_{22} & \\dots &a_{2n} \\\\\n",
    "  \\vdots & \\vdots & \\dots &\\vdots \\\\\n",
    "  a_{n1} & a_{n2} & \\dots &a_{nn} \\\\\n",
    "\\end{bmatrix}\n",
    ",\\quad\n",
    "x = \n",
    "\\begin{bmatrix}\n",
    "  x_{1} \\\\\n",
    "  x_{2} \\\\\n",
    "  \\vdots \\\\\n",
    "  x_{n} \\\\\n",
    "\\end{bmatrix}\n",
    ",\\quad\n",
    "b = \n",
    "\\begin{bmatrix}\n",
    "  y_{1} \\\\\n",
    "  y_{2} \\\\\n",
    "  \\vdots \\\\\n",
    "  y_{n} \\\\\n",
    "\\end{bmatrix}$$\n",
    "\n",
    "The matrix A and the vector b are known. The vectors $x$ is unknown. Solving the matrix equation means finding $x$ such that $Ax=b$\n",
    "\n",
    "\n",
    "# Example\n",
    "To solve the following system of equations\n",
    "$$\\begin{cases}\n",
    " x_1  + x_2  +  x_3 =  6\\\\\n",
    "2x_1 +  x_2  + 2x_3 = 10\\\\\n",
    "3x_1 + 2x_2 +   x_3 = 10\\\\\n",
    "\\end{cases}$$\n",
    "\n",
    "We can write it as a matrix equation $Ax = b$\n",
    "\n",
    "\n",
    "$$\n",
    "A = \n",
    "\\begin{bmatrix}\n",
    "  1& 1 & 1 \\\\\n",
    "  2& 1 & 2 \\\\\n",
    "  3& 2 & 1 \\\\\n",
    "\\end{bmatrix}  \n",
    ",\\quad\n",
    "x = \\begin{bmatrix}\n",
    "  x_1\\\\\n",
    "  x_2\\\\\n",
    "  x_3\\\\\n",
    "\\end{bmatrix}  \n",
    ",\\quad\n",
    "b = \n",
    "\\begin{bmatrix}\n",
    "  6\\\\\n",
    "  10\\\\\n",
    "  10\\\\\n",
    "\\end{bmatrix}  \n",
    "$$\n",
    "\n",
    "# Solve the matrix equation\n",
    "\n",
    "In matlab, we solve the equation by `x = A\\b`. In python, use np.linalg.solve\n",
    "\n",
    "Note: Mathematically, we usually think of x and b as column vectors. In Matlab `x = A\\b`, b and x should be column vector. In `x=numpy.linalg.solve(A,b)`, b can be row or column vector, and the shape of the returned x is identical to b.\n"
   ]
  },
  {
   "cell_type": "code",
   "execution_count": 1,
   "id": "ba3bc6dc-ed3d-4753-b676-76d09b578f19",
   "metadata": {},
   "outputs": [
    {
     "name": "stdout",
     "output_type": "stream",
     "text": [
      "[[1.]\n",
      " [2.]\n",
      " [3.]]\n"
     ]
    }
   ],
   "source": [
    "import numpy as np\n",
    "\n",
    "# solve \n",
    "# x  + y  +  z = 6\n",
    "# 2x + y  + 2z = 10\n",
    "# 3x + 2y +  z = 10\n",
    "\n",
    "A = np.array([[1,1,1],[2,1,2],[3,2,1]])\n",
    "b = np.array([[6],[10],[10]])\n",
    "\n",
    "x = np.linalg.solve(A,b)\n",
    "print(x)            "
   ]
  },
  {
   "attachments": {},
   "cell_type": "markdown",
   "id": "86d56823",
   "metadata": {},
   "source": [
    "Verify our solution by computing Ax and see if Ax = b"
   ]
  },
  {
   "cell_type": "code",
   "execution_count": 2,
   "id": "4979c645-888f-483b-86a4-39588eff452d",
   "metadata": {},
   "outputs": [
    {
     "data": {
      "text/plain": [
       "array([[ 6.],\n",
       "       [10.],\n",
       "       [10.]])"
      ]
     },
     "execution_count": 2,
     "metadata": {},
     "output_type": "execute_result"
    }
   ],
   "source": [
    "# compute Ax\n",
    "A@x "
   ]
  },
  {
   "cell_type": "code",
   "execution_count": 3,
   "id": "2feeccd8-a44a-4c9f-b2c5-843bda6d3277",
   "metadata": {},
   "outputs": [
    {
     "data": {
      "text/plain": [
       "array([[ 6.],\n",
       "       [10.],\n",
       "       [10.]])"
      ]
     },
     "execution_count": 3,
     "metadata": {},
     "output_type": "execute_result"
    }
   ],
   "source": [
    "#  also compute Ax\n",
    "A.dot(x)"
   ]
  },
  {
   "attachments": {},
   "cell_type": "markdown",
   "id": "97251c6c-1ad4-431b-8cd6-40bbc540c3c1",
   "metadata": {},
   "source": [
    "# Application: polynomial interpolation\n",
    "\n",
    "**Note: here the indices of $(x_i,y_i)$ start at i=0, so that the indexing is similar to numpy arrays.\n",
    "\n",
    "Goal: Given data points $(x_0, y_0)$ $(x_1, y_1)$, ... , $(x_n, y_n)$. Find the polynomial that passes through all the data points.\n",
    "\n",
    "For example, on the x-y plane, if we have two points, $(1,1)$, $(2,3)$. Then $p(x) = 2x-1$ is the unique straight line that passes these two points.\n",
    "\n",
    "If we have three points, $(0,0)$, $(1/2,1/4)$,$(1,0)$. Then $p(x) = x^2-x$ is the unique quadratic polynomial that passes these three points.\n",
    "\n",
    "We can see the pattern: to determine a polynomial of degree  $ n$, we need $n+1$ points from it.\n",
    "\n",
    "We know that a polynomial of degree n, denoted as $p_n(x)$, has this general form\n",
    "\n",
    "$$p_n(x) = a_0 + a_1 x + a_2 x^2 + \\dots a_n x^n $$\n",
    "\n",
    "Now the question becomes: given $n+1$ data points $(x_0, y_0)$, $(x_1, y_1)$, ... , $(x_n, y_n)$. Find the $n+1$ coefficients $a_0$, $a_1$, ..., $a_{n}$\n",
    "\n",
    "By plugging in the points $(x_0, y_0)$, $(x_1, y_1)$, ... , $(x_n, y_n)$ to the generic form $p_n(x)$, we get $n+1 $ equations:\n",
    "\n",
    "$$\n",
    "\\begin{cases}\n",
    "  a_{0} + a_{1} x_1 + a_{2} x_1^2 + \\dots a_{n} x_1^n = y_1 \\\\\n",
    "  a_{0} + a_{1} x_2 + a_{2} x_2^2 + \\dots a_{n} x_2^n = y_2 \\\\\n",
    "  \\vdots\\\\\n",
    "  a_{0} + a_{1} x_n + a_{2} x_n^2 + \\dots a_{n} x_n^n = y_n \\\\\n",
    "\\end{cases}  \n",
    "$$\n",
    "\n",
    "In matrix form, we have Ax = b\n",
    "where\n",
    "\n",
    "\n",
    "$$A = \\begin{bmatrix}\n",
    "  1 & x_0 & x_0^2 & \\dots &x_0^n \\\\\n",
    "  1 & x_1 & x_1^2 & \\dots &x_1^n \\\\\n",
    "  1 & x_2 & x_2^2 & \\dots &x_2^n \\\\\n",
    "  \\vdots &\\vdots & \\vdots & \\ddots &\\vdots \\\\\n",
    "  1 & x_n & x_n^2 & \\dots &x_n^n \\\\\n",
    "\\end{bmatrix}\n",
    ",\\quad\n",
    "x = \n",
    "\\begin{bmatrix}\n",
    "  a_{0} \\\\\n",
    "  a_{1} \\\\\n",
    "  a_{2} \\\\\n",
    "  \\vdots \\\\\n",
    "  a_{n} \\\\\n",
    "\\end{bmatrix}\n",
    ",\\quad\n",
    "b = \n",
    "\\begin{bmatrix}\n",
    "  y_{0} \\\\\n",
    "  y_{1} \\\\\n",
    "  y_{2} \\\\\n",
    "  \\vdots \\\\\n",
    "  y_{n} \\\\\n",
    "\\end{bmatrix}\n",
    "$$\n",
    "\n",
    "Solve this matrix equation to get x, which includes all the coefficients of the polynomial.\n",
    "\n",
    "$A$ is called the Vandermonde matrix.\n",
    "\n"
   ]
  },
  {
   "attachments": {},
   "cell_type": "markdown",
   "id": "0212a75e",
   "metadata": {},
   "source": [
    "# Example\n",
    "\n",
    "Q: what is the cubic polynomial that passes (0,-4), (1,-2), (2,2), (3,14)?\n",
    "\n",
    "\n"
   ]
  },
  {
   "cell_type": "code",
   "execution_count": 4,
   "id": "0352ed96-5d69-47ac-b638-800dd7d25de7",
   "metadata": {},
   "outputs": [],
   "source": [
    "def vandermonde(x):\n",
    "    n = len(x)\n",
    "    V = np.zeros(shape = (n,n))\n",
    "    for i in range(n):\n",
    "        for j in range(n):\n",
    "            V[i,j] = x[i]**(j)\n",
    "    return V"
   ]
  },
  {
   "cell_type": "code",
   "execution_count": 5,
   "id": "e1a70730",
   "metadata": {},
   "outputs": [
    {
     "name": "stdout",
     "output_type": "stream",
     "text": [
      "[[ 1.  0.  0.  0.]\n",
      " [ 1.  1.  1.  1.]\n",
      " [ 1.  2.  4.  8.]\n",
      " [ 1.  3.  9. 27.]]\n",
      "[-4.  3. -2.  1.]\n"
     ]
    }
   ],
   "source": [
    "x = np.array([0,1,2,3])\n",
    "y = np.array([-4,-2,2,14])\n",
    "# A = np.vander(x,increasing=True) # numpy has a function for the Vandermonde matrix\n",
    "A = vandermonde(x)\n",
    "a = np.linalg.solve(A,y)\n",
    "\n",
    "print(A)\n",
    "print(a)"
   ]
  },
  {
   "cell_type": "code",
   "execution_count": 6,
   "id": "0e9ad867-8057-4e4e-bf48-b885bcdd0da0",
   "metadata": {},
   "outputs": [
    {
     "data": {
      "text/plain": [
       "[<matplotlib.lines.Line2D at 0x7f8358035950>]"
      ]
     },
     "execution_count": 6,
     "metadata": {},
     "output_type": "execute_result"
    },
    {
     "data": {
      "image/png": "[encoded data removed]",
      "text/plain": [
       "<Figure size 640x480 with 1 Axes>"
      ]
     },
     "metadata": {},
     "output_type": "display_data"
    }
   ],
   "source": [
    "# plot the data points and the interpolating polynomial\n",
    "import matplotlib.pyplot as plt\n",
    "fig, ax = plt.subplots()\n",
    "\n",
    "# plot data points\n",
    "ax.scatter(x,y)\n",
    "\n",
    "# reconstructed polynomial\n",
    "cubic = lambda x: a[0] + a[1]*x + a[2]*x**2 + a[3]*x**3\n",
    "\n",
    "# plot polynomial\n",
    "xx = np.linspace(-1,4)\n",
    "yy = cubic(xx)\n",
    "ax.plot(xx,yy)"
   ]
  }
 ],
 "metadata": {
  "kernelspec": {
   "display_name": "Python 3 (ipykernel)",
   "language": "python",
   "name": "python3"
  },
  "language_info": {
   "codemirror_mode": {
    "name": "ipython",
    "version": 3
   },
   "file_extension": ".py",
   "mimetype": "text/x-python",
   "name": "python",
   "nbconvert_exporter": "python",
   "pygments_lexer": "ipython3",
   "version": "3.7.13"
  }
 },
 "nbformat": 4,
 "nbformat_minor": 5
}
