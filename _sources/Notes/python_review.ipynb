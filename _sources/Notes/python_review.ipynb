{
 "cells": [
  {
   "attachments": {},
   "cell_type": "markdown",
   "metadata": {},
   "source": [
    "# Python review\n",
    "\n",
    "key concepts: everything has a type, assigning is binding, scope of variable"
   ]
  },
  {
   "cell_type": "markdown",
   "metadata": {},
   "source": [
    "## Type\n",
    "In python, everything has a type. You can check the type of a variable using the `type()` function."
   ]
  },
  {
   "cell_type": "code",
   "execution_count": 1,
   "metadata": {},
   "outputs": [
    {
     "data": {
      "text/plain": [
       "int"
      ]
     },
     "execution_count": 1,
     "metadata": {},
     "output_type": "execute_result"
    }
   ],
   "source": [
    "type(1)"
   ]
  },
  {
   "cell_type": "code",
   "execution_count": 2,
   "metadata": {},
   "outputs": [
    {
     "data": {
      "text/plain": [
       "list"
      ]
     },
     "execution_count": 2,
     "metadata": {},
     "output_type": "execute_result"
    }
   ],
   "source": [
    "type([1,2,3])"
   ]
  },
  {
   "attachments": {},
   "cell_type": "markdown",
   "metadata": {},
   "source": [
    "## Assignment \n",
    "\n",
    "Assignment = statements in Python do not copy objects, they create bindings between a variable and an object. \n",
    "\n",
    "This is a very important concept in python, especially when dealing with list.\n",
    "\n",
    "For exams and quizzes, understanding the following three examples is enough"
   ]
  },
  {
   "cell_type": "code",
   "execution_count": 11,
   "metadata": {},
   "outputs": [
    {
     "name": "stdout",
     "output_type": "stream",
     "text": [
      "1 2\n"
     ]
    }
   ],
   "source": [
    "# normal behavior\n",
    "a=1\n",
    "b=a\n",
    "b=2\n",
    "print(a,b)\n"
   ]
  },
  {
   "cell_type": "code",
   "execution_count": 12,
   "metadata": {},
   "outputs": [
    {
     "name": "stdout",
     "output_type": "stream",
     "text": [
      "[-1, 2, 3] [-1, 2, 3]\n"
     ]
    }
   ],
   "source": [
    "a = [1,2,3]\n",
    "b = a\n",
    "a[0]=-1\n",
    "print(a,b)\n",
    "# a and b bind to the same list\n",
    "# essentially, different name for the same thing\n",
    "# change one, change the other"
   ]
  },
  {
   "cell_type": "code",
   "execution_count": 13,
   "metadata": {},
   "outputs": [
    {
     "name": "stdout",
     "output_type": "stream",
     "text": [
      "[-1, -2, 3] [-1, -2, 3]\n"
     ]
    }
   ],
   "source": [
    "# change b, a also changed\n",
    "b[1]=-2\n",
    "print(a,b)"
   ]
  },
  {
   "cell_type": "code",
   "execution_count": 14,
   "metadata": {},
   "outputs": [
    {
     "name": "stdout",
     "output_type": "stream",
     "text": [
      "[-1, 2, 3] [1, 2, 3]\n"
     ]
    }
   ],
   "source": [
    "a = [1,2,3]\n",
    "b = [] \n",
    "# at this stage, a and b are different lists,\n",
    "\n",
    "for i in a:\n",
    "    b.append(i)\n",
    "a[0] = -1\n",
    "print(a,b)\n",
    "\n",
    "# change one have no effect on the other"
   ]
  },
  {
   "cell_type": "code",
   "execution_count": 15,
   "metadata": {},
   "outputs": [
    {
     "name": "stdout",
     "output_type": "stream",
     "text": [
      "[1, 2, 3, 4] [1, 2, 3, 4]\n",
      "[-1, 2, 3, 4] [1, 2, 3, 4]\n"
     ]
    }
   ],
   "source": [
    "a = [1,2,3]\n",
    "\n",
    "b = a + [4] # this is create a new list by concatenating two list\n",
    "# at this stage, a and b are different lists,\n",
    "\n",
    "a.append(4) # this is modifying the list in a\n",
    "\n",
    "print(a,b)\n",
    "a[0] = -1\n",
    "print(a,b)\n"
   ]
  },
  {
   "attachments": {},
   "cell_type": "markdown",
   "metadata": {},
   "source": [
    "We can modify a list in-place using a function\n",
    "\n",
    "This is consistent with our notion of \"assigning is binding\"\n"
   ]
  },
  {
   "cell_type": "code",
   "execution_count": 16,
   "metadata": {},
   "outputs": [
    {
     "name": "stdout",
     "output_type": "stream",
     "text": [
      "[-1, 2, 3] None\n"
     ]
    }
   ],
   "source": [
    "# this function do not have return, by default, it returns None\n",
    "def changelist_noreturn(x):\n",
    "    x[0] = -1\n",
    "\n",
    "z = [1,2,3]\n",
    "y = changelist_noreturn(z)\n",
    "print(z,y)\n",
    "# z is modified in-place"
   ]
  },
  {
   "cell_type": "code",
   "execution_count": 17,
   "metadata": {},
   "outputs": [
    {
     "name": "stdout",
     "output_type": "stream",
     "text": [
      "[-1, 2, 3] [-1, 2, 3]\n",
      "[-1, 2, -3] [-1, 2, -3]\n"
     ]
    }
   ],
   "source": [
    "# we can modify a list inplace using a function\n",
    "\n",
    "def changelist_withreturn(x):\n",
    "    x[0] = -1\n",
    "    return x\n",
    "\n",
    "z = [1,2,3]\n",
    "y = changelist_withreturn(z)\n",
    "# inside the function, x is bind to the same list as z\n",
    "# then we assign x to y, so y also bind to the same list\n",
    "print(z,y)\n",
    "\n",
    "z[-1] = -3\n",
    "print(z,y)"
   ]
  },
  {
   "attachments": {},
   "cell_type": "markdown",
   "metadata": {},
   "source": [
    "# Scope of variables\n",
    "\n",
    "If the function does not find the local variable, it will try to find it in an \"upper\" scope\n",
    "\n",
    "If the function do not have a `return`, then `None` is returned"
   ]
  },
  {
   "cell_type": "code",
   "execution_count": 18,
   "metadata": {},
   "outputs": [
    {
     "name": "stdout",
     "output_type": "stream",
     "text": [
      "3 2\n"
     ]
    }
   ],
   "source": [
    "# normal behavior: local variable a = 1 \n",
    "# does not modify global variable a\n",
    "a = 2\n",
    "def addone(x):\n",
    "    a = 1\n",
    "    b = x + a\n",
    "    return b\n",
    "\n",
    "c = addone(a)\n",
    "print(c,a)"
   ]
  },
  {
   "cell_type": "code",
   "execution_count": 19,
   "metadata": {},
   "outputs": [
    {
     "name": "stdout",
     "output_type": "stream",
     "text": [
      "3\n"
     ]
    }
   ],
   "source": [
    "a = 2\n",
    "def addone2(x):\n",
    "    b = x + a\n",
    "    # didn't find a locally, so try to find it globally\n",
    "    # in matlab, this will throw an error\n",
    "    return b\n",
    "\n",
    "c = addone2(1)\n",
    "print(c)"
   ]
  },
  {
   "cell_type": "code",
   "execution_count": 20,
   "metadata": {},
   "outputs": [
    {
     "name": "stdout",
     "output_type": "stream",
     "text": [
      "10 12\n"
     ]
    }
   ],
   "source": [
    "a = 10\n",
    "b = addone2(2)\n",
    "# always try to use the value of a in the workspace\n",
    "# this has nothing to do with order of the cell\n",
    "\n",
    "print(a,b)"
   ]
  },
  {
   "cell_type": "code",
   "execution_count": 1,
   "metadata": {},
   "outputs": [
    {
     "name": "stdout",
     "output_type": "stream",
     "text": [
      "2 10\n"
     ]
    }
   ],
   "source": [
    "a = 2\n",
    "def change_a(x):\n",
    "    a = x\n",
    "    # a is now a local variable, it does not modify global variable a\n",
    "    # this is different from addone2: we are not looking for a, we are define a locally\n",
    "    \n",
    "    return a\n",
    "\n",
    "y = change_a(10)\n",
    "print(a,y)"
   ]
  },
  {
   "cell_type": "code",
   "execution_count": 22,
   "metadata": {},
   "outputs": [
    {
     "data": {
      "text/plain": [
       "26"
      ]
     },
     "execution_count": 22,
     "metadata": {},
     "output_type": "execute_result"
    }
   ],
   "source": [
    "# you can pass function as argument to other function\n",
    "# we have something similar when implementing the bisection method using matlab\n",
    "def cubic(x):\n",
    "    return x**3 - 1\n",
    "\n",
    "def evalat(f, x):\n",
    "    # evaluate function f at x\n",
    "    return f(x)\n",
    "\n",
    "evalat(cubic,3)"
   ]
  },
  {
   "attachments": {},
   "cell_type": "markdown",
   "metadata": {},
   "source": [
    "## Extra material"
   ]
  },
  {
   "cell_type": "code",
   "execution_count": 23,
   "metadata": {},
   "outputs": [
    {
     "name": "stdout",
     "output_type": "stream",
     "text": [
      "[-1, 2, 3] [1, 2, 3]\n"
     ]
    }
   ],
   "source": [
    "# for actual copy of the data, look up python deepcopy\n",
    "from copy import deepcopy\n",
    "a = [1,2,3]\n",
    "b = deepcopy(a)\n",
    "a[0] = -1\n",
    "print(a,b)"
   ]
  },
  {
   "cell_type": "code",
   "execution_count": 24,
   "metadata": {},
   "outputs": [
    {
     "name": "stdout",
     "output_type": "stream",
     "text": [
      "10 None\n"
     ]
    }
   ],
   "source": [
    "# the scope of a variable can be modified using global\n",
    "a = 2\n",
    "def change_a_global(x):\n",
    "    global a\n",
    "    # a is now a global variable, it does modify global variable a\n",
    "    a = x\n",
    "    \n",
    "\n",
    "y = change_a_global(10)\n",
    "print(a,y)"
   ]
  },
  {
   "cell_type": "code",
   "execution_count": 25,
   "metadata": {},
   "outputs": [
    {
     "data": {
      "text/plain": [
       "(140523015961648, 140523015961648)"
      ]
     },
     "execution_count": 25,
     "metadata": {},
     "output_type": "execute_result"
    }
   ],
   "source": [
    "# How to see if two variables are bind to the same object? \n",
    "# Can use id(), think of it as the memory address of the object\n",
    "a = [1,2,3]\n",
    "b = a\n",
    "id(a), id(b) # same memory address\n"
   ]
  },
  {
   "cell_type": "code",
   "execution_count": null,
   "metadata": {},
   "outputs": [],
   "source": []
  }
 ],
 "metadata": {
  "kernelspec": {
   "display_name": "Python 3.7.13 ('base')",
   "language": "python",
   "name": "python3"
  },
  "language_info": {
   "codemirror_mode": {
    "name": "ipython",
    "version": 3
   },
   "file_extension": ".py",
   "mimetype": "text/x-python",
   "name": "python",
   "nbconvert_exporter": "python",
   "pygments_lexer": "ipython3",
   "version": "3.11.5"
  },
  "vscode": {
   "interpreter": {
    "hash": "3eefdef873b618b3951b71f231364f5566650def46a4478f66115e38335b4eca"
   }
  }
 },
 "nbformat": 4,
 "nbformat_minor": 4
}
