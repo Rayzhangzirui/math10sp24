{
 "cells": [
  {
   "cell_type": "markdown",
   "id": "5c2fb0fd",
   "metadata": {},
   "source": [
    "# week3 lec7"
   ]
  },
  {
   "cell_type": "markdown",
   "id": "8f38db6a",
   "metadata": {
    "vscode": {
     "languageId": "plaintext"
    }
   },
   "source": [
    "Variance. Estimating variance. Dataframe and visualization. \n",
    "\n",
    "See [Probability and Statistics](../notes/prob_stat) and [Dataframe and Visualization](../notes/pandas)."
   ]
  },
  {
   "cell_type": "markdown",
   "id": "328ab7dc",
   "metadata": {},
   "source": []
  }
 ],
 "metadata": {
  "kernelspec": {
   "display_name": "Python 3 (ipykernel)",
   "language": "python",
   "name": "python3"
  },
  "language_info": {
   "codemirror_mode": {
    "name": "ipython",
    "version": 3
   },
   "file_extension": ".py",
   "mimetype": "text/x-python",
   "name": "python",
   "nbconvert_exporter": "python",
   "pygments_lexer": "ipython3",
   "version": "3.11.5"
  }
 },
 "nbformat": 4,
 "nbformat_minor": 5
}
