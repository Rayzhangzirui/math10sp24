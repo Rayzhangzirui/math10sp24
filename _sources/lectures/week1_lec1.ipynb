{
 "cells": [
  {
   "cell_type": "markdown",
   "id": "37691194",
   "metadata": {},
   "source": [
    "# week1 lec1"
   ]
  },
  {
   "cell_type": "code",
   "execution_count": 1,
   "id": "a876e123",
   "metadata": {},
   "outputs": [
    {
     "data": {
      "text/plain": [
       "int"
      ]
     },
     "execution_count": 1,
     "metadata": {},
     "output_type": "execute_result"
    }
   ],
   "source": [
    "# what is \n",
    "# (1) int\n",
    "# (2) float\n",
    "type(3)\n",
    "\n",
    "# every thing in python has a type"
   ]
  },
  {
   "cell_type": "code",
   "execution_count": 3,
   "id": "852f8de0",
   "metadata": {},
   "outputs": [
    {
     "data": {
      "text/plain": [
       "3.5"
      ]
     },
     "execution_count": 3,
     "metadata": {},
     "output_type": "execute_result"
    }
   ],
   "source": [
    "# what is \n",
    "# (1) 3.5\n",
    "# (2) 3\n",
    "7/2\n",
    "\n",
    "# / is \"true division\". It always returns a float."
   ]
  },
  {
   "cell_type": "code",
   "execution_count": 4,
   "id": "f544ade1",
   "metadata": {},
   "outputs": [
    {
     "data": {
      "text/plain": [
       "3"
      ]
     },
     "execution_count": 4,
     "metadata": {},
     "output_type": "execute_result"
    }
   ],
   "source": [
    "# what is \n",
    "# (1) 3.5\n",
    "# (2) 3\n",
    "7//2\n",
    "\n",
    "# // is \"floor division\". It always returns an integer."
   ]
  },
  {
   "cell_type": "code",
   "execution_count": 5,
   "id": "59e4c555",
   "metadata": {},
   "outputs": [
    {
     "data": {
      "text/plain": [
       "1"
      ]
     },
     "execution_count": 5,
     "metadata": {},
     "output_type": "execute_result"
    }
   ],
   "source": [
    "7%2\n",
    "# % is the modulo operator. It returns the remainder of the division of the number to the left by the number on its right."
   ]
  },
  {
   "cell_type": "code",
   "execution_count": 6,
   "id": "a197054e",
   "metadata": {},
   "outputs": [
    {
     "data": {
      "text/plain": [
       "True"
      ]
     },
     "execution_count": 6,
     "metadata": {},
     "output_type": "execute_result"
    }
   ],
   "source": [
    "# T or F\n",
    "# (1) True\n",
    "# (2) False\n",
    "3 - 2 == 1 "
   ]
  },
  {
   "cell_type": "code",
   "execution_count": 7,
   "id": "8241a4da",
   "metadata": {},
   "outputs": [
    {
     "data": {
      "text/plain": [
       "False"
      ]
     },
     "execution_count": 7,
     "metadata": {},
     "output_type": "execute_result"
    }
   ],
   "source": [
    "# T or F\n",
    "# (1) True\n",
    "# (2) False\n",
    "0.8 - 0.7 == 0.1\n",
    "\n",
    "# floating point numbers are not stored with perfect precision. This can lead to small errors in calculations."
   ]
  },
  {
   "cell_type": "code",
   "execution_count": 8,
   "id": "1986d491",
   "metadata": {},
   "outputs": [
    {
     "name": "stdout",
     "output_type": "stream",
     "text": [
      "0\n",
      "1\n",
      "2\n"
     ]
    }
   ],
   "source": [
    "#  what is printed\n",
    "# (1) 0,1,2,3\n",
    "# (2) 0,1,2\n",
    "# (3) 1,2,3\n",
    "for i in range(3):\n",
    "    print(i)\n",
    "\n",
    "#  range(start[default=0], stop, step[default=1])"
   ]
  },
  {
   "cell_type": "code",
   "execution_count": 9,
   "id": "7eba9ba8",
   "metadata": {},
   "outputs": [
    {
     "name": "stdout",
     "output_type": "stream",
     "text": [
      "4\n",
      "8\n",
      "16\n"
     ]
    }
   ],
   "source": [
    "# what is the output\n",
    "# (1) 4, 8\n",
    "# (2) 4, 8, 16\n",
    "x = 2\n",
    "while x < 10:\n",
    "    x = x*2\n",
    "    print(x)"
   ]
  },
  {
   "cell_type": "code",
   "execution_count": 15,
   "id": "5f57bf19",
   "metadata": {},
   "outputs": [
    {
     "ename": "IndexError",
     "evalue": "list index out of range",
     "output_type": "error",
     "traceback": [
      "\u001b[0;31m---------------------------------------------------------------------------\u001b[0m",
      "\u001b[0;31mIndexError\u001b[0m                                Traceback (most recent call last)",
      "\u001b[0;32m/var/folders/3b/sldzpq7d6h9gbk6l26n1g20w0000gn/T/ipykernel_51478/503096209.py\u001b[0m in \u001b[0;36m<module>\u001b[0;34m\u001b[0m\n\u001b[1;32m      3\u001b[0m \u001b[0;31m# (2) error\u001b[0m\u001b[0;34m\u001b[0m\u001b[0;34m\u001b[0m\u001b[0;34m\u001b[0m\u001b[0m\n\u001b[1;32m      4\u001b[0m \u001b[0mx\u001b[0m \u001b[0;34m=\u001b[0m \u001b[0;34m[\u001b[0m\u001b[0;36m0\u001b[0m\u001b[0;34m,\u001b[0m \u001b[0;36m1\u001b[0m \u001b[0;34m,\u001b[0m\u001b[0;36m2\u001b[0m \u001b[0;34m,\u001b[0m\u001b[0;36m3\u001b[0m\u001b[0;34m,\u001b[0m \u001b[0;36m4\u001b[0m \u001b[0;34m,\u001b[0m\u001b[0;36m5\u001b[0m\u001b[0;34m]\u001b[0m\u001b[0;34m\u001b[0m\u001b[0;34m\u001b[0m\u001b[0m\n\u001b[0;32m----> 5\u001b[0;31m \u001b[0mx\u001b[0m\u001b[0;34m[\u001b[0m\u001b[0;34m-\u001b[0m\u001b[0;36m7\u001b[0m\u001b[0;34m]\u001b[0m\u001b[0;34m\u001b[0m\u001b[0;34m\u001b[0m\u001b[0m\n\u001b[0m",
      "\u001b[0;31mIndexError\u001b[0m: list index out of range"
     ]
    }
   ],
   "source": [
    "# what is x[7]\n",
    "# (1) 0\n",
    "# (2) error \n",
    "x = [0, 1 ,2 ,3, 4 ,5]\n",
    "x[-7]\n",
    "\n",
    "# python uses 0-based indexing, so the first element of a list has index 0, the second element has index 1, and so forth.\n",
    "# the last element of a list has index -1, the second to last element has index -2, and so forth."
   ]
  },
  {
   "cell_type": "code",
   "execution_count": 20,
   "id": "e38b2378",
   "metadata": {},
   "outputs": [
    {
     "name": "stdout",
     "output_type": "stream",
     "text": [
      "2\n",
      "3\n",
      "4\n",
      "5\n"
     ]
    }
   ],
   "source": [
    "# x[start(inclusive, default 0): end(exclude, default -1): step (default 1)]\n",
    "# what is the output\n",
    "x = [0, 1 ,2 ,3, 4 ,5]\n",
    "for i in x[2:]:\n",
    "    print(i)\n"
   ]
  },
  {
   "cell_type": "code",
   "execution_count": 21,
   "id": "f7639c5a",
   "metadata": {},
   "outputs": [
    {
     "data": {
      "text/plain": [
       "True"
      ]
     },
     "execution_count": 21,
     "metadata": {},
     "output_type": "execute_result"
    }
   ],
   "source": [
    "# what is the output\n",
    "# (1) True\n",
    "# (2) False\n",
    "\"hello\" == 'hello'\n",
    "\n",
    "# single quotes and double quotes can both be used to create strings. Though try to be consistent in your use of quotes."
   ]
  },
  {
   "cell_type": "code",
   "execution_count": 22,
   "id": "58adbb53",
   "metadata": {},
   "outputs": [
    {
     "data": {
      "text/plain": [
       "str"
      ]
     },
     "execution_count": 22,
     "metadata": {},
     "output_type": "execute_result"
    }
   ],
   "source": [
    "type(\"string\")"
   ]
  },
  {
   "cell_type": "code",
   "execution_count": 23,
   "id": "0f7d2bcf",
   "metadata": {},
   "outputs": [
    {
     "data": {
      "text/plain": [
       "str"
      ]
     },
     "execution_count": 23,
     "metadata": {},
     "output_type": "execute_result"
    }
   ],
   "source": [
    "type('string')"
   ]
  },
  {
   "cell_type": "code",
   "execution_count": 24,
   "id": "22794661",
   "metadata": {},
   "outputs": [],
   "source": [
    "# is this valid\n",
    "# (1) Yes\n",
    "# (2) False\n",
    "x = [True, 1,'hello']\n",
    "\n",
    "# lists can contain elements of different types."
   ]
  },
  {
   "cell_type": "code",
   "execution_count": 27,
   "id": "89bf6e7c",
   "metadata": {},
   "outputs": [
    {
     "data": {
      "text/plain": [
       "bool"
      ]
     },
     "execution_count": 27,
     "metadata": {},
     "output_type": "execute_result"
    }
   ],
   "source": [
    "type(x[0])"
   ]
  },
  {
   "cell_type": "code",
   "execution_count": 28,
   "id": "e4529a1e",
   "metadata": {
    "scrolled": true
   },
   "outputs": [
    {
     "data": {
      "text/plain": [
       "int"
      ]
     },
     "execution_count": 28,
     "metadata": {},
     "output_type": "execute_result"
    }
   ],
   "source": [
    "type(x[1])"
   ]
  }
 ],
 "metadata": {
  "kernelspec": {
   "display_name": "Python 3 (ipykernel)",
   "language": "python",
   "name": "python3"
  },
  "language_info": {
   "codemirror_mode": {
    "name": "ipython",
    "version": 3
   },
   "file_extension": ".py",
   "mimetype": "text/x-python",
   "name": "python",
   "nbconvert_exporter": "python",
   "pygments_lexer": "ipython3",
   "version": "3.7.13"
  }
 },
 "nbformat": 4,
 "nbformat_minor": 5
}
