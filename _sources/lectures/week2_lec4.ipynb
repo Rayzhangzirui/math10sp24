{
 "cells": [
  {
   "cell_type": "markdown",
   "id": "5c2fb0fd",
   "metadata": {},
   "source": [
    "# week2 lec4"
   ]
  },
  {
   "cell_type": "code",
   "execution_count": 1,
   "id": "94511ac9",
   "metadata": {},
   "outputs": [],
   "source": [
    "# In python, everything is an object from a class\n",
    "# We can define our own classes\n",
    "\n",
    "from math import sqrt\n",
    "\n",
    "class Vector():\n",
    "    # custom type for 2d vectors\n",
    "\n",
    "    # class attribute shared by all objects of this class\n",
    "    dim = 2\n",
    "    \n",
    "    def __init__(self, input_x, input_y):\n",
    "        # constructor, called when new object is created, Vector(x,y)\n",
    "        # self is the object being created\n",
    "        # .x and .y are object attributes\n",
    "        self.x = input_x\n",
    "        self.y = input_y\n",
    "    \n",
    "    def length(self):\n",
    "        # length method, returns length of vector\n",
    "        l = sqrt(self.x**2+self.y**2)\n",
    "        return l\n",
    "    \n",
    "    def scale(self, c):\n",
    "        # method that scales the vector by a constant c\n",
    "        # changes the object itself\n",
    "        # no return value, so returns None\n",
    "        self.x = self.x * c\n",
    "        self.y = self.y * c\n",
    "\n",
    "    def __repr__(self):\n",
    "        # string representation of the object\n",
    "        # without this method, it prints the memory address\n",
    "        return f'({self.x},{self.y})'\n",
    "            \n",
    "    \n",
    "    def add(self, other_vector):\n",
    "        # method that adds another vector to this vector, returns new vector\n",
    "        x_new = self.x + other_vector.x\n",
    "        y_new = self.y + other_vector.y\n",
    "        return Vector(x_new, y_new)\n",
    "        \n",
    "    def __add__(self, other_vector):\n",
    "        # special method that overloads the + operator\n",
    "        # without this method, vector + vector would raise an error\n",
    "        x_new = self.x + other_vector.x\n",
    "        y_new = self.y + other_vector.y\n",
    "        return Vector(x_new, y_new)\n",
    "    \n",
    "    def normalize(self):\n",
    "        # method that scales the vector to unit length\n",
    "        # can call other methods of the same object\n",
    "        l = self.length()\n",
    "        self.scale(1/l)\n",
    "\n",
    "\n",
    "        "
   ]
  },
  {
   "cell_type": "code",
   "execution_count": 4,
   "id": "053ca870",
   "metadata": {},
   "outputs": [
    {
     "name": "stdout",
     "output_type": "stream",
     "text": [
      "3\n"
     ]
    }
   ],
   "source": [
    "v = Vector(3,4)\n",
    "v.x\n",
    "print(v.x)\n",
    "v.normalize()\n",
    "print(v.length())\n",
    "print(v)"
   ]
  },
  {
   "cell_type": "code",
   "execution_count": 16,
   "id": "0002ccda",
   "metadata": {},
   "outputs": [
    {
     "name": "stdout",
     "output_type": "stream",
     "text": [
      "None\n"
     ]
    }
   ],
   "source": [
    "v = Vector(1,1)\n",
    "w = Vector(2,3)\n",
    "\n",
    "# custom add method\n",
    "p = v.add(w)\n",
    "print(p)\n",
    "\n",
    "# this is actually calling the __add__ method\n",
    "q = v + w\n",
    "print(q)\n",
    "\n"
   ]
  }
 ],
 "metadata": {
  "kernelspec": {
   "display_name": "Python 3 (ipykernel)",
   "language": "python",
   "name": "python3"
  },
  "language_info": {
   "codemirror_mode": {
    "name": "ipython",
    "version": 3
   },
   "file_extension": ".py",
   "mimetype": "text/x-python",
   "name": "python",
   "nbconvert_exporter": "python",
   "pygments_lexer": "ipython3",
   "version": "3.11.5"
  }
 },
 "nbformat": 4,
 "nbformat_minor": 5
}
