{
 "cells": [
  {
   "cell_type": "markdown",
   "metadata": {},
   "source": [
    "# Week 1 Lecture 1"
   ]
  },
  {
   "cell_type": "code",
   "execution_count": null,
   "metadata": {},
   "outputs": [],
   "source": [
    "# what is the output?\n",
    "# (1) 1, 2\n",
    "# (2) 1, 1\n",
    "# (3) 2, 2\n",
    "\n",
    "a=1\n",
    "b=a\n",
    "b=2\n",
    "print(a,b)"
   ]
  },
  {
   "cell_type": "code",
   "execution_count": null,
   "metadata": {},
   "outputs": [],
   "source": [
    "# what is the output?\n",
    "# (1) [1 2 3]\n",
    "# (2) [-1 2 3]\n",
    "\n",
    "a = [1,2,3]\n",
    "b = a\n",
    "a[0]=-1\n",
    "print(a)"
   ]
  },
  {
   "cell_type": "code",
   "execution_count": null,
   "metadata": {},
   "outputs": [],
   "source": [
    "# what is the output?\n",
    "# (1) [1 2 3]\n",
    "# (2) [-1 2 3]\n",
    "\n",
    "print(b)"
   ]
  },
  {
   "cell_type": "code",
   "execution_count": null,
   "metadata": {},
   "outputs": [],
   "source": [
    "# what is the output?\n",
    "# (1) [1 2 3]\n",
    "# (2) [-1 -2 3]\n",
    "\n",
    "b[1]=-2\n",
    "print(a)"
   ]
  }
 ],
 "metadata": {
  "kernelspec": {
   "display_name": "Python 3.7.13 ('base')",
   "language": "python",
   "name": "python3"
  },
  "language_info": {
   "codemirror_mode": {
    "name": "ipython",
    "version": 3
   },
   "file_extension": ".py",
   "mimetype": "text/x-python",
   "name": "python",
   "nbconvert_exporter": "python",
   "pygments_lexer": "ipython3",
   "version": "3.11.5"
  },
  "vscode": {
   "interpreter": {
    "hash": "3eefdef873b618b3951b71f231364f5566650def46a4478f66115e38335b4eca"
   }
  }
 },
 "nbformat": 4,
 "nbformat_minor": 4
}
