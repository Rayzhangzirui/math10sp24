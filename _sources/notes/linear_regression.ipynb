{
 "cells": [
  {
   "cell_type": "markdown",
   "id": "2a76aac4",
   "metadata": {},
   "source": [
    "# Linear Regression"
   ]
  },
  {
   "cell_type": "markdown",
   "id": "94236d4b",
   "metadata": {},
   "source": [
    "##\n",
    "\n",
    "### **Problem**\n",
    "Given the *training dataset* $x_i\\in\\mathbb{R}$, $y_i\\in\\mathbb{R}$, $i= 1,2,..., N$, we want to find the linear function $$y\\approx f(x)=wx +b$$ that fits the relations between $x_i$ and $y_i$. So that given any new $x^{test}$ in the **test** dataset, we can make the prediction $$y^{pred} = w x^{test}+b$$\n",
    "\n",
    "### Training the model\n",
    "\n",
    "- With the training dataset, define the loss function $L(w,b)$ of parameter $w$ and $b$, which is also called **mean squared error** (MSE) \n",
    "\n",
    "$$L(w,b)=\\frac{1}{N}\\sum_{i=1}^N\\big(\\hat{y}^{(i)}-y_i\\big)^2=\\frac{1}{N}\\sum_{i=1}^N\\big((wx_i+b)-y_i\\big)^2,$$\n",
    "\n",
    "where $\\hat{y}^{(i)}$ denotes the predicted value of y at $x_i$, i.e. $\\hat{y}^{(i)} = wx_i+b$.\n",
    "\n",
    "\n",
    "- Then find the minimum of loss function -- note that this is the quadratic function of $w$ and $b$, and we can analytically solve $\\partial_{w}L = \\partial_{b}L =0$, and yields\n",
    "\n",
    "$$w^* = \\frac{\\sum_{i=1}^{N} (x_i - \\bar{x})(y_i - \\bar{y})}{\\sum_{i=1}^{N} (x_i - \\bar{x})^2} = \\frac{\\text{Cov}(X,Y)}{\\text{Var}(X)}$$\n",
    "\n",
    "\n",
    "$$b^* = \\bar{y}  - w^*\\bar{x}$$\n",
    "\n",
    "where $\\bar{x}$ and $\\bar{y}$ are the mean of $x$ and of $y$, and $\\text{Cov}(X,Y)$ denotes the estimated covariance (or called sample covariance) between $X$ and $Y$, $\\text{Var}(Y)$ denotes the sample variance of $Y$.\n",
    "\n",
    "### Evaluating the model\n",
    "\n",
    "- MSE: The smaller MSE indicates better performance\n",
    "- R-Squared: The larger $R^{2}$ (closer to 1) indicates better performance. Compared with MSE, R-squared is **dimensionless**, not dependent on the units of variable. \n",
    "\n",
    "$$R^{2} = 1 - \\frac{\\sum_{i=1}^{N}(y_i-\\hat{y}^{(i)})^{2}}{\\sum_{i=1}^{N}(y_i-\\bar{y})^{2}} = 1 - \\frac{\\frac{1}{N}\\sum_{i=1}^{N}(y_i-\\hat{y}^{(i)})^{2}}{\\frac{1}{N}\\sum_{i=1}^{N}(y_i-\\bar{y})^{2}} = 1 - \\frac{\\text{MSE}}{\\text{Var}(Y)}$$\n",
    "\n",
    "Intuitively, MSE is the \"unexplained\" variance, and $R^{2}$ is the proportion of the variance that is explained by the model: if we are not using any model, then our best prediction is the mean of $y$, and MSE is the variance of $y$, and $R^{2}$ is 0; \n",
    "If our model is perfect, then MSE is 0, and $R^{2}$ is 1.\n",
    "\n",
    "\n",
    "\n"
   ]
  },
  {
   "cell_type": "code",
   "execution_count": 15,
   "id": "20d83316",
   "metadata": {},
   "outputs": [],
   "source": [
    "import numpy as np\n",
    "import matplotlib.pyplot as plt\n",
    "\n",
    "class myLinearRegression:\n",
    "    def __init__(self, x, y):\n",
    "        self.w = np.cov(x, y)[0, 1] / np.var(x)\n",
    "        self.b = np.mean(y) - self.w * np.mean(x)\n",
    "\n",
    "        self.x_train = x\n",
    "        self.y_train = y\n",
    "\n",
    "        self.Rsquare = 1 - np.sum((y - self.predict(x))**2) / np.sum((y - np.mean(y))**2)\n",
    "\n",
    "        print(f'w = {self.w:.3f}, b = {self.b:.3f}, Rsquare = {self.Rsquare:.3f}')\n",
    "\n",
    "    \n",
    "    def predict(self, x):\n",
    "        ypred = self.w * x + self.b\n",
    "        return ypred"
   ]
  },
  {
   "cell_type": "code",
   "execution_count": 18,
   "id": "5be338af",
   "metadata": {},
   "outputs": [
    {
     "name": "stdout",
     "output_type": "stream",
     "text": [
      "w = 2.014, b = 1.013, Rsquare = 0.971\n"
     ]
    },
    {
     "data": {
      "text/plain": [
       "<matplotlib.legend.Legend at 0x11e1334d0>"
      ]
     },
     "execution_count": 18,
     "metadata": {},
     "output_type": "execute_result"
    },
    {
     "data": {
      "image/png": "[encoded data removed]",
      "text/plain": [
       "<Figure size 640x480 with 1 Axes>"
      ]
     },
     "metadata": {},
     "output_type": "display_data"
    }
   ],
   "source": [
    "# Generate synthetic data\n",
    "\n",
    "np.random.seed(0)\n",
    "\n",
    "x = np.random.rand(100)\n",
    "y = 2 * x + 1 + 0.1*np.random.randn(100)\n",
    "\n",
    "# Fit the model\n",
    "lm = myLinearRegression(x, y)\n",
    "\n",
    "\n",
    "# plot \n",
    "plt.plot(x, y, 'o', label='data')\n",
    "xs = np.linspace(0, 1, 100)\n",
    "plt.plot(xs, lm.predict(xs), label=f'pred, $R^2$={lm.Rsquare:.3f}')\n",
    "plt.legend()\n",
    "\n",
    "\n"
   ]
  },
  {
   "cell_type": "markdown",
   "id": "bc13aa16",
   "metadata": {},
   "source": [
    "# Detailed Derivation of the Optimal Parameters\n",
    "\n",
    "The loss function for simple linear regression is given by:\n",
    "\n",
    "$$L(w, b) = \\frac{1}{N} \\sum_{i=1}^N ((wx_i + b) - y_i)^2$$\n",
    "\n",
    "To find the optimal \\( w \\), we set the partial derivative of \\( L \\) with respect to \\( w \\) to zero:\n",
    "\n",
    "1. Differentiate with respect to \\( w \\):\n",
    "\n",
    "$$\\frac{\\partial L}{\\partial w} = \\frac{2}{N} \\sum_{i=1}^{N} x_i ((wx_i + b) - y_i) = 0$$\n",
    "\n",
    "Rearrange this equation to get:\n",
    "\n",
    "\n",
    "$$w \\sum_{i=1}^{N} x_i^2 + b N \\bar{X} = \\sum_{i=1}^{N} x_i y_i\\quad\\quad(*)$$\n",
    "\n",
    "2. Derivative with respect to $b$:\n",
    "\n",
    "$$\n",
    "\\frac{\\partial L}{\\partial b} = \\frac{2}{N} \\sum_{i=1}^{N} ((wx_i + b) - y_i) = 0\n",
    "$$\n",
    "\n",
    "This simplifies to:\n",
    "\n",
    "$$\n",
    "w\\sum_{i=1}^{N} x_i + Nb = \\sum_{i=1}^{N} y_i\n",
    "$$\n",
    "\n",
    "Or, equivalently:\n",
    "\n",
    "$$\n",
    "w\\bar{X} + b = \\bar{Y}\n",
    "$$\n"
   ]
  },
  {
   "cell_type": "markdown",
   "id": "e06da3a6",
   "metadata": {},
   "source": [
    "Substitute $b$ back into the equation (*), we get:\n",
    "\n",
    "$$w \\sum_{i=1}^{N} x_i^2 + (\\bar{Y} - w \\bar{X}) n \\bar{X} = \\sum_{i=1}^{N} x_i y_i$$\n",
    "\n",
    "Expanding this:\n",
    "\n",
    "$$w \\sum_{i=1}^{N} x_i^2 + N \\bar{Y} \\bar{X}- w \\bar{X} \\sum_{i=1}^{N} x_i = \\sum_{i=1}^{N} x_i y_i$$\n",
    "\n",
    "Rearranging terms\n",
    "\n",
    "$$w (\\sum_{i=1}^{N} x_i^2 - N\\bar{X}^2) = \\sum_{i=1}^{N} x_i y_i - N\\bar{Y}\\bar{X}$$\n",
    "\n",
    "Now, solving for $w$:\n",
    "\n",
    "$$w = \\frac{\\sum_{i=1}^{N} x_i y_i - N\\bar{Y}\\bar{X}}{\\sum_{i=1}^{N} x_i^2 - N\\bar{X}^2}$$\n",
    "\n",
    "Recall that $Cov(X,Y) = E[XY]-E[X]E[Y]$, and $Var(X) = E[X^2] - E[X]^2$. \n",
    "Divide both the numerator and the denominator by $N$.\n",
    "We can rewrite the above equation in terms of covariance and variance:\n",
    "$$w = \\frac{Cov(X,Y)}{Var(X)}$$\n",
    "\n",
    "This is the final expression for $w^*$ in simple linear regression, representing the slope of the best-fit line."
   ]
  }
 ],
 "metadata": {
  "kernelspec": {
   "display_name": "Python 3 (ipykernel)",
   "language": "python",
   "name": "python3"
  },
  "language_info": {
   "codemirror_mode": {
    "name": "ipython",
    "version": 3
   },
   "file_extension": ".py",
   "mimetype": "text/x-python",
   "name": "python",
   "nbconvert_exporter": "python",
   "pygments_lexer": "ipython3",
   "version": "3.11.5"
  }
 },
 "nbformat": 4,
 "nbformat_minor": 5
}
