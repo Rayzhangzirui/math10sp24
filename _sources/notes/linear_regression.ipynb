{
 "cells": [
  {
   "cell_type": "markdown",
   "id": "2a76aac4",
   "metadata": {},
   "source": [
    "# Linear Regression"
   ]
  },
  {
   "cell_type": "markdown",
   "id": "94236d4b",
   "metadata": {},
   "source": [
    "## **Problem**\n",
    "Given the *training dataset* $x_i\\in\\mathbb{R}$, $y_i\\in\\mathbb{R}$, $i= 1,2,..., N$, we want to find the linear function \n",
    "\n",
    "$$ y\\approx f(x) = wx + b $$ \n",
    "\n",
    "that fits the relations between $x_i$ and $y_i$. So that given any new $x^{test}$ in the **test** dataset, we can make the prediction \n",
    "\n",
    "$$ y^{pred} = w x^{test}+b $$\n",
    "\n",
    "## Training the model\n",
    "\n",
    "- With the training dataset, define the loss function $L(w,b)$ of parameter $w$ and $b$, which is also called **mean squared error** (MSE) \n",
    "\n",
    "$$L(w,b)=\\frac{1}{N}\\sum_{i=1}^N\\big(\\hat{y}^{(i)}-y_i\\big)^2=\\frac{1}{N}\\sum_{i=1}^N\\big((wx_i+b)-y_i\\big)^2,$$\n",
    "\n",
    "where $\\hat{y}^{(i)}$ denotes the predicted value of y at $x_i$, i.e. $\\hat{y}^{(i)} = wx_i+b$.\n",
    "\n",
    "\n",
    "- Then find the minimum of loss function -- note that this is the quadratic function of $w$ and $b$, and we can analytically solve $\\partial_{w}L = \\partial_{b}L =0$, and yields\n",
    "\n",
    "$$w^* = \\frac{\\sum_{i=1}^{N} (x_i - \\bar{x})(y_i - \\bar{y})}{\\sum_{i=1}^{N} (x_i - \\bar{x})^2} = \\frac{\\text{Cov}(X,Y)}{\\text{Var}(X)}$$\n",
    "\n",
    "\n",
    "$$b^* = \\bar{y}  - w^*\\bar{x}$$\n",
    "\n",
    "where $\\bar{x}$ and $\\bar{y}$ are the mean of $x$ and of $y$, and $\\text{Cov}(X,Y)$ denotes the estimated covariance (or called sample covariance) between $X$ and $Y$, $\\text{Var}(Y)$ denotes the sample variance of $Y$.\n",
    "\n",
    "## Evaluating the model\n",
    "\n",
    "- MSE: The smaller MSE indicates better performance\n",
    "- R-Squared: The larger $R^{2}$ (closer to 1) indicates better performance. Compared with MSE, R-squared is **dimensionless**, not dependent on the units of variable. \n",
    "\n",
    "$$R^{2} = 1 - \\frac{\\sum_{i=1}^{N}(y_i-\\hat{y}^{(i)})^{2}}{\\sum_{i=1}^{N}(y_i-\\bar{y})^{2}} = 1 - \\frac{\\frac{1}{N}\\sum_{i=1}^{N}(y_i-\\hat{y}^{(i)})^{2}}{\\frac{1}{N}\\sum_{i=1}^{N}(y_i-\\bar{y})^{2}} = 1 - \\frac{\\text{MSE}}{\\text{Var}(Y)}$$\n",
    "\n",
    "Intuitively, MSE is the \"unexplained\" variance, and $R^{2}$ is the proportion of the variance that is explained by the model: if we are not using any model, then our best prediction is the mean of $y$, and MSE is the variance of $y$, and $R^{2}$ is 0; \n",
    "If our model is perfect, then MSE is 0, and $R^{2}$ is 1.\n",
    "\n",
    "\n",
    "\n"
   ]
  },
  {
   "cell_type": "code",
   "execution_count": 3,
   "id": "20d83316",
   "metadata": {},
   "outputs": [],
   "source": [
    "import numpy as np\n",
    "import matplotlib.pyplot as plt\n",
    "\n",
    "class myLinearRegression:\n",
    "    '''\n",
    "    The single-variable linear regression estimator\n",
    "    '''\n",
    "    def __init__(self, x, y):\n",
    "        '''\n",
    "        Determine the optimal parameters w, b for the input data x and y\n",
    "        \n",
    "        Parameters\n",
    "        ----------\n",
    "           x : 1D numpy array with shape (n_samples,) from training data\n",
    "           y : 1D numpy array with shape (n_samples,) from training data\n",
    "        \n",
    "        Returns\n",
    "        -------\n",
    "        self : returns an instance of self, with new attributes slope w (float) and intercept b (float)\n",
    "        '''\n",
    "         # covariance matrix, bias = True makes the factor is 1/N -- but it doesn't matter actually, since the factor will be cancelled\n",
    "        cov_mat = np.cov(x, y,bias=True)\n",
    "        # cov_mat[0, 1] is the covariance of x and y, and cov_mat[0, 0] is the variance of x\n",
    "        self.w = cov_mat[0, 1] / cov_mat[0, 0]\n",
    "        self.b = np.mean(y) - self.w * np.mean(x)\n",
    "\n",
    "        self.x_train = x\n",
    "        self.y_train = y\n",
    "\n",
    "        # :.3f means 3 decimal places\n",
    "        print(f'w = {self.w:.3f}, b = {self.b:.3f}')\n",
    "\n",
    "    \n",
    "    def predict(self, x):\n",
    "        '''\n",
    "        Predict the output values for the input value x, based on trained parameters\n",
    "        \n",
    "        Parameters\n",
    "        ----------\n",
    "           x : 1D numpy array from training or test data \n",
    "        \n",
    "        Returns\n",
    "        -------\n",
    "        returns 1D numpy array of same shape as input, the predicted y value of corresponding x\n",
    "        '''\n",
    "        ypred = self.w * x + self.b\n",
    "        return ypred\n",
    "\n",
    "    def score(self, x, y):\n",
    "        '''\n",
    "        Calculate the R^2 score of the model\n",
    "        \n",
    "        Parameters\n",
    "        ----------\n",
    "           x : 1D numpy array from training or test data \n",
    "           y : 1D numpy array from training or test data \n",
    "        \n",
    "        Returns\n",
    "        -------\n",
    "        returns the R^2 score of the model\n",
    "        '''\n",
    "        mse =  np.mean((y - self.predict(x))**2)\n",
    "        var = np.mean((y - np.mean(y))**2)\n",
    "        Rsquare = 1 - mse / var\n",
    "        return Rsquare"
   ]
  },
  {
   "cell_type": "code",
   "execution_count": 4,
   "id": "5be338af",
   "metadata": {},
   "outputs": [
    {
     "name": "stdout",
     "output_type": "stream",
     "text": [
      "w = 1.997, b = 1.022\n"
     ]
    },
    {
     "data": {
      "text/plain": [
       "<matplotlib.legend.Legend at 0x7fada2202810>"
      ]
     },
     "execution_count": 4,
     "metadata": {},
     "output_type": "execute_result"
    },
    {
     "data": {
      "image/png": "[encoded data removed]",
      "text/plain": [
       "<Figure size 640x480 with 1 Axes>"
      ]
     },
     "metadata": {},
     "output_type": "display_data"
    }
   ],
   "source": [
    "# Generate synthetic data\n",
    "\n",
    "np.random.seed(0) # for reproducibility\n",
    "\n",
    "a = 0\n",
    "b = 2\n",
    "N = 100\n",
    "\n",
    "x = np.random.uniform(a,b,N)\n",
    "y = 2 * x + 1 + 0.1*np.random.randn(N)\n",
    "\n",
    "\n",
    "# Fit the model\n",
    "lm = myLinearRegression(x, y)\n",
    "score = lm.score(x, y)\n",
    "\n",
    "\n",
    "# plot data\n",
    "plt.plot(x, y, 'o', label='data')\n",
    "\n",
    "# plot the linear regression model\n",
    "xs = np.linspace(a, b, 100)\n",
    "plt.plot(xs, lm.predict(xs), label=f'pred, $R^2$={score:.3f}')\n",
    "plt.legend()\n",
    "\n",
    "\n"
   ]
  },
  {
   "cell_type": "code",
   "execution_count": 5,
   "id": "8ce7864b",
   "metadata": {},
   "outputs": [],
   "source": [
    "# Use the following command to install scikit-learn\n",
    "# %conda install scikit-learn\n",
    "# or\n",
    "# %pip install scikit-learn"
   ]
  },
  {
   "cell_type": "code",
   "execution_count": 6,
   "id": "986c51fb",
   "metadata": {},
   "outputs": [
    {
     "name": "stdout",
     "output_type": "stream",
     "text": [
      "w = 1.997, b = 1.022\n",
      "score = 0.993\n"
     ]
    }
   ],
   "source": [
    "from sklearn.linear_model import LinearRegression\n",
    "\n",
    "reg = LinearRegression()\n",
    "\n",
    "# x need to be n-sample by p features\n",
    "reg.fit(x.reshape(-1, 1), y)\n",
    "print(f'w = {reg.coef_[0]:.3f}, b = {reg.intercept_:.3f}')\n",
    "\n",
    "score = reg.score(x.reshape(-1, 1), y)\n",
    "print(f'score = {score:.3f}')"
   ]
  },
  {
   "cell_type": "markdown",
   "id": "029d6a0d",
   "metadata": {},
   "source": [
    "## What is the effect of centering the data?"
   ]
  },
  {
   "cell_type": "markdown",
   "id": "217366f0",
   "metadata": {},
   "source": [
    "When $X$ is centered, the slope $w$ remains the same, but the intercept $b$ changes.\n",
    "\n",
    "The intercept now means the predicted Y when X is at the mean."
   ]
  },
  {
   "cell_type": "code",
   "execution_count": 7,
   "id": "3b3a1eb6",
   "metadata": {},
   "outputs": [
    {
     "name": "stdout",
     "output_type": "stream",
     "text": [
      "w = 1.997, b = 2.910\n"
     ]
    }
   ],
   "source": [
    "x_center = x - np.mean(x)\n",
    "\n",
    "reg.fit(x_center.reshape(-1, 1), y)\n",
    "print(f'w = {reg.coef_[0]:.3f}, b = {reg.intercept_:.3f}')"
   ]
  },
  {
   "cell_type": "markdown",
   "id": "fb92c6ba",
   "metadata": {},
   "source": [
    "When Y is centered, then the intercept $b$ is 0, and the slope $w$ is the correlation between $X$ and $Y$."
   ]
  },
  {
   "cell_type": "code",
   "execution_count": 8,
   "id": "9cd238d1",
   "metadata": {},
   "outputs": [
    {
     "name": "stdout",
     "output_type": "stream",
     "text": [
      "w = 1.997, b = -0.000\n"
     ]
    }
   ],
   "source": [
    "\n",
    "y_center = y - np.mean(y)\n",
    "reg.fit(x_center.reshape(-1, 1), y_center)\n",
    "print(f'w = {reg.coef_[0]:.3f}, b = {reg.intercept_:.3f}')"
   ]
  },
  {
   "cell_type": "markdown",
   "id": "3c6535b6",
   "metadata": {},
   "source": [
    "## What is the effect of scaling the data?\n",
    "\n",
    "When $X/c$ is used, the optimal slope is now $c w$, and the intercept does not change"
   ]
  },
  {
   "cell_type": "code",
   "execution_count": 9,
   "id": "e070c161",
   "metadata": {},
   "outputs": [
    {
     "name": "stdout",
     "output_type": "stream",
     "text": [
      "w = 3.947, b = 1.022\n"
     ]
    }
   ],
   "source": [
    "# suppose we want to scale x to [0, 1]\n",
    "scale_factor = np.max(x)\n",
    "x_scale = x / scale_factor\n",
    "reg.fit(x_scale.reshape(-1, 1), y)\n",
    "print(f'w = {reg.coef_[0]:.3f}, b = {reg.intercept_:.3f}')"
   ]
  },
  {
   "cell_type": "markdown",
   "id": "b7d222e5",
   "metadata": {},
   "source": [
    "For *linear regression*, centering and scaling the data (both training and testing data ) does not affect the performance of the model. \n",
    "\n",
    "For some other models, centering and scaling can be essential\n",
    "\n"
   ]
  },
  {
   "cell_type": "markdown",
   "id": "e4357c8a",
   "metadata": {},
   "source": [
    "## What is a \"good\" fit?\n",
    "\n",
    "It depends on the metric we use to evaluate the model.\n",
    "\n",
    "In the following example, the best model in terms of MSE(mean squared error) might not be the best model in terms of MAE(mean absolute error).\n",
    "\n",
    "$$\\text{MAE} = \\frac{1}{N}\\sum_{i=1}^{N}|y_i-\\hat{y}^{(i)}|$$\n",
    "\n",
    "Linear regression based on MSE can seem sensitive to outliers than MAE. But minimize MAE is much more challenging.\n",
    "\n",
    "\n",
    "For regression methods that are designed to handle outliers, see [Outlier-robust regressors](https://scikit-learn.org/stable/modules/classes.html#module-sklearn.linear_model)"
   ]
  },
  {
   "cell_type": "code",
   "execution_count": 12,
   "id": "23f97503",
   "metadata": {},
   "outputs": [
    {
     "data": {
      "text/plain": [
       "(-0.15000000000000002, 3.15, -10.8, 6.8)"
      ]
     },
     "execution_count": 12,
     "metadata": {},
     "output_type": "execute_result"
    },
    {
     "data": {
      "image/png": "[encoded data removed]",
      "text/plain": [
       "<Figure size 640x480 with 1 Axes>"
      ]
     },
     "metadata": {},
     "output_type": "display_data"
    }
   ],
   "source": [
    "import pandas as pd\n",
    "from sklearn.metrics import mean_squared_error, mean_absolute_error\n",
    "\n",
    "df = pd.DataFrame({\n",
    "    \"x\":np.arange(4),\n",
    "    \"y\":[0,2,-10,6]},\n",
    ")\n",
    "\n",
    "\n",
    "f1 = lambda x: 2*x\n",
    "f2 = lambda x: 0.6*x - 1.4\n",
    "\n",
    "df[\"f1\"] = f1(df[\"x\"])\n",
    "df[\"f2\"] = f2(df[\"x\"])\n",
    "\n",
    "# import mse and mae\n",
    "f1_mse = mean_squared_error(df[\"y\"], df[\"f1\"])\n",
    "f2_mse = mean_squared_error(df[\"y\"], df[\"f2\"])\n",
    "f1_mae = mean_absolute_error(df[\"y\"], df[\"f1\"])\n",
    "f2_mae = mean_absolute_error(df[\"y\"], df[\"f2\"])\n",
    "\n",
    "# plot the data\n",
    "plt.scatter(df[\"x\"], df[\"y\"], color='black')\n",
    "plt.plot(df[\"x\"], df[\"f1\"], label='f1')\n",
    "plt.plot(df[\"x\"], df[\"f2\"], label='f2')\n",
    "plt.legend(['data',f'f1, mse={f1_mse:.1f}, mae={f1_mae:.1f}', f'f2, mse={f2_mse:.1f}, mae={f2_mae:.1f}'])\n",
    "\n",
    "plt.axis('equal')\n",
    "\n"
   ]
  },
  {
   "cell_type": "markdown",
   "id": "bc13aa16",
   "metadata": {},
   "source": [
    "## Detailed Derivation of the Optimal Parameters\n",
    "\n",
    "The loss function for simple linear regression is given by:\n",
    "\n",
    "$$L(w, b) = \\frac{1}{N} \\sum_{i=1}^N ((wx_i + b) - y_i)^2$$\n",
    "\n",
    "To find the optimal \\( w \\), we set the partial derivative of \\( L \\) with respect to \\( w \\) to zero:\n",
    "\n",
    "1. Differentiate with respect to \\( w \\):\n",
    "\n",
    "$$\\frac{\\partial L}{\\partial w} = \\frac{2}{N} \\sum_{i=1}^{N} x_i ((wx_i + b) - y_i) = 0$$\n",
    "\n",
    "Rearrange this equation to get:\n",
    "\n",
    "\n",
    "$$w \\sum_{i=1}^{N} x_i^2 + b N \\bar{X} = \\sum_{i=1}^{N} x_i y_i\\quad\\quad(*)$$\n",
    "\n",
    "2. Derivative with respect to $b$:\n",
    "\n",
    "$$\n",
    "\\frac{\\partial L}{\\partial b} = \\frac{2}{N} \\sum_{i=1}^{N} ((wx_i + b) - y_i) = 0\n",
    "$$\n",
    "\n",
    "This simplifies to:\n",
    "\n",
    "$$\n",
    "w\\sum_{i=1}^{N} x_i + Nb = \\sum_{i=1}^{N} y_i\n",
    "$$\n",
    "\n",
    "Or, equivalently:\n",
    "\n",
    "$$\n",
    "w\\bar{X} + b = \\bar{Y}\n",
    "$$\n"
   ]
  },
  {
   "cell_type": "markdown",
   "id": "e06da3a6",
   "metadata": {},
   "source": [
    "Substitute $b$ back into the equation (*), we get:\n",
    "\n",
    "$$w \\sum_{i=1}^{N} x_i^2 + (\\bar{Y} - w \\bar{X}) n \\bar{X} = \\sum_{i=1}^{N} x_i y_i$$\n",
    "\n",
    "Expanding this:\n",
    "\n",
    "$$w \\sum_{i=1}^{N} x_i^2 + N \\bar{Y} \\bar{X}- w \\bar{X} \\sum_{i=1}^{N} x_i = \\sum_{i=1}^{N} x_i y_i$$\n",
    "\n",
    "Rearranging terms\n",
    "\n",
    "$$w (\\sum_{i=1}^{N} x_i^2 - N\\bar{X}^2) = \\sum_{i=1}^{N} x_i y_i - N\\bar{Y}\\bar{X}$$\n",
    "\n",
    "Now, solving for $w$:\n",
    "\n",
    "$$w = \\frac{\\sum_{i=1}^{N} x_i y_i - N\\bar{Y}\\bar{X}}{\\sum_{i=1}^{N} x_i^2 - N\\bar{X}^2}$$\n",
    "\n",
    "Recall that $Cov(X,Y) = E[XY]-E[X]E[Y]$, and $Var(X) = E[X^2] - E[X]^2$. \n",
    "Divide both the numerator and the denominator by $N$.\n",
    "We can rewrite the above equation in terms of covariance and variance:\n",
    "$$w = \\frac{Cov(X,Y)}{Var(X)}$$\n",
    "\n",
    "This is the final expression for $w^*$ in simple linear regression, representing the slope of the best-fit line."
   ]
  }
 ],
 "metadata": {
  "kernelspec": {
   "display_name": "Python 3 (ipykernel)",
   "language": "python",
   "name": "python3"
  },
  "language_info": {
   "codemirror_mode": {
    "name": "ipython",
    "version": 3
   },
   "file_extension": ".py",
   "mimetype": "text/x-python",
   "name": "python",
   "nbconvert_exporter": "python",
   "pygments_lexer": "ipython3",
   "version": "3.7.13"
  }
 },
 "nbformat": 4,
 "nbformat_minor": 5
}
