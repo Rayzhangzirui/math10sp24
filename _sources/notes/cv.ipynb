{
 "cells": [
  {
   "cell_type": "markdown",
   "metadata": {},
   "source": [
    "# Cross Validation"
   ]
  },
  {
   "cell_type": "markdown",
   "metadata": {},
   "source": [
    "## Training, Validation, and Testing\n",
    "\n",
    "Note that we have the following separate goals:\n",
    "\n",
    "- **Model selection**: estimate the performance of different models in order to choose the best one.\n",
    "- **Model assessment**: after choosing the best model, estimate its prediction error on new data.\n",
    "\n",
    "If we have plenty of data, we can split it into three sets: training, validation, and test. \n",
    "\n",
    "The training set is used to fit the models. \n",
    "The validation set is used to estimate prediction error, which is used to select the model or tune the hyperparameters. In our example, this is the degree of the polynomial. Notice that in the process, the models \"see\" the validation set.\n",
    "The test set is used for assessment of the generalization error of the final chosen model. This set is never seen by the models. We should not go back and choose the model based on the test set performance.\n",
    "\n",
    "One common way of splitting the data is 60% training, 20% validation, and 20% test.\n"
   ]
  },
  {
   "cell_type": "markdown",
   "metadata": {},
   "source": [
    "Sometimes people use \"validation\" and \"test\" interchangeably. This is fine if we are only doing only one of the tasks above (model selection or model assessment). However, if we are doing both, we should have two separate sets.\n",
    "\n",
    "\n"
   ]
  },
  {
   "cell_type": "markdown",
   "metadata": {},
   "source": [
    "## Cross-Validation"
   ]
  },
  {
   "cell_type": "markdown",
   "metadata": {},
   "source": [
    "When the data is limited, we can use [cross-validation](https://scikit-learn.org/stable/modules/cross_validation.html). The most common method is k-fold cross-validation. For example, for 5-fold cross-validation, the data is randomly split into 5 equal parts. We train on 4 parts and validate on the remaining part. We repeat this process 5 times (the folds), each time with a different validation part. The final score is the average of the 5 validation scores."
   ]
  },
  {
   "cell_type": "markdown",
   "metadata": {},
   "source": [
    "![image info](https://scikit-learn.org/stable/_images/grid_search_cross_validation.png)\n"
   ]
  },
  {
   "cell_type": "code",
   "execution_count": 10,
   "metadata": {},
   "outputs": [
    {
     "name": "stdout",
     "output_type": "stream",
     "text": [
      "Fold 1 R^2 score: 0.758969714080479\n",
      "Fold 2 R^2 score: 0.6996496443204514\n",
      "Fold 3 R^2 score: 0.7813098171294692\n",
      "Fold 4 R^2 score: 0.7538535583920862\n",
      "Fold 5 R^2 score: 0.7554820079335888\n",
      "Average R^2 score: 0.7498529483712149\n"
     ]
    }
   ],
   "source": [
    "import numpy as np\n",
    "import seaborn as sns\n",
    "import pandas as pd\n",
    "from sklearn.linear_model import LinearRegression\n",
    "from sklearn.model_selection import KFold\n",
    "from sklearn.metrics import r2_score\n",
    "\n",
    "# Load the Penguins dataset\n",
    "df = sns.load_dataset('penguins')\n",
    "# features = ['bill_length_mm', 'bill_depth_mm','flipper_length_mm']\n",
    "\n",
    "features = ['flipper_length_mm']\n",
    "target = ['body_mass_g']  \n",
    "\n",
    "# Remove missing values based on the features and target\n",
    "df.dropna(subset=features + target, inplace=True)  # Remove missing values\n",
    "\n",
    "\n",
    "# Initialize linear regression model\n",
    "model = LinearRegression()\n",
    "\n",
    "# Set up 5-fold cross-validation\n",
    "kf = KFold(n_splits=5, shuffle=True, random_state=1)\n",
    "\n",
    "# Initialize a list to store the R^2 scores for each fold\n",
    "scores = []\n",
    "\n",
    "# Manually perform cross-validation\n",
    "k = 1\n",
    "for train_index, test_index in kf.split(df):\n",
    "\n",
    "    # Split the data into training and test sets for this fold\n",
    "    X_train, X_test = df[features].iloc[train_index], df[features].iloc[test_index]\n",
    "    y_train, y_test = df[target].iloc[train_index], df[target].iloc[test_index]\n",
    "\n",
    "    # Fit the model to the training data\n",
    "    model.fit(X_train, y_train)\n",
    "\n",
    "    # Predict on the test data\n",
    "    y_pred = model.predict(X_test)\n",
    "\n",
    "    # Calculate the R^2 score and append to list\n",
    "    score = r2_score(y_test, y_pred)\n",
    "    scores.append(score)\n",
    "\n",
    "    k += 1\n",
    "\n",
    "    # Output the scores for each fold and the average score\n",
    "    print(f\"Fold {k-1} R^2 score:\", score)\n",
    "\n",
    "print(\"Average R^2 score:\", np.mean(scores))\n"
   ]
  },
  {
   "cell_type": "markdown",
   "metadata": {},
   "source": [
    "We can also use the [cross_val_score](https://scikit-learn.org/stable/modules/generated/sklearn.model_selection.cross_val_score.html) function to streamline the process.\n",
    "\n"
   ]
  },
  {
   "cell_type": "code",
   "execution_count": 17,
   "metadata": {},
   "outputs": [
    {
     "name": "stdout",
     "output_type": "stream",
     "text": [
      "R^2 scores for each fold: [0.75896971 0.69964964 0.78130982 0.75385356 0.75548201]\n",
      "Average R^2 score: 0.7498529483712149\n"
     ]
    }
   ],
   "source": [
    "from sklearn.model_selection import cross_val_score\n",
    "\n",
    "\n",
    "# Initialize linear regression model\n",
    "model = LinearRegression()\n",
    "\n",
    "# Set up 5-fold cross-validation\n",
    "kf = KFold(n_splits=5, shuffle=True, random_state=1)\n",
    "    \n",
    "# Perform cross-validation\n",
    "scores = cross_val_score(model, df[features], df[target], cv=kf, scoring='r2')\n",
    "\n",
    "# Output the scores for each fold\n",
    "print(\"R^2 scores for each fold:\", scores)\n",
    "print(\"Average R^2 score:\", scores.mean())\n"
   ]
  },
  {
   "cell_type": "code",
   "execution_count": null,
   "metadata": {},
   "outputs": [],
   "source": []
  }
 ],
 "metadata": {
  "kernelspec": {
   "display_name": "base",
   "language": "python",
   "name": "python3"
  },
  "language_info": {
   "codemirror_mode": {
    "name": "ipython",
    "version": 3
   },
   "file_extension": ".py",
   "mimetype": "text/x-python",
   "name": "python",
   "nbconvert_exporter": "python",
   "pygments_lexer": "ipython3",
   "version": "3.7.13"
  }
 },
 "nbformat": 4,
 "nbformat_minor": 2
}
