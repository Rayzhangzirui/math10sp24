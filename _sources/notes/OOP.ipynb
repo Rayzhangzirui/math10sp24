{
 "cells": [
  {
   "cell_type": "markdown",
   "id": "2a76aac4",
   "metadata": {},
   "source": [
    "# Object Oriented Programming (OOP) in Python"
   ]
  },
  {
   "cell_type": "markdown",
   "id": "94236d4b",
   "metadata": {},
   "source": [
    "# What is class and object in Python?\n",
    "\n",
    "\n",
    "A class combines data/attribute and functionality/method together\n",
    "\n",
    "An object is an instance of a class"
   ]
  },
  {
   "cell_type": "code",
   "execution_count": 87,
   "id": "54d73581",
   "metadata": {},
   "outputs": [],
   "source": [
    "from math import sqrt\n",
    "\n",
    "class Vector():\n",
    "    dim = 2\n",
    "    \n",
    "    def __init__(self, input_x, input_y):\n",
    "        self.x = input_x\n",
    "        self.y = input_y\n",
    "    \n",
    "    def length(self):\n",
    "        return sqrt(self.x**2 + self.y**2)\n",
    "    \n",
    "    def scale(self, c):\n",
    "        self.x = self.x * c\n",
    "        self.y = self.y * c\n",
    "    \n",
    "    def __repr__(self):\n",
    "        return f'({self.x},{self.y})'\n",
    "    \n",
    "    def normalize(self):\n",
    "        self.scale(1/self.length())\n",
    "        \n",
    "    \n",
    "    def add(self, other):\n",
    "        return Vector(self.x + other.x, self.y + other.y)\n",
    "    \n",
    "    def __add__(self, other):\n",
    "        return Vector(self.x + other.x, self.y + other.y)\n",
    "        "
   ]
  },
  {
   "cell_type": "code",
   "execution_count": 88,
   "id": "886a46e7",
   "metadata": {},
   "outputs": [
    {
     "name": "stdout",
     "output_type": "stream",
     "text": [
      "(3,4) (1,0) (4,4)\n"
     ]
    }
   ],
   "source": [
    "v = Vector(3,4)\n",
    "w = Vector(1,0)\n",
    "z = v.add(w)\n",
    "print(v,w,z)"
   ]
  },
  {
   "cell_type": "code",
   "execution_count": 89,
   "id": "7ab1e217",
   "metadata": {},
   "outputs": [
    {
     "name": "stdout",
     "output_type": "stream",
     "text": [
      "(3,4) (1,0) (4,4)\n"
     ]
    }
   ],
   "source": [
    "p = v + w \n",
    "print(v,w,p)"
   ]
  },
  {
   "cell_type": "markdown",
   "id": "93a7dcdc",
   "metadata": {},
   "source": [
    "# Inheritance"
   ]
  },
  {
   "cell_type": "code",
   "execution_count": 90,
   "id": "5c4989b5",
   "metadata": {},
   "outputs": [],
   "source": [
    "class Animal():\n",
    "    def __init__(self, input_name):\n",
    "        self.name = input_name\n",
    "        print(f'This is {self.name}')\n",
    "    \n",
    "    def sleep(self):\n",
    "        print('Zzz')\n",
    "    \n",
    "\n",
    "class Cat(Animal):\n",
    "    def greeting(self):\n",
    "        print('meow')\n",
    "\n",
    "class Dog(Animal):\n",
    "    def greeting(self):\n",
    "        print('woof')\n",
    "\n",
    "    "
   ]
  }
 ],
 "metadata": {
  "kernelspec": {
   "display_name": "Python 3 (ipykernel)",
   "language": "python",
   "name": "python3"
  },
  "language_info": {
   "codemirror_mode": {
    "name": "ipython",
    "version": 3
   },
   "file_extension": ".py",
   "mimetype": "text/x-python",
   "name": "python",
   "nbconvert_exporter": "python",
   "pygments_lexer": "ipython3",
   "version": "3.7.13"
  }
 },
 "nbformat": 4,
 "nbformat_minor": 5
}
