{
 "cells": [
  {
   "attachments": {},
   "cell_type": "markdown",
   "metadata": {},
   "source": [
    "# Python review\n",
    "\n",
    "key concepts: everything has a type, assigning is binding, scope of variable"
   ]
  },
  {
   "cell_type": "markdown",
   "metadata": {},
   "source": [
    "## Type\n",
    "In python, everything has a type. You can check the type of a variable using the `type()` function."
   ]
  },
  {
   "cell_type": "code",
   "execution_count": 1,
   "metadata": {},
   "outputs": [
    {
     "data": {
      "text/plain": [
       "int"
      ]
     },
     "execution_count": 1,
     "metadata": {},
     "output_type": "execute_result"
    }
   ],
   "source": [
    "type(1)"
   ]
  },
  {
   "cell_type": "code",
   "execution_count": 2,
   "metadata": {},
   "outputs": [
    {
     "data": {
      "text/plain": [
       "list"
      ]
     },
     "execution_count": 2,
     "metadata": {},
     "output_type": "execute_result"
    }
   ],
   "source": [
    "type([1,2,3])"
   ]
  },
  {
   "cell_type": "markdown",
   "metadata": {},
   "source": [
    "## Operations"
   ]
  },
  {
   "cell_type": "code",
   "execution_count": 6,
   "metadata": {},
   "outputs": [
    {
     "name": "stdout",
     "output_type": "stream",
     "text": [
      "0.75\n",
      "0\n",
      "3\n",
      "9\n"
     ]
    }
   ],
   "source": [
    "# This is true division, which always returns a float\n",
    "print(3/4)\n",
    "\n",
    "# This is floor division, which truncates the decimal without rounding\n",
    "print(3//4)\n",
    "\n",
    "# This is the modulo operator, which returns the remainder of the division\n",
    "print(3%4)\n",
    "\n",
    "# This is exponentiation/raising to a power\n",
    "print(3**2)\n",
    "\n"
   ]
  },
  {
   "attachments": {},
   "cell_type": "markdown",
   "metadata": {},
   "source": [
    "## Assignment \n",
    "\n",
    "Assignment = statements in Python do not copy objects, they create bindings between a variable and an object. \n",
    "\n",
    "This is a very important concept in python, especially when dealing with mutable objects (lists, dictionaries, etc.)\n"
   ]
  },
  {
   "cell_type": "code",
   "execution_count": 11,
   "metadata": {},
   "outputs": [
    {
     "name": "stdout",
     "output_type": "stream",
     "text": [
      "1 2\n"
     ]
    }
   ],
   "source": [
    "# normal behavior\n",
    "a=1\n",
    "b=a\n",
    "b=2\n",
    "print(a,b)\n"
   ]
  },
  {
   "cell_type": "code",
   "execution_count": 12,
   "metadata": {},
   "outputs": [
    {
     "name": "stdout",
     "output_type": "stream",
     "text": [
      "[-1, 2, 3] [-1, 2, 3]\n"
     ]
    }
   ],
   "source": [
    "a = [1,2,3]\n",
    "b = a\n",
    "a[0]=-1\n",
    "print(a,b)\n",
    "# a and b bind to the same list\n",
    "# essentially, different name for the same thing\n",
    "# change one, change the other"
   ]
  },
  {
   "cell_type": "code",
   "execution_count": 13,
   "metadata": {},
   "outputs": [
    {
     "name": "stdout",
     "output_type": "stream",
     "text": [
      "[-1, -2, 3] [-1, -2, 3]\n"
     ]
    }
   ],
   "source": [
    "# change b, a also changed\n",
    "b[1]=-2\n",
    "print(a,b)"
   ]
  },
  {
   "cell_type": "code",
   "execution_count": 14,
   "metadata": {},
   "outputs": [
    {
     "name": "stdout",
     "output_type": "stream",
     "text": [
      "[-1, 2, 3] [1, 2, 3]\n"
     ]
    }
   ],
   "source": [
    "a = [1,2,3]\n",
    "b = [] \n",
    "# at this stage, a and b are different lists,\n",
    "\n",
    "for i in a:\n",
    "    b.append(i)\n",
    "a[0] = -1\n",
    "print(a,b)\n",
    "\n",
    "# change one have no effect on the other"
   ]
  },
  {
   "cell_type": "code",
   "execution_count": 15,
   "metadata": {},
   "outputs": [
    {
     "name": "stdout",
     "output_type": "stream",
     "text": [
      "[1, 2, 3, 4] [1, 2, 3, 4]\n",
      "[-1, 2, 3, 4] [1, 2, 3, 4]\n"
     ]
    }
   ],
   "source": [
    "a = [1,2,3]\n",
    "\n",
    "b = a + [4] # this is create a new list by concatenating two list\n",
    "# at this stage, a and b are different lists,\n",
    "\n",
    "a.append(4) # this is modifying the list in a\n",
    "\n",
    "print(a,b)\n",
    "a[0] = -1\n",
    "print(a,b)\n"
   ]
  },
  {
   "attachments": {},
   "cell_type": "markdown",
   "metadata": {},
   "source": [
    "We can modify a list in-place using a function\n",
    "\n",
    "This is consistent with our notion of \"assigning is binding\"\n"
   ]
  },
  {
   "cell_type": "code",
   "execution_count": 16,
   "metadata": {},
   "outputs": [
    {
     "name": "stdout",
     "output_type": "stream",
     "text": [
      "[-1, 2, 3] None\n"
     ]
    }
   ],
   "source": [
    "# this function do not have return, by default, it returns None\n",
    "def changelist_noreturn(x):\n",
    "    x[0] = -1\n",
    "\n",
    "z = [1,2,3]\n",
    "y = changelist_noreturn(z)\n",
    "print(z,y)\n",
    "# z is modified in-place"
   ]
  },
  {
   "cell_type": "code",
   "execution_count": 17,
   "metadata": {},
   "outputs": [
    {
     "name": "stdout",
     "output_type": "stream",
     "text": [
      "[-1, 2, 3] [-1, 2, 3]\n",
      "[-1, 2, -3] [-1, 2, -3]\n"
     ]
    }
   ],
   "source": [
    "# we can modify a list inplace using a function\n",
    "\n",
    "def changelist_withreturn(x):\n",
    "    x[0] = -1\n",
    "    return x\n",
    "\n",
    "z = [1,2,3]\n",
    "y = changelist_withreturn(z)\n",
    "# inside the function, x is bind to the same list as z\n",
    "# then we assign x to y, so y also bind to the same list\n",
    "print(z,y)\n",
    "\n",
    "z[-1] = -3\n",
    "print(z,y)"
   ]
  },
  {
   "attachments": {},
   "cell_type": "markdown",
   "metadata": {},
   "source": [
    "# Scope of variables\n",
    "\n",
    "If the function does not find the local variable, it will try to find it in an \"upper\" scope\n",
    "\n",
    "If the function do not have a `return`, then `None` is returned"
   ]
  },
  {
   "cell_type": "code",
   "execution_count": 18,
   "metadata": {},
   "outputs": [
    {
     "name": "stdout",
     "output_type": "stream",
     "text": [
      "3 2\n"
     ]
    }
   ],
   "source": [
    "# normal behavior: local variable a = 1 \n",
    "# does not modify global variable a\n",
    "a = 2\n",
    "def addone(x):\n",
    "    a = 1\n",
    "    b = x + a\n",
    "    return b\n",
    "\n",
    "c = addone(a)\n",
    "print(c,a)"
   ]
  },
  {
   "cell_type": "code",
   "execution_count": 19,
   "metadata": {},
   "outputs": [
    {
     "name": "stdout",
     "output_type": "stream",
     "text": [
      "3\n"
     ]
    }
   ],
   "source": [
    "a = 2\n",
    "def addone2(x):\n",
    "    b = x + a\n",
    "    # didn't find a locally, so try to find it globally\n",
    "    # in matlab, this will throw an error\n",
    "    return b\n",
    "\n",
    "c = addone2(1)\n",
    "print(c)"
   ]
  },
  {
   "cell_type": "code",
   "execution_count": 20,
   "metadata": {},
   "outputs": [
    {
     "name": "stdout",
     "output_type": "stream",
     "text": [
      "10 12\n"
     ]
    }
   ],
   "source": [
    "a = 10\n",
    "b = addone2(2)\n",
    "# always try to use the value of a in the workspace\n",
    "# this has nothing to do with order of the cell\n",
    "\n",
    "print(a,b)"
   ]
  },
  {
   "cell_type": "code",
   "execution_count": 1,
   "metadata": {},
   "outputs": [
    {
     "name": "stdout",
     "output_type": "stream",
     "text": [
      "2 10\n"
     ]
    }
   ],
   "source": [
    "a = 2\n",
    "def change_a(x):\n",
    "    a = x\n",
    "    # a is now a local variable, it does not modify global variable a\n",
    "    # this is different from addone2: we are not looking for a, we are define a locally\n",
    "    \n",
    "    return a\n",
    "\n",
    "y = change_a(10)\n",
    "print(a,y)"
   ]
  },
  {
   "cell_type": "code",
   "execution_count": 22,
   "metadata": {},
   "outputs": [
    {
     "data": {
      "text/plain": [
       "26"
      ]
     },
     "execution_count": 22,
     "metadata": {},
     "output_type": "execute_result"
    }
   ],
   "source": [
    "# you can pass function as argument to other function\n",
    "# we have something similar when implementing the bisection method using matlab\n",
    "def cubic(x):\n",
    "    return x**3 - 1\n",
    "\n",
    "def evaluate(f, x):\n",
    "    # evaluate function f at x\n",
    "    return f(x)\n",
    "\n",
    "evaluate(cubic,3)"
   ]
  },
  {
   "cell_type": "markdown",
   "metadata": {},
   "source": [
    "## Recursive function  \n",
    "\n",
    "A function can call itself, this is called recursion"
   ]
  },
  {
   "cell_type": "code",
   "execution_count": 1,
   "metadata": {},
   "outputs": [
    {
     "name": "stdout",
     "output_type": "stream",
     "text": [
      "6\n"
     ]
    }
   ],
   "source": [
    "# the function compute n-factorial: myfac(n) = n! =  n * (n-1) * (n-2) ... * 2 * 1\n",
    "def myfac(n):\n",
    "    if n == 1:\n",
    "        return 1\n",
    "    else:\n",
    "        return n*myfac(n-1)\n",
    "\n",
    "print(myfac(3))\n"
   ]
  },
  {
   "cell_type": "markdown",
   "metadata": {},
   "source": [
    "## Lambda function\n",
    "\n",
    "A lambda function is a handy way to define a short function in a single line.\n",
    "It it the same as defining a function using `def`."
   ]
  },
  {
   "cell_type": "code",
   "execution_count": 2,
   "metadata": {},
   "outputs": [
    {
     "data": {
      "text/plain": [
       "function"
      ]
     },
     "execution_count": 2,
     "metadata": {},
     "output_type": "execute_result"
    }
   ],
   "source": [
    "f = lambda x:x+2\n",
    "type(f)"
   ]
  },
  {
   "cell_type": "markdown",
   "metadata": {},
   "source": [
    "## Sorting\n",
    "\n",
    "The `sorted()` function returns a new sorted list\n",
    "The `.sort()` method of a list sorts the list in place.\n",
    "Use the `reverse` argument to sort in descending order.\n",
    "Use the `key` argument to specify a function to be called on each list element prior to making comparisons."
   ]
  },
  {
   "cell_type": "code",
   "execution_count": 3,
   "metadata": {},
   "outputs": [
    {
     "name": "stdout",
     "output_type": "stream",
     "text": [
      "[1, 2, 3, 4, 5] None\n"
     ]
    }
   ],
   "source": [
    "a = [5,2,3,1,4]\n",
    "c = a.sort()\n",
    "print(a,c)\n",
    "# a is modified in place\n",
    "# c is None, because sort() does not return anything"
   ]
  },
  {
   "cell_type": "code",
   "execution_count": null,
   "metadata": {},
   "outputs": [],
   "source": [
    "a = [5,2,3,1,4]\n",
    "b = sorted(a)\n",
    "print(a,b)\n",
    "# a is not modified\n",
    "# b is a new sorted list"
   ]
  },
  {
   "cell_type": "code",
   "execution_count": null,
   "metadata": {},
   "outputs": [],
   "source": [
    "# Sort by decreasing order of the absolute value of the elements\n",
    "c = [5, -2, 3, -1, 4]\n",
    "sorted(c, reverse = True, key = lambda x:abs(x))\n",
    "\n"
   ]
  },
  {
   "attachments": {},
   "cell_type": "markdown",
   "metadata": {},
   "source": [
    "## Extra material\n",
    "\n",
    "Not on the exam, but might be good to know."
   ]
  },
  {
   "cell_type": "code",
   "execution_count": 23,
   "metadata": {},
   "outputs": [
    {
     "name": "stdout",
     "output_type": "stream",
     "text": [
      "[-1, 2, 3] [1, 2, 3]\n"
     ]
    }
   ],
   "source": [
    "# for actual copy of the data, look up python deepcopy\n",
    "from copy import deepcopy\n",
    "a = [1,2,3]\n",
    "b = deepcopy(a)\n",
    "a[0] = -1\n",
    "print(a,b)"
   ]
  },
  {
   "cell_type": "code",
   "execution_count": 24,
   "metadata": {},
   "outputs": [
    {
     "name": "stdout",
     "output_type": "stream",
     "text": [
      "10 None\n"
     ]
    }
   ],
   "source": [
    "# the scope of a variable can be modified using global\n",
    "a = 2\n",
    "def change_a_global(x):\n",
    "    global a\n",
    "    # a is now a global variable, it does modify global variable a\n",
    "    a = x\n",
    "    \n",
    "\n",
    "y = change_a_global(10)\n",
    "print(a,y)"
   ]
  },
  {
   "cell_type": "code",
   "execution_count": 25,
   "metadata": {},
   "outputs": [
    {
     "data": {
      "text/plain": [
       "(140523015961648, 140523015961648)"
      ]
     },
     "execution_count": 25,
     "metadata": {},
     "output_type": "execute_result"
    }
   ],
   "source": [
    "# How to see if two variables are bound to the same object? \n",
    "# Can use id(), think of it as the memory address of the object\n",
    "a = [1,2,3]\n",
    "b = a\n",
    "id(a), id(b) # same memory address\n"
   ]
  },
  {
   "cell_type": "code",
   "execution_count": 7,
   "metadata": {},
   "outputs": [
    {
     "name": "stdout",
     "output_type": "stream",
     "text": [
      "2\n",
      "21\n"
     ]
    }
   ],
   "source": [
    "# The notion of \"scope\" can be more complicated, \n",
    "# for simplicity, we only talked about global and local scope.\n",
    "\n",
    "\n",
    "# When your function return a function, it is called a closure, this function \"capture the environment variable\"\n",
    "# No need to worry about this for this class.\n",
    "\n",
    "def function_factory(a):\n",
    "    # This function returns another function\n",
    "    def myadd(x):\n",
    "        return x + a\n",
    "    return myadd\n",
    "\n",
    "# Generate a function with 'a' captured at the value 1\n",
    "myadd_1 = function_factory(1)\n",
    "\n",
    "# Generate another function with 'a' captured at the value 20\n",
    "myadd_20 = function_factory(20)\n",
    "\n",
    "# Even if we change 'a' now, it does not affect the closures\n",
    "a = 99\n",
    "\n",
    "print(myadd_1(1))\n",
    "print(myadd_20(1))  "
   ]
  }
 ],
 "metadata": {
  "kernelspec": {
   "display_name": "Python 3.7.13 ('base')",
   "language": "python",
   "name": "python3"
  },
  "language_info": {
   "codemirror_mode": {
    "name": "ipython",
    "version": 3
   },
   "file_extension": ".py",
   "mimetype": "text/x-python",
   "name": "python",
   "nbconvert_exporter": "python",
   "pygments_lexer": "ipython3",
   "version": "3.11.5"
  },
  "vscode": {
   "interpreter": {
    "hash": "3eefdef873b618b3951b71f231364f5566650def46a4478f66115e38335b4eca"
   }
  }
 },
 "nbformat": 4,
 "nbformat_minor": 4
}
