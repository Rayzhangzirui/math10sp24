{
 "cells": [
  {
   "cell_type": "code",
   "execution_count": null,
   "id": "17883151-b6c2-412e-83e9-9012817c4423",
   "metadata": {},
   "outputs": [],
   "source": [
    "# as k increase\n",
    "# model complexity\n",
    "# (<-) increase   (->) decrease   ( ) Don't know\n",
    "\n",
    "# bias\n",
    "# (<-) increase   (->) decrease   ( ) Don't know\n",
    "\n",
    "# variance\n",
    "# (<-) increase   (->) decrease   ( ) Don't know\n",
    "\n",
    "# testing error\n",
    "#"
   ]
  }
 ],
 "metadata": {
  "kernelspec": {
   "display_name": "Python 3 (ipykernel)",
   "language": "python",
   "name": "python3"
  },
  "language_info": {
   "codemirror_mode": {
    "name": "ipython",
    "version": 3
   },
   "file_extension": ".py",
   "mimetype": "text/x-python",
   "name": "python",
   "nbconvert_exporter": "python",
   "pygments_lexer": "ipython3",
   "version": "3.12.3"
  }
 },
 "nbformat": 4,
 "nbformat_minor": 5
}
