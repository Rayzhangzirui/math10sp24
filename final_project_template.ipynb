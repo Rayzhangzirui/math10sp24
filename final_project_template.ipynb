{
 "cells": [
  {
   "cell_type": "markdown",
   "metadata": {},
   "source": [
    "# [Title here]\n",
    "\n",
    "Author: [name here]\n",
    "\n",
    "Course Project, UC Irvine, Math 10, S24\n",
    "\n",
    "I would like to post my notebook on the course's website. [Yes/No]\n"
   ]
  },
  {
   "cell_type": "markdown",
   "metadata": {},
   "source": []
  }
 ],
 "metadata": {
  "language_info": {
   "name": "python"
  }
 },
 "nbformat": 4,
 "nbformat_minor": 2
}
