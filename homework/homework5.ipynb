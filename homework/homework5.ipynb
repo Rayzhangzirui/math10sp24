{
 "cells": [
  {
   "cell_type": "markdown",
   "metadata": {},
   "source": [
    "# Homework 5 (Due 5/17)\n",
    "\n",
    "## Name:\n",
    "\n",
    "## ID:\n",
    "\n",
    "## Instructions\n",
    "Run everything (select cell in the menu, and click Run all), export as pdf, and submit the pdf to gradescope. \n",
    "\n",
    "To export as pdf, you can use the following methods: (1) File -> download as -> pdf (2) print as pdf from browser."
   ]
  },
  {
   "cell_type": "markdown",
   "metadata": {},
   "source": [
    "In this homework, we will use the penguins dataset and we want to predict the ``body_mass_g`` of a penguin using the other features.\n",
    "\n",
    "We will do a series of transformation on the dataframe. You can use different copies of the dataframe or modify the dataframe in place."
   ]
  },
  {
   "cell_type": "code",
   "execution_count": 8,
   "metadata": {},
   "outputs": [],
   "source": [
    "import seaborn as sns\n",
    "\n",
    "df = sns.load_dataset(\"penguins\")"
   ]
  },
  {
   "cell_type": "markdown",
   "metadata": {},
   "source": [
    "**Q1 Data Imputation**\n",
    "\n",
    "(1) Find the row indices that have missing values and print those rows.\n"
   ]
  },
  {
   "cell_type": "code",
   "execution_count": null,
   "id": "e964a010",
   "metadata": {},
   "outputs": [],
   "source": [
    "# code here"
   ]
  },
  {
   "cell_type": "markdown",
   "metadata": {},
   "source": [
    "(2) Besides removing the row with missing value, we can try to fill in the missing value: this is called data imputation. \n",
    "\n",
    "Use the `SimpleImputer` from `sklearn.impute` with the strategy `mean` to fill in the missing values.\n",
    "\n",
    "For example, if the feature `bill_length_mm` has missing values, we will replace the missing values with the mean value of `bill_length_mm`.\n",
    "\n",
    "Impute the following features:\n",
    "\n",
    "`['bill_length_mm', 'bill_depth_mm', 'flipper_length_mm', 'body_mass_g']`\n",
    "\n",
    "Print the imputed rows.\n"
   ]
  },
  {
   "cell_type": "code",
   "execution_count": null,
   "id": "4d7ba773",
   "metadata": {},
   "outputs": [],
   "source": [
    "# code here"
   ]
  },
  {
   "cell_type": "markdown",
   "metadata": {},
   "source": [
    "**Q2** Feature scaling"
   ]
  },
  {
   "cell_type": "markdown",
   "metadata": {},
   "source": [
    "Scale the features `['bill_length_mm', 'bill_depth_mm', 'flipper_length_mm']` to [0, 1] using `MinMaxScaler` from `sklearn.preprocessing`."
   ]
  },
  {
   "cell_type": "code",
   "execution_count": null,
   "id": "5e1b80b2",
   "metadata": {},
   "outputs": [],
   "source": [
    "# code here"
   ]
  },
  {
   "cell_type": "markdown",
   "metadata": {},
   "source": [
    "**Q3**  Use the scaled features `['bill_length_mm', 'bill_depth_mm', 'flipper_length_mm']` to fit a linear regression model to predict `body_mass_g`.\n",
    "\n",
    "Perform 5-fold cross validation and report the mean and standard deviation of the coefficient of determination $R^2$."
   ]
  },
  {
   "cell_type": "code",
   "execution_count": null,
   "id": "ed38c094",
   "metadata": {},
   "outputs": [],
   "source": [
    "# code here"
   ]
  },
  {
   "cell_type": "markdown",
   "metadata": {},
   "source": [
    "**Q4** Use the scaled features `['bill_length_mm', 'bill_depth_mm', 'flipper_length_mm']` to fit a `Lasso` regression model to predict `body_mass_g`.\n",
    "\n",
    "Use `alpha=0.1`.\n",
    "\n",
    "Perform 5-fold cross validation and report the mean and standard deviation of the coefficient of determination $R^2$."
   ]
  },
  {
   "cell_type": "code",
   "execution_count": null,
   "id": "9293c226",
   "metadata": {},
   "outputs": [],
   "source": [
    "# code here"
   ]
  },
  {
   "cell_type": "markdown",
   "metadata": {},
   "source": [
    "**Q5** Catagorical features\n",
    "\n",
    "(1) Look up the documentation of `pandas.get_dummy`: this function will convert categorical variable into dummy/indicator variables (1s and 0s).\n",
    "\n",
    "Notice that there is a parameter called `drop_first`. \n",
    "\n",
    "If `drop_first = True`, it will drop the first category of each feature. \n",
    "\n",
    "If `drop_first = False`, it will keep all the categories. \n",
    "\n",
    "For example, if we have a feature `color` with categories `['red', 'blue', 'green']`, then `get_dummies` will create 3 features `color_red`, `color_blue`, `color_green`.\n",
    "\n",
    "If `drop_first = True`, it will drop the first category `color_red` and keep `color_blue` and `color_green`.\n",
    "\n",
    "If `drop_first = False`, it will keep all the categories `color_red`, `color_blue`, `color_green`.\n",
    "\n",
    "For linear regression, should we set drop_first = True or False? Why?"
   ]
  },
  {
   "cell_type": "markdown",
   "id": "47264cb5",
   "metadata": {},
   "source": [
    "*Answer here*"
   ]
  },
  {
   "cell_type": "markdown",
   "metadata": {},
   "source": [
    "(2) Use the `get_dummies` method to convert `species`, `island` and `sex` to dummy variables.\n",
    "\n",
    "Print the first 5 rows of your dataframe"
   ]
  },
  {
   "cell_type": "code",
   "execution_count": null,
   "id": "7d7d4a5a",
   "metadata": {},
   "outputs": [],
   "source": [
    "# code here"
   ]
  },
  {
   "cell_type": "markdown",
   "metadata": {},
   "source": [
    "**Q6** At this point, our penguins dataset have \n",
    "\n",
    "- scaled features `['bill_length_mm', 'bill_depth_mm', 'flipper_length_mm']`, and \n",
    "\n",
    "- dummy variables from `['species', 'island', 'sex']`\n",
    "\n",
    "Use these features to fit a linear regression model to predict `body_mass_g`.\n",
    "\n",
    "Compute the 5 fold cross validation score using R2 as the scoring metric.\n"
   ]
  },
  {
   "cell_type": "code",
   "execution_count": null,
   "id": "2f436d9c",
   "metadata": {},
   "outputs": [],
   "source": [
    "# code here"
   ]
  }
 ],
 "metadata": {
  "kernelspec": {
   "display_name": "base",
   "language": "python",
   "name": "python3"
  },
  "language_info": {
   "codemirror_mode": {
    "name": "ipython",
    "version": 3
   },
   "file_extension": ".py",
   "mimetype": "text/x-python",
   "name": "python",
   "nbconvert_exporter": "python",
   "pygments_lexer": "ipython3",
   "version": "3.7.16"
  }
 },
 "nbformat": 4,
 "nbformat_minor": 2
}
