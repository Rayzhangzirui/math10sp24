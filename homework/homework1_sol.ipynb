{
 "cells": [
  {
   "cell_type": "markdown",
   "id": "37691194",
   "metadata": {},
   "source": [
    "# Homework 1 (Due 4/12)\n",
    "\n",
    "## Name:\n",
    "\n",
    "## ID:\n",
    "\n",
    "## Instructions\n",
    "Run everything (select cell in the menu, and click Run all), export as pdf, and submit the pdf to gradescope. \n",
    "\n",
    "To export as pdf, you can use the following methods: (1) File -> download as -> pdf (2) print as pdf from browser."
   ]
  },
  {
   "cell_type": "markdown",
   "id": "a876e123",
   "metadata": {},
   "source": [
    "**Q1** Fibonacci sequence\n",
    "\n",
    "\n",
    "**Q1 (1)**. Create a markdown cell below, write down the recurrence relation for the [Fibonacci sequence](https://en.wikipedia.org/wiki/Fibonacci_sequence)"
   ]
  },
  {
   "cell_type": "markdown",
   "id": "698f7dc6",
   "metadata": {},
   "source": [
    "Answer here"
   ]
  },
  {
   "cell_type": "markdown",
   "id": "0ea79884",
   "metadata": {},
   "source": [
    "**Q1 (2)** Write a function, ``myfibo(n)``, using a loop, that returns the n-th Fibonacci number."
   ]
  },
  {
   "cell_type": "code",
   "execution_count": 1,
   "id": "36673627",
   "metadata": {},
   "outputs": [],
   "source": [
    "# code here\n",
    "\n",
    "def myfibo(n):\n",
    "    if n == 0:\n",
    "        return 0\n",
    "    if n == 1:\n",
    "        return 1\n",
    "    else:\n",
    "        a = 0\n",
    "        b = 1\n",
    "        for i in range(2, n):\n",
    "            c = a + b\n",
    "            a = b\n",
    "            b = c\n",
    "        return c\n",
    "    \n",
    "\n",
    "\n",
    "    "
   ]
  },
  {
   "cell_type": "markdown",
   "id": "b57bfd24",
   "metadata": {},
   "source": [
    "**Q1 (3)** Write a function, ``myfibo_rec(n)``, using recursion, that returns the n-th Fibonacci number."
   ]
  },
  {
   "cell_type": "code",
   "execution_count": 2,
   "id": "d3c22bf3",
   "metadata": {},
   "outputs": [],
   "source": [
    "# code here\n",
    "def myfibo_rec(n):\n",
    "    if n == 0:\n",
    "        return 0\n",
    "    elif n == 1:\n",
    "        return 1\n",
    "    else:\n",
    "        return myfibo_rec(n-1) + myfibo_rec(n-2)"
   ]
  },
  {
   "cell_type": "markdown",
   "id": "ff54ec81",
   "metadata": {},
   "source": [
    "**Q1 (4)** Compare the time it takes to run ``myfibo(20)`` and ``myfibo_rec(20)``. Which one is faster? Why?"
   ]
  },
  {
   "cell_type": "code",
   "execution_count": 4,
   "id": "6d8d594b",
   "metadata": {},
   "outputs": [
    {
     "name": "stdout",
     "output_type": "stream",
     "text": [
      "763 ns ± 5.04 ns per loop (mean ± std. dev. of 7 runs, 1,000,000 loops each)\n"
     ]
    }
   ],
   "source": [
    "%%timeit\n",
    "# run the following code to check the time, %%timeit will run the code multiple times and give you the average time it took to run the code \n",
    "myfibo(20)"
   ]
  },
  {
   "cell_type": "code",
   "execution_count": 5,
   "id": "8e01fb19",
   "metadata": {},
   "outputs": [
    {
     "name": "stdout",
     "output_type": "stream",
     "text": [
      "1.23 ms ± 12.2 µs per loop (mean ± std. dev. of 7 runs, 1,000 loops each)\n"
     ]
    }
   ],
   "source": [
    "%%timeit \n",
    "myfibo_rec(20)\n",
    "# run the following code to check the time\n"
   ]
  },
  {
   "cell_type": "markdown",
   "id": "7b065388",
   "metadata": {},
   "source": [
    "Answer: myfibo is faster. myfibo_rec is slower because it makes many redundant calculations: for example, myfibo_rec(5) = myfibo_rec(4) + myfibo_rec(3), but myfibo_rec(4) = myfibo_rec(3) + myfibo_rec(2), notice that myfibo_rec(3) is calculated twice."
   ]
  },
  {
   "cell_type": "markdown",
   "id": "cafa8882",
   "metadata": {},
   "source": [
    "**Q2** \n",
    "\n",
    "Define a function ``mycumsum(x)``, which take a list of numbers ``x``, and modify ``x``, so that the modified list is the list of cumulative sum of the original list: \n",
    "\n",
    "If the original list is [$x_0$, $x_1$, $x_2$, ...], then the modified list is [$x_0$, $x_0+x_1$, $x_0+x_1+x_2$, ...].\n",
    "\n",
    "Your function should only use a single for-loop.\n",
    "\n",
    "For example \n",
    "\n",
    "```\n",
    "x = [1,1,1]\n",
    "\n",
    "mycumsum(x)\n",
    "\n",
    "print(x)\n",
    "```\n",
    "\n",
    "produce ``[1,2,3]``"
   ]
  },
  {
   "cell_type": "code",
   "execution_count": 8,
   "id": "4052df73",
   "metadata": {},
   "outputs": [
    {
     "name": "stdout",
     "output_type": "stream",
     "text": [
      "[1, 2, 3]\n"
     ]
    }
   ],
   "source": [
    "# code here\n",
    "def mycumsum(x):\n",
    "    for i in range(1, len(x)):\n",
    "        x[i] = x[i] + x[i-1]\n",
    "\n",
    "x = [1,1,1]\n",
    "mycumsum(x)\n",
    "print(x)"
   ]
  },
  {
   "cell_type": "markdown",
   "id": "a0313c00",
   "metadata": {},
   "source": [
    "**Q3** Working with list\n",
    "\n",
    "**Q3 (1)** Generate a list of numbers between 1 and 100 that exclude (1) multiples of 7 and (2) numbers that ends with 7\n",
    "\n",
    "For example, 7, 14, 17, 21, 27, 28, .. are excluded.\n",
    "\n",
    "Do not use \"outer for-loop\". you can use list comprehension.\n",
    "\n",
    "Hint: you might need to convert between integer and string.\n",
    "\n",
    "Hint: you can define a helper function.\n",
    "\n"
   ]
  },
  {
   "cell_type": "code",
   "execution_count": 10,
   "id": "83703d7f",
   "metadata": {},
   "outputs": [
    {
     "name": "stdout",
     "output_type": "stream",
     "text": [
      "[1, 2, 3, 4, 5, 6, 8, 9, 10, 11, 12, 13, 15, 16, 18, 19, 20, 22, 23, 24, 25, 26, 29, 30, 31, 32, 33, 34, 36, 38, 39, 40, 41, 43, 44, 45, 46, 48, 50, 51, 52, 53, 54, 55, 58, 59, 60, 61, 62, 64, 65, 66, 68, 69, 71, 72, 73, 74, 75, 76, 78, 79, 80, 81, 82, 83, 85, 86, 88, 89, 90, 92, 93, 94, 95, 96, 99, 100]\n"
     ]
    }
   ],
   "source": [
    "# code here\n",
    "\n",
    "def should_exclude(n):\n",
    "    if n % 7 == 0:\n",
    "        return True\n",
    "    str_n = str(n)\n",
    "    if str_n[-1] == '7':\n",
    "        return True\n",
    "\n",
    "    return False\n",
    "\n",
    "x = [i for i in range(1, 101) if not should_exclude(i)]\n",
    "print(x)"
   ]
  },
  {
   "cell_type": "markdown",
   "id": "8647d0ba",
   "metadata": {},
   "source": [
    "**Q3 (2)** Sort the previous list in \"increasing order\",  in term of the absolute distance to the number 50. No need to break tie. For example, if the list is [48,50,51], the sorted list should be [50,51,48].\n",
    "\n",
    "Do it in one-line. Hint: use list comprehension, and the built-in function ``sorted`` or ``sort``, and lambda function."
   ]
  },
  {
   "cell_type": "code",
   "execution_count": 12,
   "id": "dcedefbc",
   "metadata": {},
   "outputs": [
    {
     "data": {
      "text/plain": [
       "[50,\n",
       " 51,\n",
       " 48,\n",
       " 52,\n",
       " 53,\n",
       " 46,\n",
       " 54,\n",
       " 45,\n",
       " 55,\n",
       " 44,\n",
       " 43,\n",
       " 58,\n",
       " 41,\n",
       " 59,\n",
       " 40,\n",
       " 60,\n",
       " 39,\n",
       " 61,\n",
       " 38,\n",
       " 62,\n",
       " 36,\n",
       " 64,\n",
       " 65,\n",
       " 34,\n",
       " 66,\n",
       " 33,\n",
       " 32,\n",
       " 68,\n",
       " 31,\n",
       " 69,\n",
       " 30,\n",
       " 29,\n",
       " 71,\n",
       " 72,\n",
       " 73,\n",
       " 26,\n",
       " 74,\n",
       " 25,\n",
       " 75,\n",
       " 24,\n",
       " 76,\n",
       " 23,\n",
       " 22,\n",
       " 78,\n",
       " 79,\n",
       " 20,\n",
       " 80,\n",
       " 19,\n",
       " 81,\n",
       " 18,\n",
       " 82,\n",
       " 83,\n",
       " 16,\n",
       " 15,\n",
       " 85,\n",
       " 86,\n",
       " 13,\n",
       " 12,\n",
       " 88,\n",
       " 11,\n",
       " 89,\n",
       " 10,\n",
       " 90,\n",
       " 9,\n",
       " 8,\n",
       " 92,\n",
       " 93,\n",
       " 6,\n",
       " 94,\n",
       " 5,\n",
       " 95,\n",
       " 4,\n",
       " 96,\n",
       " 3,\n",
       " 2,\n",
       " 1,\n",
       " 99,\n",
       " 100]"
      ]
     },
     "execution_count": 12,
     "metadata": {},
     "output_type": "execute_result"
    }
   ],
   "source": [
    "# Code here\n",
    "\n",
    "sorted(x, key=lambda x: abs(x-50))"
   ]
  },
  {
   "cell_type": "markdown",
   "id": "ff5005d1",
   "metadata": {},
   "source": [
    "**Q4.** Gradient Descent\n",
    "\n",
    "To find the minimum of a function $f(x)$ with initial guess $x_0$, we can use the gradient descent algorithm:\n",
    "\n",
    "$$x_{n+1} = x_n - \\text{lr} \\cdot  f'(x_n)$$\n",
    "\n",
    "where $\\text{lr}$ is the learning rate.\n",
    "\n"
   ]
  },
  {
   "cell_type": "markdown",
   "id": "433b49fe",
   "metadata": {},
   "source": [
    "**Q4 (1)** Explain the idea of this algorithm, that is, why does it work? What is the appropriate stopping criterion for the gradient descent algorithm?"
   ]
  },
  {
   "cell_type": "markdown",
   "id": "5d029333",
   "metadata": {},
   "source": [
    "x move in the direction of the negative gradient of f(x), which is the direction of the steepest descent. \n",
    "\n",
    "If x is a local minimum, then f'(x) = 0. So the algorithm should stop when f'(x) is close to 0."
   ]
  },
  {
   "cell_type": "markdown",
   "id": "6ce6101c",
   "metadata": {},
   "source": [
    "**Q4 (2)** implement the gradient descent algorithm for finding the minimum of some function  $f(x) = x^2$ with initial guess ``x0 = 1`` and learning rate ``lr = 0.01``.\n",
    "\n"
   ]
  },
  {
   "cell_type": "code",
   "execution_count": 15,
   "id": "812357b1",
   "metadata": {},
   "outputs": [
    {
     "name": "stdout",
     "output_type": "stream",
     "text": [
      "4.917855841128081e-06\n"
     ]
    }
   ],
   "source": [
    "# code here\n",
    "\n",
    "f = lambda x: x**2\n",
    "df = lambda x: 2*x\n",
    "x = 1.0\n",
    "lr = 0.01\n",
    "\n",
    "while abs(df(x)) > 1e-5:\n",
    "    x = x - lr*df(x)\n",
    "print(x)"
   ]
  }
 ],
 "metadata": {
  "kernelspec": {
   "display_name": "Python 3 (ipykernel)",
   "language": "python",
   "name": "python3"
  },
  "language_info": {
   "codemirror_mode": {
    "name": "ipython",
    "version": 3
   },
   "file_extension": ".py",
   "mimetype": "text/x-python",
   "name": "python",
   "nbconvert_exporter": "python",
   "pygments_lexer": "ipython3",
   "version": "3.11.5"
  }
 },
 "nbformat": 4,
 "nbformat_minor": 5
}
